{
 "cells": [
  {
   "cell_type": "markdown",
   "id": "59066f5d",
   "metadata": {
    "editable": true,
    "slideshow": {
     "slide_type": "slide"
    }
   },
   "source": [
    "---\n",
    "title: Rule-Based Classification\n",
    "math: \n",
    "    '\\abs': '\\left\\lvert #1 \\right\\rvert' \n",
    "    '\\norm': '\\left\\lvert #1 \\right\\rvert' \n",
    "    '\\Set': '\\left\\{ #1 \\right\\}'\n",
    "    '\\mc': '\\mathcal{#1}'\n",
    "    '\\M': '\\boldsymbol{#1}'\n",
    "    '\\R': '\\mathsf{#1}'\n",
    "    '\\RM': '\\boldsymbol{\\mathsf{#1}}'\n",
    "    '\\op': '\\operatorname{#1}'\n",
    "    '\\E': '\\op{E}'\n",
    "    '\\d': '\\mathrm{\\mathstrut d}'\n",
    "    '\\Gini': '\\operatorname{Gini}'\n",
    "    '\\Info': '\\operatorname{Info}'\n",
    "    '\\Gain': '\\operatorname{Gain}'\n",
    "    '\\GainRatio': '\\operatorname{GainRatio}'\n",
    "---"
   ]
  },
  {
   "cell_type": "markdown",
   "id": "abf64d8f",
   "metadata": {
    "editable": true,
    "slideshow": {
     "slide_type": "slide"
    }
   },
   "source": [
    "#### Motivation"
   ]
  },
  {
   "cell_type": "markdown",
   "id": "aeb3bbd0",
   "metadata": {
    "editable": true,
    "slideshow": {
     "slide_type": ""
    }
   },
   "source": [
    "![](images/DT2RB.dio.svg)"
   ]
  },
  {
   "cell_type": "markdown",
   "id": "c3886346",
   "metadata": {
    "editable": true,
    "slideshow": {
     "slide_type": ""
    }
   },
   "source": [
    "- When is the decision equal to 1?\n",
    "  1. If _____________________, then $\\R{Y}=1$. \n",
    "  2. Else $\\R{Y}=0$."
   ]
  },
  {
   "cell_type": "markdown",
   "id": "c9cbfe96",
   "metadata": {
    "editable": true,
    "slideshow": {
     "slide_type": "slide"
    }
   },
   "source": [
    "#### Knowledge representation"
   ]
  },
  {
   "cell_type": "markdown",
   "id": "96a6922d",
   "metadata": {
    "editable": true,
    "slideshow": {
     "slide_type": ""
    }
   },
   "source": [
    "![](images/rule_set.dio.svg)"
   ]
  },
  {
   "cell_type": "markdown",
   "id": "92eef09e",
   "metadata": {
    "editable": true,
    "slideshow": {
     "slide_type": ""
    }
   },
   "source": [
    "- Benefits representing knowledge by rules: (c.f. decision tree or NN)\n",
    "    - M____________________________ \n",
    "    - I_____________________________\n",
    "- How to generate rules?"
   ]
  },
  {
   "cell_type": "markdown",
   "id": "abca99aa",
   "metadata": {
    "editable": true,
    "slideshow": {
     "slide_type": "slide"
    }
   },
   "source": [
    "#### Generate rules from a decision tree"
   ]
  },
  {
   "cell_type": "markdown",
   "id": "05377bec",
   "metadata": {
    "editable": true,
    "slideshow": {
     "slide_type": ""
    }
   },
   "source": [
    "![](images/DT2RB_trace.dio.svg)"
   ]
  },
  {
   "cell_type": "markdown",
   "id": "804f6d1a",
   "metadata": {
    "editable": true,
    "slideshow": {
     "slide_type": ""
    }
   },
   "source": [
    "- Each path from root to leaf corresponds to a rule:\n",
    "  1. $\\R{X}_1 = \\underline{\\phantom{x}} \\Rightarrow \\R{Y} = 0$\n",
    "  2. $\\R{X}_1 = \\underline{\\phantom{x}}, \\R{X}_2 = \\underline{\\phantom{x}} \\Rightarrow \\R{Y} = 0$\n",
    "  3. $\\R{X}_1 = \\underline{\\phantom{x}}, \\R{X}_2 = \\underline{\\phantom{x}} \\Rightarrow \\R{Y} = 1$\n",
    "- Does the ordering of these rules matter? <u>Yes/No</u> because__________________________________________________________________"
   ]
  },
  {
   "cell_type": "markdown",
   "id": "52b30026",
   "metadata": {
    "editable": true,
    "slideshow": {
     "slide_type": "slide"
    }
   },
   "source": [
    "#### Sequential covering"
   ]
  },
  {
   "cell_type": "markdown",
   "id": "2330e798",
   "metadata": {
    "editable": true,
    "slideshow": {
     "slide_type": ""
    }
   },
   "source": [
    "- S________-and-c________ (c.f. divide-and-conquer)\n",
    "  - Learn a good rule.\n",
    "  - Remove covered instances and repeat 1 until all instances are covered.\n",
    "- How to learn a good rule?"
   ]
  },
  {
   "cell_type": "markdown",
   "id": "117df706",
   "metadata": {
    "editable": true,
    "slideshow": {
     "slide_type": "subslide"
    }
   },
   "source": [
    "#### PART (partial tree) decision list"
   ]
  },
  {
   "cell_type": "markdown",
   "id": "54b36efc",
   "metadata": {
    "editable": true,
    "slideshow": {
     "slide_type": ""
    }
   },
   "source": [
    "- PART (partial tree) decision list:\n",
    "  1. Build a new decision tree (by C4.5) and extract the rule that maximizes coverage: fraction of instances satisfying the antecedent.\n",
    "  2. Remove covered instances and repeat 1 until all instances are covered."
   ]
  },
  {
   "cell_type": "markdown",
   "id": "99d00e6d",
   "metadata": {
    "editable": true,
    "slideshow": {
     "slide_type": "subslide"
    }
   },
   "source": [
    "#### Example"
   ]
  },
  {
   "cell_type": "markdown",
   "id": "bf45c372",
   "metadata": {
    "editable": true,
    "slideshow": {
     "slide_type": ""
    }
   },
   "source": [
    "![](images/PART.dio.svg)"
   ]
  },
  {
   "cell_type": "markdown",
   "id": "3f925992",
   "metadata": {
    "editable": true,
    "slideshow": {
     "slide_type": ""
    }
   },
   "source": [
    "1. Rule 1: ________________\n",
    "   1. $\\R{X}_1 = 0 \\Rightarrow \\R{Y} = 0 \\quad (\\text{coverage:} \\underline{\\phantom{xxx}} \\%)$\n",
    "   2. $\\R{X}_1 = 1, \\R{X}_2 = 0 \\Rightarrow \\R{Y} = 0 \\quad (\\text{coverage:} \\underline{\\phantom{xxx}} \\%)$\n",
    "   3. $\\R{X}_1 = 1, \\R{X}_2 = 1 \\Rightarrow \\R{Y} = 1 \\quad (\\text{coverage:} \\underline{\\phantom{xxx}} \\%)$\n",
    "\n",
    "2. Rule 2: ________________\n",
    "   1. $\\R{X}_2 = 0 \\Rightarrow \\R{Y} = 0 \\quad (\\text{coverage:} \\underline{\\phantom{xxx}} \\%)$\n",
    "   2. $\\R{X}_2 = 1 \\Rightarrow \\R{Y} = 1 \\quad (\\text{coverage:} \\underline{\\phantom{xxx}} \\%)$\n",
    "\n",
    "3. Default rule: $ \\R{Y} = \\underline{\\phantom{xxx}} $\n",
    "\n",
    "4. Issue: [Time complexity] _______________________________________"
   ]
  },
  {
   "cell_type": "markdown",
   "id": "96ea9efd",
   "metadata": {
    "editable": true,
    "slideshow": {
     "slide_type": "slide"
    }
   },
   "source": [
    "#### Generating rule directly"
   ]
  },
  {
   "cell_type": "markdown",
   "id": "87e1e3f1",
   "metadata": {
    "editable": true,
    "slideshow": {
     "slide_type": ""
    }
   },
   "source": [
    "![](images/direct_rule.dio.svg)"
   ]
  },
  {
   "cell_type": "markdown",
   "id": "d2a26366",
   "metadata": {
    "editable": true,
    "slideshow": {
     "slide_type": ""
    }
   },
   "source": [
    "1. Start with ZeroR, add conjuncts to improve confidence: fraction of correctly classified instances.\n",
    "   - Rule 1: $\\R{Y} = 0$\n",
    "     - Confidence: $\\underline{\\phantom{xxx}} \\%$\n",
    "   - Rule 1 (refined): $\\R{X}_1 = 0 \\Rightarrow \\R{Y} = 0$\n",
    "     - Confidence: $\\underline{\\phantom{xxx}} \\%$\n",
    "\n",
    "2. Repeatedly add new rules to cover remaining tuples\n",
    "   - Rule 2: $\\R{Y} = 0$\n",
    "     - Confidence: $\\underline{\\phantom{xxx}} \\%$\n",
    "   - Rule 2 (refined): $\\R{X}_2 = 0 \\Rightarrow \\R{Y} = 0$\n",
    "     - Confidence: $\\underline{\\phantom{xxx}} \\%$\n",
    "   - Default rule: $\\R{Y} = \\underline{\\phantom{xxx}}$"
   ]
  },
  {
   "cell_type": "markdown",
   "id": "578f68a0",
   "metadata": {
    "editable": true,
    "slideshow": {
     "slide_type": "subslide"
    }
   },
   "source": [
    "- Decision list\n",
    "   1. Rule 1: $\\R{X}_1 = 0 \\Rightarrow \\R{Y} = 0$\n",
    "   1. Rule 2: $\\R{X}_2 = 0 \\Rightarrow \\R{Y} = 0$\n",
    "   1. Default rule: $\\R{Y} = 1$\n",
    "- Is the list best possible? <u>Yes/No</u>\n",
    "   1. Time to detect positive class: $\\underline{\\phantom{xxx}}$\n",
    "   1. Length of the list: $\\underline{\\phantom{xxx}}$"
   ]
  },
  {
   "cell_type": "markdown",
   "id": "e87f4974",
   "metadata": {
    "editable": true,
    "slideshow": {
     "slide_type": "slide"
    }
   },
   "source": [
    "#### Class-based ordering"
   ]
  },
  {
   "cell_type": "markdown",
   "id": "8d0809e2",
   "metadata": {
    "editable": true,
    "slideshow": {
     "slide_type": ""
    }
   },
   "source": [
    "![](images/class_based.dio.svg)"
   ]
  },
  {
   "cell_type": "markdown",
   "id": "f3e382b3",
   "metadata": {
    "editable": true,
    "slideshow": {
     "slide_type": ""
    }
   },
   "source": [
    "- Learn rules for positive class first:\n",
    "  1. Rule 1:\n",
    "     1. $\\R{Y} = 1 \\quad (\\text{confidence:} \\underline{\\phantom{xxx}} \\%)$\n",
    "     1. $\\R{X}_1 = \\underline{\\phantom{xxx}} \\Rightarrow \\R{Y} = 1 \\quad (\\text{confidence:} \\underline{\\phantom{xxx}} \\%)$\n",
    "     1. $\\R{X}_1 = \\underline{\\phantom{xxx}}, \\R{X}_2 = \\underline{\\phantom{xxx}} \\Rightarrow \\R{Y} = 1 \\quad (\\text{confidence:} \\underline{\\phantom{xxx}} \\%)$\n",
    "  2. Default rule: $\\R{Y} = \\underline{\\phantom{xxx}}$\n",
    "- Will the above guarantee a short decision list in general? <u>Yes/No</u> because $\\underline{\\phantom{xxx}}$"
   ]
  },
  {
   "cell_type": "markdown",
   "id": "b0d13c89",
   "metadata": {
    "editable": true,
    "slideshow": {
     "slide_type": "slide"
    }
   },
   "source": [
    "#### First Order Inductive Learner Gain"
   ]
  },
  {
   "cell_type": "markdown",
   "id": "4823cef3",
   "metadata": {},
   "source": [
    "- Add conjunct that maximizes\n",
    "  \\begin{align}\n",
    "  \\op{FOIL\\_Gain}\n",
    "  &= p' \\left( \\log \\frac{p'}{p' + n'} - \\log \\frac{p}{p + n} \\right)\n",
    "  \\end{align}\n",
    "  - Change in the number of positives: $p \\rightarrow p'$\n",
    "  - Change in the number of negatives: $n \\rightarrow n'$"
   ]
  },
  {
   "cell_type": "markdown",
   "id": "61658dda",
   "metadata": {
    "editable": true,
    "slideshow": {
     "slide_type": "subslide"
    }
   },
   "source": [
    "![](images/FOIL1.dio.svg)"
   ]
  },
  {
   "cell_type": "markdown",
   "id": "d7b592d1",
   "metadata": {},
   "source": [
    "- $\\R{Y} = 1 \\rightarrow \\R{X}_1 = 0 \\Rightarrow \\R{Y} = 1$:\n",
    "\n",
    "  $\\op{FOIL\\_Gain} = \\underline{\\phantom{\\kern11em}}$ \n",
    "\n",
    "- $\\R{Y} = 1 \\rightarrow \\R{X}_1 = 1 \\Rightarrow \\R{Y} = 1$: \n",
    "\n",
    "  $\\op{FOIL\\_Gain} = \\underline{\\phantom{\\kern11em}}$ \n",
    "\n",
    "- <u>First/Second</u> is better."
   ]
  },
  {
   "cell_type": "markdown",
   "id": "3253af70",
   "metadata": {
    "editable": true,
    "slideshow": {
     "slide_type": "subslide"
    }
   },
   "source": [
    "![](images/FOIL2.dio.svg)"
   ]
  },
  {
   "cell_type": "markdown",
   "id": "ea8a3b42",
   "metadata": {},
   "source": [
    "- $\\R{X}_1 = 1 \\Rightarrow \\R{Y} = 1 \\rightarrow \\R{X}_1 = 1, \\R{X}_2 = 0 \\Rightarrow \\R{Y} = 1$:\n",
    "\n",
    "  $\\op{FOIL\\_Gain} = \\underline{\\phantom{\\kern11em}}$ \n",
    "\n",
    "- $\\R{X}_1 = 1 \\Rightarrow \\R{Y} = 1 \\rightarrow \\R{X}_1 = 1, \\R{X}_2 = 1 \\Rightarrow \\R{Y} = 1$:\n",
    "\n",
    "  $\\op{FOIL\\_Gain} = \\underline{\\phantom{\\kern11em}}$ \n",
    "\n",
    "- <u>First/Second</u> is better."
   ]
  },
  {
   "cell_type": "markdown",
   "id": "566fe224",
   "metadata": {
    "editable": true,
    "slideshow": {
     "slide_type": "subslide"
    }
   },
   "source": [
    "\\begin{align}\n",
    "\\op{FOIL\\_Gain}\n",
    "&= p' \\left( \\log \\frac{p'}{p' + n'} - \\log \\frac{p}{p + n} \\right)\\\\\n",
    "&= \\underbrace{(p' + n')}_{\\text{(1)}} \\underbrace{\\frac{p'}{p' + n'}}_{\\text{(2)}} \\underbrace{\\left( \\log \\frac{p'}{p' + n'} - \\log \\frac{p}{p + n} \\right)}_{\\text{(3)}}\n",
    "\\end{align}"
   ]
  },
  {
   "cell_type": "markdown",
   "id": "e3dc10a5",
   "metadata": {
    "editable": true,
    "slideshow": {
     "slide_type": ""
    }
   },
   "source": [
    "- Heuristics:\n",
    "  - (1) favors rules with large <u>coverage/confidence</u>.\n",
    "  - (2)*(3) favors rules with large <u>coverage/confidence</u> given the same <u>coverage/confidence</u>.\n",
    "  - (3) ensures $\\op{FOIL\\_Gain}$ is positive if <u>coverage/confidence</u> increases.\n",
    "\n",
    "- [Challenge] Why not use information gain or gain ratio?"
   ]
  },
  {
   "cell_type": "markdown",
   "id": "7d2f4444",
   "metadata": {
    "editable": true,
    "slideshow": {
     "slide_type": "subslide"
    }
   },
   "source": [
    "#### How to avoid overfitting?"
   ]
  },
  {
   "cell_type": "markdown",
   "id": "2357102a",
   "metadata": {
    "editable": true,
    "slideshow": {
     "slide_type": ""
    }
   },
   "source": [
    "- Repeated Incremental Pruning to Produce Error Reduction\n",
    "- After each new rule, eliminate a conjunct (starting with the most recently added one) if it improves the following on a v_________ set:\n",
    "  $$\\op{FOIL\\_Prune} = \\frac{p - n}{p + n}$$\n",
    "  or equivalently reduces\n",
    "  $$\\op{error} = \\frac{n}{p + n}.$$"
   ]
  },
  {
   "cell_type": "markdown",
   "id": "3f6f8024",
   "metadata": {
    "editable": true,
    "slideshow": {
     "slide_type": "slide"
    }
   },
   "source": [
    "#### References"
   ]
  },
  {
   "cell_type": "markdown",
   "id": "7de02b07",
   "metadata": {
    "editable": true,
    "slideshow": {
     "slide_type": ""
    }
   },
   "source": [
    "- 8.4 Rule-Based Classification\n",
    "- (Optional) [Eibe Frank, Ian H. Witten. \"Generating accurate rule sets without global optimization.\" Fifteenth International Conference on Machine Learning, 1998, p.144-151.](https://hdl.handle.net/10289/1047)\n",
    "   - A partial tree is built with nodes (subsets of data) split (expanded) in the order of their entropy.\n",
    "   - A node is considered for pruning by subtree replacement if all its children are leaf nodes.\n",
    "- (Optional) [Cohen, William W. \"Fast effective rule induction.\" Machine Learning Proceedings, 1995, p.115-123.](https://www.sciencedirect.com/science/article/abs/pii/B9781558603776500232?via%3Dihub) (See also [WEKA JRIP](https://weka.sourceforge.io/doc.dev/weka/classifiers/rules/JRip.html) or its [source code](https://git.cms.waikato.ac.nz/weka/weka/-/blob/stable-3-8/weka/src/main/java/weka/classifiers/rules/JRip.java).)\n",
    "   - The algorithm stops adding rules to the rule-set if the description length of the new rule is 64 bits more than the minimum description length met.\n",
    "   - After the algorithm stops adding rules, there is a rule optimization step that optimizes each rule one-by-one."
   ]
  }
 ],
 "metadata": {
  "kernelspec": {
   "display_name": "Python 3 (ipykernel)",
   "language": "python",
   "name": "python3"
  },
  "language_info": {
   "codemirror_mode": {
    "name": "ipython",
    "version": 3
   },
   "file_extension": ".py",
   "mimetype": "text/x-python",
   "name": "python",
   "nbconvert_exporter": "python",
   "pygments_lexer": "ipython3",
   "version": "3.11.11"
  }
 },
 "nbformat": 4,
 "nbformat_minor": 5
}
