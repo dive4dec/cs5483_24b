{
 "cells": [
  {
   "cell_type": "markdown",
   "id": "92a7e563",
   "metadata": {
    "editable": true,
    "slideshow": {
     "slide_type": "slide"
    }
   },
   "source": [
    "---\n",
    "title: Learning from Neighbors\n",
    "math: \n",
    "    '\\abs': '\\left\\lvert #1 \\right\\rvert' \n",
    "    '\\norm': '\\left\\lvert #1 \\right\\rvert' \n",
    "    '\\Set': '\\left\\{ #1 \\right\\}'\n",
    "    '\\mc': '\\mathcal{#1}'\n",
    "    '\\M': '\\boldsymbol{#1}'\n",
    "    '\\R': '\\mathsf{#1}'\n",
    "    '\\RM': '\\boldsymbol{\\mathsf{#1}}'\n",
    "    '\\op': '\\operatorname{#1}'\n",
    "    '\\E': '\\op{E}'\n",
    "    '\\d': '\\mathrm{\\mathstrut d}'\n",
    "    '\\Gini': '\\operatorname{Gini}'\n",
    "    '\\Info': '\\operatorname{Info}'\n",
    "    '\\Gain': '\\operatorname{Gain}'\n",
    "    '\\GainRatio': '\\operatorname{GainRatio}'\n",
    "---"
   ]
  },
  {
   "cell_type": "markdown",
   "id": "590d3962",
   "metadata": {
    "editable": true,
    "slideshow": {
     "slide_type": "slide"
    }
   },
   "source": [
    "#### Nearest neighbor (NN) classifier"
   ]
  },
  {
   "cell_type": "markdown",
   "id": "2124e57f",
   "metadata": {
    "editable": true,
    "slideshow": {
     "slide_type": ""
    }
   },
   "source": [
    "- Also called Instance-Based (IB) classifier:\n",
    "    1. Find the closest example.\n",
    "    2. Copy the class value."
   ]
  },
  {
   "cell_type": "markdown",
   "id": "72466728",
   "metadata": {
    "editable": true,
    "slideshow": {
     "slide_type": ""
    }
   },
   "source": [
    "![](images/NN.dio.svg)"
   ]
  },
  {
   "cell_type": "markdown",
   "id": "85e5d510",
   "metadata": {
    "editable": true,
    "slideshow": {
     "slide_type": "subslide"
    }
   },
   "source": [
    "#### What is the complexity?"
   ]
  },
  {
   "cell_type": "markdown",
   "id": "2b204763",
   "metadata": {
    "editable": true,
    "slideshow": {
     "slide_type": ""
    }
   },
   "source": [
    "- With a dataset of size $n$ with dimension $k$:\n",
    "    - O(________) to train.\n",
    "        - What is the knowledge learned? L____  learning algorithm. \n",
    "    - O(________) to classify.\n",
    "        - O(________) on average possible by pre-sorting data into search tree (                 tree) if $n \\gg 2^k$.\n",
    "        - Speed up using partial distance, editing/pruning/condensing. \n",
    "- Does NN classifier make good decision?"
   ]
  },
  {
   "cell_type": "markdown",
   "id": "d02072e1",
   "metadata": {
    "editable": true,
    "slideshow": {
     "slide_type": "subslide"
    }
   },
   "source": [
    "#### Decision regions and boundaries"
   ]
  },
  {
   "cell_type": "markdown",
   "id": "99231a93",
   "metadata": {
    "editable": true,
    "slideshow": {
     "slide_type": ""
    }
   },
   "source": [
    "- Decision boundaries separate regions with different decisions (decision r________).\n",
    "- What are the decision boundaries for a NN classifier?"
   ]
  },
  {
   "cell_type": "markdown",
   "id": "b166748b",
   "metadata": {
    "editable": true,
    "slideshow": {
     "slide_type": ""
    }
   },
   "source": [
    "![](images/boundary.dio.svg)"
   ]
  },
  {
   "cell_type": "markdown",
   "id": "67fe670e",
   "metadata": {
    "editable": true,
    "slideshow": {
     "slide_type": ""
    }
   },
   "source": [
    "- The decision boundaries for NN classifier can be obtained from V__________ diagram."
   ]
  },
  {
   "cell_type": "markdown",
   "id": "42b12b2c",
   "metadata": {
    "editable": true,
    "slideshow": {
     "slide_type": "slide"
    }
   },
   "source": [
    "#### NN without normalization"
   ]
  },
  {
   "cell_type": "markdown",
   "id": "77241c4b",
   "metadata": {
    "editable": true,
    "slideshow": {
     "slide_type": ""
    }
   },
   "source": [
    "- Consider predicting weight using height and age. Will the decision regions/boundaries depend on the unit, e.g., cm vs m?"
   ]
  },
  {
   "cell_type": "markdown",
   "id": "0189a081",
   "metadata": {
    "editable": true,
    "slideshow": {
     "slide_type": ""
    }
   },
   "source": [
    "![](images/NN_wo_norm.dio.svg)"
   ]
  },
  {
   "cell_type": "markdown",
   "id": "0085f309",
   "metadata": {
    "editable": true,
    "slideshow": {
     "slide_type": ""
    }
   },
   "source": [
    "- Same decision regions? <u>Yes/No</u>"
   ]
  },
  {
   "cell_type": "markdown",
   "id": "d37c47d4",
   "metadata": {
    "editable": true,
    "slideshow": {
     "slide_type": "subslide"
    }
   },
   "source": [
    "#### Min-max normalization"
   ]
  },
  {
   "cell_type": "markdown",
   "id": "6d5ece48",
   "metadata": {
    "editable": true,
    "slideshow": {
     "slide_type": ""
    }
   },
   "source": [
    "![](images/NN_w_norm.dio.svg)"
   ]
  },
  {
   "cell_type": "markdown",
   "id": "74812ee8",
   "metadata": {
    "editable": true,
    "slideshow": {
     "slide_type": "slide"
    }
   },
   "source": [
    "#### Standard normalization"
   ]
  },
  {
   "cell_type": "markdown",
   "id": "a4bc81fc",
   "metadata": {
    "editable": true,
    "slideshow": {
     "slide_type": ""
    }
   },
   "source": [
    "- What about features with possibly unbounded support?\n",
    "  - Min-max normalization fails because, as _____ increases, the normalization factor\n",
    "    $$\n",
    "    \\max_j z_j - \\min_j z_j \\to \\infty.\n",
    "    $$"
   ]
  },
  {
   "cell_type": "markdown",
   "id": "4df52814",
   "metadata": {
    "editable": true,
    "slideshow": {
     "slide_type": ""
    }
   },
   "source": [
    "- z-score/standard normalization: \n",
    "  $$\n",
    "  z_i' := \\frac{z_i - \\mu}{\\sigma}\n",
    "  $$\n",
    "  - with mean $\\mu$ and standard deviation $\\sigma$ of $z_i$'s.\n",
    "  - This works for features with unbounded support because ____ is 1, not zero."
   ]
  },
  {
   "cell_type": "markdown",
   "id": "ecb18f65",
   "metadata": {
    "editable": true,
    "slideshow": {
     "slide_type": "slide"
    }
   },
   "source": [
    "#### Measure of distance/similarity"
   ]
  },
  {
   "cell_type": "markdown",
   "id": "b3a8b5ce",
   "metadata": {
    "editable": true,
    "slideshow": {
     "slide_type": ""
    }
   },
   "source": [
    "- Numeric attributes:\n",
    "  Euclidean, Manhattan, Minkowski or supremum distances, Jaccard coefficient, term-frequency vectors, cosine measure, Tanimoto coefficient, …\n",
    "\n",
    "- Nominal attributes:\n",
    "  indicator of mismatch or d___________________.\n",
    "\n",
    "- Missing values: E.g., use maximum possible difference\n",
    "  - Numeric: $\\op{dist}(?,?) = \\underline{\\phantom{x}}, \\quad \\op{dist}(?, v) = \\underline{\\phantom{x}}$\n",
    "  - Nominal: $\\op{dist}(?,?) = \\op{dist}(?, v) = \\underline{\\phantom{x}}$"
   ]
  },
  {
   "cell_type": "markdown",
   "id": "70f2b7c0",
   "metadata": {
    "editable": true,
    "slideshow": {
     "slide_type": ""
    }
   },
   "source": [
    "#### Pros and Cons of NN classification"
   ]
  },
  {
   "cell_type": "markdown",
   "id": "98bf484e",
   "metadata": {
    "editable": true,
    "slideshow": {
     "slide_type": ""
    }
   },
   "source": [
    "- Can learn without too many examples: <u>True/False</u>"
   ]
  },
  {
   "cell_type": "markdown",
   "id": "fcee0bc6",
   "metadata": {
    "editable": true,
    "slideshow": {
     "slide_type": ""
    }
   },
   "source": [
    "- Can avoid overfitting: <u>True/False</u>"
   ]
  },
  {
   "cell_type": "markdown",
   "id": "6334149b",
   "metadata": {
    "editable": true,
    "slideshow": {
     "slide_type": "slide"
    }
   },
   "source": [
    "#### $k$-nearest neighbor ($k$-NN or IB$k$) classifier"
   ]
  },
  {
   "cell_type": "markdown",
   "id": "b0abd7ce",
   "metadata": {
    "editable": true,
    "slideshow": {
     "slide_type": ""
    }
   },
   "source": [
    "![](images/kNN.dio.svg)"
   ]
  },
  {
   "cell_type": "markdown",
   "id": "f161beae",
   "metadata": {
    "editable": true,
    "slideshow": {
     "slide_type": ""
    }
   },
   "source": [
    "- $\\hat{y}=\\underline{\\phantom{x}}$ for $\\M{x}=(0.75, 0.75)$.\n",
    "- Instance $4$ is regarded as an outlier.\n",
    "- Any issue? u__________\n",
    "- How to choose the best $k$?"
   ]
  },
  {
   "cell_type": "markdown",
   "id": "c75dc1e8",
   "metadata": {
    "editable": true,
    "slideshow": {
     "slide_type": "slide"
    }
   },
   "source": [
    "#### References"
   ]
  },
  {
   "cell_type": "markdown",
   "id": "c2f47ad7",
   "metadata": {
    "editable": true,
    "slideshow": {
     "slide_type": ""
    }
   },
   "source": [
    "- 9.5 Lazy Learners (or Learning from Your Neighbors)"
   ]
  }
 ],
 "metadata": {
  "kernelspec": {
   "display_name": "Python 3 (ipykernel)",
   "language": "python",
   "name": "python3"
  },
  "language_info": {
   "codemirror_mode": {
    "name": "ipython",
    "version": 3
   },
   "file_extension": ".py",
   "mimetype": "text/x-python",
   "name": "python",
   "nbconvert_exporter": "python",
   "pygments_lexer": "ipython3",
   "version": "3.11.11"
  }
 },
 "nbformat": 4,
 "nbformat_minor": 5
}
