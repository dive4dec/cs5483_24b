{
 "cells": [
  {
   "cell_type": "markdown",
   "id": "8f92eafa",
   "metadata": {
    "slideshow": {
     "slide_type": "slide"
    }
   },
   "source": [
    "---\n",
    "title: Project 1\n",
    "math: \n",
    "    '\\abs': '\\left\\lvert #1 \\right\\rvert' \n",
    "    '\\norm': '\\left\\lvert #1 \\right\\rvert' \n",
    "    '\\Set': '\\left\\{ #1 \\right\\}'\n",
    "    '\\mc': '\\mathcal{#1}'\n",
    "    '\\M': '\\boldsymbol{#1}'\n",
    "    '\\R': '\\mathsf{#1}'\n",
    "    '\\RM': '\\boldsymbol{\\mathsf{#1}}'\n",
    "    '\\op': '\\operatorname{#1}'\n",
    "    '\\E': '\\op{E}'\n",
    "    '\\d': '\\mathrm{\\mathstrut d}'\n",
    "    '\\Gini': '\\operatorname{Gini}'\n",
    "    '\\Info': '\\operatorname{Info}'\n",
    "    '\\Gain': '\\operatorname{Gain}'\n",
    "    '\\GainRatio': '\\operatorname{GainRatio}'\n",
    "---"
   ]
  },
  {
   "cell_type": "markdown",
   "id": "e3615f69",
   "metadata": {},
   "source": [
    "::::{attention}\n",
    "\n",
    "- Access [\\[Witten11\\]](https://ebookcentral.proquest.com/lib/cityuhk/reader.action?docID=634862&ppg=602) for the exercises. Use Weka or other tools like `sklearn` or `python-weka-wrapper3` to complete them.\n",
    "- Provide your final answers in the designated solution cells. You may add extra cells to show your steps.\n",
    "- Same as the tutorial exericses, submit the notebook via NbGrader before the deadline. You can submit multiple times to avoid issues like forgetting or last-minute technical problems.\n",
    "- Submit the notebook via NbGrader before the deadline. You can submit multiple times to avoid the costly mistake of forgetting to submit of last-minute technical issues that prevent you from submitting.\n",
    "- This is an individual project. Take proper measures to avoid any suspicion of plagiarism.\n",
    "\n",
    "::::"
   ]
  },
  {
   "cell_type": "markdown",
   "id": "149ec696",
   "metadata": {
    "deletable": false,
    "editable": false,
    "nbgrader": {
     "cell_type": "markdown",
     "checksum": "2e5bc9958d89ba902a2c6b9a826c570b",
     "grade": false,
     "grade_id": "clarity",
     "locked": true,
     "points": 5,
     "schema_version": 3,
     "solution": false,
     "task": true
    }
   },
   "source": [
    "::::{admonition} Rubrics\n",
    "\n",
    "- This project is worth 75 points, constituting 10% of your course grade.\n",
    "- There are 14 exercises, each of which is worth 5 points:\n",
    "  - 5 points for a correct answer and excellent understanding.\n",
    "  - 3 points for a partially correct answer and some understanding.\n",
    "  - 1 point for a reasonable attempt.\n",
    "- The remaining 5 points are given for *a clear presentation*:\n",
    "    - Properly typset your answers: You can use the [MyST markdown](https://mystmd.org/guide) in the JupyterLab markdown cell.\n",
    "    - Proof-read your answers: You can [select your answer for Jupyternaut](https://jupyter-ai.readthedocs.io/en/latest/users/index.html#asking-about-something-in-your-notebook) to proof-read.\n",
    "::::"
   ]
  },
  {
   "cell_type": "markdown",
   "id": "52b2c586",
   "metadata": {
    "slideshow": {
     "slide_type": "subslide"
    }
   },
   "source": [
    "## Visualizing Decision Trees and Rule Sets"
   ]
  },
  {
   "cell_type": "markdown",
   "id": "5ae2f101",
   "metadata": {},
   "source": [
    "Complete the following exercises in **Section 17.3**."
   ]
  },
  {
   "cell_type": "markdown",
   "id": "e5201ba0",
   "metadata": {},
   "source": [
    "::::{exercise} Ex 17.3.8\n",
    ":label: ex:17.3.8\n",
    "::::"
   ]
  },
  {
   "cell_type": "markdown",
   "id": "d19cea1e",
   "metadata": {
    "deletable": false,
    "nbgrader": {
     "cell_type": "markdown",
     "checksum": "f92e545bb519905fe88b3b0f771d0619",
     "grade": true,
     "grade_id": "Witten-17-3-8",
     "locked": false,
     "points": 5,
     "schema_version": 3,
     "solution": true,
     "task": false
    }
   },
   "source": [
    "YOUR ANSWER HERE"
   ]
  },
  {
   "cell_type": "markdown",
   "id": "d19bdecd",
   "metadata": {},
   "source": [
    "::::{exercise} Ex 17.3.9\n",
    ":label: ex:17.3.9\n",
    "::::"
   ]
  },
  {
   "cell_type": "markdown",
   "id": "fff5dcc5",
   "metadata": {
    "deletable": false,
    "nbgrader": {
     "cell_type": "markdown",
     "checksum": "bfd4294c336a72627b11111342a32f88",
     "grade": true,
     "grade_id": "Witten-17-3-9",
     "locked": false,
     "points": 5,
     "schema_version": 3,
     "solution": true,
     "task": false
    }
   },
   "source": [
    "YOUR ANSWER HERE"
   ]
  },
  {
   "cell_type": "markdown",
   "id": "864420ee",
   "metadata": {},
   "source": [
    "::::{exercise} Ex 17.3.10\n",
    ":label: ex:17.3.10\n",
    "::::"
   ]
  },
  {
   "cell_type": "markdown",
   "id": "af2aafa1",
   "metadata": {
    "deletable": false,
    "nbgrader": {
     "cell_type": "markdown",
     "checksum": "cf649d715f1385fc00595995b4709212",
     "grade": true,
     "grade_id": "Witten-17-3-10",
     "locked": false,
     "points": 5,
     "schema_version": 3,
     "solution": true,
     "task": false
    }
   },
   "source": [
    "YOUR ANSWER HERE"
   ]
  },
  {
   "cell_type": "markdown",
   "id": "9f5c30f1",
   "metadata": {},
   "source": [
    "::::{exercise} Ex 17.3.11\n",
    ":label: ex:17.3.11\n",
    "::::"
   ]
  },
  {
   "cell_type": "markdown",
   "id": "d727a385",
   "metadata": {
    "deletable": false,
    "nbgrader": {
     "cell_type": "markdown",
     "checksum": "c283ac6f89f205b57e45070c4c081dcd",
     "grade": true,
     "grade_id": "Witten-17-3-11",
     "locked": false,
     "points": 5,
     "schema_version": 3,
     "solution": true,
     "task": false
    }
   },
   "source": [
    "YOUR ANSWER HERE"
   ]
  },
  {
   "cell_type": "markdown",
   "id": "989f2c8d",
   "metadata": {},
   "source": [
    "::::{exercise} Ex 17.3.12\n",
    ":label: ex:17.3.12\n",
    "::::"
   ]
  },
  {
   "cell_type": "markdown",
   "id": "e469e870",
   "metadata": {
    "deletable": false,
    "nbgrader": {
     "cell_type": "markdown",
     "checksum": "2f097f30452673f6dd79bbaa2daa9c41",
     "grade": true,
     "grade_id": "Witten-17-3-12",
     "locked": false,
     "points": 5,
     "schema_version": 3,
     "solution": true,
     "task": false
    }
   },
   "source": [
    "YOUR ANSWER HERE"
   ]
  },
  {
   "cell_type": "markdown",
   "id": "005e192e",
   "metadata": {
    "slideshow": {
     "slide_type": "subslide"
    }
   },
   "source": [
    "## Attribute Selection"
   ]
  },
  {
   "cell_type": "markdown",
   "id": "24a0f811",
   "metadata": {},
   "source": [
    "Complete the following exercises in **Section 17.2** and one additional exercise."
   ]
  },
  {
   "cell_type": "markdown",
   "id": "cee9e1fc",
   "metadata": {},
   "source": [
    "::::{exercise} Ex 17.2.4\n",
    ":label: ex:17.2.4\n",
    "::::"
   ]
  },
  {
   "cell_type": "markdown",
   "id": "7f2ddbcb",
   "metadata": {
    "deletable": false,
    "nbgrader": {
     "cell_type": "markdown",
     "checksum": "3efddc148edcfae0215f8281618b0387",
     "grade": true,
     "grade_id": "Witten-17-2-4",
     "locked": false,
     "points": 5,
     "schema_version": 3,
     "solution": true,
     "task": false
    }
   },
   "source": [
    "YOUR ANSWER HERE"
   ]
  },
  {
   "cell_type": "markdown",
   "id": "8a8aa1b6",
   "metadata": {},
   "source": [
    "::::{exercise} Ex 17.2.5\n",
    ":label: ex:17.2.5\n",
    "::::"
   ]
  },
  {
   "cell_type": "markdown",
   "id": "bbdf4d9d",
   "metadata": {
    "deletable": false,
    "nbgrader": {
     "cell_type": "markdown",
     "checksum": "c87dacd482dbee0293c8931a3d93d444",
     "grade": true,
     "grade_id": "Witten-17-2-5",
     "locked": false,
     "points": 5,
     "schema_version": 3,
     "solution": true,
     "task": false
    }
   },
   "source": [
    "YOUR ANSWER HERE"
   ]
  },
  {
   "cell_type": "markdown",
   "id": "208a8309",
   "metadata": {},
   "source": [
    "::::{exercise}\n",
    ":label: ex:challenge\n",
    "If your answer to Ex 17.2.5 is \"no\", give a better performance estimate and the best subset of features for *deployment*. Explain how you obtain the estimate and subset, i.e., how you subdivide the dataset for training, validation, and testing, and which accuracy values you use to select the features for deployment.\n",
    "::::"
   ]
  },
  {
   "cell_type": "markdown",
   "id": "4066e20d",
   "metadata": {
    "deletable": false,
    "nbgrader": {
     "cell_type": "markdown",
     "checksum": "5c5b429df7bed6dcf60f60cc2c2b97c4",
     "grade": true,
     "grade_id": "split",
     "locked": false,
     "points": 5,
     "schema_version": 3,
     "solution": true,
     "task": false
    }
   },
   "source": [
    "YOUR ANSWER HERE"
   ]
  },
  {
   "cell_type": "markdown",
   "id": "33a3cb42",
   "metadata": {
    "slideshow": {
     "slide_type": "subslide"
    }
   },
   "source": [
    "## Automatic Attribute Selection"
   ]
  },
  {
   "cell_type": "markdown",
   "id": "234c9f75",
   "metadata": {},
   "source": [
    "Complete the following exercises in **Section 17.4**."
   ]
  },
  {
   "cell_type": "markdown",
   "id": "074c201d",
   "metadata": {},
   "source": [
    "::::{exercise} Ex 17.4.8\n",
    ":label: ex:17.4.8\n",
    "::::"
   ]
  },
  {
   "cell_type": "markdown",
   "id": "751d1efb",
   "metadata": {
    "deletable": false,
    "nbgrader": {
     "cell_type": "markdown",
     "checksum": "c439ca126c61a35f590f97a6b79cf5fd",
     "grade": true,
     "grade_id": "Witten-17-4-8",
     "locked": false,
     "points": 5,
     "schema_version": 3,
     "solution": true,
     "task": false
    }
   },
   "source": [
    "YOUR ANSWER HERE"
   ]
  },
  {
   "cell_type": "markdown",
   "id": "9bf7bdca",
   "metadata": {},
   "source": [
    "::::{exercise} Ex 17.4.9\n",
    ":label: ex:17.4.9\n",
    "::::"
   ]
  },
  {
   "cell_type": "markdown",
   "id": "55b5229c",
   "metadata": {
    "deletable": false,
    "nbgrader": {
     "cell_type": "markdown",
     "checksum": "8866dc9f9846a3af01f7250c91de5e42",
     "grade": true,
     "grade_id": "Witten-17-4-9",
     "locked": false,
     "points": 5,
     "schema_version": 3,
     "solution": true,
     "task": false
    }
   },
   "source": [
    "YOUR ANSWER HERE"
   ]
  },
  {
   "cell_type": "markdown",
   "id": "5d920129",
   "metadata": {},
   "source": [
    "::::{exercise} Ex 17.4.10\n",
    ":label: ex:17.4.10\n",
    "::::"
   ]
  },
  {
   "cell_type": "markdown",
   "id": "72b83c91",
   "metadata": {
    "deletable": false,
    "nbgrader": {
     "cell_type": "markdown",
     "checksum": "c93b9a1b2e4a0224d7e0aa152fc64b47",
     "grade": true,
     "grade_id": "Witten-17-4-10",
     "locked": false,
     "points": 5,
     "schema_version": 3,
     "solution": true,
     "task": false
    }
   },
   "source": [
    "YOUR ANSWER HERE"
   ]
  },
  {
   "cell_type": "markdown",
   "id": "656f342c",
   "metadata": {},
   "source": [
    "::::{exercise} Ex 17.4.11\n",
    ":label: ex:17.4.11\n",
    "::::"
   ]
  },
  {
   "cell_type": "markdown",
   "id": "069bdd5b",
   "metadata": {
    "deletable": false,
    "nbgrader": {
     "cell_type": "markdown",
     "checksum": "87cd3fff2822f72948f2148b036f9db4",
     "grade": true,
     "grade_id": "Witten-17-4-11",
     "locked": false,
     "points": 5,
     "schema_version": 3,
     "solution": true,
     "task": false
    }
   },
   "source": [
    "YOUR ANSWER HERE"
   ]
  },
  {
   "cell_type": "markdown",
   "id": "21bff7cd",
   "metadata": {},
   "source": [
    "::::{exercise} Ex 17.4.12\n",
    ":label: ex:17.4.12\n",
    "::::"
   ]
  },
  {
   "cell_type": "markdown",
   "id": "65440630",
   "metadata": {
    "deletable": false,
    "nbgrader": {
     "cell_type": "markdown",
     "checksum": "486911484f59522bcf58e773ac3d9ce9",
     "grade": true,
     "grade_id": "Witten-17-4-12",
     "locked": false,
     "points": 5,
     "schema_version": 3,
     "solution": true,
     "task": false
    }
   },
   "source": [
    "YOUR ANSWER HERE"
   ]
  },
  {
   "cell_type": "markdown",
   "id": "4c660dda",
   "metadata": {},
   "source": [
    "::::{exercise} Ex 17.4.13\n",
    ":label: ex:17.4.13\n",
    "::::"
   ]
  },
  {
   "cell_type": "markdown",
   "id": "f2ce0f2f",
   "metadata": {
    "deletable": false,
    "nbgrader": {
     "cell_type": "markdown",
     "checksum": "8f882114ecc9bf0d30d0389dd041ae48",
     "grade": true,
     "grade_id": "Witten-17-4-13",
     "locked": false,
     "points": 5,
     "schema_version": 3,
     "solution": true,
     "task": false
    }
   },
   "source": [
    "YOUR ANSWER HERE"
   ]
  }
 ],
 "metadata": {
  "kernelspec": {
   "display_name": "Python 3 (ipykernel)",
   "language": "python",
   "name": "python3"
  }
 },
 "nbformat": 4,
 "nbformat_minor": 5
}
