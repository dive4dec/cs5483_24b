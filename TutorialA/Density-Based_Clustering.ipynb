{
 "cells": [
  {
   "cell_type": "markdown",
   "id": "a76ab3b9",
   "metadata": {},
   "source": [
    "---\n",
    "title: Density-Based Clustering\n",
    "math: \n",
    "    '\\abs': '\\left\\lvert #1 \\right\\rvert' \n",
    "    '\\norm': '\\left\\lvert #1 \\right\\rvert' \n",
    "    '\\Set': '\\left\\{ #1 \\right\\}'\n",
    "    '\\mc': '\\mathcal{#1}'\n",
    "    '\\M': '\\boldsymbol{#1}'\n",
    "    '\\R': '\\mathsf{#1}'\n",
    "    '\\RM': '\\M{\\mathsf{#1}}'\n",
    "    '\\op': '\\operatorname{#1}'\n",
    "    '\\E': '\\op{E}'\n",
    "    '\\d': '\\mathrm{\\mathstrut d}'\n",
    "---"
   ]
  },
  {
   "cell_type": "code",
   "execution_count": null,
   "id": "2a90fc72",
   "metadata": {
    "init_cell": true,
    "slideshow": {
     "slide_type": "-"
    }
   },
   "outputs": [],
   "source": [
    "import os\n",
    "import ipywidgets as widgets\n",
    "import matplotlib.pyplot as plt\n",
    "import numpy as np\n",
    "import pandas as pd\n",
    "import seaborn as sns\n",
    "from ipywidgets import interact\n",
    "from sklearn import datasets, preprocessing\n",
    "from sklearn.cluster import DBSCAN\n",
    "from sklearn.pipeline import make_pipeline\n",
    "\n",
    "%matplotlib widget\n",
    "if not os.getenv(\n",
    "    \"NBGRADER_EXECUTION\"\n",
    "):\n",
    "    %load_ext jupyter_ai\n",
    "    %ai update chatgpt dive:chat\n",
    "    # %ai update chatgpt dive-azure:gpt4o"
   ]
  },
  {
   "cell_type": "markdown",
   "id": "b22ccb5a",
   "metadata": {},
   "source": [
    "## DBSCAN with scikit-learn"
   ]
  },
  {
   "cell_type": "markdown",
   "id": "4cdd10a7",
   "metadata": {},
   "source": [
    "[DBSCAN (Density-based spatial clustering of applications with noise)](https://en.wikipedia.org/wiki/DBSCAN) is a clustering algorithm that identifies clusters as regions of densely populated instances."
   ]
  },
  {
   "cell_type": "markdown",
   "id": "b4aa22e8",
   "metadata": {
    "editable": true,
    "slideshow": {
     "slide_type": ""
    }
   },
   "source": [
    "::::{prf:definition} DBSCAN\n",
    "\n",
    "Given the parameters $\\varepsilon$ and $\\op{MinPts}$, a point $\\M{p}\\in D$ in the dataset is called a *core point* if it satisfies\n",
    "\n",
    "$$\n",
    "\\begin{align}\n",
    "|D\\cap N_{\\varepsilon}(\\M{p})|&\\geq \\op{MinPts} \\quad \\text{where}\\\\\n",
    "N_{\\varepsilon}(\\M{p})&:= \\Set{\\M{q}\\in D| \\op{dist}(\\M{p},\\M{q})\\leq \\varepsilon}.\n",
    "\\end{align}\n",
    "$$ (core-points)\n",
    "\n",
    "The core points form the *pillars* of the clusters to generate. More precisely, clusters are grown from core points to points in their neighborhood $N_{\\varepsilon}(\\M{p})$, referred to as *density-reachable* points:\n",
    "\n",
    "- A point is regarded as noise if it has no cluster assignment, i.e., not *density-reachable* from a core point.\n",
    "- A non-core point reachable from a core point is called a *border point*.\n",
    "\n",
    "::::"
   ]
  },
  {
   "cell_type": "markdown",
   "id": "dcd7a578",
   "metadata": {
    "editable": true,
    "slideshow": {
     "slide_type": ""
    }
   },
   "source": [
    "We will create synthetic datasets using the [sample generators](https://scikit-learn.org/stable/modules/classes.html#samples-generator) of `sklearn`. In particular, we first create spherical clusters using [`sklearn.datasets.make_blobs`](https://scikit-learn.org/stable/modules/generated/sklearn.datasets.make_blobs.html#sklearn.datasets.make_blobs):"
   ]
  },
  {
   "cell_type": "code",
   "execution_count": null,
   "id": "7ade7c14",
   "metadata": {
    "editable": true,
    "slideshow": {
     "slide_type": ""
    }
   },
   "outputs": [],
   "source": [
    "def XY2df(X, Y):\n",
    "    \"\"\"Return a DataFrame for 2D data with 2 input features X and a target Y.\"\"\"\n",
    "    df = pd.DataFrame(columns=[\"feature1\", \"feature2\", \"target\"])\n",
    "    df[\"target\"] = Y\n",
    "    df[[\"feature1\", \"feature2\"]] = X\n",
    "    return df\n",
    "\n",
    "fig, ax = plt.subplots(clear=True, figsize=(10, 10), layout=\"constrained\", num=1)\n",
    "ax.set_aspect(\"equal\")\n",
    "\n",
    "@interact\n",
    "def generate_blobs(\n",
    "    n_samples=widgets.IntSlider(value=200, min=10, max=1000, continuous_update=False),\n",
    "    centers=widgets.IntSlider(value=3, min=1, max=4, continuous_update=False),\n",
    "    cluster_std=widgets.FloatSlider(\n",
    "        value=0.5, min=0, max=5, step=0.1, continuous_update=False\n",
    "    ),\n",
    "):\n",
    "    df = XY2df(\n",
    "        *datasets.make_blobs(\n",
    "            n_samples=n_samples,\n",
    "            centers=centers,\n",
    "            cluster_std=cluster_std,\n",
    "            random_state=0,\n",
    "        )\n",
    "    )\n",
    "    ax.clear()\n",
    "    sns.scatterplot(data=df, x=\"feature1\", y=\"feature2\", hue=\"target\", ax=ax)\n",
    "    plt.show()"
   ]
  },
  {
   "cell_type": "markdown",
   "id": "45e05e12",
   "metadata": {},
   "source": [
    "We will use the dataset `df_spherical` created with the parameters below:"
   ]
  },
  {
   "cell_type": "code",
   "execution_count": null,
   "id": "535d59e3",
   "metadata": {
    "editable": false,
    "init_cell": true,
    "slideshow": {
     "slide_type": ""
    }
   },
   "outputs": [],
   "source": [
    "df_spherical = XY2df(\n",
    "    *datasets.make_blobs(n_samples=200, centers=3, cluster_std=0.5, random_state=0)\n",
    ")"
   ]
  },
  {
   "cell_type": "markdown",
   "id": "6b91bcaf",
   "metadata": {},
   "source": [
    "To create non-spherical clusters, one way is to use [`sklearn.datasets.make_circle`](https://scikit-learn.org/stable/modules/generated/sklearn.datasets.make_circles.html)."
   ]
  },
  {
   "cell_type": "code",
   "execution_count": null,
   "id": "72b5ea99",
   "metadata": {
    "editable": false,
    "init_cell": true,
    "slideshow": {
     "slide_type": ""
    }
   },
   "outputs": [],
   "source": [
    "df_nonspherical = XY2df(\n",
    "    *datasets.make_circles(n_samples=200, factor=0.1, noise=0.1, random_state=0)\n",
    ")"
   ]
  },
  {
   "cell_type": "markdown",
   "id": "1cf3201b",
   "metadata": {
    "editable": true,
    "slideshow": {
     "slide_type": ""
    }
   },
   "source": [
    "::::{caution}\n",
    "\n",
    "Be careful not to change the above datasets, or the subsequent tests may fail.\n",
    "\n",
    "::::"
   ]
  },
  {
   "cell_type": "markdown",
   "id": "8c5e4913",
   "metadata": {
    "deletable": false,
    "editable": false,
    "nbgrader": {
     "cell_type": "markdown",
     "checksum": "5edae8691e2853633c84cb63eec761c1",
     "grade": false,
     "grade_id": "task-circles",
     "locked": true,
     "points": 1,
     "schema_version": 3,
     "solution": false,
     "task": true
    },
    "slideshow": {
     "slide_type": ""
    }
   },
   "source": [
    "::::{exercise}\n",
    ":label: ex:1\n",
    "\n",
    "Complete the following code by assigning `X` and `Y` to the respective arrays of input features and target generated using [`sklearn.datasets.make_circle`](https://scikit-learn.org/stable/modules/generated/sklearn.datasets.make_circles.html). Set `random_state=0` and use the parameters `n_samples`, `factor`, and `noise` specified by the widgets.\n",
    "\n",
    "::::"
   ]
  },
  {
   "cell_type": "code",
   "execution_count": null,
   "id": "688d9756",
   "metadata": {
    "deletable": false,
    "editable": true,
    "nbgrader": {
     "cell_type": "code",
     "checksum": "8822ebc3317dc203e1c119495837977b",
     "grade": false,
     "grade_id": "circles",
     "locked": false,
     "schema_version": 3,
     "solution": true,
     "task": false
    },
    "slideshow": {
     "slide_type": ""
    },
    "tags": [
     "remove-output"
    ]
   },
   "outputs": [],
   "source": [
    "fig, ax = plt.subplots(clear=True, figsize=(10, 10), layout=\"constrained\", num=2)\n",
    "ax.set_aspect(\"equal\")\n",
    "\n",
    "@interact\n",
    "def generate_circles(\n",
    "    n_samples=widgets.IntSlider(value=200, min=10, max=1000, continuous_update=False),\n",
    "    factor=widgets.FloatSlider(\n",
    "        value=0.1, min=0, max=0.99, step=0.01, continuous_update=False\n",
    "    ),\n",
    "    noise=widgets.FloatSlider(\n",
    "        value=0.1, min=0, max=1, step=0.1, continuous_update=False\n",
    "    ),\n",
    "):\n",
    "    df = pd.DataFrame(columns=[\"feature1\", \"feature2\", \"target\"])\n",
    "    # YOUR CODE HERE\n",
    "    raise NotImplementedError\n",
    "    df[\"target\"] = Y\n",
    "    df[[\"feature1\", \"feature2\"]] = X\n",
    "    sns.scatterplot(data=df, x=\"feature1\", y=\"feature2\", hue=\"target\", ax=ax)\n",
    "    plt.show()"
   ]
  },
  {
   "cell_type": "markdown",
   "id": "60e72f4c",
   "metadata": {
    "editable": true,
    "slideshow": {
     "slide_type": ""
    }
   },
   "source": [
    "To normalize the features followed by [DBSCAN](https://scikit-learn.org/stable/modules/generated/sklearn.cluster.DBSCAN.html), we create a pipeline as follows:\n",
    "\n",
    "```python\n",
    "from sklearn.cluster import DBSCAN\n",
    "```"
   ]
  },
  {
   "cell_type": "code",
   "execution_count": null,
   "id": "9917e191",
   "metadata": {
    "editable": true,
    "init_cell": true,
    "slideshow": {
     "slide_type": ""
    }
   },
   "outputs": [],
   "source": [
    "dbscan_minmax_normalized = make_pipeline(\n",
    "    preprocessing.MinMaxScaler(), DBSCAN(eps=0.3, min_samples=3)\n",
    ")\n",
    "dbscan_minmax_normalized"
   ]
  },
  {
   "cell_type": "markdown",
   "id": "b66b0eda",
   "metadata": {
    "editable": true,
    "slideshow": {
     "slide_type": ""
    }
   },
   "source": [
    "To generate the clustering solution, we can again use the `fit_predict` method as follows:"
   ]
  },
  {
   "cell_type": "code",
   "execution_count": null,
   "id": "e5420349",
   "metadata": {
    "editable": true,
    "init_cell": true,
    "slideshow": {
     "slide_type": ""
    }
   },
   "outputs": [],
   "source": [
    "feature1, feature2 = df_spherical.columns[0:2]\n",
    "\n",
    "cluster_labels = dbscan_minmax_normalized.fit_predict(\n",
    "    df_spherical[[feature1, feature2]]\n",
    ")\n",
    "\n",
    "fig = plt.figure(num=3, figsize=(10, 5), clear=True)\n",
    "ax1 = fig.add_subplot(121, title=\"Cluster assignment\", xlabel=feature1, ylabel=feature2)\n",
    "ax1.scatter(df_spherical[feature1], df_spherical[feature2], c=cluster_labels)\n",
    "\n",
    "ax2 = fig.add_subplot(122, title=\"Cluster assignment\", xlabel=feature1, sharey=ax1)\n",
    "ax2.scatter(df_spherical[feature1], df_spherical[feature2], c=df_spherical[\"target\"])\n",
    "plt.show()"
   ]
  },
  {
   "cell_type": "markdown",
   "id": "b85bd9bc",
   "metadata": {
    "editable": true,
    "slideshow": {
     "slide_type": ""
    }
   },
   "source": [
    "::::{exercise}\n",
    ":label: ex:2\n",
    "The clustering solution above is incorrect because the points at the top (with $\\text{feature2} > 2$) have the same cluster label but may belong to two different classes. Explain how we should change the parameters, `eps = 0.3` and `min_samples = 3`, to improve the solution. \n",
    "\n",
    ":::{hint}\n",
    ":class: dropdown\n",
    "The pairwise distance of points in different clusters appears larger than 1.\n",
    ":::\n",
    "::::"
   ]
  },
  {
   "cell_type": "markdown",
   "id": "66591152",
   "metadata": {
    "deletable": false,
    "editable": true,
    "nbgrader": {
     "cell_type": "markdown",
     "checksum": "4434d695b180f6f2cfa7e8b3f050c102",
     "grade": true,
     "grade_id": "eps-increase",
     "locked": false,
     "points": 1,
     "schema_version": 3,
     "solution": true,
     "task": false
    },
    "slideshow": {
     "slide_type": ""
    }
   },
   "source": [
    "YOUR ANSWER HERE"
   ]
  },
  {
   "cell_type": "markdown",
   "id": "ef645b5c",
   "metadata": {
    "deletable": false,
    "editable": false,
    "nbgrader": {
     "cell_type": "markdown",
     "checksum": "346f231fccc5176c138e76f300a2e575",
     "grade": false,
     "grade_id": "dbscan-task",
     "locked": true,
     "points": 1,
     "schema_version": 3,
     "solution": false,
     "task": true
    },
    "slideshow": {
     "slide_type": ""
    }
   },
   "source": [
    "::::{exercise}\n",
    ":label: ex:3\n",
    "Complete the following code to apply DBSCAN to the different datasets with different choices of parameters.\n",
    "::::"
   ]
  },
  {
   "cell_type": "code",
   "execution_count": null,
   "id": "dd6fe2a0",
   "metadata": {
    "deletable": false,
    "editable": true,
    "nbgrader": {
     "cell_type": "code",
     "checksum": "bc7bfa701e219047a3d322cbb09b7642",
     "grade": false,
     "grade_id": "dbscan",
     "locked": false,
     "schema_version": 3,
     "solution": true,
     "task": false
    },
    "slideshow": {
     "slide_type": ""
    }
   },
   "outputs": [],
   "source": [
    "fig = plt.figure(num=4, figsize=(10, 5), clear=True)\n",
    "\n",
    "\n",
    "@interact(\n",
    "    cluster_shape=[\"spherical\", \"non-spherical\"],\n",
    "    eps=widgets.FloatSlider(\n",
    "        value=0.3, min=0.01, max=1, step=0.01, continuous_update=False\n",
    "    ),\n",
    "    min_samples=widgets.IntSlider(value=3, min=1, max=10, continuous_update=False),\n",
    ")\n",
    "def cluster_regions_dbscan(cluster_shape, eps, min_samples):\n",
    "    df = {\"spherical\": df_spherical, \"non-spherical\": df_nonspherical}[cluster_shape]\n",
    "    feature1, feature2 = df.columns[0:2]\n",
    "    # YOUR CODE HERE\n",
    "    raise NotImplementedError\n",
    "    ax1 = fig.add_subplot(\n",
    "        121, title=\"Cluster assignment\", xlabel=feature1, ylabel=feature2\n",
    "    )\n",
    "    ax1.scatter(df_spherical[feature1], df_spherical[feature2], c=cluster_labels)\n",
    "\n",
    "    ax2 = fig.add_subplot(122, title=\"Cluster assignment\", xlabel=feature1, sharey=ax1)\n",
    "    ax2.scatter(\n",
    "        df_spherical[feature1], df_spherical[feature2], c=df_spherical[\"target\"]\n",
    "    )\n",
    "    plt.show()"
   ]
  },
  {
   "cell_type": "markdown",
   "id": "14dd1cce",
   "metadata": {
    "editable": true,
    "slideshow": {
     "slide_type": ""
    }
   },
   "source": [
    "::::{exercise}\n",
    ":label: ex:4\n",
    "\n",
    "Is it possible to tune `eps` to cluster the generated datasets correctly with `min_samples = 1`?\n",
    "\n",
    ":::{hint}\n",
    ":class: dropdown\n",
    "DBSCAN reduces to the single-linkage algorithm when `min_sample` is 1.\n",
    ":::\n",
    "::::"
   ]
  },
  {
   "cell_type": "markdown",
   "id": "38bb8ebc",
   "metadata": {
    "deletable": false,
    "editable": true,
    "nbgrader": {
     "cell_type": "markdown",
     "checksum": "578a3a682ae30a398237ee94950e1184",
     "grade": true,
     "grade_id": "dbscan-minpts",
     "locked": false,
     "points": 1,
     "schema_version": 3,
     "solution": true,
     "task": false
    },
    "slideshow": {
     "slide_type": ""
    }
   },
   "source": [
    "YOUR ANSWER HERE"
   ]
  },
  {
   "cell_type": "code",
   "execution_count": null,
   "id": "ffecfccf",
   "metadata": {
    "editable": true,
    "slideshow": {
     "slide_type": ""
    }
   },
   "outputs": [],
   "source": [
    "%%ai chatgpt -f html\n",
    "If I want the clusters from DBSCAN to have a density of $\\rho$ in the \n",
    "$d$-dimensional feature space, how should I choose the parameter $\\epsilon$ and\n",
    "MinPts? There seems to be an extra degree of freedom."
   ]
  },
  {
   "cell_type": "markdown",
   "id": "912ebef1",
   "metadata": {
    "editable": true,
    "slideshow": {
     "slide_type": ""
    }
   },
   "source": [
    "## OPTICS with Weka"
   ]
  },
  {
   "cell_type": "markdown",
   "id": "6b054051",
   "metadata": {
    "editable": true,
    "slideshow": {
     "slide_type": ""
    }
   },
   "source": [
    "For DBSCAN, the parameters $\\varepsilon$ and $\\op{MinPts}$ must be chosen properly. One needs to know how dense is dense enough to grow clusters, but this can be difficult, especially for high-dimensional data. A simpler alternative is to use [OPTICS (Ordering points to identify the clustering structure)](https://en.wikipedia.org/wiki/OPTICS_algorithm):"
   ]
  },
  {
   "cell_type": "markdown",
   "id": "4eb43c58",
   "metadata": {
    "editable": true,
    "slideshow": {
     "slide_type": ""
    }
   },
   "source": [
    "::::{prf:definition} Reachability\n",
    ":label: def:reachability\n",
    "\n",
    "OPTICS starts at an arbitrary point and visits other points based on a priority queue that prioritizes a point $\\M{q}$ with smaller\n",
    "\n",
    "$$\n",
    "\\begin{align}\n",
    "\\op{reachability-distance}(\\M{q}) &:= \\max \\Set{\\op{dist}(\\M{p}, \\M{q}), \\op{core-distance}(\\M{p})} \\quad \\text{where}\\\\\n",
    "\\op{core-distance}(\\M{p}) &:= \\min\\Set{0\\leq \\varepsilon' \\leq \\varepsilon| |D\\cap N_{\\varepsilon'}(\\M{p})|\\geq \\op{MinPts}} \n",
    "\\end{align}\n",
    "$$ (optics)\n",
    "\n",
    "and $\\M{p}$ is a core point that is visited before $\\M{q}$ and that yields the smallest reachability distance, but with the following exceptions: \n",
    "\n",
    "- If a point $\\M{p}$ is not a core point, its core distance is undefined.\n",
    "- If no such point $\\M{p}$ exists for $\\M{q}$, the reachability distance of $\\M{q}$ is undefined. \n",
    "\n",
    "::::"
   ]
  },
  {
   "cell_type": "markdown",
   "id": "0d1197ae",
   "metadata": {
    "editable": true,
    "slideshow": {
     "slide_type": ""
    }
   },
   "source": [
    "We will use the `optics_dbScan` package in Weka for the density-based clustering algorithms. The package can be installed using the Weka GUI by navigating to `Tools -> Package Manager` and installing from zip file is available at `/data/pkgs/optics_dbScan.zip`."
   ]
  },
  {
   "cell_type": "markdown",
   "id": "ae9fe2c1",
   "metadata": {
    "editable": true,
    "slideshow": {
     "slide_type": ""
    }
   },
   "source": [
    "Once the package is installed, restart Weka, open the explorer interface, and load the `iris.arff` dataset (not `iris.2D.arff`). Under the `Cluster` panel:\n",
    "    \n",
    "1. Choose `OPTICS` as the `Clusterer`.\n",
    "1. Choose `Use training set` as the `Cluster mode`.\n",
    "1. Ignore the `class` attribute using the `Ignore attributes` button.\n",
    "1. Click `Start`.\n",
    "\n",
    "The OPTICS Visualizer will appear. The `Table` tab shows the list of data points in the order visited by the algorithm:"
   ]
  },
  {
   "cell_type": "markdown",
   "id": "e7af4371",
   "metadata": {
    "editable": true,
    "slideshow": {
     "slide_type": ""
    }
   },
   "source": [
    "![OPTICS](images/optics.png)"
   ]
  },
  {
   "cell_type": "markdown",
   "id": "c5c151ec",
   "metadata": {
    "editable": true,
    "slideshow": {
     "slide_type": ""
    }
   },
   "source": [
    "::::{exercise}\n",
    ":label: ex:5\n",
    "\n",
    "The reachability distance is always undefined for the first point visited. Why?\n",
    "\n",
    "::::"
   ]
  },
  {
   "cell_type": "markdown",
   "id": "ed1a162e",
   "metadata": {
    "deletable": false,
    "editable": true,
    "nbgrader": {
     "cell_type": "markdown",
     "checksum": "1b222dea249e5a13be2f4d5ae73a0b90",
     "grade": true,
     "grade_id": "rdist-undefined",
     "locked": false,
     "points": 1,
     "schema_version": 3,
     "solution": true,
     "task": false
    },
    "slideshow": {
     "slide_type": ""
    }
   },
   "source": [
    "YOUR ANSWER HERE"
   ]
  },
  {
   "cell_type": "markdown",
   "id": "baa7496d",
   "metadata": {
    "editable": true,
    "slideshow": {
     "slide_type": ""
    }
   },
   "source": [
    "The `Graph` tab shows the stem plots of core and reachability distances. We need to increase the `Vertical adjustment` in the `General Settings` panel to see the variations more clearly:"
   ]
  },
  {
   "cell_type": "markdown",
   "id": "9d3e8d5b",
   "metadata": {},
   "source": [
    "![](images/reachability1.png)"
   ]
  },
  {
   "cell_type": "markdown",
   "id": "2de8b4ff",
   "metadata": {},
   "source": [
    "::::{exercise} tricky\n",
    ":label: ex:6\n",
    "\n",
    "Note that, by the definition in [](#optics), $\\op{reachability-distance}(\\M{q}) \\geq \\op{core-distance(\\M{p})}$. Does this condition hold when $\\M{p}$ and $\\M{q}$ are the second last, and the last visited points respectively? If not, explain why?\n",
    "\n",
    "::::"
   ]
  },
  {
   "cell_type": "markdown",
   "id": "36d1216b",
   "metadata": {
    "deletable": false,
    "editable": true,
    "nbgrader": {
     "cell_type": "markdown",
     "checksum": "ec58a8f52c9033d68ff3b72586c29fa0",
     "grade": true,
     "grade_id": "bug",
     "locked": false,
     "points": 1,
     "schema_version": 3,
     "solution": true,
     "task": false
    },
    "slideshow": {
     "slide_type": ""
    }
   },
   "source": [
    "YOUR ANSWER HERE"
   ]
  },
  {
   "cell_type": "markdown",
   "id": "67634a87",
   "metadata": {
    "editable": true,
    "slideshow": {
     "slide_type": ""
    }
   },
   "source": [
    "Change the `General Settings` to give the reachability plot below:"
   ]
  },
  {
   "cell_type": "markdown",
   "id": "519f2ac1",
   "metadata": {
    "editable": true,
    "slideshow": {
     "slide_type": ""
    }
   },
   "source": [
    "![](images/reachability2.png)"
   ]
  },
  {
   "cell_type": "markdown",
   "id": "d2b82456",
   "metadata": {
    "editable": true,
    "slideshow": {
     "slide_type": ""
    }
   },
   "source": [
    "The above stem plot is called the reachability plot. \n",
    "\n",
    "::::{prf:definition} OPTICS\n",
    ":label: def:OPTICS\n",
    "\n",
    "To obtain a cluster from the reachability plot:\n",
    "\n",
    "1. Specify a threshold to clip the reachability distance from above.\n",
    "2. Identify a cluster as a \"valley\" of consecutively visited points with reachability distances below the threshold, except for the first point, which should have a reachability distance, if defined, above the threshold.\n",
    "3. All other points not assigned to a cluster are regarded as noise.\n",
    "\n",
    "::::"
   ]
  },
  {
   "cell_type": "markdown",
   "id": "9ea3f2ff",
   "metadata": {
    "editable": true,
    "slideshow": {
     "slide_type": ""
    }
   },
   "source": [
    "Note that noise points in DBSCAN may be considered clusters at higher density levels by OPTICS. Since the reachability plot is a 2D representation regardless of the dataset's dimensions, it allows for easier identification of appropriate thresholds for clusters with varying density levels."
   ]
  },
  {
   "cell_type": "markdown",
   "id": "df289225",
   "metadata": {
    "editable": true,
    "slideshow": {
     "slide_type": ""
    }
   },
   "source": [
    "::::{exercise}\n",
    ":label: ex:7\n",
    "Assign to `eps_cl` a threshold value that can results in $2$ clusters and no noise points.\n",
    "\n",
    ":::{hint}\n",
    ":class: dropdown\n",
    "\n",
    "You can see the reachability distance of a stem in the reachability plot by hovering the mouse over the stem.\n",
    ":::\n",
    "::::"
   ]
  },
  {
   "cell_type": "code",
   "execution_count": null,
   "id": "cd0728a6",
   "metadata": {
    "deletable": false,
    "editable": true,
    "nbgrader": {
     "cell_type": "code",
     "checksum": "fbca4bf1a24473eba9c5d1cc21e9cd32",
     "grade": false,
     "grade_id": "2-eps_cl",
     "locked": false,
     "schema_version": 3,
     "solution": true,
     "task": false
    },
    "slideshow": {
     "slide_type": ""
    },
    "tags": [
     "remove-output"
    ]
   },
   "outputs": [],
   "source": [
    "# YOUR CODE HERE\n",
    "raise NotImplementedError\n",
    "eps_cl"
   ]
  },
  {
   "cell_type": "code",
   "execution_count": null,
   "id": "f1e7d0c9",
   "metadata": {
    "deletable": false,
    "editable": false,
    "nbgrader": {
     "cell_type": "code",
     "checksum": "8f1a3165e4a3ce58a99d71f882d07d65",
     "grade": true,
     "grade_id": "test-2-eps_cl",
     "locked": true,
     "points": 1,
     "schema_version": 3,
     "solution": false,
     "task": false
    },
    "slideshow": {
     "slide_type": ""
    },
    "tags": [
     "remove-cell"
    ]
   },
   "outputs": [],
   "source": [
    "# hidden tests"
   ]
  },
  {
   "cell_type": "markdown",
   "id": "95326b23",
   "metadata": {
    "editable": true,
    "slideshow": {
     "slide_type": ""
    }
   },
   "source": [
    "::::{exercise}\n",
    ":label: ex:8\n",
    "Assign to `eps_cl` a threshold value that results in $3$ clusters. In particular, choose the threshold value that leads to as few noise points as possible.\n",
    "::::"
   ]
  },
  {
   "cell_type": "code",
   "execution_count": null,
   "id": "7632acb2",
   "metadata": {
    "deletable": false,
    "editable": true,
    "nbgrader": {
     "cell_type": "code",
     "checksum": "6423886dc29263fb600ad0f78bb6fca4",
     "grade": false,
     "grade_id": "3-eps-cl",
     "locked": false,
     "schema_version": 3,
     "solution": true,
     "task": false
    },
    "slideshow": {
     "slide_type": ""
    },
    "tags": [
     "remove-output"
    ]
   },
   "outputs": [],
   "source": [
    "# YOUR CODE HERE\n",
    "raise NotImplementedError\n",
    "eps_cl"
   ]
  },
  {
   "cell_type": "code",
   "execution_count": null,
   "id": "4dadf91a",
   "metadata": {
    "deletable": false,
    "editable": false,
    "nbgrader": {
     "cell_type": "code",
     "checksum": "cb32a32b6a19e8d45c7ef52f060e397e",
     "grade": true,
     "grade_id": "test-3-eps-cl",
     "locked": true,
     "points": 1,
     "schema_version": 3,
     "solution": false,
     "task": false
    },
    "slideshow": {
     "slide_type": ""
    },
    "tags": [
     "remove-cell"
    ]
   },
   "outputs": [],
   "source": [
    "# hidden tests"
   ]
  },
  {
   "cell_type": "markdown",
   "id": "fc97dfb7",
   "metadata": {
    "editable": true,
    "slideshow": {
     "slide_type": ""
    }
   },
   "source": [
    "::::{exercise}\n",
    ":label: ex:9\n",
    "To evaluate the 3 clusters obtained from a particular threshold using an extrinsic measure, run DBSCAN with \n",
    "- the parameter `epsilon` set to the threshold you obtained and\n",
    "- cluster mode set to `Classes to clusters evaluation`.\n",
    "\n",
    "Assign to `error_rate` the fraction of incorrectly classified instances and `miss_rate` as the fraction of instances not assigned to a cluster.\n",
    "::::"
   ]
  },
  {
   "cell_type": "code",
   "execution_count": null,
   "id": "c7b2bbb9",
   "metadata": {
    "deletable": false,
    "editable": true,
    "nbgrader": {
     "cell_type": "code",
     "checksum": "838b1bc1da74b4f55133cf707ac5d1f7",
     "grade": false,
     "grade_id": "error-miss-rate",
     "locked": false,
     "schema_version": 3,
     "solution": true,
     "task": false
    },
    "slideshow": {
     "slide_type": ""
    },
    "tags": [
     "remove-output"
    ]
   },
   "outputs": [],
   "source": [
    "# YOUR CODE HERE\n",
    "raise NotImplementedError\n",
    "error_rate, miss_rate"
   ]
  },
  {
   "cell_type": "code",
   "execution_count": null,
   "id": "477d6e52",
   "metadata": {
    "deletable": false,
    "editable": false,
    "nbgrader": {
     "cell_type": "code",
     "checksum": "d83e9bf42bd216a6069ed1b4e485fa52",
     "grade": true,
     "grade_id": "test-error-miss-rate",
     "locked": true,
     "points": 1,
     "schema_version": 3,
     "solution": false,
     "task": false
    },
    "slideshow": {
     "slide_type": ""
    },
    "tags": [
     "remove-cell"
    ]
   },
   "outputs": [],
   "source": [
    "# hidden tests"
   ]
  },
  {
   "cell_type": "code",
   "execution_count": null,
   "id": "f399942e",
   "metadata": {
    "editable": true,
    "slideshow": {
     "slide_type": ""
    }
   },
   "outputs": [],
   "source": [
    "%%ai chatgpt -f text\n",
    "For OPTICS, can we quantify how stable a cluster is, and how likely a point is\n",
    "a noise point?"
   ]
  },
  {
   "cell_type": "code",
   "execution_count": null,
   "id": "c84de453",
   "metadata": {
    "editable": true,
    "slideshow": {
     "slide_type": ""
    }
   },
   "outputs": [],
   "source": [
    "%%ai chatgpt -f text\n",
    "Explain HDBSCAN and compare it with OPTICS. Is HDBSCAN better?"
   ]
  }
 ],
 "metadata": {
  "kernelspec": {
   "display_name": "Python 3 (ipykernel)",
   "language": "python",
   "name": "python3"
  }
 },
 "nbformat": 4,
 "nbformat_minor": 5
}
