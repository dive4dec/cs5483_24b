{
 "cells": [
  {
   "cell_type": "markdown",
   "id": "6b2a667c",
   "metadata": {
    "editable": true,
    "slideshow": {
     "slide_type": ""
    }
   },
   "source": [
    "---\n",
    "title: Evaluation of Clusters\n",
    "math: \n",
    "    '\\abs': '\\left\\lvert #1 \\right\\rvert' \n",
    "    '\\norm': '\\left\\lvert #1 \\right\\rvert' \n",
    "    '\\Set': '\\left\\{ #1 \\right\\}'\n",
    "    '\\mc': '\\mathcal{#1}'\n",
    "    '\\M': '\\boldsymbol{#1}'\n",
    "    '\\R': '\\mathsf{#1}'\n",
    "    '\\RM': '\\M{\\mathsf{#1}}'\n",
    "    '\\op': '\\operatorname{#1}'\n",
    "    '\\E': '\\op{E}'\n",
    "    '\\d': '\\mathrm{\\mathstrut d}'\n",
    "---"
   ]
  },
  {
   "cell_type": "code",
   "execution_count": null,
   "id": "ec827d50",
   "metadata": {
    "editable": true,
    "init_cell": true,
    "slideshow": {
     "slide_type": "-"
    }
   },
   "outputs": [],
   "source": [
    "import os\n",
    "import matplotlib.pyplot as plt\n",
    "import numpy as np\n",
    "import pandas as pd\n",
    "from scipy.optimize import linear_sum_assignment\n",
    "from sklearn import datasets, preprocessing\n",
    "from sklearn.cluster import KMeans\n",
    "from sklearn.metrics import silhouette_score\n",
    "from sklearn.pipeline import make_pipeline\n",
    "\n",
    "%matplotlib widget\n",
    "if not os.getenv(\n",
    "    \"NBGRADER_EXECUTION\"\n",
    "):\n",
    "    %load_ext jupyter_ai\n",
    "    %ai update chatgpt dive:chat\n",
    "    # %ai update chatgpt dive-azure:gpt4o"
   ]
  },
  {
   "cell_type": "markdown",
   "id": "10dfcbe2",
   "metadata": {
    "editable": true,
    "slideshow": {
     "slide_type": ""
    }
   },
   "source": [
    "In this notebook, we will consider different methods of evaluating clustering solutions."
   ]
  },
  {
   "cell_type": "markdown",
   "id": "eefbee2b",
   "metadata": {},
   "source": [
    "## Intrinsic measure"
   ]
  },
  {
   "cell_type": "markdown",
   "id": "09eab3b6",
   "metadata": {},
   "source": [
    "The intrinsic measures of cluster quality are helpful when the ground truth is unavailable or should not be used. For example, to determine the number of clusters, we can compare the intrinsic measures of the clustering solutions for different numbers of clusters."
   ]
  },
  {
   "cell_type": "markdown",
   "id": "293bfb3a",
   "metadata": {},
   "source": [
    "### Elbow Method"
   ]
  },
  {
   "cell_type": "markdown",
   "id": "9cdded2e",
   "metadata": {
    "editable": true,
    "slideshow": {
     "slide_type": ""
    }
   },
   "source": [
    "::::{prf:definition} Elbow Method\n",
    "\n",
    "To determine the number of clusters for a centroid-based clustering algorithm, the elbow method uses the within-cluster sum of squared errors\n",
    "\n",
    "$$\n",
    "\\op{WSS}(k) := \\sum_{j\\in [k]} \\sum_{\\M{p}\\in C_j} \\op{dist}(\\M{p},\\M{c}_j)^2,\n",
    "$$ (WSS)\n",
    "\n",
    "where $[k]$ denotes a set of positive integer $k$ unique indices,\n",
    "- $\\Set{C_j|1\\in [k]}$ is a clustering solution obtained by the centroid-based algorithm, and\n",
    "- $\\M{c}_j$ is the cluster center for $C_j$. \n",
    "\n",
    "Instead of minimizing $\\op{WSS}(k)$ over $k$, it chooses $k$ where\n",
    "- $\\op{WSS}(k)-\\op{WSS}(k-1)$ is large, but\n",
    "- $\\op{WSS}(k+1)-\\op{WSS}(k)$ is small.\n",
    "\n",
    "Along the curve of $\\op{WSS}(k)$ against $k$, the above choice is located at the 'elbow' of the curve.\n",
    "\n",
    "::::"
   ]
  },
  {
   "cell_type": "markdown",
   "id": "a57d1eed",
   "metadata": {
    "editable": true,
    "slideshow": {
     "slide_type": ""
    }
   },
   "source": [
    "The following diagram shows the KnowledgeFlow interface of Weka that applies `SimpleKMeans` to the `iris.2D.arff` dataset for different choices of $k$."
   ]
  },
  {
   "cell_type": "markdown",
   "id": "6bf84f81",
   "metadata": {},
   "source": [
    "![Elbow method](images/elbow.dio.svg)"
   ]
  },
  {
   "cell_type": "markdown",
   "id": "52fd0a94",
   "metadata": {},
   "source": [
    "Implement the above using Weka to answer the following exercise."
   ]
  },
  {
   "cell_type": "markdown",
   "id": "666a9df0",
   "metadata": {},
   "source": [
    "::::{exercise}\n",
    ":label: ex:1\n",
    "Complete the following `DataFrame` `df_WSS` by recording $\\op{WSS}(k)$ for $k$ from 1 to 4. Your answer may look like\n",
    "\n",
    "```python\n",
    "...\n",
    "df_WSS['WSS'] = [__, __, __, __]\n",
    "...\n",
    "```\n",
    "::::"
   ]
  },
  {
   "cell_type": "code",
   "execution_count": null,
   "id": "a047bd49",
   "metadata": {
    "deletable": false,
    "editable": true,
    "nbgrader": {
     "cell_type": "code",
     "checksum": "7b5a6c2422c0cbf3f0e1f8c96e98541e",
     "grade": false,
     "grade_id": "elbow",
     "locked": false,
     "schema_version": 3,
     "solution": true,
     "task": false
    },
    "slideshow": {
     "slide_type": ""
    },
    "tags": [
     "remove-output"
    ]
   },
   "outputs": [],
   "source": [
    "df_WSS = pd.DataFrame(columns=[\"k\", \"WSS\"])\n",
    "df_WSS[\"k\"] = np.arange(1, 5, dtype=int)\n",
    "df_WSS[\"WSS\"] = df_WSS[\"WSS\"].astype(float)\n",
    "# YOUR CODE HERE\n",
    "raise NotImplementedError\n",
    "\n",
    "# plot WSS as a function of k\n",
    "fig, ax = plt.subplots(clear=True, figsize=(10, 10), layout=\"constrained\", num=1)\n",
    "df_WSS.plot(x=\"k\", y=\"WSS\", xlabel=r\"$k$\", ylabel=\"WSS\", legend=False, ax=ax)\n",
    "# plt.xlabel(\"k\")\n",
    "# plt.ylabel(\"WSS\")\n",
    "plt.show()\n",
    "df_WSS"
   ]
  },
  {
   "cell_type": "code",
   "execution_count": null,
   "id": "9231035e",
   "metadata": {
    "deletable": false,
    "editable": false,
    "nbgrader": {
     "cell_type": "code",
     "checksum": "7c6e4848996ac5e0834eb6b4f02c00ff",
     "grade": true,
     "grade_id": "test-elbow",
     "locked": true,
     "points": 1,
     "schema_version": 3,
     "solution": false,
     "task": false
    },
    "slideshow": {
     "slide_type": ""
    },
    "tags": [
     "remove-cell"
    ]
   },
   "outputs": [],
   "source": [
    "# hidden tests"
   ]
  },
  {
   "cell_type": "code",
   "execution_count": null,
   "id": "0cc8950d",
   "metadata": {
    "editable": true,
    "slideshow": {
     "slide_type": ""
    }
   },
   "outputs": [],
   "source": [
    "%%ai chatgpt -f text\n",
    "When using the elbow method to determine the number of clusters, how to \n",
    "determine the number of clusters if there are multiple elbows?"
   ]
  },
  {
   "cell_type": "markdown",
   "id": "83f5d93c",
   "metadata": {
    "editable": true,
    "slideshow": {
     "slide_type": ""
    }
   },
   "source": [
    "### Silhouette analysis"
   ]
  },
  {
   "cell_type": "markdown",
   "id": "af6ff693",
   "metadata": {
    "editable": true,
    "slideshow": {
     "slide_type": ""
    }
   },
   "source": [
    "An alternative method to the elbow method is to compute the silhouette coefficient below:"
   ]
  },
  {
   "cell_type": "markdown",
   "id": "099ed02f",
   "metadata": {
    "editable": true,
    "slideshow": {
     "slide_type": ""
    }
   },
   "source": [
    "::::{prf:definition} Silhouette coefficient\n",
    ":label: def:silhouette\n",
    "\n",
    "For each sample $\\M{p}\\in C\\in \\mc{P}$ where $\\mc{P}$ is a clustering solution that partitions the data set $D$:\n",
    "\n",
    "$$\n",
    "\\begin{align}\n",
    "s(\\M{p}) := \n",
    "\\begin{cases}\n",
    "\\text{undefined}, & \\abs{\\mc{P}}=1\\\\\n",
    "0, & \\abs{C}=1\\\\\n",
    "\\frac{b(\\M{p})-a(\\M{p})}{\\max\\Set{a(\\M{p}), b(\\M{p})}}, & \\text{otherwise,}\n",
    "\\end{cases}\n",
    "\\end{align}\n",
    "$$\n",
    "\n",
    "where\n",
    "\n",
    "$$\n",
    "\\begin{align}\n",
    "a(\\M{p}) &:= \\frac{1}{\\abs{C}} \\sum_{\\M{q}\\in C} \\op{dist}(\\M{p},\\M{q}) && \\text{(mean intra-cluster distance)}\\\\\n",
    "b(\\M{p}) &:= \\min_{C'\\in \\mc{P}} \\sum_{\\M{q}\\in C'} \\op{dist}(\\M{p},\\M{q}) && \\text{(mean nearest-cluster distance)}.\n",
    "\\end{align}\n",
    "$$\n",
    "\n",
    "::::"
   ]
  },
  {
   "cell_type": "code",
   "execution_count": null,
   "id": "da0616cb",
   "metadata": {
    "editable": true,
    "slideshow": {
     "slide_type": ""
    }
   },
   "outputs": [],
   "source": [
    "%%ai chatgpt -f text\n",
    "Why should the silhouette coefficient be undefined, rather than 0, when the \n",
    "number of clusters is 1, unlike when the size of the cluster is 1?"
   ]
  },
  {
   "cell_type": "code",
   "execution_count": null,
   "id": "e8837be1",
   "metadata": {
    "editable": true,
    "slideshow": {
     "slide_type": ""
    }
   },
   "outputs": [],
   "source": [
    "%%ai chatgpt -f text\n",
    "Why does the silhouette coefficient use distance instead of squared distance?"
   ]
  },
  {
   "cell_type": "markdown",
   "id": "f47ad04f",
   "metadata": {
    "editable": true,
    "slideshow": {
     "slide_type": ""
    }
   },
   "source": [
    "We will use the existing implementation in `sklearn`. First, import the iris dataset from `sklearn.datasets` and store it as a `DataFrame`:"
   ]
  },
  {
   "cell_type": "code",
   "execution_count": null,
   "id": "4dedb0f1",
   "metadata": {
    "editable": true,
    "init_cell": true,
    "slideshow": {
     "slide_type": ""
    }
   },
   "outputs": [],
   "source": [
    "# load the dataset from sklearn\n",
    "dataset = datasets.load_iris()\n",
    "\n",
    "# create a DataFrame to help further analysis\n",
    "df = pd.DataFrame(data=dataset.data, columns=dataset.feature_names)\n",
    "df[\"target\"] = dataset.target\n",
    "df.target = df.target.astype(\"category\")\n",
    "df.target = df.target.cat.rename_categories(dataset.target_names)\n",
    "df"
   ]
  },
  {
   "cell_type": "markdown",
   "id": "9651ca05",
   "metadata": {
    "editable": true,
    "slideshow": {
     "slide_type": ""
    }
   },
   "source": [
    "To cluster the data using $k$-means clustering:"
   ]
  },
  {
   "cell_type": "code",
   "execution_count": null,
   "id": "f307085d",
   "metadata": {
    "editable": true,
    "init_cell": true,
    "slideshow": {
     "slide_type": ""
    }
   },
   "outputs": [],
   "source": [
    "kmeans_minmax_normalized = make_pipeline(\n",
    "    preprocessing.MinMaxScaler(), KMeans(n_clusters=3, random_state=0)\n",
    ")\n",
    "kmeans_minmax_normalized\n",
    "\n",
    "feature1, feature2 = \"petal length (cm)\", \"petal width (cm)\"\n",
    "labels = kmeans_minmax_normalized.fit_predict(df[[feature1, feature2]])\n",
    "\n",
    "plt.figure(figsize=(10, 5), clear=True, num=2)\n",
    "\n",
    "_ = plt.subplot(121, title=\"Cluster assignment\", xlabel=feature1, ylabel=feature2)\n",
    "plt.scatter(df[feature1], df[feature2], c=labels)\n",
    "\n",
    "plt.subplot(122, title=\"Class (ground truth)\", xlabel=feature1, sharey=_)\n",
    "plt.scatter(df[feature1], df[feature2], c=dataset[\"target\"])\n",
    "\n",
    "plt.show()"
   ]
  },
  {
   "cell_type": "markdown",
   "id": "63f4f8e9",
   "metadata": {},
   "source": [
    "::::{exercise}\n",
    ":label: ex:2\n",
    "Complete the following `DataFrame` `df_silouette` by recording the silhouette coefficients for different number $k$ of clusters from 2 to 10. You may enter your code as\n",
    "\n",
    "```python\n",
    "        ...\n",
    "        df_silouette.loc[i, 's'] = silhouette_score(___, ___)\n",
    "        ...\n",
    "```\n",
    "\n",
    "using the [`silhouette_score`](https://scikit-learn.org/stable/modules/generated/sklearn.metrics.silhouette_score.html) imported from\n",
    "\n",
    "```python\n",
    "from sklearn.metrics import silhouette_score\n",
    "```\n",
    "::::"
   ]
  },
  {
   "cell_type": "code",
   "execution_count": null,
   "id": "80b3d994",
   "metadata": {
    "deletable": false,
    "nbgrader": {
     "cell_type": "code",
     "checksum": "5e79119bec845af4acea25f2fcef6c29",
     "grade": false,
     "grade_id": "silhouette",
     "locked": false,
     "schema_version": 3,
     "solution": true,
     "task": false
    },
    "tags": [
     "remove-output"
    ]
   },
   "outputs": [],
   "source": [
    "df_silouette = pd.DataFrame(columns=[\"k\", \"s\"])\n",
    "df_silouette[\"k\"] = np.arange(2, 11, dtype=int)\n",
    "df_silouette[\"s\"] = df_silouette[\"s\"].astype(float)\n",
    "for i in range(len(df_silouette)):\n",
    "    labels_ = make_pipeline(\n",
    "        preprocessing.MinMaxScaler(),\n",
    "        KMeans(n_clusters=df_silouette.loc[i, \"k\"], random_state=0),\n",
    "    ).fit_predict(df[[feature1, feature2]])\n",
    "    # YOUR CODE HERE\n",
    "    raise NotImplementedError\n",
    "\n",
    "# plot WSS as a function of k\n",
    "fig, ax = plt.subplots(clear=True, figsize=(10, 10), layout=\"constrained\", num=4)\n",
    "df_silouette.plot(x=\"k\", y=\"s\", ax=ax)\n",
    "plt.xlabel(\"k\")\n",
    "plt.ylabel(\"silouette score\")\n",
    "plt.show()\n",
    "df_silouette"
   ]
  },
  {
   "cell_type": "code",
   "execution_count": null,
   "id": "bccdcbac",
   "metadata": {
    "deletable": false,
    "editable": false,
    "nbgrader": {
     "cell_type": "code",
     "checksum": "57e8bc1388dd32db66ee4777d415f1f3",
     "grade": true,
     "grade_id": "test-silhouette",
     "locked": true,
     "points": 1,
     "schema_version": 3,
     "solution": false,
     "task": false
    },
    "tags": [
     "remove-cell"
    ]
   },
   "outputs": [],
   "source": [
    "# hidden tests"
   ]
  },
  {
   "cell_type": "markdown",
   "id": "ebb9fa43",
   "metadata": {
    "editable": true,
    "slideshow": {
     "slide_type": ""
    }
   },
   "source": [
    "```{seealso}\n",
    "\n",
    "In a more elaborate [silhouette analysis](https://scikit-learn.org/stable/auto_examples/cluster/plot_kmeans_silhouette_analysis.html#sphx-glr-auto-examples-cluster-plot-kmeans-silhouette-analysis-py), \n",
    "- we should plot the silhouette coefficients for different clusters and points in each cluster,\n",
    "- and determine the number of clusters based on the variations in the silhouette coefficients and cluster sizes.\n",
    "\n",
    "```"
   ]
  },
  {
   "cell_type": "code",
   "execution_count": null,
   "id": "58d271d9",
   "metadata": {
    "editable": true,
    "slideshow": {
     "slide_type": ""
    }
   },
   "outputs": [],
   "source": [
    "%%ai chatgpt -f text\n",
    "Explain how to determine the number of clusters using silhouette analysis. \n",
    "Why is this method better than simply looking at the average silhouette \n",
    "coefficient?"
   ]
  },
  {
   "cell_type": "markdown",
   "id": "1a5b84fe",
   "metadata": {
    "editable": true,
    "slideshow": {
     "slide_type": ""
    }
   },
   "source": [
    "### Extrinsic measures of cluster quality"
   ]
  },
  {
   "cell_type": "markdown",
   "id": "a6e5c00c",
   "metadata": {
    "editable": true,
    "slideshow": {
     "slide_type": ""
    }
   },
   "source": [
    "Suppose $L(\\M{p})$ and $C(\\M{p})$ are the class and cluster labels of each sample $\\M{p}\\in D$. An extrinsic measure compares how similar the corresponding partitions $\\Set{L_i}$ and $\\Set{C_i}$ are, where\n",
    "\n",
    "$$\n",
    "\\begin{align}\n",
    "L_i &:=\\Set{\\M{p}|L(\\M{p})=i}\\\\\n",
    "C_i &:=\\Set{\\M{p}|C(\\M{p})=i}.\n",
    "\\end{align}\n",
    "$$"
   ]
  },
  {
   "cell_type": "markdown",
   "id": "c9376199",
   "metadata": {},
   "source": [
    "#### Pairwise correctness"
   ]
  },
  {
   "cell_type": "markdown",
   "id": "51795302",
   "metadata": {},
   "source": [
    "Define the indicator of correct clustering for a pair $\\M{p}, \\M{q}\\in D$ as\n",
    "\n",
    "$$\n",
    "\\begin{align}\n",
    "\\op{correctness}(\\M{p},\\M{q}) := \n",
    "\\begin{cases}\n",
    "1 & L(\\M{p})=L(\\M{q}) \\iff C(\\M{p})=C(\\M{q})\\\\\n",
    "0 & \\text{otherwise.}\n",
    "\\end{cases}\n",
    "\\end{align}\n",
    "$$ (correctness)\n",
    "\n",
    "In other words, the clustering for the pair of samples is correct when \n",
    "- the samples have equal class labels and equal cluster labels, or\n",
    "- the samples have different class labels and different cluster labels."
   ]
  },
  {
   "cell_type": "markdown",
   "id": "8022064f",
   "metadata": {},
   "source": [
    "The following function returns a boolean matrix of $[\\op{correctness}(\\M{p},\\M{q})]$, with rows an columns indexed by $\\M{p}$ and $\\M{q}$ respectively."
   ]
  },
  {
   "cell_type": "code",
   "execution_count": null,
   "id": "88eb5eba",
   "metadata": {
    "editable": true,
    "slideshow": {
     "slide_type": ""
    }
   },
   "outputs": [],
   "source": [
    "def correctness(class_labels, cluster_labels):\n",
    "    \"\"\"Returns the pairwise correctness matrix for the class and cluster labels.\n",
    "\n",
    "    Parameters:\n",
    "    -----------\n",
    "    class_labels (array): non-negative integer class labels for certain samples\n",
    "    cluster_labels (array): corresponding non-negative integer cluster labels\n",
    "\n",
    "    Returns:\n",
    "    --------\n",
    "    A matrix (2D array) of correctness(p,q) with rows and columns indexed by\n",
    "    p and q, respectively, in the samples. correctness(p,q) indicates whether\n",
    "      - p and q have equal class labels and equal cluster labels, or\n",
    "      - p and q have different class labels and different cluster labels.\n",
    "    \"\"\"\n",
    "    class_labels = np.asarray(class_labels)\n",
    "    cluster_labels = np.asarray(cluster_labels)\n",
    "\n",
    "    eq_class = class_labels.reshape(-1, 1) == class_labels.reshape(1, -1)\n",
    "    eq_cluster = cluster_labels.reshape(-1, 1) == cluster_labels.reshape(1, -1)\n",
    "\n",
    "    return (eq_class & eq_cluster) | ~(eq_class | eq_cluster)"
   ]
  },
  {
   "cell_type": "markdown",
   "id": "1b29c09a",
   "metadata": {
    "editable": true,
    "slideshow": {
     "slide_type": ""
    }
   },
   "source": [
    "For instance, consider the following class and cluster labels:\n",
    "\n",
    "|index $i$|class label $L(\\M{p}_i)$ | cluster label $C(\\M{p}_i)$|\n",
    "|:-:|:----------:|:----------:|\n",
    "| 0 | 0 | 1 |\n",
    "| 1 | 0 | 1 |\n",
    "| 2 | 1 | 0 |\n",
    "\n",
    "The correctness matrix and the fraction correctly clustered pairs are:"
   ]
  },
  {
   "cell_type": "code",
   "execution_count": null,
   "id": "9af6ea08",
   "metadata": {
    "editable": true,
    "slideshow": {
     "slide_type": ""
    }
   },
   "outputs": [],
   "source": [
    "correctness_matrix = correctness(class_labels=[0, 0, 1], cluster_labels=[1, 1, 0])\n",
    "correctness_accuracy = correctness_matrix.mean()\n",
    "print(f\"Correctness matrix:\\n {correctness_matrix}\")\n",
    "print(f\"Accuracy: {correctness_matrix.mean():.3g}\")"
   ]
  },
  {
   "cell_type": "markdown",
   "id": "6e659f0a",
   "metadata": {
    "editable": true,
    "slideshow": {
     "slide_type": ""
    }
   },
   "source": [
    "::::{exercise}\n",
    ":label: ex:3\n",
    "\n",
    "Assign the accuracy to `correctness_accuracy` the accuracy for the $k$-means clustering solution assigned to `labels` on the iris dataset.\n",
    "\n",
    "::::"
   ]
  },
  {
   "cell_type": "code",
   "execution_count": null,
   "id": "7772e223",
   "metadata": {
    "deletable": false,
    "editable": true,
    "nbgrader": {
     "cell_type": "code",
     "checksum": "82cb4057625ead6bfb0b63cb595f8f04",
     "grade": false,
     "grade_id": "iris-correctness",
     "locked": false,
     "schema_version": 3,
     "solution": true,
     "task": false
    },
    "slideshow": {
     "slide_type": ""
    },
    "tags": [
     "remove-output"
    ]
   },
   "outputs": [],
   "source": [
    "# YOUR CODE HERE\n",
    "raise NotImplementedError\n",
    "correctness_accuracy"
   ]
  },
  {
   "cell_type": "code",
   "execution_count": null,
   "id": "753aad85",
   "metadata": {
    "deletable": false,
    "editable": false,
    "nbgrader": {
     "cell_type": "code",
     "checksum": "262612dfc77bb9e56ca4bdeb6033b585",
     "grade": true,
     "grade_id": "test-iris-correctness",
     "locked": true,
     "points": 1,
     "schema_version": 3,
     "solution": false,
     "task": false
    },
    "slideshow": {
     "slide_type": ""
    },
    "tags": [
     "remove-cell"
    ]
   },
   "outputs": [],
   "source": [
    "# hidden tests"
   ]
  },
  {
   "cell_type": "code",
   "execution_count": null,
   "id": "096e3766",
   "metadata": {
    "editable": true,
    "slideshow": {
     "slide_type": ""
    }
   },
   "outputs": [],
   "source": [
    "%%ai chatgpt -f text\n",
    "When evaluating a clustering solution with many clusters, why is the accuracy \n",
    "from the pairwise correctness matrix misleading?"
   ]
  },
  {
   "cell_type": "markdown",
   "id": "e8a71178",
   "metadata": {
    "editable": true,
    "slideshow": {
     "slide_type": ""
    }
   },
   "source": [
    "#### B-Cubed metrics"
   ]
  },
  {
   "cell_type": "markdown",
   "id": "4f6ed772",
   "metadata": {
    "editable": true,
    "slideshow": {
     "slide_type": ""
    }
   },
   "source": [
    "The accuracy computed from the pairwise correctness matrix can be misleading when there are many clusters. Similar to the class imbalance problem for classification, precision and recall can be used instead."
   ]
  },
  {
   "cell_type": "markdown",
   "id": "47b768e6",
   "metadata": {
    "editable": true,
    "slideshow": {
     "slide_type": ""
    }
   },
   "source": [
    "::::{prf:definition} B-Cubed precision/recall\n",
    ":label: def:B-Cubed\n",
    "\n",
    "For every point $\\M{p}\\in D$, the B-Cubed precision and recall are defined respectively as\n",
    "\n",
    "$$\n",
    "\\begin{align}\n",
    "\\op{precision}(\\M{p}) &:= \\frac{\\abs{\\Set{\\M{q}\\in D|C(\\M{p})=C(\\M{q}), L(\\M{p})=L(\\M{q})}}}{\\abs{\\Set{\\M{q}\\in D|C(\\M{p})=C(\\M{q})}}}\\\\\n",
    "\\op{recall}(\\M{p}) &:= \\frac{\\abs{\\Set{\\M{q}\\in D|C(\\M{p})=C(\\M{q}), L(\\M{p})=L(\\M{q})}}}{\\abs{\\Set{\\M{q}\\in D|L(\\M{p})=L(\\M{q})}}}.\n",
    "\\end{align}\n",
    "$$ (B-Cubed)\n",
    "\n",
    "The overall precision and recall are the average precisions and recalls of each point.\n",
    "\n",
    "::::"
   ]
  },
  {
   "cell_type": "markdown",
   "id": "2a9e5eea",
   "metadata": {
    "editable": true,
    "slideshow": {
     "slide_type": ""
    }
   },
   "source": [
    "For instance, consider the following class and cluster labels:\n",
    "\n",
    "|index $i$|class label $L(\\M{p}_i)$ | cluster label $C(\\M{p}_i)$|\n",
    "|:-:|:----------:|:----------:|\n",
    "| 0 | 0 | 0 |\n",
    "| 1 | 0 | 1 |\n",
    "| 2 | 1 | 2 |\n",
    "| 3 | 1 | 2 |"
   ]
  },
  {
   "cell_type": "markdown",
   "id": "452676df",
   "metadata": {
    "editable": true,
    "slideshow": {
     "slide_type": ""
    }
   },
   "source": [
    "The precision and recall for each point are\n",
    "\n",
    "|index $i$|precision for $\\M{p}_i$ | recall for $\\M{p}_i$|\n",
    "|:-:|:----------:|:----------:|\n",
    "| 0 | 1 | 0.5 |\n",
    "| 1 | 1 | 0.5 |\n",
    "| 2 | 1 | 1 |\n",
    "| 3 | 1 | 1 |\n",
    "\n",
    "and so the overall precision and recall are $1$ and $0.75$, respectively."
   ]
  },
  {
   "cell_type": "markdown",
   "id": "25fbcd0a",
   "metadata": {
    "editable": true,
    "slideshow": {
     "slide_type": ""
    }
   },
   "source": [
    "::::{exercise}\n",
    ":label: ex:4\n",
    "Complete the following class that computes each sample's B-Cubed precision and recall and averages them over the samples. Your solution may look like this:\n",
    "```python\n",
    "        ...\n",
    "        FPs = (___ & ___).sum(axis=1)\n",
    "        FNs = (___ & ___).sum(axis=1)\n",
    "\n",
    "        self.precisions = TPs / (___ + ___)\n",
    "        self.recalls = ___\n",
    "        ...\n",
    "```\n",
    "::::"
   ]
  },
  {
   "cell_type": "code",
   "execution_count": null,
   "id": "4f2055ca",
   "metadata": {
    "deletable": false,
    "editable": true,
    "nbgrader": {
     "cell_type": "code",
     "checksum": "898fc5480124959c8e6fce53667f63e5",
     "grade": false,
     "grade_id": "BCubed",
     "locked": false,
     "schema_version": 3,
     "solution": true,
     "task": false
    },
    "slideshow": {
     "slide_type": ""
    },
    "tags": [
     "remove-output"
    ]
   },
   "outputs": [],
   "source": [
    "class BCubed:\n",
    "    \"\"\"Compute B-Cubed precision and recall.\n",
    "\n",
    "    Parameters\n",
    "    -----------\n",
    "    class_labels: int array\n",
    "        Non-negative integer class labels for certain samples.\n",
    "    cluster_labels: int array\n",
    "        Corresponding non-negative integer cluster labels.\n",
    "\n",
    "    Attributes\n",
    "    -----------\n",
    "    precisions: array of float\n",
    "        B-Cubed precisions for each sample.\n",
    "    recalls: array of float\n",
    "        B-Cubed recalls for each sample.\n",
    "    precision: float\n",
    "        Overall B-Cubed precision.\n",
    "    recall: float\n",
    "        Overall B-Cubed recall.\n",
    "    \"\"\"\n",
    "\n",
    "    def __init__(self, class_labels, cluster_labels):\n",
    "        self.class_labels = np.asarray(class_labels)\n",
    "        self.cluster_labels = np.asarray(cluster_labels)\n",
    "\n",
    "        eq_class = self.class_labels[:, None] == self.class_labels[None, :]\n",
    "        eq_cluster = self.cluster_labels[:, None] == self.cluster_labels[None, :]\n",
    "\n",
    "        TPs = (eq_class & eq_cluster).sum(axis=1)\n",
    "        # YOUR CODE HERE\n",
    "        raise NotImplementedError\n",
    "        self.precision = self.precisions.mean()\n",
    "        self.recall = self.recalls.mean()\n",
    "\n",
    "    def __repr__(self):\n",
    "        return f\"Precision: {self.precision:.3g}\\n\" + f\"Recall: {self.recall:.3g}\""
   ]
  },
  {
   "cell_type": "code",
   "execution_count": null,
   "id": "c8655aa7",
   "metadata": {
    "deletable": false,
    "editable": false,
    "nbgrader": {
     "cell_type": "code",
     "checksum": "00cc30e4adad933a2d64ac33703a2965",
     "grade": true,
     "grade_id": "test-BCubed",
     "locked": true,
     "points": 1,
     "schema_version": 3,
     "solution": false,
     "task": false
    },
    "slideshow": {
     "slide_type": ""
    },
    "tags": [
     "remove-output",
     "hide-input"
    ]
   },
   "outputs": [],
   "source": [
    "# tests\n",
    "# simple case\n",
    "bcubed_eval = BCubed(class_labels=[0, 0, 1, 1], cluster_labels=[0, 1, 2, 2])\n",
    "assert np.isclose(bcubed_eval.precisions, [1, 1, 1, 1], rtol=1e-3).all()\n",
    "assert np.isclose(bcubed_eval.recalls, [0.5, 0.5, 1, 1], rtol=1e-3).all()\n",
    "# test on iris\n",
    "bcubed_eval = BCubed(dataset[\"target\"], labels)\n",
    "print(bcubed_eval)\n",
    "assert np.isclose(bcubed_eval.precision, 0.9252136752136751, rtol=1e-3)\n",
    "assert np.isclose(bcubed_eval.recall, 0.9253333333333335, rtol=1e-3)"
   ]
  },
  {
   "cell_type": "code",
   "execution_count": null,
   "id": "6705ea3a",
   "metadata": {
    "deletable": false,
    "editable": false,
    "nbgrader": {
     "cell_type": "code",
     "checksum": "4c0454fc9485d53f2aeb4ab3f437d028",
     "grade": true,
     "grade_id": "htest-BCubed",
     "locked": true,
     "points": 1,
     "schema_version": 3,
     "solution": false,
     "task": false
    },
    "slideshow": {
     "slide_type": ""
    },
    "tags": [
     "remove-cell"
    ]
   },
   "outputs": [],
   "source": [
    "# hidden tests"
   ]
  },
  {
   "cell_type": "code",
   "execution_count": null,
   "id": "c8d34f2f",
   "metadata": {
    "editable": true,
    "slideshow": {
     "slide_type": ""
    }
   },
   "outputs": [],
   "source": [
    "%%ai chatgpt -f text\n",
    "Why are BCubed precision and recall for cluster evaluation called BCubed?"
   ]
  },
  {
   "cell_type": "markdown",
   "id": "f9702f53",
   "metadata": {
    "editable": true,
    "slideshow": {
     "slide_type": ""
    }
   },
   "source": [
    "#### Classes to Clusters Evaluation"
   ]
  },
  {
   "cell_type": "markdown",
   "id": "67a5a425",
   "metadata": {
    "editable": true,
    "slideshow": {
     "slide_type": ""
    }
   },
   "source": [
    "Instead of using pairwise comparison, Weka uses the classes-to-clusters evaluation. The computation of accuracy can be cast as a linear sum assignment problem, also known as the maximum weight matching in bipartite graphs. More precisely:"
   ]
  },
  {
   "cell_type": "markdown",
   "id": "c7460d3f",
   "metadata": {
    "editable": true,
    "slideshow": {
     "slide_type": ""
    }
   },
   "source": [
    "::::{prf:definition} Classes-to-clusters\n",
    ":label: def:classes2clusters\n",
    "\n",
    "A classes-to-clusters assignment is a matching between the class and cluster labels. It can be represented by a boolean matrix $[\\delta_{ij}]$ for class label $i$ and cluster label $j$, where \n",
    "\n",
    "$$\n",
    "\\begin{align}\n",
    "\\delta_{ij} \n",
    "&= \\begin{cases}\n",
    "1 & \\text{if class $i$ is assigned to cluster $j$,}\\\\\n",
    "0 & \\text{otherwise.}\n",
    "\\end{cases}\n",
    "\\end{align}\n",
    "$$\n",
    "\n",
    "The accuracy for classes-to-clusters evaluation is then given by\n",
    "\n",
    "$$\n",
    "\\begin{align}\n",
    "\\text{accuracy} &= \n",
    "\\max_{[\\delta_{ij}]} \\sum_{i} \\sum_{j} \n",
    "\\overbrace{\\left|\\{\\M{p}\\in D|L(\\M{p})=i, C(\\M{p})=j\\}\\right|}^{n_{ij}:=} \n",
    "\\end{align}\n",
    "$$\n",
    "\n",
    "where $C(\\M{p})$ and $L(\\M{p})$ are the class and cluster labels, respectively, for the data point $\\M{p}\\in D$.\n",
    "\n",
    "::::"
   ]
  },
  {
   "cell_type": "markdown",
   "id": "4f175bbb",
   "metadata": {
    "editable": true,
    "slideshow": {
     "slide_type": ""
    }
   },
   "source": [
    "It will be useful to compute a matrix of the counts $n_{ij}$ of samples with class label $i$ as row index and cluster label $j$ as column index. The following function implements such computation."
   ]
  },
  {
   "cell_type": "code",
   "execution_count": null,
   "id": "d8a53e6c",
   "metadata": {
    "editable": true,
    "init_cell": true,
    "slideshow": {
     "slide_type": ""
    }
   },
   "outputs": [],
   "source": [
    "def class_cluster_counts(class_labels, cluster_labels):\n",
    "    \"\"\"Returns the class-cluster count matrix with rows and columns indexed by\n",
    "    class and cluster labels, respectively.\n",
    "\n",
    "    Parameters:\n",
    "    -----------\n",
    "    class_labels (array): non-negative integer class labels for certain samples\n",
    "    cluster_labels (array): corresponding non-negative integer cluster labels\n",
    "\n",
    "    Returns:\n",
    "    --------\n",
    "    counts: a matrix of counts of samples with rows indexed by class labels and\n",
    "            columns index by cluster labels.\n",
    "    \"\"\"\n",
    "    counts = np.zeros((class_labels.max() + 1, cluster_labels.max() + 1), dtype=int)\n",
    "    for i, j in np.column_stack((class_labels, cluster_labels)):\n",
    "        counts[i, j] += 1\n",
    "    return counts"
   ]
  },
  {
   "cell_type": "markdown",
   "id": "7960d1d5",
   "metadata": {
    "editable": true,
    "slideshow": {
     "slide_type": ""
    }
   },
   "source": [
    "For the $k$-means clustering on the iris dataset, the matrix $[n_{ij}]$ of class-cluster counts is:"
   ]
  },
  {
   "cell_type": "code",
   "execution_count": null,
   "id": "93af7d50",
   "metadata": {
    "editable": true,
    "init_cell": true,
    "slideshow": {
     "slide_type": ""
    }
   },
   "outputs": [],
   "source": [
    "counts = class_cluster_counts(dataset[\"target\"], labels)\n",
    "df_counts = pd.DataFrame(counts)\n",
    "df_counts"
   ]
  },
  {
   "cell_type": "markdown",
   "id": "410b97a8",
   "metadata": {
    "editable": true,
    "slideshow": {
     "slide_type": ""
    }
   },
   "source": [
    "We can use [`linear_sum_assignment`][lsa] from `scipy.optimize` module to find the optimal assignment as follows:\n",
    "\n",
    "```python\n",
    "from scipy.optimize import linear_sum_assignment\n",
    "```\n",
    "\n",
    "[lsa]: https://docs.scipy.org/doc/scipy/reference/generated/scipy.optimize.linear_sum_assignment.html"
   ]
  },
  {
   "cell_type": "code",
   "execution_count": null,
   "id": "643b3269",
   "metadata": {
    "editable": true,
    "init_cell": true,
    "slideshow": {
     "slide_type": ""
    }
   },
   "outputs": [],
   "source": [
    "classes, clusters = linear_sum_assignment(counts, maximize=True)"
   ]
  },
  {
   "cell_type": "markdown",
   "id": "30fca268",
   "metadata": {
    "editable": true,
    "slideshow": {
     "slide_type": ""
    }
   },
   "source": [
    "The following highlights the optimal assignment on the class-cluster count matrix."
   ]
  },
  {
   "cell_type": "code",
   "execution_count": null,
   "id": "59795e64",
   "metadata": {
    "editable": true,
    "init_cell": true,
    "slideshow": {
     "slide_type": ""
    }
   },
   "outputs": [],
   "source": [
    "def highlight(data):\n",
    "    attr = \"background-color: yellow\"\n",
    "    return pd.DataFrame(\n",
    "        [\n",
    "            [attr if i == j else \"\" for j in range(len(data.columns))]\n",
    "            for i in range(len(data.index))\n",
    "        ],\n",
    "        index=data.index,\n",
    "        columns=data.columns,\n",
    "    )\n",
    "\n",
    "\n",
    "df_counts.style.apply(highlight, axis=None, subset=(classes, clusters))"
   ]
  },
  {
   "cell_type": "markdown",
   "id": "81728f76",
   "metadata": {
    "editable": true,
    "slideshow": {
     "slide_type": ""
    }
   },
   "source": [
    "::::{exercise}\n",
    ":label: ex:5\n",
    "Complete the following class that implements the classes-to-clusters evaluation using `linear_sum_assignment` from `scipy.optimize` module. \n",
    "\n",
    ":::{hint}\n",
    ":class: dropdown\n",
    "\n",
    "Your solution may look like this:\n",
    "```python\n",
    "        ...\n",
    "        # counts of samples indexed by class labels followed by cluster labels\n",
    "        counts = class_cluster_counts(____, ____)\n",
    "        \n",
    "        # compute the best assignment of class labels to cluster labels\n",
    "        # that maximizes accuracy        \n",
    "        self.classes, self.clusters = linear_sum_assignment(_____, maximize=____)\n",
    "        self.accuracy = float(counts[____, ____].sum()) / counts.sum()\n",
    "        ...\n",
    "```\n",
    "\n",
    ":::\n",
    "::::"
   ]
  },
  {
   "cell_type": "code",
   "execution_count": null,
   "id": "6902ee7a",
   "metadata": {
    "deletable": false,
    "editable": true,
    "nbgrader": {
     "cell_type": "code",
     "checksum": "949fadc8953927b72913ba8539061ed2",
     "grade": false,
     "grade_id": "c2c",
     "locked": false,
     "schema_version": 3,
     "solution": true,
     "task": false
    },
    "slideshow": {
     "slide_type": ""
    },
    "tags": [
     "remove-output"
    ]
   },
   "outputs": [],
   "source": [
    "class Classes2ClustersEvaluation:\n",
    "    \"\"\"Classes-to-clusters evaluation.\n",
    "\n",
    "    Parameters:\n",
    "    -----------\n",
    "    class_labels: array\n",
    "        Non-negative integer class labels for certain samples.\n",
    "    cluster_labels: array\n",
    "        Corresponding non-negative integer cluster labels.\n",
    "\n",
    "    Attributes:\n",
    "    -----------\n",
    "    accuracy: float\n",
    "        fraction of correctly clustered instances.\n",
    "    classes: int array\n",
    "        Assigned class labels sorted in ascending order.\n",
    "    clusters: int array\n",
    "        Cluster labels corresponding to the assigned class labels.\n",
    "    \"\"\"\n",
    "\n",
    "    def __init__(self, class_labels, cluster_labels):\n",
    "        self.class_labels = np.asarray(class_labels)\n",
    "        self.cluster_labels = np.asarray(cluster_labels)\n",
    "        # YOUR CODE HERE\n",
    "        raise NotImplementedError\n",
    "\n",
    "    def __repr__(self):\n",
    "        s = f\"Accuracy: {self.accuracy:.3g}\\n\"\n",
    "        for i, j in np.column_stack((self.classes, self.clusters)):\n",
    "            s += f\"Class #{i} --> Cluster #{j}\\n\"\n",
    "        return s"
   ]
  },
  {
   "cell_type": "code",
   "execution_count": null,
   "id": "9534b70a",
   "metadata": {
    "deletable": false,
    "editable": false,
    "nbgrader": {
     "cell_type": "code",
     "checksum": "37a53dae9ac983f54799135e820f2d00",
     "grade": true,
     "grade_id": "test-c2c",
     "locked": true,
     "points": 1,
     "schema_version": 3,
     "solution": false,
     "task": false
    },
    "slideshow": {
     "slide_type": ""
    },
    "tags": [
     "hide-input",
     "remove-output"
    ]
   },
   "outputs": [],
   "source": [
    "# tests\n",
    "# simple case\n",
    "c2c_eval = Classes2ClustersEvaluation(np.array([0, 0, 1, 1]), np.array([0, 1, 2, 2]))\n",
    "assert (c2c_eval.classes == [0, 1]).all()\n",
    "assert (c2c_eval.clusters == [0, 2]).all()\n",
    "assert np.isclose(c2c_eval.accuracy, 0.75, rtol=1e-3)\n",
    "# test on iris\n",
    "c2c_eval = Classes2ClustersEvaluation(dataset[\"target\"], labels)\n",
    "print(c2c_eval)\n",
    "assert np.isclose(c2c_eval.accuracy, 0.96, rtol=1e-3)"
   ]
  },
  {
   "cell_type": "code",
   "execution_count": null,
   "id": "f534b333",
   "metadata": {
    "deletable": false,
    "editable": false,
    "nbgrader": {
     "cell_type": "code",
     "checksum": "8afb4a875c5e7a2c1dbbcb4177e4ebfb",
     "grade": true,
     "grade_id": "htest-c2c",
     "locked": true,
     "points": 1,
     "schema_version": 3,
     "solution": false,
     "task": false
    },
    "slideshow": {
     "slide_type": ""
    },
    "tags": [
     "remove-cell"
    ]
   },
   "outputs": [],
   "source": [
    "# hidden tests"
   ]
  },
  {
   "cell_type": "code",
   "execution_count": null,
   "id": "5dbb5dab",
   "metadata": {
    "editable": true,
    "slideshow": {
     "slide_type": ""
    }
   },
   "outputs": [],
   "source": [
    "%%ai chatgpt -f text\n",
    "What is the time complexity of the linear sum assignment problem? Is it\n",
    "considered scalable to large datasets? If not, are there better implementations\n",
    "of the classes-to-clusters evaluation?"
   ]
  }
 ],
 "metadata": {
  "kernelspec": {
   "display_name": "Python 3 (ipykernel)",
   "language": "python",
   "name": "python3"
  }
 },
 "nbformat": 4,
 "nbformat_minor": 5
}
