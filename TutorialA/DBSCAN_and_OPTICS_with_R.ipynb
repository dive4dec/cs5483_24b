{
 "cells": [
  {
   "cell_type": "markdown",
   "id": "d1712dd3",
   "metadata": {
    "editable": true,
    "slideshow": {
     "slide_type": ""
    }
   },
   "source": [
    "---\n",
    "title: DBSCAN and OPTICS with R\n",
    "math: \n",
    "    '\\abs': '\\left\\lvert #1 \\right\\rvert' \n",
    "    '\\norm': '\\left\\lvert #1 \\right\\rvert' \n",
    "    '\\Set': '\\left\\{ #1 \\right\\}'\n",
    "    '\\mc': '\\mathcal{#1}'\n",
    "    '\\M': '\\boldsymbol{#1}'\n",
    "    '\\R': '\\mathsf{#1}'\n",
    "    '\\RM': '\\M{\\mathsf{#1}}'\n",
    "    '\\op': '\\operatorname{#1}'\n",
    "    '\\E': '\\op{E}'\n",
    "    '\\d': '\\mathrm{\\mathstrut d}'\n",
    "---"
   ]
  },
  {
   "cell_type": "markdown",
   "id": "f87ce417",
   "metadata": {},
   "source": [
    "This jupyter notebook demonstrates how to cluster the `iris.2D` dataset using density-based methods. It uses the language *R* and can be run live using an [R kernel](https://github.com/IRkernel/IRkernel)."
   ]
  },
  {
   "cell_type": "markdown",
   "id": "55f50e4d",
   "metadata": {},
   "source": [
    "## Setup"
   ]
  },
  {
   "cell_type": "markdown",
   "id": "369a35a3",
   "metadata": {},
   "source": [
    "The following load and create the `iris.2D` data set:"
   ]
  },
  {
   "cell_type": "code",
   "execution_count": null,
   "id": "eb7e7618",
   "metadata": {},
   "outputs": [],
   "source": [
    "data(\"iris\") # load the iris data set\n",
    "x <- as.matrix(iris[,1:2]) # load the input attributes: sepal width and length\n",
    "plot(x)"
   ]
  },
  {
   "cell_type": "markdown",
   "id": "42d7001e",
   "metadata": {},
   "source": [
    "DBSCAN and OPTICS are implemented in the following package:"
   ]
  },
  {
   "cell_type": "code",
   "execution_count": null,
   "id": "d3ed5924",
   "metadata": {
    "tags": [
     "output_scroll"
    ]
   },
   "outputs": [],
   "source": [
    "library(dbscan) # for DBSCAN and OPTICS\n",
    "help(package=\"dbscan\") # More information about the package"
   ]
  },
  {
   "cell_type": "markdown",
   "id": "4bcceedb",
   "metadata": {},
   "source": [
    "## DBSCAN"
   ]
  },
  {
   "cell_type": "markdown",
   "id": "6edb130d",
   "metadata": {},
   "source": [
    "DBSCAN is implement by the function `dbscan`:"
   ]
  },
  {
   "cell_type": "code",
   "execution_count": null,
   "id": "f1ef1609",
   "metadata": {
    "tags": [
     "output_scroll"
    ]
   },
   "outputs": [],
   "source": [
    "?dbscan"
   ]
  },
  {
   "cell_type": "markdown",
   "id": "2ec15840",
   "metadata": {},
   "source": [
    "To apply DBSCAN to the iris data set with $\\varepsilon=0.3$ and $\\text{minPts} = 4$:"
   ]
  },
  {
   "cell_type": "code",
   "execution_count": null,
   "id": "ee19a2fd",
   "metadata": {},
   "outputs": [],
   "source": [
    "db <- dbscan(x, eps = .3, minPts = 4)\n",
    "db"
   ]
  },
  {
   "cell_type": "markdown",
   "id": "92117f27",
   "metadata": {},
   "source": [
    "To visualize the clustering solution, we can plot the points in different clusters with different colors:"
   ]
  },
  {
   "cell_type": "code",
   "execution_count": null,
   "id": "a73090d3",
   "metadata": {},
   "outputs": [],
   "source": [
    "pairs(x, col = db$cluster + 1L)"
   ]
  },
  {
   "cell_type": "markdown",
   "id": "bdd90f5c",
   "metadata": {},
   "source": [
    "::::{exercise}\n",
    ":label: ex:1\n",
    "\n",
    "In the context of a DBSCAN clustering algorithm, what are the points colored in black?\n",
    "\n",
    "::::"
   ]
  },
  {
   "cell_type": "markdown",
   "id": "e27d5792",
   "metadata": {
    "deletable": false,
    "nbgrader": {
     "cell_type": "markdown",
     "checksum": "2fdeed43c7fc68c1d92a530d0844dbac",
     "grade": true,
     "grade_id": "black",
     "locked": false,
     "points": 1,
     "schema_version": 3,
     "solution": true,
     "task": false
    }
   },
   "source": [
    "YOUR ANSWER HERE"
   ]
  },
  {
   "cell_type": "markdown",
   "id": "40a9861b",
   "metadata": {},
   "source": [
    "For each data point, we can calculate the [local outlier factor (LOF)](https://en.wikipedia.org/wiki/Local_outlier_factor), which quantifies how much a point is locally an outlier using the reachability distance:"
   ]
  },
  {
   "cell_type": "code",
   "execution_count": null,
   "id": "13b7c66e",
   "metadata": {},
   "outputs": [],
   "source": [
    "lof <- lof(x, minPts=5)\n",
    "pairs(x, cex = lof) # ploting the points scaled relative to the LOF score."
   ]
  },
  {
   "cell_type": "markdown",
   "id": "e4373c4a",
   "metadata": {},
   "source": [
    "When calculating the Local Outlier Factor (LOF), the reachability distances are used to estimate the local density of a point compared to the local densities of its neighbors. If a point’s local density is significantly lower than that of its neighbors, it implies that the point is more isolated and therefore likely to be an outlier. In other words, a higher reachability distance indicates that the point is further away from its neighbors, signaling that it is an outlier relative to the local neighborhood."
   ]
  },
  {
   "cell_type": "markdown",
   "id": "0a670849",
   "metadata": {},
   "source": [
    "## OPTICS"
   ]
  },
  {
   "cell_type": "markdown",
   "id": "f4a19d6a",
   "metadata": {},
   "source": [
    "The Ordering Points To Identify the Clustering Structure (OPTICS) algorithm is implemented by the function `optics`:"
   ]
  },
  {
   "cell_type": "code",
   "execution_count": null,
   "id": "28c1131c",
   "metadata": {
    "tags": [
     "output_scroll"
    ]
   },
   "outputs": [],
   "source": [
    "?optics"
   ]
  },
  {
   "cell_type": "markdown",
   "id": "d8213d1d",
   "metadata": {},
   "source": [
    "To apply the OPTICS algorithm with parameters $\\varepsilon = 1$ (maximum radius of the neighborhood) and $\\text{minPts} = 4$ (minimum number of points required in the neighborhood to compute the density or core distance):"
   ]
  },
  {
   "cell_type": "code",
   "execution_count": null,
   "id": "39d2f8d0",
   "metadata": {},
   "outputs": [],
   "source": [
    "opt <- optics(x, eps=1, minPts = 4)\n",
    "plot(opt)\n",
    "opt"
   ]
  },
  {
   "cell_type": "markdown",
   "id": "fad0ba2f",
   "metadata": {},
   "source": [
    "To identify clusters, we can apply a threshold, for instance, 0.3, to the reachability distance. A valley of points with a reachability distance below this threshold are considered to be a cluster:"
   ]
  },
  {
   "cell_type": "code",
   "execution_count": null,
   "id": "fa21b8ed",
   "metadata": {},
   "outputs": [],
   "source": [
    "opt <- extractDBSCAN(opt, eps_cl = .3)\n",
    "plot(opt)"
   ]
  },
  {
   "cell_type": "markdown",
   "id": "145938ea",
   "metadata": {},
   "source": [
    "Another method to identify identify cluster boundaries is use the minimum steepness, i.e., the minimum rate of change in reachability distance. This approach contrasts with simply applying a fixed threshold to the reachability distance, which may not capture more subtle, context-dependent boundaries. To utilize the minimum steepness method, we can call the `extractXi` function instead of `extractDBSCAN`."
   ]
  },
  {
   "cell_type": "markdown",
   "id": "20f12f9a",
   "metadata": {
    "deletable": false,
    "editable": false,
    "nbgrader": {
     "cell_type": "markdown",
     "checksum": "4a990738afbbb42fb565f3a5171da194",
     "grade": false,
     "grade_id": "task-extractXi",
     "locked": true,
     "points": 1,
     "schema_version": 3,
     "solution": false,
     "task": true
    }
   },
   "source": [
    "::::{exercise}\n",
    ":label: ex:2\n",
    "\n",
    "Use the minimum steepness to identify the cluster boundaries. You can call `extractXi` with your choice of parameters and assign the updated solution to `opt`.\n",
    "\n",
    "::::"
   ]
  },
  {
   "cell_type": "code",
   "execution_count": null,
   "id": "84ebcc19",
   "metadata": {
    "deletable": false,
    "nbgrader": {
     "cell_type": "code",
     "checksum": "4a02523877110d20dabdb721ecfaf233",
     "grade": false,
     "grade_id": "extractXi",
     "locked": false,
     "schema_version": 3,
     "solution": true,
     "task": false
    },
    "tags": [
     "remove-output"
    ]
   },
   "outputs": [],
   "source": [
    "# YOUR CODE HERE\n",
    "stop(\"Not implemented yet\")\n",
    "plot(opt)\n",
    "hullplot(x,opt)\n",
    "opt"
   ]
  }
 ],
 "metadata": {
  "kernelspec": {
   "display_name": "R",
   "language": "R",
   "name": "ir"
  }
 },
 "nbformat": 4,
 "nbformat_minor": 5
}
