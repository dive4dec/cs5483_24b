{
 "cells": [
  {
   "cell_type": "markdown",
   "id": "550442dc",
   "metadata": {},
   "source": [
    "---\n",
    "title: Project 2\n",
    "bibliography:\n",
    "  - myref.bib\n",
    "---"
   ]
  },
  {
   "cell_type": "code",
   "execution_count": null,
   "id": "03dd1804",
   "metadata": {},
   "outputs": [],
   "source": [
    "import os\n",
    "\n",
    "if not os.getenv(\n",
    "    \"NBGRADER_EXECUTION\"\n",
    "):\n",
    "    %load_ext jupyter_ai\n",
    "    %ai update chatgpt dive:chat\n",
    "    # %ai update chatgpt dive-azure:gpt4o"
   ]
  },
  {
   "cell_type": "markdown",
   "id": "93eba8a4",
   "metadata": {
    "editable": true,
    "slideshow": {
     "slide_type": ""
    }
   },
   "source": [
    "## Requirements"
   ]
  },
  {
   "cell_type": "markdown",
   "id": "7e015b5c",
   "metadata": {
    "editable": true,
    "slideshow": {
     "slide_type": ""
    }
   },
   "source": [
    "Project 2 is a group project where each group should identify a relevant topic that involves all the following elements:\n",
    "\n",
    "1. An objective that involves extracting knowledge from a real-world dataset.\n",
    "2. A data preprocessing step that prepares the data for mining.\n",
    "3. A learning algorithm that extracts knowledge from the data.\n",
    "4. An evaluation of the mined knowledge.\n",
    "\n",
    "::::{caution}\n",
    "\n",
    "The project may be used in a data-mining competition, but previously completed projects should not be reused. Take proper measures to avoid any suspicion of (self-)plagiarism. \n",
    "\n",
    "::::"
   ]
  },
  {
   "cell_type": "markdown",
   "id": "786983fb",
   "metadata": {
    "editable": true,
    "slideshow": {
     "slide_type": ""
    }
   },
   "source": [
    "There are several tasks associated with Project 2:\n",
    "\n",
    "1. **Presentation video**: Submit one 15-minute video per group to the [Group presentation assignment](https://canvas.cityu.edu.hk/courses/62414/assignments/279414) on Canvas.\n",
    "2. **Peer Reviews of Group Presentations**: Each student will be assigned 3 group presentations to review from the [Group presentation assignment](https://canvas.cityu.edu.hk/courses/62414/assignments/279414) on Canvas.\n",
    "3. **Report**: Submit one report per group to the [Group report assignment](https://canvas.cityu.edu.hk/courses/62414/assignments/275136) on Canvas.\n",
    "\n",
    "::::{caution}\n",
    "\n",
    "The submission deadlines are different for the different tasks above. See the Canvas assignment page for more details on the specific requirements.\n",
    "\n",
    "::::"
   ]
  },
  {
   "cell_type": "markdown",
   "id": "c3ac3fe4",
   "metadata": {},
   "source": [
    "The project is worth 15 points, which accounts for 15% of the entire course assessment. The assessment is divided into 5 categories, each of which is scored on a scale of 0-3 points:\n",
    "\n",
    "- **3**: Excellent\n",
    "- **2**: Satisfactory\n",
    "- **1**: Unsatisfactory\n",
    "- **0**: Incomplete"
   ]
  },
  {
   "cell_type": "markdown",
   "id": "7c90c080",
   "metadata": {
    "editable": true,
    "slideshow": {
     "slide_type": ""
    }
   },
   "source": [
    ":::::{admonition} Rubrics\n",
    "\n",
    "1. **Presentation** (3 points)\n",
    "\n",
    "   - Is the problem well formulated and motivated?\n",
    "   - Is there proper use of visualization techniques to convey the results concisely within the time limit?\n",
    "   - Are questions from the audience addressed well?\n",
    "\n",
    "2. **Report** (3 points)\n",
    "   - Does the report contain the essential elements such as the title, abstract, introduction, conclusion, and references?\n",
    "   - Are the problem and results described clearly with proper citations?  \n",
    "   - Are the results reproducible by well-documented code?  \n",
    "\n",
    "3. **Correctness** (3 points)\n",
    "   - Does the project contain the required elements?\n",
    "   - Are the results correct?\n",
    "   - Are the learning process and evaluation methods appropriate, leading to correct results?\n",
    "\n",
    "4. **Technical elements** (3 points)\n",
    "   - How sophisticated are the techniques used for preprocessing, learning, and evaluation?\n",
    "   - Is the quality of the mined knowledge better than existing ones?\n",
    "   - Are there meaningful generalizations to related classes of problems?\n",
    "\n",
    "5. **Team spirit** (3 points)\n",
    "   - Can the team challenge other teams successfully for the group presentation?\n",
    "   - Can the team members work together efficiently?\n",
    "   - Is the workload evenly divided among members?\n",
    "\n",
    ":::::"
   ]
  },
  {
   "cell_type": "markdown",
   "id": "762e90f6",
   "metadata": {
    "editable": true,
    "slideshow": {
     "slide_type": ""
    }
   },
   "source": [
    "## Data Sources"
   ]
  },
  {
   "cell_type": "markdown",
   "id": "78c02c91",
   "metadata": {
    "editable": true,
    "slideshow": {
     "slide_type": ""
    }
   },
   "source": [
    "Here are some websites that provide trustworthy real-world datasets:\n",
    "\n",
    "::::{tip} Recommended sources of data\n",
    "\n",
    "- [UNICEF Data](https://data.unicef.org/): Offers comprehensive data on the well-being of children around the world.\n",
    "- [World Bank Open Data](https://data.worldbank.org/): Grants free and open access to global development data.\n",
    "- [Data.gov.hk](https://data.gov.hk/): Hosts open government data in Hong Kong, similar to [Data.gov](https://www.data.gov/) for the US.\n",
    "- [Eurostat](https://ec.europa.eu/eurostat): Provides statistical data on Europe, covering a wide range of topics from economy to environment.\n",
    "- [Challenge Data](https://challengedata.ens.fr/): Features data mining challenges from data provided by public services, companies and laboratories.\n",
    "\n",
    "::::"
   ]
  },
  {
   "cell_type": "markdown",
   "id": "1d689d4f",
   "metadata": {},
   "source": [
    "The following sources of data are widely popular, but their datasets may be synthetic or heavily studied. If you plan to use datasets from these sources, you will need to put extra effort into the following aspects:\n",
    "\n",
    "1. Verify the dataset’s authenticity by citing trustworthy and original sources properly.\n",
    "2. Clearly differentiate your approach and results from existing works."
   ]
  },
  {
   "cell_type": "markdown",
   "id": "ac635c4b",
   "metadata": {},
   "source": [
    "::::{caution} Sources to use with caution\n",
    "\n",
    "- [UCI Machine Learning Repository](https://archive.ics.uci.edu/): Provides a wide range of machine learning datasets for educational and research purposes. However, be aware that many of these datasets have been extensively studied.\n",
    "- [Kaggle](https://www.kaggle.com/datasets): Offers a diverse array of datasets for practicing data mining. Be cautious, as some datasets may be synthetic or lack proper references, and there are often hundreds of submitted solutions in the form of Jupyter notebooks.\n",
    "- [OpenML](https://www.openml.org/): Facilitates the easy sharing and discovery of datasets, algorithms, and experiments. However, some datasets may be synthetic or lack proper references.\n",
    "\n",
    "::::"
   ]
  },
  {
   "cell_type": "markdown",
   "id": "d88ebd26",
   "metadata": {
    "editable": true,
    "slideshow": {
     "slide_type": ""
    }
   },
   "source": [
    "There are many other ways to look for reliable data sources. For instance, you might try [Google Dataset Search](https://datasetsearch.research.google.com/) to find datasets, and large language models (LLMs) to provide concrete examples."
   ]
  },
  {
   "cell_type": "code",
   "execution_count": null,
   "id": "9d182038",
   "metadata": {},
   "outputs": [],
   "source": [
    "%%ai chatgpt -f markdown\n",
    "I am doing a group project in a data mining course. Explain how I can find\n",
    "a good real-world dataset and the corresponding data mining objective? Give me\n",
    "a list of 10 examples. (Do not use any headers in your reply.)"
   ]
  },
  {
   "cell_type": "markdown",
   "id": "8b0aa192",
   "metadata": {},
   "source": [
    "## Group Server"
   ]
  },
  {
   "cell_type": "markdown",
   "id": "46936286",
   "metadata": {},
   "source": [
    "Members of the same group can collaboratively work on the same notebook using a group (Jupyter) server that have higher resource limits than the individual user servers:\n",
    "\n",
    "- Storage: 100GB\n",
    "- Memory: 100GB\n",
    "- CPU: 32 cores for default servers without GPU, 8 cores for GPU servers\n",
    "- GPU: 48GB for GPU servers"
   ]
  },
  {
   "cell_type": "markdown",
   "id": "c6da60aa",
   "metadata": {},
   "source": [
    "Group servers also run JupyterLab in collaborative mode, which provides real-time collaboration features, allowing multiple users to see each other and work on the same notebook simultaneously. For more details, see [](#fig:collab) and the [`jupyterlab-collaboration` package](https://jupyterlab-realtime-collaboration.readthedocs.io/en/latest/)."
   ]
  },
  {
   "cell_type": "markdown",
   "id": "b70eca1c",
   "metadata": {},
   "source": [
    ":::::{figure} images/collab.dio.svg\n",
    ":label: fig:collab\n",
    ":alt: Collaborative mode\n",
    ":align: left\n",
    "\n",
    "Collaborative mode in JupyterLab.\n",
    ":::::"
   ]
  },
  {
   "cell_type": "markdown",
   "id": "0cc3292b",
   "metadata": {},
   "source": [
    "To access and manage the group server:\n",
    "\n",
    "1. **Access the Hub Control Panel:**\n",
    "\n",
    "   - Within the JupyterLab interface, click `File->Hub Control Panel`.\n",
    "\n",
    "3. **Select the Admin Panel:**\n",
    "\n",
    "   - In the top navigation bar of the Hub Control Panel, select the `Admin` Panel as shown in [](#fig:admin).\n",
    "\n",
    "5. **Locate the Group User:**\n",
    "\n",
    "   - Within the Admin Panel, look for the user named `group{n}`, where `{n}` corresponds to the group number.\n",
    "\n",
    "7. **Manage the Group Server:**\n",
    "    - **If the group server has not started:**\n",
    "        - Click the action button labeled <kbd>Spawn Page</kbd> to select the server options with higher resource limits.\n",
    "        - If you click the action button labeled <kbd>Start Server</kbd>, the server will start with lower resource limits that apply to individual user servers.\n",
    "    - **If the group server is already running:**\n",
    "        - Click the action button labeled <kbd>Access Server</kbd> to access the currently running server.\n",
    "        - If necessary, click the action button labeled <kbd>Stop Server</kbd> to terminate the existing server."
   ]
  },
  {
   "cell_type": "markdown",
   "id": "de58c48f",
   "metadata": {},
   "source": [
    ":::::{figure} images/admin.dio.svg\n",
    ":label: fig:admin\n",
    ":alt: Admin panel\n",
    ":align: left\n",
    "\n",
    "Admin panel for managing group server.\n",
    ":::::"
   ]
  },
  {
   "cell_type": "markdown",
   "id": "672d36fc",
   "metadata": {},
   "source": [
    "::::{seealso}\n",
    "\n",
    "Members can also collaborate on their individual Jupyter servers using the [Live Share extension](https://marketplace.visualstudio.com/items?itemName=MS-vsliveshare.vsliveshare) installed in the VSCode interface. Signing in with a GitHub or Microsoft account is required.\n",
    "\n",
    "::::"
   ]
  },
  {
   "cell_type": "markdown",
   "id": "72b70784",
   "metadata": {},
   "source": [
    "To facilitates file transfer and sharing among members, each member of a project group can access the group home directory from their individual user servers:\n",
    "\n",
    "- **Accessing from a terminal**:\n",
    "    - Members can access the group home directory by navigating to the mounted path in a terminal app in JupyterLab or VSCode interface.\n",
    "    - For example, if the group is group0, they can use the following command in the terminal:\n",
    "      ```bash\n",
    "      cd /group0\n",
    "      ```\n",
    "- **Accessing via a soft link**\n",
    "    - To make it easier to access the group home directory from the JupyterLab file explorer, members can create a soft link.\n",
    "    - This can be done using the ln -s command. For example, if the group is `group1`, they can create a soft link named `group_home` in the user home directory:\n",
    "      ```bash\n",
    "      ln -s /group1 ~/group_home\n",
    "      ```\n",
    "      Refresh the file browser to see the `group_home` folder in the JupyterLab file explorer as shown in [](#group_home)."
   ]
  },
  {
   "cell_type": "markdown",
   "id": "fdd263f7",
   "metadata": {},
   "source": [
    ":::::{figure} images/group_home.dio.svg\n",
    ":label: fig:group_home\n",
    ":alt: Group home directory\n",
    ":align: left\n",
    "\n",
    "Group home directory mounted in member server.\n",
    ":::::"
   ]
  },
  {
   "cell_type": "markdown",
   "id": "5c3fbcf4",
   "metadata": {},
   "source": [
    "::::{caution}\n",
    "\n",
    "It is important to note that multiple users editing the same file can potentially cause data loss or conflicts. To mitigate this risk, you should use version control systems like Git to manage their changes and collaborate more effectively: \n",
    "\n",
    "- The `jupyterlab-git` extension provides a graphical interface for Git within JupyterLab.\n",
    "- VSCode interface has Git-related extensions  such as `GitLens`.\n",
    "\n",
    "::::"
   ]
  },
  {
   "cell_type": "markdown",
   "id": "1d956443",
   "metadata": {},
   "source": [
    "## Custom Packages"
   ]
  },
  {
   "cell_type": "markdown",
   "id": "4176304b",
   "metadata": {},
   "source": [
    "To ensure the reproducibility of your results, you are required to *use programming instead of the WEKA graphical interface* to complete the project. Specifically, you can access WEKA’s tools through the `python-weka-wrapper3` module, which allows you to use Python instead of Java. You can also install additional packages using the commands \n",
    "\n",
    "- [`conda install`](https://docs.conda.io/projects/conda/en/stable/commands/install.html), if the package is available on [Anaconda](https://anaconda.org/), or\n",
    "- [`pip install`](https://packaging.python.org/en/latest/tutorials/installing-packages/), if the package is available on [PyPI](https://pypi.org/search/)."
   ]
  },
  {
   "cell_type": "code",
   "execution_count": null,
   "id": "598a377c",
   "metadata": {},
   "outputs": [],
   "source": [
    "%%ai chatgpt -f text\n",
    "What are the pros and cons of conda install vs pip install?"
   ]
  },
  {
   "cell_type": "markdown",
   "id": "34d8c463",
   "metadata": {},
   "source": [
    "The installation might not persist after restarting the Jupyter server because the default environment is not saved permanently. To keep the installation, create a conda environment in your home directory, which will be saved permanently."
   ]
  },
  {
   "cell_type": "markdown",
   "id": "0a6d75f4",
   "metadata": {},
   "source": [
    "For instance, if you would like to use `xgboost` and `python-weka-wrapper3` in the same notebook, run the following to create a conda environment:[^conda]\n",
    "\n",
    "```bash\n",
    "myenv=myenvname\n",
    "cat <<EOF > /tmp/myenv.yaml && mamba env create -n \"${myenv}\" -f /tmp/myenv.yaml\n",
    "dependencies:\n",
    "  - python=3.11\n",
    "  - pip\n",
    "  - ipykernel\n",
    "  - xgboost\n",
    "  - pip:\n",
    "    - python-weka-wrapper3\n",
    "EOF\n",
    "```\n",
    "\n",
    "where `myenvname` can be any valid environment name.\n",
    "\n",
    "[^conda]: See the [documentation](https://docs.conda.io/projects/conda/en/latest/user-guide/tasks/manage-environments.html) for more details on managing conda environment."
   ]
  },
  {
   "cell_type": "markdown",
   "id": "a38b6ec2",
   "metadata": {},
   "source": [
    "Afterwards, you can create a kernel using the command:[^kernel]\n",
    "\n",
    "```bash\n",
    "conda activate ${myenv}\n",
    "python -m ipykernel install \\\n",
    "    --user \\\n",
    "    --name \"${myenv}\" --display-name \"${myenv}\"\n",
    "```\n",
    "\n",
    "[^kernel]: See the [documentation](https://ipython.readthedocs.io/en/stable/install/kernel_install.html#kernels-for-different-environments) for more details on creating kernels for conda environments."
   ]
  },
  {
   "cell_type": "markdown",
   "id": "a7dc9679",
   "metadata": {},
   "source": [
    "Reload the browser window for the kernel to take effect."
   ]
  },
  {
   "cell_type": "markdown",
   "id": "abec4fd4",
   "metadata": {},
   "source": [
    "::::{tip} How to clean up a conda environment?\n",
    "\n",
    "To deactivate the conda environment in a terminal, run\n",
    "\n",
    "```bash\n",
    "conda deactivate\n",
    "```\n",
    "\n",
    "To delete the kernel, run the command\n",
    "\n",
    "```bash\n",
    "rm -rf ~/.local/share/jupyter/kernels/${myenv}\n",
    "```\n",
    "\n",
    "To delete the conda environment, run\n",
    "\n",
    "```bash\n",
    "conda deactivate\n",
    "mamba env remove -n ${myenv}\n",
    "```\n",
    "\n",
    "::::"
   ]
  },
  {
   "cell_type": "code",
   "execution_count": null,
   "id": "2a914949",
   "metadata": {},
   "outputs": [],
   "source": [
    "%%ai chatgpt -f text\n",
    "How to create a conda environment that inherit all the packages from the base\n",
    "environment? Will this take a long time and create duplicate files?"
   ]
  }
 ],
 "metadata": {
  "kernelspec": {
   "display_name": "Python 3 (ipykernel)",
   "language": "python",
   "name": "python3"
  }
 },
 "nbformat": 4,
 "nbformat_minor": 5
}
