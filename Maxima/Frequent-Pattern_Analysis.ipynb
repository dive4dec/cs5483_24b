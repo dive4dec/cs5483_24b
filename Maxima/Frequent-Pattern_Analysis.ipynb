{
 "cells": [
  {
   "cell_type": "markdown",
   "id": "5e11fe92",
   "metadata": {},
   "source": [
    "---\n",
    "title: Frequent-Pattern Analysis\n",
    "---"
   ]
  },
  {
   "cell_type": "code",
   "execution_count": null,
   "id": "a2a1c60d",
   "metadata": {},
   "outputs": [],
   "source": [
    "load(\"datamining.mac\")$"
   ]
  },
  {
   "cell_type": "markdown",
   "id": "30e01a24",
   "metadata": {},
   "source": [
    "## Apriori algorithm"
   ]
  },
  {
   "cell_type": "markdown",
   "id": "7d2412b2",
   "metadata": {},
   "source": [
    "### Transactional data"
   ]
  },
  {
   "cell_type": "markdown",
   "id": "832898e5",
   "metadata": {},
   "source": [
    "A transactional data set is a list of transactions in the form of subsets of items purchased. `all_items(data)` returns the list of all items in a transactional data set `data`."
   ]
  },
  {
   "cell_type": "code",
   "execution_count": null,
   "id": "a2cd5db3",
   "metadata": {},
   "outputs": [],
   "source": [
    "block(\n",
    "    [\n",
    "        data: [\n",
    "            {    3,2,1},\n",
    "            {    3,2,1},\n",
    "            {  4,  2,1},\n",
    "            {  4,  2,1},\n",
    "            {5,  3,  1}\n",
    "        ]\n",
    "    ],\n",
    "    all_items(data)\n",
    ");"
   ]
  },
  {
   "cell_type": "markdown",
   "id": "e947dbe5",
   "metadata": {},
   "source": [
    "### Frequent itemsets"
   ]
  },
  {
   "cell_type": "markdown",
   "id": "70365a41",
   "metadata": {},
   "source": [
    "The support count of an item set (a set of items) is the number of transactions that contain all items in the item set:"
   ]
  },
  {
   "cell_type": "code",
   "execution_count": null,
   "id": "c3700147",
   "metadata": {},
   "outputs": [],
   "source": [
    "support_count('data, 'A);"
   ]
  },
  {
   "cell_type": "markdown",
   "id": "4ee78814",
   "metadata": {},
   "source": [
    "where $\\chi(p)$ is the indicator function of the predicate $p$, and `subsetp(A, T)` returns true iff `A` is a subset of `T`:"
   ]
  },
  {
   "cell_type": "code",
   "execution_count": null,
   "id": "a3b7d35f",
   "metadata": {},
   "outputs": [],
   "source": [
    "chi('p);"
   ]
  },
  {
   "cell_type": "code",
   "execution_count": null,
   "id": "648a8590",
   "metadata": {},
   "outputs": [],
   "source": [
    "describe(subsetp)$"
   ]
  },
  {
   "cell_type": "markdown",
   "id": "3f6d6285",
   "metadata": {},
   "source": [
    "`support_counts(data, C)` returns the list of `[A,c]` where `A` is an itemset in `C`, and `c` is the support count."
   ]
  },
  {
   "cell_type": "code",
   "execution_count": null,
   "id": "49cf64c8",
   "metadata": {},
   "outputs": [],
   "source": [
    "block(\n",
    "    [\n",
    "        data: [\n",
    "            {    3,2,1},\n",
    "            {    3,2,1},\n",
    "            {  4,  2,1},\n",
    "            {  4,  2,1},\n",
    "            {5,  3,  1}\n",
    "        ],\n",
    "        C\n",
    "    ],\n",
    "    C: makelist({i},i,all_items(data)),\n",
    "    support_counts(data, C)\n",
    ");"
   ]
  },
  {
   "cell_type": "markdown",
   "id": "77b0c44b",
   "metadata": {},
   "source": [
    "`frequent_itemsets(C, min_sup)` filters the list of `[A,c]` to remove itemsets `A` with count `c` strictly below `min_sup`."
   ]
  },
  {
   "cell_type": "code",
   "execution_count": null,
   "id": "e67b82ba",
   "metadata": {},
   "outputs": [],
   "source": [
    "block(\n",
    "    [\n",
    "        data: [\n",
    "            {    3,2,1},\n",
    "            {    3,2,1},\n",
    "            {  4,  2,1},\n",
    "            {  4,  2,1},\n",
    "            {5,  3,  1}\n",
    "        ],\n",
    "        min_sup:2,\n",
    "        C\n",
    "    ],\n",
    "    C: support_counts(data, makelist({i},i,all_items(data))),\n",
    "    frequent_itemsets(C, min_sup)\n",
    ");"
   ]
  },
  {
   "cell_type": "markdown",
   "id": "a4e2c3f7",
   "metadata": {},
   "source": [
    "### Frequent $1$-itemsets"
   ]
  },
  {
   "cell_type": "markdown",
   "id": "543fc27c",
   "metadata": {},
   "source": [
    "`apriori1(data, min_sup)` implements the apriori algorithm to generate the frequent 1-itemsets of `data` with support counts at least `min_sup`."
   ]
  },
  {
   "cell_type": "code",
   "execution_count": null,
   "id": "3c36f8eb",
   "metadata": {},
   "outputs": [],
   "source": [
    "block(\n",
    "    [\n",
    "        data: [\n",
    "            {    3,2,1},\n",
    "            {    3,2,1},\n",
    "            {  4,  2,1},\n",
    "            {  4,  2,1},\n",
    "            {5,  3,  1}\n",
    "        ],\n",
    "        min_sup:2\n",
    "    ],\n",
    "    apriori1(data, min_sup)\n",
    ");"
   ]
  },
  {
   "cell_type": "markdown",
   "id": "2092d8ee",
   "metadata": {},
   "source": [
    "### Frequent $k$-itemsets"
   ]
  },
  {
   "cell_type": "markdown",
   "id": "e5ecced3",
   "metadata": {},
   "source": [
    "Given a transactional data set `data` and a list `L` of frequent $(k-1)$-itemsets with $k>1$, `apriorik(data, L, min_sup)` generates the list of `[A,c]` where `A` is a frequent $k$-itemset of `data` with support count `c` at least `min_sup`."
   ]
  },
  {
   "cell_type": "code",
   "execution_count": null,
   "id": "0912e7f2",
   "metadata": {},
   "outputs": [],
   "source": [
    "block(\n",
    "    [\n",
    "        data: [\n",
    "            {    3,2,1},\n",
    "            {    3,2,1},\n",
    "            {  4,  2,1},\n",
    "            {  4,  2,1},\n",
    "            {5,  3,  1}\n",
    "        ],\n",
    "        min_sup:2,\n",
    "        L_1\n",
    "    ],\n",
    "    L_1: apriori1(data, min_sup),\n",
    "    L_2: apriorik(data, L_1, min_sup),\n",
    "    L_3: apriorik(data, L_2, min_sup),\n",
    "    map(lambda([k, L], build_data_from_list([sconcat(k,\"-itemset\"), \"count\"], L)), [2, 3], [L_2, L_3])\n",
    ");"
   ]
  },
  {
   "cell_type": "markdown",
   "id": "2f67094a",
   "metadata": {},
   "source": [
    "`apriori(data, min_sup)` generates the list of frequent $k$-itemsets for $k$ from $1$ until there are no more frequent itemsets."
   ]
  },
  {
   "cell_type": "code",
   "execution_count": null,
   "id": "92bd44ca",
   "metadata": {},
   "outputs": [],
   "source": [
    "block(\n",
    "    [\n",
    "        data: [\n",
    "            {    3,2,1},\n",
    "            {    3,2,1},\n",
    "            {  4,  2,1},\n",
    "            {  4,  2,1},\n",
    "            {5,  3,  1}\n",
    "        ],\n",
    "        min_sup:2,\n",
    "        L\n",
    "    ],\n",
    "    L:apriori(data, min_sup),\n",
    "    makelist(build_data_from_list([sconcat(length(Lk[1][1]),\"-itemset\"), \"count\"], Lk), Lk, L)\n",
    ");"
   ]
  },
  {
   "cell_type": "markdown",
   "id": "f8113efe",
   "metadata": {},
   "source": [
    "### Join and prune steps"
   ]
  },
  {
   "cell_type": "markdown",
   "id": "022b0dad",
   "metadata": {},
   "source": [
    "`apriori_join` and `apriori_prune` implement the join and prune steps, respectively:"
   ]
  },
  {
   "cell_type": "code",
   "execution_count": null,
   "id": "81aea5af",
   "metadata": {},
   "outputs": [],
   "source": [
    "block(\n",
    "    [\n",
    "        data: [\n",
    "            {    3,2,1},\n",
    "            {    3,2,1},\n",
    "            {  4,  2,1},\n",
    "            {  4,  2,1},\n",
    "            {5,  3,  1}\n",
    "        ],\n",
    "        min_sup:2,\n",
    "        L_1\n",
    "    ],\n",
    "    L_1: apriori1(data, min_sup),\n",
    "    L_2: apriorik(data, L_1, min_sup),\n",
    "    C:apriori_join(data, L_2),\n",
    "    [C, apriori_prune(data, C, setify(map(first,L_2)))]\n",
    ");"
   ]
  },
  {
   "cell_type": "markdown",
   "id": "888f7ea2",
   "metadata": {},
   "source": [
    "## Association rule mining"
   ]
  },
  {
   "cell_type": "markdown",
   "id": "0ebad1c1",
   "metadata": {},
   "source": [
    "### Association rules"
   ]
  },
  {
   "cell_type": "markdown",
   "id": "523ad151",
   "metadata": {},
   "source": [
    "An association rule can be created as follows:"
   ]
  },
  {
   "cell_type": "code",
   "execution_count": null,
   "id": "f301c687",
   "metadata": {},
   "outputs": [],
   "source": [
    "block(\n",
    "    [\n",
    "        R:ar('A,'B)\n",
    "    ],\n",
    "    build_data_from_list(\n",
    "        [\"rule\", \"antecedent\", \"consequence\"],\n",
    "        [[R, ar_A(R), ar_B(R)]]\n",
    "    )\n",
    ");"
   ]
  },
  {
   "cell_type": "markdown",
   "id": "03fb6d66",
   "metadata": {},
   "source": [
    "- `ar(A,B)` creates an association rule `(A ⇒ B)`.\n",
    "- `ar_A(R)` returns the itemset associated with the antecedent of `R`.\n",
    "- `ar_B(R)` returns the itemset associated with the consequence of `R`."
   ]
  },
  {
   "cell_type": "markdown",
   "id": "330c38c1",
   "metadata": {},
   "source": [
    "### Rule qualities"
   ]
  },
  {
   "cell_type": "markdown",
   "id": "599046be",
   "metadata": {},
   "source": [
    "The following computes various qualities of an association rule from transaction data:"
   ]
  },
  {
   "cell_type": "code",
   "execution_count": null,
   "id": "2767a4ba",
   "metadata": {},
   "outputs": [],
   "source": [
    "block(\n",
    "    [\n",
    "        data: [\n",
    "            {    3,2,1},\n",
    "            {    3,2,1},\n",
    "            {  4,  2,1},\n",
    "            {  4,  2,1},\n",
    "            {5,  3,  1}\n",
    "        ],\n",
    "        min_sup:2,\n",
    "        R: ar({1,2},{3})\n",
    "    ],\n",
    "    [coverage(data, R), support(data, R), confidence(data, R), prior(data, R), lift(data, R)] \n",
    ");"
   ]
  },
  {
   "cell_type": "markdown",
   "id": "7c3f7f9a",
   "metadata": {},
   "source": [
    "### Support-confidence framework"
   ]
  },
  {
   "cell_type": "markdown",
   "id": "c730ff09",
   "metadata": {},
   "source": [
    "Association rules can be generated using the support-confidence framework as follows:"
   ]
  },
  {
   "cell_type": "code",
   "execution_count": null,
   "id": "a43bff23",
   "metadata": {},
   "outputs": [],
   "source": [
    "block(\n",
    "    [\n",
    "        data: [\n",
    "            {    3,2,1},\n",
    "            {    3,2,1},\n",
    "            {  4,  2,1},\n",
    "            {  4,  2,1},\n",
    "            {5,  3,  1}\n",
    "        ],\n",
    "        c:6/10, s:4/10\n",
    "    ],\n",
    "    lst:support_confidence_framework(data, s, c),\n",
    "    build_data_from_list(\n",
    "        [\"rule\", \"coverage\", \"support\", \"confidence\", \"prior\", \"lift\"],\n",
    "        sort(\n",
    "            lst, \n",
    "            lambda([a,b], a[4]>b[4] or (a[4]=b[4] and a[6]>b[6])) /* descending order in (confidence, lift) */\n",
    "        )\n",
    "    )\n",
    ");"
   ]
  },
  {
   "cell_type": "markdown",
   "id": "9516663b",
   "metadata": {},
   "source": [
    "## Data cube computation"
   ]
  },
  {
   "cell_type": "markdown",
   "id": "6eb4e0cb",
   "metadata": {},
   "source": [
    "### Bottom-up construction"
   ]
  },
  {
   "cell_type": "markdown",
   "id": "c62fa425",
   "metadata": {},
   "source": [
    "`BUC(data, dims, fact, min_val)` implements the bottom-up construction of the iceberg cube where\n",
    "- `data` is the base cuboid,\n",
    "- `dims` is the names of the dimensions,\n",
    "- `fact` is the name of the fact, and \n",
    "- `min_val` being the minimum value of fact required by the iceberg condition."
   ]
  },
  {
   "cell_type": "code",
   "execution_count": null,
   "id": "3558d14f",
   "metadata": {},
   "outputs": [],
   "source": [
    "block(\n",
    "    [\n",
    "        fns: ['A, 'B, 'C, \"fact\"],\n",
    "        lst: [\n",
    "            ['a_2, 'b_2, 'c_2, 1],\n",
    "            ['a_1, 'b_2, 'c_1, 1],\n",
    "            ['a_2, 'b_2, 'c_1, 1],\n",
    "            ['a_1, 'b_1, 'c_1, 1]\n",
    "        ],\n",
    "        dims, fact, data\n",
    "    ],\n",
    "    dims: rest(fns,-1),\n",
    "    fact: last(fns),\n",
    "    data: build_data_from_list(fns, lst),\n",
    "    BUC(data, dims, fact, 2)\n",
    ");"
   ]
  }
 ],
 "metadata": {
  "kernelspec": {
   "display_name": "Maxima",
   "language": "maxima",
   "name": "maxima"
  }
 },
 "nbformat": 4,
 "nbformat_minor": 5
}
