{
 "cells": [
  {
   "cell_type": "markdown",
   "id": "4ae9808a",
   "metadata": {},
   "source": [
    "---\n",
    "title: Data Generation\n",
    "---"
   ]
  },
  {
   "cell_type": "markdown",
   "id": "65179adf",
   "metadata": {},
   "source": [
    "## Introduction"
   ]
  },
  {
   "cell_type": "markdown",
   "id": "d31acc10",
   "metadata": {},
   "source": [
    "This notebook demonstrates the data mining package written in Maxima, which is helpful for\n",
    "\n",
    "- computing some mathematical criteria precisely without numerical error/instability, and\n",
    "- creating randomized moodle stack questions. \n",
    "\n",
    "The implementations are simplified and may not be scalable to large data sets."
   ]
  },
  {
   "cell_type": "markdown",
   "id": "90636080",
   "metadata": {},
   "source": [
    "To load the package, run the following cell:"
   ]
  },
  {
   "cell_type": "code",
   "execution_count": null,
   "id": "fdbfc76d",
   "metadata": {},
   "outputs": [],
   "source": [
    "load(\"datamining.mac\")$"
   ]
  },
  {
   "cell_type": "markdown",
   "id": "4c777ee5",
   "metadata": {},
   "source": [
    "To learn Maxima, you may use the `describe` function or refer to the [documentation](https://maxima.sourceforge.io/documentation.html) for more details:"
   ]
  },
  {
   "cell_type": "code",
   "execution_count": null,
   "id": "b20ddfdf",
   "metadata": {
    "tags": [
     "remove-output"
    ]
   },
   "outputs": [],
   "source": [
    "describe(block)$"
   ]
  },
  {
   "cell_type": "markdown",
   "id": "8f0c0dbf",
   "metadata": {},
   "source": [
    "As an example, the following defines a function that computes the maxima of its arguments:"
   ]
  },
  {
   "cell_type": "code",
   "execution_count": null,
   "id": "f601cc66",
   "metadata": {},
   "outputs": [],
   "source": [
    "maxima([lst]):=\n",
    "if length(lst)>1 \n",
    "/* recur on tail maxima (tm) */\n",
    "then block(\n",
    "    [tm :apply('maxima,rest(lst))],\n",
    "    if lst[1]>=tm[2] \n",
    "    then maxima(lst[1]) \n",
    "    else [tm[1]+1,tm[2]]\n",
    ")\n",
    "/* base cases */\n",
    "else if length(lst)>0 \n",
    "then [1, lst[1]]\n",
    "else [0, -inf]$\n",
    "\n",
    "maxima(1,2,3,2,1);"
   ]
  },
  {
   "cell_type": "markdown",
   "id": "7e55bded",
   "metadata": {},
   "source": [
    "In the above example, `maxima([lst])` is a recursive function that \n",
    "- takes a variable number of arguments, which will be stored in `lst` as a list, and\n",
    "- returns a list `[i,m]` as follows:\n",
    "  - If `lst` is non-empty, `lst[i]=m` is a maximum element of `lst` and `i` is the smallest such index.\n",
    "  - If `lst` is empty, then `[0,-inf]` is returned, following the conventions that \n",
    "    - the maximum element of an empty list `[]` of numbers is `-inf`, and \n",
    "    - Maxima uses 1-based numbering so `0` is the index of an imaginary item before the first item in a list."
   ]
  },
  {
   "cell_type": "markdown",
   "id": "172e48dd",
   "metadata": {},
   "source": [
    ":::{note}\n",
    "\n",
    "- Comments can be delimited by `/*` and `*/` as in `/* base cases */`.\n",
    "- Trailing ; ends an expression and prints its value. E.g.,\n",
    "\n",
    "    ```\n",
    "    maxima(1,2,3,2,1);\n",
    "    ```\n",
    "    applies call the `maxima` function display its output. \n",
    "- Trailing \\$ ends an expression without printing its value. E.g.,\n",
    "\n",
    "    ```\n",
    "    maxima([lst]):=\n",
    "    ...\n",
    "    else [0, -inf]$\n",
    "    ```\n",
    "    defines a function without displaying it in the output cell.\n",
    "\n",
    "\n",
    ":::"
   ]
  },
  {
   "cell_type": "markdown",
   "id": "8121d2a2",
   "metadata": {},
   "source": [
    "## Generate data from lists"
   ]
  },
  {
   "cell_type": "markdown",
   "id": "853824e2",
   "metadata": {},
   "source": [
    "Data is a matrix of feature values associated with feature names. Data can be created by `build_data_from_list(fns, lst)` where\n",
    "- `fns` is a list of feature names, and \n",
    "- `lst` is a list of instances, which are lists of feature values corresponding to the feature names."
   ]
  },
  {
   "cell_type": "code",
   "execution_count": null,
   "id": "62102465",
   "metadata": {},
   "outputs": [],
   "source": [
    "set_draw_defaults(file_name=\"images/maxplot\", terminal=svg, point_type=square, point_size=2)$\n",
    "\n",
    "block(\n",
    "    [\n",
    "        fns: ['i, 'X_1, 'X_2, 'Y],           /* feature names */\n",
    "        lst: [[1, 0, 0, 0], [2, 1, 1, 1]],   /* instances */\n",
    "        target: 'Y,\n",
    "        xy: ['X_1, 'X_2],\n",
    "        data\n",
    "    ],\n",
    "    data: build_data_from_list(fns, lst),\n",
    "    plot_labeled_data(data,xy,target),\n",
    "    [\n",
    "        data, \n",
    "        feature_names(data), \n",
    "        size(data), \n",
    "        feature_index(fns, target), \n",
    "        get_data(data, 1), \n",
    "        feature_values(data, target)\n",
    "    ]\n",
    ");"
   ]
  },
  {
   "cell_type": "markdown",
   "id": "dd18353c",
   "metadata": {},
   "source": [
    "Information of the data can be obtained using other functions:\n",
    "\n",
    "- `feature_names(data)` returns the feature names of `data`.\n",
    "- `size(data)` returns the number of instances of `data`.\n",
    "- `feature_index(fns, fn)` returns the index of a feature named `fn` in the list `fns` of feature names.\n",
    "- `get_data(data, i)` returns the `i`-th instance of `data`.\n",
    "- `feature_values(data, fn)` returns the list of feature values of the feature `fn`.\n",
    "- `plot_labeled_data(data,xy,target)`"
   ]
  },
  {
   "cell_type": "markdown",
   "id": "3f76f15d",
   "metadata": {},
   "source": [
    "```\n",
    "plot_labeled_data(data,xy,target)\n",
    "```\n",
    "\n",
    "plots the labeled `data` where\n",
    "\n",
    "- `xy` specifies the pair of features for the $x$ and $y$ axes, and\n",
    "- `target` is used to color code the data points.\n",
    "\n",
    ":::{note}\n",
    "\n",
    "```set_draw_defaults(file_name=\"images/maxplot\", terminal=svg, point_type=square, point_size=2)$```\n",
    "\n",
    "configures the format of the plot.\n",
    ":::"
   ]
  },
  {
   "cell_type": "markdown",
   "id": "0eb29fca",
   "metadata": {},
   "source": [
    "## Generate data with rules"
   ]
  },
  {
   "cell_type": "markdown",
   "id": "58c2e956",
   "metadata": {},
   "source": [
    "Data can also be generated (randomly) according to some specified rules using `build_data(fns, gen, n)` where\n",
    "- `fns` is a list of feature names,\n",
    "- `gen` is a function that takes a unique index and generates an instance associated with the index, and\n",
    "- `n` is the number of instances to generate."
   ]
  },
  {
   "cell_type": "code",
   "execution_count": null,
   "id": "4c4f21ab",
   "metadata": {},
   "outputs": [],
   "source": [
    "block(\n",
    "    [\n",
    "        fns: ['i, 'X_1, 'X_2, 'Y],\n",
    "        gen: lambda([i],\n",
    "            [\n",
    "                i,\n",
    "                random(3),\n",
    "                random(3),\n",
    "                if 'X_1<1 and 'X_2>0 then 1 else 0\n",
    "            ]),\n",
    "        n: 10\n",
    "    ],\n",
    "    build_data(fns, gen, n)\n",
    ");"
   ]
  },
  {
   "cell_type": "markdown",
   "id": "8c1f8116",
   "metadata": {},
   "source": [
    "In the above example, \n",
    "- $i$ is the unique index,\n",
    "- $X_1$ and $X_2$ are uniformly random generated from $\\Set{0,1,2}$, and\n",
    "- $Y$ is a deterministic function of $X_1$ and $X_2$, namely,  \n",
    "$$\n",
    "Y=\\begin{cases}\n",
    "1 & X_1<1, X_2>0\\\\\n",
    "0 & \\text{otherwise.}\n",
    "\\end{cases}\n",
    "$$\n",
    "\n",
    ":::{note}\n",
    "The value of a feature \n",
    "- can depend on the index and the values of all the previously generated features of the same instance, but\n",
    "- cannot depend on the feature values of other instances.\n",
    ":::"
   ]
  },
  {
   "cell_type": "markdown",
   "id": "13f26e43",
   "metadata": {},
   "source": [
    "## Transform features"
   ]
  },
  {
   "cell_type": "markdown",
   "id": "912b7024",
   "metadata": {},
   "source": [
    "New features can be created by transforming existing ones using `transform_features(data, nfns, ngen)` where\n",
    "- `data` is a data set,\n",
    "- `nfns` is the list of new feature names, and\n",
    "- `ngen` is a function that takes a unique index and returns an instance."
   ]
  },
  {
   "cell_type": "code",
   "execution_count": null,
   "id": "ddb9e0e4",
   "metadata": {},
   "outputs": [],
   "source": [
    "block(\n",
    "    [\n",
    "        fns: ['X_1, 'X_2],\n",
    "        gen: lambda([i], \n",
    "            [\n",
    "                random(3), \n",
    "                random(3)\n",
    "            ]),\n",
    "        n: 10,\n",
    "        nfns: ['i, 'X_1, 'X_2, 'Y],\n",
    "        ngen: lambda([i],\n",
    "            [\n",
    "                i,\n",
    "                'X_1,\n",
    "                'X_2,\n",
    "               if 'X_1<1 and 'X_2>0 then 1 else 0 \n",
    "            ]\n",
    "        ),\n",
    "        data\n",
    "    ],\n",
    "    data: build_data(fns, gen, n),\n",
    "    [data, transform_features(data, nfns, ngen)]\n",
    ");"
   ]
  },
  {
   "cell_type": "markdown",
   "id": "17d711aa",
   "metadata": {},
   "source": [
    "In the above example, \n",
    "- the features $X1$ and $X2$ in `data` are transformed to create the feature $Y$, and\n",
    "- the row index is used to create the feature $i$.\n",
    "\n",
    ":::{note}\n",
    "A new feature \n",
    "- can depend on the index, all previously generated features and the features in `data` of the same instance, but\n",
    "- cannot depend on the feature values of other instances. \n",
    ":::"
   ]
  },
  {
   "cell_type": "markdown",
   "id": "127da33a",
   "metadata": {},
   "source": [
    "## Subsample data"
   ]
  },
  {
   "cell_type": "markdown",
   "id": "4c7c5d3f",
   "metadata": {},
   "source": [
    "To subsample data based on specific conditions, use `subsample_data(data, cond)` where\n",
    "\n",
    "- `data` is the data to subsample, and\n",
    "- `cond` is a function that takes a row index and returns a boolean expression on the feature names. \n",
    "\n",
    "It returns `data` but keeping only the instances indexed by `i` where `cond[i]` evaluates to true with the feature names substituted by the corresponding feature values."
   ]
  },
  {
   "cell_type": "code",
   "execution_count": null,
   "id": "c166fe5a",
   "metadata": {},
   "outputs": [],
   "source": [
    "block(\n",
    "    [\n",
    "        fns: ['X_1, 'X_2],\n",
    "        gen: lambda([i],\n",
    "            [\n",
    "                random(3),\n",
    "                random(3)\n",
    "            ]),\n",
    "        n: 10,\n",
    "        cond: lambda([i],\n",
    "            'X_1<1 and 'X_2>0\n",
    "        ),\n",
    "        data\n",
    "    ],\n",
    "    data: build_data(fns, gen, n),\n",
    "    [data, subsample_data(data, cond)]\n",
    ");"
   ]
  },
  {
   "cell_type": "markdown",
   "id": "5e9d83dd",
   "metadata": {},
   "source": [
    "In the above example, only instances with $X_1<1$ and $X_2>0$ are returned."
   ]
  },
  {
   "cell_type": "markdown",
   "id": "3ce77e26",
   "metadata": {},
   "source": [
    "## Combine data"
   ]
  },
  {
   "cell_type": "markdown",
   "id": "68f13242",
   "metadata": {},
   "source": [
    "Data can be stacked (vertically) by `stack_data(data_1, data_2, ...)` where `data_i`'s are data with the same list of features."
   ]
  },
  {
   "cell_type": "code",
   "execution_count": null,
   "id": "a918e0f3",
   "metadata": {},
   "outputs": [],
   "source": [
    "block(\n",
    "    [\n",
    "        fns: ['i, 'X_1, 'X_2]\n",
    "    ],\n",
    "    data_1: build_data(fns, lambda([i], [i, random(2), random(2)]),4),\n",
    "    data_2: build_data(fns, lambda([i], [i, 3+random(2), random(2)]),4),\n",
    "    data: transform_features(stack_data(data_1, data_2), fns, lambda([i], [i, 'X_1, 'X_2])),\n",
    "    [data_1, data_2, data]\n",
    ");"
   ]
  },
  {
   "cell_type": "markdown",
   "id": "3ed0655d",
   "metadata": {},
   "source": [
    "In the above example, `data` consists of instances from `data_1` and `data_2`. \n",
    "\n",
    ":::{note}\n",
    "The index column is regenerated using `transform_features` for `data` so that every instance has a unique index.\n",
    ":::"
   ]
  }
 ],
 "metadata": {
  "kernelspec": {
   "display_name": "Maxima",
   "language": "maxima",
   "name": "maxima"
  }
 },
 "nbformat": 4,
 "nbformat_minor": 5
}
