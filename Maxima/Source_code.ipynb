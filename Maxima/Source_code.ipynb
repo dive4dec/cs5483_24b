{
 "cells": [
  {
   "cell_type": "markdown",
   "id": "fd0c1dc7",
   "metadata": {},
   "source": [
    "---\n",
    "title: Source code\n",
    "---"
   ]
  },
  {
   "cell_type": "markdown",
   "id": "062784e9",
   "metadata": {},
   "source": [
    "Content of [`datamining.mac`](datamining.mac)."
   ]
  },
  {
   "cell_type": "markdown",
   "id": "5f4f6169",
   "metadata": {},
   "source": [
    "::::{literalinclude} datamining.mac\n",
    ":language: maxima\n",
    "::::"
   ]
  },
  {
   "cell_type": "code",
   "execution_count": null,
   "id": "414f50ae",
   "metadata": {
    "tags": [
     "remove-cell"
    ]
   },
   "outputs": [],
   "source": [
    "from IPython.display import Code\n",
    "\n",
    "Code(\"datamining.mac\", language=\"Maxima\")"
   ]
  }
 ],
 "metadata": {
  "kernelspec": {
   "display_name": "Python 3 (ipykernel)",
   "language": "python",
   "name": "python3"
  }
 },
 "nbformat": 4,
 "nbformat_minor": 5
}
