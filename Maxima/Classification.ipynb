{
 "cells": [
  {
   "cell_type": "markdown",
   "id": "7d18e6a1",
   "metadata": {},
   "source": [
    "---\n",
    "title: Classification\n",
    "---"
   ]
  },
  {
   "cell_type": "code",
   "execution_count": null,
   "id": "b35607cd",
   "metadata": {},
   "outputs": [],
   "source": [
    "load(\"datamining.mac\")$"
   ]
  },
  {
   "cell_type": "markdown",
   "id": "8086f5ed",
   "metadata": {},
   "source": [
    "## Decision tree induction"
   ]
  },
  {
   "cell_type": "markdown",
   "id": "4aa6537a",
   "metadata": {},
   "source": [
    "### Distribution"
   ]
  },
  {
   "cell_type": "markdown",
   "id": "c1968087",
   "metadata": {},
   "source": [
    "`empirical(lst)` computes the empirical distribution of the list `lst`."
   ]
  },
  {
   "cell_type": "code",
   "execution_count": null,
   "id": "ea075d88",
   "metadata": {},
   "outputs": [],
   "source": [
    "block(\n",
    "    [lst:[2,2,1,3,3,3]],\n",
    "    empirical(lst)\n",
    ");"
   ]
  },
  {
   "cell_type": "markdown",
   "id": "df8677ac",
   "metadata": {},
   "source": [
    "A pair is returned, where \n",
    "- the first element is the list of unique values sorted in ascending order, and \n",
    "- the second element is their fractional number of occurences."
   ]
  },
  {
   "cell_type": "markdown",
   "id": "78434316",
   "metadata": {},
   "source": [
    "### Information gain"
   ]
  },
  {
   "cell_type": "markdown",
   "id": "bc6b3556",
   "metadata": {},
   "source": [
    "An impurity measure for decision tree induction is entropy computed as `entropy(ps)` for some distribution `ps` as a list of probability masses:"
   ]
  },
  {
   "cell_type": "code",
   "execution_count": null,
   "id": "f86c6988",
   "metadata": {},
   "outputs": [],
   "source": [
    "entropy(ps);"
   ]
  },
  {
   "cell_type": "markdown",
   "id": "e36fe069",
   "metadata": {},
   "source": [
    "The information gain ratios and related information quantities can be computed as follows:"
   ]
  },
  {
   "cell_type": "code",
   "execution_count": null,
   "id": "b465953f",
   "metadata": {},
   "outputs": [],
   "source": [
    "block(\n",
    "    [\n",
    "        fns: ['i, 'X_1, 'X_2, 'Y],\n",
    "        n: 6,\n",
    "        gen: lambda([i], [i, random(2), random(2), random(2)]),\n",
    "        conds: ['X_1, 'X_2],\n",
    "        target: 'Y,\n",
    "        data, info\n",
    "    ],\n",
    "    data: build_data(fns, gen, n),\n",
    "    [\n",
    "        data,\n",
    "        Info(data, target),\n",
    "        build_data_from_list(\n",
    "            ['X, 'Info[X], 'Gain[X], 'SplitInfo[X], 'GainRatio[X]],\n",
    "            makelist(\n",
    "                map('simplify,\n",
    "                    [X,\n",
    "                     InfoX(data, target, X), \n",
    "                     Gain(data, target, X), \n",
    "                     SplitInfo(data, X), \n",
    "                     GainRatio(data, target, X)]\n",
    "                ), \n",
    "                X, conds\n",
    "            )\n",
    "        )\n",
    "    ]\n",
    ");"
   ]
  },
  {
   "cell_type": "markdown",
   "id": "38e8a604",
   "metadata": {},
   "source": [
    "where\n",
    "\n",
    "- `Info(data, target)` computes the information content (entropy) of `target` in `data`.\n",
    "- `InfoX(data, target, X)` computes the information (conditional entropy) given `X`.\n",
    "- `Gain(data, target, X)` calculates the information gain of `target` with `X`.\n",
    "- `SplitInfo(data, X)` calculates the split information (entropy) of `X`.\n",
    "- `GainRatio(data, target, X)` calculates the information gain ratio of `target` with `X`."
   ]
  },
  {
   "cell_type": "code",
   "execution_count": null,
   "id": "e0e9ed1d",
   "metadata": {},
   "outputs": [],
   "source": [
    "describe(makelist)$"
   ]
  },
  {
   "cell_type": "code",
   "execution_count": null,
   "id": "86ac85ff",
   "metadata": {},
   "outputs": [],
   "source": [
    "describe(map)$"
   ]
  },
  {
   "cell_type": "markdown",
   "id": "5cc442c7",
   "metadata": {},
   "source": [
    "### Gini impurity"
   ]
  },
  {
   "cell_type": "markdown",
   "id": "4d9b40c9",
   "metadata": {},
   "source": [
    "Another impurity measure is the Gini impurity, which is computed as `gini(ps)`:"
   ]
  },
  {
   "cell_type": "code",
   "execution_count": null,
   "id": "36563734",
   "metadata": {},
   "outputs": [],
   "source": [
    "gini(ps);"
   ]
  },
  {
   "cell_type": "markdown",
   "id": "b4b9faf3",
   "metadata": {},
   "source": [
    "The quantity related to the Gini impurity can be computed as follows:"
   ]
  },
  {
   "cell_type": "code",
   "execution_count": null,
   "id": "5c1a2077",
   "metadata": {},
   "outputs": [],
   "source": [
    "block(\n",
    "    [\n",
    "        fns: ['i, 'X_1, 'X_2, 'Y],\n",
    "        n: 6,\n",
    "        gen: lambda([i], [i, random(2), random(2), random(2)]),\n",
    "        conds: ['X_1, 'X_2, chi('X_1<=0.5), chi('X_2>0.5)],\n",
    "        target: 'Y,\n",
    "        data\n",
    "    ],\n",
    "    data: build_data(fns, gen, n),\n",
    "    [\n",
    "        data, Gini(data, target),\n",
    "        build_data_from_list(\n",
    "            ['X, 'Gini[X], 'GiniDrop[X]],\n",
    "            makelist(\n",
    "                [X, GiniX(data, target, X), GiniDrop(data, target, X)],\n",
    "                X, conds\n",
    "            )\n",
    "        )\n",
    "    ]\n",
    ");"
   ]
  },
  {
   "cell_type": "markdown",
   "id": "2dacdff3",
   "metadata": {},
   "source": [
    "where\n",
    "\n",
    "- `Gini(data, target)` computes the Gini impurity of `target` in `data`.\n",
    "- `GiniX(data, target, X)` computes the conditional Gini impurity of `target` conditioned on `X`.\n",
    "- `GiniDrop(data, target, X)` computes the drop in Gini impurity for a splitting criterion `X`."
   ]
  },
  {
   "cell_type": "markdown",
   "id": "1e4a853e",
   "metadata": {},
   "source": [
    "## Rule-based classifier"
   ]
  },
  {
   "cell_type": "markdown",
   "id": "89eec90d",
   "metadata": {},
   "source": [
    "### FOIL gain"
   ]
  },
  {
   "cell_type": "markdown",
   "id": "263a3435",
   "metadata": {},
   "source": [
    "The following formula computes the FOIL gain \n",
    "- from a rule covering `p_0` positives and `n_0` negatives\n",
    "- to a rule covering `p_1` positives and `n_1` negatives."
   ]
  },
  {
   "cell_type": "code",
   "execution_count": null,
   "id": "ae9140b0",
   "metadata": {},
   "outputs": [],
   "source": [
    "foilgain(p_0,n_0,p_1,n_1);"
   ]
  },
  {
   "cell_type": "markdown",
   "id": "779ce872",
   "metadata": {},
   "source": [
    "To compute FOIL gain from data:"
   ]
  },
  {
   "cell_type": "code",
   "execution_count": null,
   "id": "4bf06be4",
   "metadata": {},
   "outputs": [],
   "source": [
    "block(\n",
    "    [\n",
    "        fns: ['i, 'X_1, 'X_2, 'Y],\n",
    "        n: 6,\n",
    "        gen: lambda([i], [i, random(2), random(2), random(2)]),\n",
    "        cjts: ['X_1=1, 'X_2=1],\n",
    "        target: 'Y\n",
    "    ],\n",
    "    R: [ar(rest(cjts, -1),target=1), ar(cjts,target=1)],\n",
    "    data: build_data(fns, gen, n),\n",
    "    [data, \n",
    "    build_data_from_list(\n",
    "        [\"Original rule\", \"New rule\", 'FOILGain],\n",
    "        [[R[1], R[2], FOILGain(data, target, cjts)]])]\n",
    ");"
   ]
  },
  {
   "cell_type": "markdown",
   "id": "6e833015",
   "metadata": {},
   "source": [
    "`FOILGain(data, target, cjts)` returns the FOIL gain from rule $R'$ to rule $R$ where\n",
    "- $R'$: `rest(cjts,-1)` $\\implies Y=1$\n",
    "- $R$: `cjts` $\\implies Y=1$\n",
    "\n",
    "and `rest(cjts,-1)` is the list of conjuncts in `cjts` except the last one."
   ]
  },
  {
   "cell_type": "markdown",
   "id": "e1fca9b8",
   "metadata": {},
   "source": [
    "### FOIL prune"
   ]
  },
  {
   "cell_type": "markdown",
   "id": "1dec2a93",
   "metadata": {},
   "source": [
    "FOIL prune can be computed from the number `p` of positives and the number `n` of negatives covered by a rule."
   ]
  },
  {
   "cell_type": "code",
   "execution_count": null,
   "id": "29661f6d",
   "metadata": {},
   "outputs": [],
   "source": [
    "foilprune(p,n);"
   ]
  },
  {
   "cell_type": "markdown",
   "id": "d6422bbe",
   "metadata": {},
   "source": [
    "To compute FOIL prune from data:"
   ]
  },
  {
   "cell_type": "code",
   "execution_count": null,
   "id": "51ea04b1",
   "metadata": {},
   "outputs": [],
   "source": [
    "block(\n",
    "    [\n",
    "        fns: ['i, 'X_1, 'X_2, 'Y],\n",
    "        n: 6,\n",
    "        gen: lambda([i], [i, random(2), random(2), random(2)]),\n",
    "        cjts: ['X_1=1, 'X_2=1],\n",
    "        target: 'Y,\n",
    "        data\n",
    "    ],\n",
    "    R: [ar(cjts,target=1), ar(rest(cjts, -1),target=1)],\n",
    "    data: build_data(fns, gen, n),\n",
    "    FP: FOILPrune(data, target, cjts),\n",
    "    [data, \n",
    "    build_data_from_list(\n",
    "        [\"Rule\", 'FOILPrune],\n",
    "        makelist([R[i], FP[i]], i, [1,2]))]\n",
    ");"
   ]
  },
  {
   "cell_type": "markdown",
   "id": "6646b530",
   "metadata": {},
   "source": [
    "It returns a pair consisting of the FOIL prunes for the rules\n",
    "- $R$: `cjts` $\\implies Y=1$\n",
    "- $R'$: `rest(cjts,-1)` $\\implies Y=1$"
   ]
  }
 ],
 "metadata": {
  "kernelspec": {
   "display_name": "Maxima",
   "language": "maxima",
   "name": "maxima"
  }
 },
 "nbformat": 4,
 "nbformat_minor": 5
}
