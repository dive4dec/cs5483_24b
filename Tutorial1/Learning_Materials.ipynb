{
 "cells": [
  {
   "cell_type": "markdown",
   "id": "2a0b999d",
   "metadata": {
    "slideshow": {
     "slide_type": "slide"
    }
   },
   "source": [
    "---\n",
    "title: Learning Materials\n",
    "---"
   ]
  },
  {
   "cell_type": "markdown",
   "id": "cbb301c6",
   "metadata": {
    "editable": true,
    "slideshow": {
     "slide_type": "slide"
    }
   },
   "source": [
    "## Notebooks"
   ]
  },
  {
   "cell_type": "markdown",
   "id": "83525bf7",
   "metadata": {},
   "source": [
    "Tutorial materials can be launched from the course homepage:\n",
    "\n",
    "::::{attention} Course homepage for registered students\n",
    "\n",
    "<https://canvas.cityu.edu.hk/courses/62414>\n",
    "\n",
    "::::\n",
    "\n",
    "If you have not yet registered the course, visit the static site:\n",
    "\n",
    "::::{attention} Static Jupyter book\n",
    "\n",
    "<https://ccha23.github.io/cs5483i24b/>\n",
    "\n",
    "::::"
   ]
  },
  {
   "cell_type": "markdown",
   "id": "dfd54dff",
   "metadata": {},
   "source": [
    ":::::{table} An example of a notebook link on the course homepage.\n",
    ":label: tbl:notebook-link\n",
    "\n",
    "<table>\n",
    "<div style=\"border: 1px solid black; padding: 10px;\">\n",
    "<p title=\"Title: Tutorial\">Tutorial notebooks:</p>\n",
    "<ul>\n",
    "  <li>\n",
    "    <a title=\"Subtitle: Notebook link\" href=\"https://www.cs.cityu.edu.hk/~ccha23/cs5483/nb/?path=Tutorial1/Learning_Materials.ipynb\" target=\"_blank\">Learning Materials</a>\n",
    "  </li>\n",
    "  <li>\n",
    "    <a title=\"Subtitle: Notebook link\" href=\"https://www.cs.cityu.edu.hk/~ccha23/cs5483/nb/?path=Tutorial1/DIVE_AI.ipynb\" target=\"_blank\">DIVE AI</a>\n",
    "  </li>\n",
    "  <li>\n",
    "    <a title=\"Subtitle: Notebook link\" href=\"https://www.cs.cityu.edu.hk/~ccha23/cs5483/nb/?path=Tutorial1/Data_Files.ipynb\" target=\"_blank\">Data Files</a>\n",
    "  </li>\n",
    "</ul>\n",
    "</div>\n",
    "</table>\n",
    "\n",
    ":::::"
   ]
  },
  {
   "cell_type": "markdown",
   "id": "59c7a4ec",
   "metadata": {},
   "source": [
    "Tutorials are written in the form of [Jupyter notebooks](https://jupyter.org/), which provide an interactive [literate programming](https://en.wikipedia.org/wiki/literate_programming) experience:\n",
    "\n",
    "- Jupyter Notebooks allow programs to be mixed with other contents, including figures, videos, and formatted textual explanations.\n",
    "- The notebooks can also run in a Jupyter server, which enables users to write and run their programs while adding formatted notes to it.\n",
    "- The Jupyter server can access local and remote large language models, which enables an AI pair programming experience that speed up tedious coding tasks."
   ]
  },
  {
   "cell_type": "markdown",
   "id": "639973e6",
   "metadata": {},
   "source": [
    "### How to run notebook cells?"
   ]
  },
  {
   "cell_type": "markdown",
   "id": "e5db0773",
   "metadata": {},
   "source": [
    "If you already have your notebook opened in a Jupyter server, let's run some code. Otherwise, jump to the [next section](#sec:fetch) to learn how to fetch and open notebooks.\n",
    "\n",
    "To run a cell, select the cell and press <kbd>Shift + Enter</kbd>. The cell prompt with change from `[ ]` to `[*]`. When the run completes, the asterisk will be changed to a number like `[1]`. Try running the following cell to import the [Mathematical Animation Engine (Manim)](https://docs.manim.community/).[^import] \n",
    "\n",
    "[^import]: Importing a library in programming is like bringing a toolbox into your workshop, giving you access to all the tools you need to complete your tasks."
   ]
  },
  {
   "cell_type": "code",
   "execution_count": null,
   "id": "c0e980b0",
   "metadata": {},
   "outputs": [],
   "source": [
    "import os\n",
    "\n",
    "if not os.getenv(\n",
    "    \"NBGRADER_EXECUTION\"\n",
    "):  # Skip the code or auto-grading may take too long to complete.\n",
    "    import manim"
   ]
  },
  {
   "cell_type": "markdown",
   "id": "f598c4fe",
   "metadata": {},
   "source": [
    "After the import is complete,  run the following cell to create an animation:"
   ]
  },
  {
   "cell_type": "code",
   "execution_count": null,
   "id": "24a0799b",
   "metadata": {},
   "outputs": [],
   "source": [
    "%%manim -qm --progress_bar=none --disable_caching --flush_cache -v ERROR Welcome\n",
    "class Welcome(manim.Scene):\n",
    "    def construct(self):\n",
    "        self.play(manim.Write(manim.Text(\"Welcome to CS5483!\")))"
   ]
  },
  {
   "cell_type": "markdown",
   "id": "bcc59a07",
   "metadata": {},
   "source": [
    "As you can see, the code creates a scene that displays the message `Welcome to CS5483!` with a writing animation.[^manim-magic] To verify that the program runs live, feel free to modify the message to anything you want.\n",
    "\n",
    "[^manim-magic]: If you are interested in what the first line does, it sets the video quality to medium while disabling caching and progress bars, and setting the verbosity to reporting only ERROR but not other critical information."
   ]
  },
  {
   "cell_type": "markdown",
   "id": "b5e3336c",
   "metadata": {},
   "source": [
    "(sec:fetch)=\n",
    "### How to fetch and open notebooks?"
   ]
  },
  {
   "cell_type": "markdown",
   "id": "4fa7ba9d",
   "metadata": {
    "editable": true,
    "slideshow": {
     "slide_type": ""
    }
   },
   "source": [
    "To fetch the notebooks, follow the links to the notebooks on the course homepage such as the one in [](#tbl:notebook-link)."
   ]
  },
  {
   "cell_type": "markdown",
   "id": "cdbe600b",
   "metadata": {},
   "source": [
    "::::{seealso} What does the notebook link do?\n",
    "\n",
    "The notebooks reside in a [GitHub repository](https://github.com/dive4dec/cs5483_24b/blob/main/README.md). Accessing a notebook link will\n",
    "\n",
    "1. use [LTI Authenticator](https://ltiauthenticator.readthedocs.io) to launch the JupyterHub as an LTI external tool from the course homepage, and\n",
    "2. use [NbGitPuller](https://jupyterhub.github.io/nbgitpuller/index.html) to [git-pull](https://git-scm.com/docs/git-pull)s all the files in the repository, merge them with any existing files stored under the course folder `cs5483_24b` in your home directory without overwriting your changes, and open the notebook path specified in the JupyterLab interface.\n",
    "\n",
    "Manually fetching the notebooks through other means may not create the local repository required for pulling new notebooks or changes to existing notebooks. To ensure that you have the latest versions of the notebooks with proper version control, you should use the provided notebook links.\n",
    "\n",
    "::::"
   ]
  },
  {
   "cell_type": "markdown",
   "id": "f668a7d6",
   "metadata": {},
   "source": [
    "After clicking a notebook link, you may be asked to \n",
    "\n",
    "- login with your CityU account if you are not yet logged into Canvas, and\n",
    "- specify a server option if you do not yet have a running Jupyter server.\n",
    "\n",
    "Select the `Default` option from the list of available Jupyter servers, and click <kbd>Start</kbd> to begin your session."
   ]
  },
  {
   "cell_type": "markdown",
   "id": "e9e1650f",
   "metadata": {
    "editable": true,
    "slideshow": {
     "slide_type": ""
    }
   },
   "source": [
    "::::{seealso} What is a Jupyter server?\n",
    ":class: dropdown\n",
    "\n",
    "The course's programming environment is conveniently accessible via a [JupyterHub][jh] server, enabling remote access without requiring special software installations, thanks to [Project Jupyter](https://en.wikipedia.org/wiki/Project_Jupyter). This allows you to write and run programs on mobile devices using just a web browser. Each server runs the [Ubuntu](https://en.wikipedia.org/wiki/Ubuntu) operating system in a [container](https://en.wikipedia.org/wiki/Containerization_(computing)). See the [Dockerfile](https://github.com/dive4dec/jupyter/blob/main/cs5483nb/Dockerfile) for the setup.\n",
    "\n",
    "::::\n",
    "\n",
    "[jh]: https://jupyterhub.readthedocs.io/en/stable/"
   ]
  },
  {
   "cell_type": "markdown",
   "id": "a95568cd",
   "metadata": {},
   "source": [
    "Each student and project group will have their own [Jupyter server](https://jupyter-server.readthedocs.io/en/latest/) with individual computing resources including CPU, memory, and GPU:\n",
    "\n",
    "- The GPU server option(s) are available initially for testing. Once the project groups are formed, the GPU server option(s) will be available to project groups to work on projects that rely on GPU resources.\n",
    "- You can switch between different server options by restarting your server and selecting the desired option. Restarting the server is simple and can be done by\n",
    "  1. selecting `Hub Control Panel` under the `File` menu, and\n",
    "  2. click `Stop My Server` and then `Start My Server`."
   ]
  },
  {
   "cell_type": "markdown",
   "id": "47a8dc54",
   "metadata": {},
   "source": [
    ":::{tip} Troubleshooting server failed to spawn error\n",
    "\n",
    "In case the server failed to spawn, refresh the page or restart your browser for the javascript to load completely in your browser. \n",
    "\n",
    "- If you failed to spawn a GPU server, it is likely due to the **GPU being fully utilized**. You can click the `Home` link to start the `Default` server.\n",
    "- If you are unable to spawn the Default server, you may have **exceeded your storage limit**. If this occurs, please contact us so we can assist with clearing up storage space to resolve the issue.\n",
    "\n",
    ":::"
   ]
  },
  {
   "cell_type": "markdown",
   "id": "a2fce74a",
   "metadata": {},
   "source": [
    "If the server is spawned successfully, the [JupyterLab](https://jupyterlab.readthedocs.io) interface should appear. For instance, to see the available storage and disk usage, you can run the [commands](https://www.gnu.org/software/coreutils/manual/html_node/Disk-usage.html) within a notebook cell as follows:"
   ]
  },
  {
   "cell_type": "code",
   "execution_count": null,
   "id": "28ae7636",
   "metadata": {},
   "outputs": [],
   "source": [
    "if not os.getenv(\"NBGRADER_EXECUTION\"):\n",
    "    # `!` is used to execute a shell command from within the notebook\n",
    "    !df .\n",
    "    !du -ahd1 ${HOME} | sort -rh | head -n10"
   ]
  },
  {
   "cell_type": "markdown",
   "id": "0251da8e",
   "metadata": {},
   "source": [
    "Monitor your disk usage to avoid exceeding the storage limit. The tutorial notebooks are under the course directory:"
   ]
  },
  {
   "cell_type": "code",
   "execution_count": null,
   "id": "4b678762",
   "metadata": {},
   "outputs": [],
   "source": [
    "if not os.getenv(\"NBGRADER_EXECUTION\"):\n",
    "    !ls \"${HOME}/${COURSE_ID}\""
   ]
  },
  {
   "cell_type": "markdown",
   "id": "119ac702",
   "metadata": {
    "jp-MarkdownHeadingCollapsed": true
   },
   "source": [
    "To prevent data loss, it's essential to regularly download or backup your work. You may use the [JupyterLab Archiver extension](https://github.com/jupyterlab-contrib/jupyter-archive) to download an entire folder as a zip file."
   ]
  },
  {
   "cell_type": "markdown",
   "id": "c2f9650c",
   "metadata": {},
   "source": [
    ":::{tip} Troubleshooting issues with JupyterLab\n",
    "\n",
    "- If the JupyterLab interface fails to show, there may be issue loading or running the necessary javascripts. Try to ensure a good network connection, refresh the page, or restart your browser for the javascript to load properly in your browser. You may also inspect the javascript error in your browser's developer tools for details.\n",
    "- If you are unable to open the notebook or you believe your notebooks are corrupted:  \n",
    "\n",
    "  1. Move the existing course folder, if any, to a different location.\n",
    "  2. Click the git-pull links from the course homepage to re-pull the notebooks.\n",
    "  3. Copy your solutions from your original to the new notebooks.\n",
    "  \n",
    "- You may occasionally run into other issues. There are [thousands of open issues reported to the JupyterLab repository](https://github.com/jupyterlab/jupyterlab/issues), where you may find related issues and, potentially, a kludge (temporary workaround). Many issues such as the [scroll jumps](https://github.com/jupyterlab/jupyterlab/issues/16326) may not have an immediate fix.\n",
    "\n",
    ":::"
   ]
  },
  {
   "cell_type": "markdown",
   "id": "4a512bae",
   "metadata": {
    "editable": true,
    "slideshow": {
     "slide_type": "fragment"
    }
   },
   "source": [
    "::::{tip} Access via bookmark\n",
    ":class: dropdown\n",
    "\n",
    "If you access JupyterHub from a [bookmarked link](https://dive.cs.cityu.edu.hk/cs5483_24a/), you may see a Login box as shown in [](#fig:login-box). Since the bookmarked link does not perform LTI login through Canvas, you will need to log in separately:\n",
    "\n",
    "  1. Enter your [EID](https://www.cityu.edu.hk/esu/eid.htm) and password in the fields `Username` and `Password` respectively.\n",
    "  1. Click the `Sign in` button.\n",
    "\n",
    "Note that the bookmarked link also does not pull updates to notebooks from the remote Git repository.\n",
    "\n",
    ":::{figure} images/login.dio.svg\n",
    ":name: fig:login-box\n",
    ":alt: Login box\n",
    ":align: left\n",
    "\n",
    "Login box\n",
    ":::\n",
    "\n",
    "::::"
   ]
  },
  {
   "cell_type": "markdown",
   "id": "9d00469f",
   "metadata": {},
   "source": [
    "The released notebooks are also compiled into an ebook <https://www.cs.cityu.edu.hk/~ccha23/cs5483book>,\n",
    "which allows you to preview the notebooks conveniently as webpages and download the notebooks in PDF or ipynb formats."
   ]
  },
  {
   "cell_type": "markdown",
   "id": "acd53e36",
   "metadata": {},
   "source": [
    "You may also run the course notebooks outside the jupyterhub server and locally on your computer. For more details, see the [Docker notebook](./Appendices/Docker.ipynb) in the Appendices."
   ]
  },
  {
   "cell_type": "markdown",
   "id": "c42664cb",
   "metadata": {
    "editable": true,
    "slideshow": {
     "slide_type": "subslide"
    }
   },
   "source": [
    "### How to access the programming environment?"
   ]
  },
  {
   "cell_type": "markdown",
   "id": "c86dfec2",
   "metadata": {},
   "source": [
    "The course's programming environment is conveniently accessible via a JupyterHub server, allowing remote access without the need to install any special software, thanks to <wiki:Project_Jupyter>. This means you can easily write and run programs on your mobile devices using just a web browser."
   ]
  },
  {
   "cell_type": "markdown",
   "id": "307f484d",
   "metadata": {},
   "source": [
    "You can access the JupyterHub server from the canvas course website."
   ]
  },
  {
   "cell_type": "markdown",
   "id": "2ebbb4d6",
   "metadata": {
    "editable": true,
    "slideshow": {
     "slide_type": ""
    }
   },
   "source": [
    "To access the Jupyter environment, simply log into the JupyterHub server and select the `Default` option from the list of available Jupyter servers. Click `Start` to begin your session. If the server is spawned successfully, the JupyterLab interface should appear. Each student will have their own Jupyter server, providing individual computer resources such as CPU and memory."
   ]
  },
  {
   "cell_type": "markdown",
   "id": "c19a42f5",
   "metadata": {
    "editable": true,
    "slideshow": {
     "slide_type": "subslide"
    }
   },
   "source": [
    "::::{note} Server options\n",
    "\n",
    "- The `Default` option runs on the Ubuntu operating system with some data mining tools pre-installed.\n",
    "  See the [dockerfile](https://github.com/dive4dec/jupyter/blob/main/cs5483nb/Dockerfile) for details.\n",
    "- The `GPU` option offers some GPU resources if available.\n",
    "- You can switch between the `Default` and other server options at any time by restarting your server and selecting the desired option. Restarting the server is simple and can be done through the hub control panel, as described in the note below.\n",
    "\n",
    ":::{tip} Troubleshooting[^1]\n",
    ":class: dropdown\n",
    "\n",
    "In case the jupyterlab interface fails to show:\n",
    "\n",
    "- Refresh the page or restart your browser.\n",
    "- Restart your server using the `Hub Control Panel` under the `File` and click `Stop My Server` and then `Start My Server`.\n",
    "\n",
    ":::\n",
    "\n",
    "::::\n",
    "\n",
    "[^1]:  click me to expand"
   ]
  },
  {
   "cell_type": "markdown",
   "id": "3e88f07a",
   "metadata": {
    "editable": true,
    "slideshow": {
     "slide_type": "slide"
    }
   },
   "source": [
    "### How to access the tutorial notebooks?"
   ]
  },
  {
   "cell_type": "markdown",
   "id": "06feec6d",
   "metadata": {
    "editable": true,
    "slideshow": {
     "slide_type": ""
    }
   },
   "source": [
    "The recommended way is to access the tutorial notebooks is to follow the links on the course homepage. The notebooks actually reside in a [GitHub repository](https://github.com/dive4dec/cs5483_23a/blob/main/README.md). The first time you access the notebook link, the following steps occur:\n",
    "\n",
    "- Your Jupyter server is opened.\n",
    "- The repository is cloned to the server as a local repository.\n",
    "- The desired notebook is opened in the JupyterLab interface."
   ]
  },
  {
   "cell_type": "markdown",
   "id": "20eb3d23",
   "metadata": {},
   "source": [
    "Afterwards, accessing a notebook link again will\n",
    "\n",
    "- [git-pull](https://git-scm.com/docs/git-pull)s new or existing files in the repository and \n",
    "- merge them with the notebooks stored under the course folder `cs5483_23b` in your home directory without overwriting your changes."
   ]
  },
  {
   "cell_type": "markdown",
   "id": "2ba8f09d",
   "metadata": {
    "editable": true,
    "slideshow": {
     "slide_type": ""
    }
   },
   "source": [
    "::::{important}\n",
    "\n",
    "Manually fetching the notebooks through other means may not create the local repository required for git version control. This can result in new notebooks or changes to existing notebooks not being pulled properly to your server. To ensure that you have the latest versions of the notebooks with proper version control, use the provided notebook links.\n",
    "\n",
    ":::{seealso} How git-pull links work?\n",
    ":class: dropdown\n",
    "\n",
    "If you are interested in how the link works, see [`nbgitpuller`](https://jupyterhub.github.io/nbgitpuller/index.html). A git-pull link looks as follows:\n",
    "\n",
    "```bash\n",
    "https://{{server_url}}/git-pull        # send request to jupyter server\n",
    "repo={{git_repo}}&                     # pull from the git repository\n",
    "urlpath=lab/tree/{{path_to_notebook}}  # follow the path to open the notebook\n",
    "```\n",
    "\n",
    ":::\n",
    "\n",
    "::::"
   ]
  },
  {
   "cell_type": "markdown",
   "id": "7ed7db50",
   "metadata": {},
   "source": [
    "The released notebooks are also compiled into an ebook <https://www.cs.cityu.edu.hk/~ccha23/cs5483book>,\n",
    "which allows you to preview the notebooks conveniently as webpages and download the notebooks in PDF or ipynb formats."
   ]
  },
  {
   "cell_type": "markdown",
   "id": "8f9cad37",
   "metadata": {
    "slideshow": {
     "slide_type": "subslide"
    }
   },
   "source": [
    "## Problem Sets"
   ]
  },
  {
   "cell_type": "markdown",
   "id": "06f310d5",
   "metadata": {},
   "source": [
    "The tutorial notebooks consisting of problems that provide hands-on practice to prepare you for the individual Project 1 and group Project 2."
   ]
  },
  {
   "cell_type": "markdown",
   "id": "073eb8da",
   "metadata": {
    "editable": true,
    "slideshow": {
     "slide_type": ""
    }
   },
   "source": [
    "Each problem set are are *due the night before the following lecture*, i.e., you normally have a week to work on the problem set.\n",
    "\n",
    "- You can check the due dates of all the labs from the course homepage. \n",
    "- You may seek help from us or your classmates. However, you must write your own solution and indicate who your collaborators are by including their fullnames or EIDs such as\n",
    "  ```\n",
    "  COLLABORATORS: xfwong2, mklee3, GPT-4o, dive:chat\n",
    "  ```\n",
    "  The policy applies to LLM as well."
   ]
  },
  {
   "cell_type": "markdown",
   "id": "96b977f6",
   "metadata": {},
   "source": [
    "### How to complete an assignment?"
   ]
  },
  {
   "cell_type": "markdown",
   "id": "63465dd1",
   "metadata": {},
   "source": [
    "The notebooks can be edited in JupyterLab to include your answers for submission. If this is your first time using JupyterLab, take a look at the [official video tutorial](https://www.youtube.com/embed/A5YyoCKxEOU):\n",
    "\n",
    "\n",
    "::::{seealso} How to use JupyterLab?\n",
    ":class: dropdown\n",
    "\n",
    ":::{iframe} https://www.youtube.com/embed/A5YyoCKxEOU\n",
    ":width: 100%\n",
    ":align: left\n",
    "\n",
    "Official video tutorial on Jupyter\n",
    ":::\n",
    "::::"
   ]
  },
  {
   "cell_type": "markdown",
   "id": "6ac545be",
   "metadata": {
    "editable": true,
    "slideshow": {
     "slide_type": "fragment"
    }
   },
   "source": [
    "For more advanced features:\n",
    "\n",
    "- Checkout the `Help` menu items\n",
    "    - `Show Keyboard Shortcuts` to try some of the shortcuts to see their effect, and\n",
    "    -  `Jupyter Reference` to open the [user guide](https://jupyterlab.readthedocs.io/en/latest/user/interface.html) in a new tab.\n",
    "- Try also the [MyST Markdown](https://mystmd.org/guide/typography) syntax to format your notes."
   ]
  },
  {
   "cell_type": "markdown",
   "id": "bbadeae5",
   "metadata": {},
   "source": [
    "::::{seealso} An alternative interface: VSCode\n",
    ":class: dropdown\n",
    "\n",
    "You may also use a highly customizable editor Visual Studio Code (VS Code) to open a notebook:\n",
    "\n",
    "- Click `File->New Launcher->VS Code`.\n",
    "- Click the menu icon on the left and select `Open Folder` and select `cs1302_24a`.\n",
    "\n",
    "In the file explorer, you can navigate to a notebook to open it. However, to properly run the notebook, you would also need to start the Kernel by choosing an appropriate Python environment such as `base`, which is the default [(conda) environment](https://conda.io/projects/conda/en/latest/dev-guide/api/conda/base/index.html) for our JupyterLab setup. Unlike JupyterLab, you may install additional extensions yourself to enrich the interface.[^vscode]\n",
    "\n",
    "::::\n",
    "\n",
    "[^vscode]: The VSCode interface is actually [code-server](https://github.com/coder/code-server), so some VSCode extensions may not be listed under the extension panel. You may still try to install them using the command `install-vscode-extension` in a terminal."
   ]
  },
  {
   "cell_type": "markdown",
   "id": "7e64d35c",
   "metadata": {},
   "source": [
    "As a example, you will write a [\"Hello, World!\"](https://en.wikipedia.org/wiki/%22Hello,_World!%22_program) program in python, which says Hello to the world:"
   ]
  },
  {
   "cell_type": "markdown",
   "id": "c26c2123",
   "metadata": {
    "deletable": false,
    "editable": false,
    "nbgrader": {
     "cell_type": "markdown",
     "checksum": "47a95295c28992482f5a59d874dc70f6",
     "grade": false,
     "grade_id": "qHelloWorld",
     "locked": true,
     "schema_version": 3,
     "solution": false,
     "task": false
    },
    "slideshow": {
     "slide_type": "subslide"
    }
   },
   "source": [
    ":::::{exercise} Hello World\n",
    ":label: ex:Hello-World\n",
    "\n",
    "Complete the program to print the message `Hello, World!`. \n",
    "\n",
    "::::{hint}\n",
    ":class: dropdown\n",
    "\n",
    "One possible solution is:\n",
    "\n",
    ":::{code-block} python\n",
    ":name: code:Hello-World\n",
    ":caption: Python, \"Hello, World!\"\n",
    "\n",
    "def say_hello():\n",
    "    print(\"Hello, World!\")\n",
    "    \n",
    "say_hello()\n",
    ":::\n",
    "\n",
    ":::{caution}\n",
    "You must use a tab or 4 spaces to indent the second line of code `print(...)`.\n",
    ":::\n",
    "\n",
    "::::\n",
    "\n",
    ":::::"
   ]
  },
  {
   "cell_type": "markdown",
   "id": "ec273975",
   "metadata": {
    "editable": true,
    "slideshow": {
     "slide_type": ""
    }
   },
   "source": [
    "The following code cell is a [solution cell](https://nbgrader.readthedocs.io/en/stable/configuration/student_version.html#default-behavior). You can simply expand the hint above and copy the answer to the solution cell instead."
   ]
  },
  {
   "cell_type": "code",
   "execution_count": null,
   "id": "9e3f9aac",
   "metadata": {
    "code_folding": [],
    "deletable": false,
    "editable": true,
    "nbgrader": {
     "cell_type": "code",
     "checksum": "323621866c05087e7116150fb983cc63",
     "grade": false,
     "grade_id": "helloworld",
     "locked": false,
     "schema_version": 3,
     "solution": true,
     "task": false
    },
    "slideshow": {
     "slide_type": "-"
    },
    "tags": [
     "remove-output"
    ]
   },
   "outputs": [],
   "source": [
    "def say_hello():\n",
    "    # YOUR CODE HERE\n",
    "    raise NotImplementedError\n",
    "\n",
    "say_hello()"
   ]
  },
  {
   "cell_type": "markdown",
   "id": "d1d724d8",
   "metadata": {
    "editable": true,
    "slideshow": {
     "slide_type": "subslide"
    }
   },
   "source": [
    ":::{attention}\n",
    "\n",
    "It's important to follow certain guidelines when writing your answers or code in the notebooks:\n",
    "\n",
    "- Only provide your answers in the cells that are designated for this purpose, which are usually labeled with `YOUR CODE HERE` or `YOUR ANSWER HERE`.\n",
    "- For coding exercises, be sure to remove the line `raise NotImplementedError()` from the cell before submitting your work.\n",
    "- Do not clone or duplicate the answer cells, as this can cause issues with version control and grading.\n",
    "\n",
    ":::"
   ]
  },
  {
   "cell_type": "markdown",
   "id": "9f6215b6",
   "metadata": {},
   "source": [
    "To test your program:\n",
    "\n",
    "- Run your program by selecting the solution cell and press <kbd>Shift + Enter</kbd>.\n",
    "- Then, run the following visible test to check whether your program prints the correct message."
   ]
  },
  {
   "cell_type": "code",
   "execution_count": null,
   "id": "b52ba470",
   "metadata": {
    "deletable": false,
    "editable": false,
    "nbgrader": {
     "cell_type": "code",
     "checksum": "4068a56e65aec0123a06748ff5b6586b",
     "grade": true,
     "grade_id": "test-helloworld",
     "locked": true,
     "points": 1,
     "schema_version": 3,
     "solution": false,
     "task": false
    },
    "slideshow": {
     "slide_type": "-"
    },
    "tags": [
     "remove-output"
    ]
   },
   "outputs": [],
   "source": [
    "# Run this test cell right after running your \"Hello, World!\" program.\n",
    "import io\n",
    "import sys\n",
    "\n",
    "old_stdout, sys.stdout = sys.stdout, io.StringIO()\n",
    "say_hello()\n",
    "printed = sys.stdout.getvalue()\n",
    "sys.stdout = old_stdout\n",
    "assert printed == \"Hello, World!\\n\""
   ]
  },
  {
   "cell_type": "markdown",
   "id": "39c6fef0",
   "metadata": {
    "editable": true,
    "slideshow": {
     "slide_type": ""
    }
   },
   "source": [
    "The test returns an assertion error if your program does not print the correct message."
   ]
  },
  {
   "cell_type": "markdown",
   "id": "0a911d6e",
   "metadata": {
    "editable": true,
    "slideshow": {
     "slide_type": ""
    }
   },
   "source": [
    "::::{tip}\n",
    "\n",
    "- You can repeatedly modify your solution and run the test cell until your solution passes the test. There is no mark penalty in failing the test before submission. \n",
    "- You should try to understand the error messages from a failed test.\n",
    "- To assess your solution thoroughly, we will run new tests hidden from you after you have submitted your notebook. Therefore, *you should ensure your solution works in general rather than just the visible tests*.\n",
    "- If you open the same notebook multiple times in different browser windows, be careful in making changes in different windows as you may overwrite your own changes.\n",
    "- If your notebook fails to run any code, the kernel might have died. You can restart the kernel with `Kernel`$\\to$ `Restart`. If restarting fails, check your code cells to see if there is anything that breaks the kernel such as an infinite loop.\n",
    "\n",
    "::::"
   ]
  },
  {
   "cell_type": "markdown",
   "id": "702532b5",
   "metadata": {
    "slideshow": {
     "slide_type": "slide"
    }
   },
   "source": [
    "### How to submit?"
   ]
  },
  {
   "cell_type": "markdown",
   "id": "6e4103a0",
   "metadata": {
    "editable": true,
    "slideshow": {
     "slide_type": "subslide"
    }
   },
   "source": [
    "To submit your notebooks:\n",
    "\n",
    "1. Select the menu item `Nbgrader`$\\to$`Assignment List`.\n",
    "1. Expand the Lab folder and click the `validate` button next to the notebook(s) to check if all the visible tests pass.\n",
    "1. Click `Submit` to submit your notebook."
   ]
  },
  {
   "cell_type": "markdown",
   "id": "b54c8138",
   "metadata": {},
   "source": [
    "Validation is important as it runs the notebook cells in order starting from a clean state. Re-executing cells in order in a Jupyter Notebook ensures that all dependencies and state changes are correctly applied, preventing misleading results from out-of-order execution. The autograding behavior may also be modified by the [environment variable `NBGRADER_EXECUTION`](https://nbgrader.readthedocs.io/en/latest/user_guide/faq.html#can-i-modify-the-notebook-behavior-during-autograding-or-validation)."
   ]
  },
  {
   "cell_type": "markdown",
   "id": "d84a46a4",
   "metadata": {},
   "source": [
    "::::{seealso} What is Nbgrader?\n",
    ":class: dropdown\n",
    "\n",
    "[Nbgrader](https://nbgrader.readthedocs.io/en/stable/) is a package for grading notebook assignments. It allows students to submit their notebooks directly through the JupyterHub server. Submitted notebooks can be both auto-graded with pre-defined test cases and manually graded with custom feedback. After grading is complete, you can check your scores and access the feedback using the same interface.\n",
    "\n",
    "::::"
   ]
  },
  {
   "cell_type": "markdown",
   "id": "e169adbf",
   "metadata": {
    "deletable": false,
    "editable": false,
    "nbgrader": {
     "cell_type": "markdown",
     "checksum": "7e52c573e2704bfbb0d2bf9d8886ad87",
     "grade": false,
     "grade_id": "Check",
     "locked": true,
     "schema_version": 3,
     "solution": false,
     "task": false
    },
    "slideshow": {
     "slide_type": "fragment"
    }
   },
   "source": [
    "In addition to validating your notebook, you may also:\n",
    "\n",
    "1. **Git-pull the notebooks**: Follow any one of the link on the course homepage to a notebook, which will git-pull any updates/corrections to (all) your notebooks.\n",
    "1. **Save the notebook**: Unsaved changes are not submitted, even though they are in the memory.\n",
    "1. **Restart the kernel**: `Kernel`$\\to$ `Restart Kernel...` to have a clean state before running visible tests.\n",
    "1. **run all cells**: `Run`$\\to$ `Run All Cells` to double check the results of the visible tests are as expected."
   ]
  },
  {
   "cell_type": "markdown",
   "id": "1f1b6e38",
   "metadata": {
    "editable": true,
    "slideshow": {
     "slide_type": ""
    }
   },
   "source": [
    "::::{caution}\n",
    "\n",
    "A common and costly mistake is forgetting to validate/submit the notebooks after completing the problem set. The grading may also fail under the following circumstances:\n",
    "\n",
    "- The notebook files have been renamed, for example, `Setup.ipynb` being changed or copied to `Setup (Copy).ipynb`.\n",
    "- An HTML file exists with the same name as a notebook, for example, `Setup.html`.\n",
    "- The file size is too large, e.g., exceeds `100MB`.\n",
    "- The code takes too long to run or requires an excessive amount of memory.\n",
    "\n",
    "It is essential to ensure that your submission meets these guidelines to avoid any issues with grading.\n",
    "\n",
    "::::"
   ]
  }
 ],
 "metadata": {
  "kernelspec": {
   "display_name": "Python 3 (ipykernel)",
   "language": "python",
   "name": "python3"
  }
 },
 "nbformat": 4,
 "nbformat_minor": 5
}
