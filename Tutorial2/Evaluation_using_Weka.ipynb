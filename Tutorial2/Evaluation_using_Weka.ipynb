{
 "cells": [
  {
   "cell_type": "markdown",
   "id": "92a07992",
   "metadata": {},
   "source": [
    "---\n",
    "title: Evaluation using Weka\n",
    "---"
   ]
  },
  {
   "cell_type": "code",
   "execution_count": null,
   "id": "af2bba40",
   "metadata": {},
   "outputs": [],
   "source": [
    "import os\n",
    "\n",
    "if not os.getenv(\n",
    "    \"NBGRADER_EXECUTION\"\n",
    "):\n",
    "    %load_ext jupyter_ai\n",
    "    %ai update chatgpt dive:chat\n",
    "    # %ai update chatgpt dive-azure:gpt4o"
   ]
  },
  {
   "cell_type": "markdown",
   "id": "d2e1a177",
   "metadata": {
    "slideshow": {
     "slide_type": "fragment"
    }
   },
   "source": [
    "In this notebook, you will learn to use Weka to complete [\\[Witten11\\] Exercises 17.1.3 to 17.1.10][Witten11]. You may refer to [Chapter 10][ch10] for a more detailed introduction to Weka. The following tip should be useful for providing your answers in this tutorial notebook and completing projects later on in the course.\n",
    "  \n",
    "[Witten11]: https://ebookcentral.proquest.com/lib/cityuhk/reader.action?docID=634862&ppg=595\n",
    "[visualize]: https://ebookcentral.proquest.com/lib/cityuhk/reader.action?docID=634862&ppg=597\n",
    "[ch10]: https://ebookcentral.proquest.com/lib/cityuhk/reader.action?ppg=438&docID=634862&tm=1547446912037"
   ]
  },
  {
   "cell_type": "markdown",
   "id": "a7aa75b6",
   "metadata": {},
   "source": [
    "::::{tip} How to add diagrams to notebooks?\n",
    "\n",
    "To include figures like [](#fig:dataset_editor) in your solution, refer to the [MyST guide](https://mystmd.org/guide/figures). While you can copy and paste images into a markdown cell, they will be difficult to edit.\n",
    "\n",
    "For annotating and combining screenshots, use the pre-installed [VSCode `Draw.io` extension](https://github.com/hediet/vscode-drawio). This tool allows you to copy and paste multiple images into a single file and annotate them using SVG elements, such as [](images/dataset_editor.dio.svg):\n",
    "\n",
    "1. Launch the VSCode interface. (See [](../Tutorial1/Learning_Materials.ipynb))\n",
    "2. Open the tutorial folder in VSCode.\n",
    "3. Create a file with the `.dio.svg` or `.drawio.svg` extension.\n",
    "4. Double-click the file to open it with `vscode-drawio` extension.\n",
    "\n",
    ":::{seealso} For more advanced features such as [typesetting math](https://www.drawio.com/doc/faq/math-typesetting):[^math_issue]\n",
    ":class: dropdown\n",
    "\n",
    "1. Draw the diagram using the [official `Draw.io` editor](https://app.diagrams.net/).\n",
    "2. Download the diagram by clicking `File` -> `Save As`, selecting `.svg` as the file type, and choosing `Download` as the location.\n",
    "3. Upload the `.drawio.svg` file to the tutorial folder. You may further edit it using `vscode-drawio` extension before attaching it to a notebook.\n",
    ":::\n",
    "\n",
    "::::\n",
    "\n",
    "[^math_issue]: See the [GitHub issue](https://github.com/hediet/vscode-drawio/issues/180) for `vscode-drawio` in typesetting math."
   ]
  },
  {
   "cell_type": "markdown",
   "id": "00d4f8e8",
   "metadata": {},
   "source": [
    "## Dataset Editor"
   ]
  },
  {
   "cell_type": "markdown",
   "id": "4533f52f",
   "metadata": {},
   "source": [
    "After loading the data in the preprocess panel, we can inspect or change the data using the dataset editor shown in [](#fig:dataset_editor)."
   ]
  },
  {
   "cell_type": "markdown",
   "id": "07a806db",
   "metadata": {},
   "source": [
    ":::{figure} images/dataset_editor.dio.svg\n",
    ":name: fig:dataset_editor\n",
    ":alt: Dataset editor\n",
    "\n",
    "Dataset editor.\n",
    ":::"
   ]
  },
  {
   "cell_type": "markdown",
   "id": "2a2e04da",
   "metadata": {
    "slideshow": {
     "slide_type": "subslide"
    }
   },
   "source": [
    "::::{exercise} Ex 17.1.3\n",
    ":label: ex:17.1.3\n",
    "::::"
   ]
  },
  {
   "cell_type": "markdown",
   "id": "7c5e3b12",
   "metadata": {
    "deletable": false,
    "nbgrader": {
     "cell_type": "markdown",
     "checksum": "439dcdac5ad6a2499e71a47bf96fd2c1",
     "grade": true,
     "grade_id": "Witten11-17-1-3",
     "locked": false,
     "points": 1,
     "schema_version": 3,
     "solution": true,
     "task": false
    },
    "slideshow": {
     "slide_type": "-"
    },
    "tags": [
     "remove-output"
    ]
   },
   "source": [
    "YOUR ANSWER HERE"
   ]
  },
  {
   "cell_type": "markdown",
   "id": "211849aa",
   "metadata": {
    "slideshow": {
     "slide_type": "subslide"
    }
   },
   "source": [
    "::::{exercise} Ex 17.1.4\n",
    ":label: ex:17.1.4\n",
    "::::"
   ]
  },
  {
   "cell_type": "markdown",
   "id": "2f9343c2",
   "metadata": {
    "deletable": false,
    "nbgrader": {
     "cell_type": "markdown",
     "checksum": "cd6d4b1b64c36b50eb5ad2b195cff2de",
     "grade": true,
     "grade_id": "Witten11-17-1-4",
     "locked": false,
     "points": 1,
     "schema_version": 3,
     "solution": true,
     "task": false
    },
    "slideshow": {
     "slide_type": "-"
    },
    "tags": [
     "remove-output"
    ]
   },
   "source": [
    "YOUR ANSWER HERE"
   ]
  },
  {
   "cell_type": "markdown",
   "id": "eed46f5a",
   "metadata": {
    "slideshow": {
     "slide_type": "subslide"
    }
   },
   "source": [
    "::::{exercise} Ex 17.1.5\n",
    ":label: ex:17.1.5\n",
    "::::"
   ]
  },
  {
   "cell_type": "markdown",
   "id": "ce039285",
   "metadata": {
    "deletable": false,
    "nbgrader": {
     "cell_type": "markdown",
     "checksum": "63bd09fef7bacd9021efe84fbd408f1f",
     "grade": true,
     "grade_id": "Witten11-17-1-5",
     "locked": false,
     "points": 1,
     "schema_version": 3,
     "solution": true,
     "task": false
    },
    "slideshow": {
     "slide_type": "-"
    },
    "tags": [
     "remove-output"
    ]
   },
   "source": [
    "YOUR ANSWER HERE"
   ]
  },
  {
   "cell_type": "markdown",
   "id": "fcf70b9e",
   "metadata": {},
   "source": [
    "## Applying a Filter"
   ]
  },
  {
   "cell_type": "markdown",
   "id": "b91f0537",
   "metadata": {},
   "source": [
    "We can also modify the data using filters. After selecting a filter, \n",
    "\n",
    "- left-click the filter to change its configuration or\n",
    "- right-click the filter configuration in Weka to copy the configuration to the clipboard as shown in [](#fig:filter)."
   ]
  },
  {
   "cell_type": "markdown",
   "id": "225c7069",
   "metadata": {},
   "source": [
    ":::{figure} images/filter.dio.svg\n",
    ":name: fig:filter\n",
    ":alt: Applying a filter\n",
    "\n",
    "Applying a filter.\n",
    ":::"
   ]
  },
  {
   "cell_type": "markdown",
   "id": "ef53a854",
   "metadata": {
    "slideshow": {
     "slide_type": "subslide"
    }
   },
   "source": [
    "::::{exercise} Ex 17.1.6-7\n",
    ":label: ex:17.1.6-7\n",
    "\n",
    ":::{attention}\n",
    "Give the configuration of the filter of interest. E.g., the following is the default configuration for the `RemoveWithValues` filter:\n",
    "\n",
    "```shell\n",
    "weka.filters.unsupervised.instance.RemoveWithValues -S 0.0 -C last -L first-last\n",
    "```\n",
    "\n",
    ":::\n",
    "\n",
    "::::"
   ]
  },
  {
   "cell_type": "markdown",
   "id": "82dcb38f",
   "metadata": {
    "deletable": false,
    "nbgrader": {
     "cell_type": "markdown",
     "checksum": "979493b18d2be7f57940affd8acf5fc2",
     "grade": true,
     "grade_id": "Witten11-17-1-67",
     "locked": false,
     "points": 1,
     "schema_version": 3,
     "solution": true,
     "task": false
    },
    "slideshow": {
     "slide_type": "-"
    },
    "tags": [
     "remove-output"
    ]
   },
   "source": [
    "YOUR ANSWER HERE"
   ]
  },
  {
   "cell_type": "markdown",
   "id": "d0871f07",
   "metadata": {},
   "source": [
    "::::{seealso} Weka's CLI\n",
    ":class: dropdown\n",
    "\n",
    "The configuration can be run in Weka's command line interface (CLI). See [the documentation](https://waikato.github.io/weka-wiki/making_predictions/) for details.\n",
    "\n",
    "::::"
   ]
  },
  {
   "cell_type": "markdown",
   "id": "e924ee91",
   "metadata": {},
   "source": [
    "## Classify Panel"
   ]
  },
  {
   "cell_type": "markdown",
   "id": "76e98653",
   "metadata": {},
   "source": [
    "To train a classifier, use the classify panel shown in [](#fig:classify) to select a classification algorithm and start the training."
   ]
  },
  {
   "cell_type": "markdown",
   "id": "ba20ce92",
   "metadata": {},
   "source": [
    ":::{figure} images/classify.dio.svg\n",
    ":name: fig:classify\n",
    ":alt: Classify panel\n",
    "\n",
    "Classify panel\n",
    ":::"
   ]
  },
  {
   "cell_type": "markdown",
   "id": "298fc8c4",
   "metadata": {},
   "source": [
    "1. The default test options use 10-fold cross-validation but we can choose to  \n",
    "    - use the training set for testing,\n",
    "    - supply a separate dataset for testing, or\n",
    "    - use only a specified percentage of the original data for training and holdout the remaining data for testing.\n",
    "2. After training, we can right-click the result in the result list to visualize the classifier errors. \n",
    "3. For decision tree classifier, we can sometimes visualize the tree in addition to its text representation from the Classifier output."
   ]
  },
  {
   "cell_type": "markdown",
   "id": "8f6ae498",
   "metadata": {
    "slideshow": {
     "slide_type": "subslide"
    }
   },
   "source": [
    "::::{exercise} Ex 17.1.8\n",
    ":label: ex:17.1.8\n",
    "::::"
   ]
  },
  {
   "cell_type": "markdown",
   "id": "c7ea26f3",
   "metadata": {
    "deletable": false,
    "nbgrader": {
     "cell_type": "markdown",
     "checksum": "fc9f35e945335120c28039a65fc6d1ce",
     "grade": true,
     "grade_id": "Witten11-17-1-8",
     "locked": false,
     "points": 1,
     "schema_version": 3,
     "solution": true,
     "task": false
    },
    "slideshow": {
     "slide_type": "-"
    },
    "tags": [
     "remove-output"
    ]
   },
   "source": [
    "YOUR ANSWER HERE"
   ]
  },
  {
   "cell_type": "markdown",
   "id": "31138cd2",
   "metadata": {
    "slideshow": {
     "slide_type": "subslide"
    }
   },
   "source": [
    "::::{exercise} Ex 17.1.9\n",
    ":label: ex:17.1.9\n",
    "::::"
   ]
  },
  {
   "cell_type": "markdown",
   "id": "224008bb",
   "metadata": {
    "deletable": false,
    "nbgrader": {
     "cell_type": "markdown",
     "checksum": "695e6921ccb4b42fbe56c91cd431b7f2",
     "grade": true,
     "grade_id": "Witten11-17-1-9",
     "locked": false,
     "points": 1,
     "schema_version": 3,
     "solution": true,
     "task": false
    },
    "slideshow": {
     "slide_type": "-"
    },
    "tags": [
     "remove-output"
    ]
   },
   "source": [
    "YOUR ANSWER HERE"
   ]
  },
  {
   "cell_type": "markdown",
   "id": "aff49d28",
   "metadata": {},
   "source": [
    "::::{exercise} Ex 17.1.10\n",
    ":label: ex:17.1.10\n",
    "::::"
   ]
  },
  {
   "cell_type": "markdown",
   "id": "99ac4b2f",
   "metadata": {
    "deletable": false,
    "nbgrader": {
     "cell_type": "markdown",
     "checksum": "29c4c5b4b489b53d8acd8e3913522061",
     "grade": true,
     "grade_id": "Witten11-17-1-10",
     "locked": false,
     "points": 1,
     "schema_version": 3,
     "solution": true,
     "task": false
    },
    "tags": [
     "remove-output"
    ]
   },
   "source": [
    "YOUR ANSWER HERE"
   ]
  },
  {
   "cell_type": "code",
   "execution_count": null,
   "id": "81b88f65",
   "metadata": {},
   "outputs": [],
   "source": [
    "%%ai chatgpt -f text\n",
    "Regardless of the test options, Weka runs the learning algorithm on the full\n",
    "dataset to obtain the model to deploy. Wouldn't this cause overfitting?"
   ]
  },
  {
   "cell_type": "markdown",
   "id": "0ed22713",
   "metadata": {},
   "source": [
    "::::{caution}\n",
    "\n",
    "LLMs can hallucinate, especially for concepts that require critical thinking.\n",
    "You should verify the answers with rigorous proofs or reasoning. Try modifying\n",
    "the prompt to force LLM to go through proper reasoning. You may need to clear\n",
    "the history to avoid the LLM being too absorbed into the previous prompts:\n",
    "\n",
    "```python\n",
    "%ai reset\n",
    "```\n",
    "\n",
    "::::"
   ]
  }
 ],
 "metadata": {
  "kernelspec": {
   "display_name": "Python 3 (ipykernel)",
   "language": "python",
   "name": "python3"
  }
 },
 "nbformat": 4,
 "nbformat_minor": 5
}
