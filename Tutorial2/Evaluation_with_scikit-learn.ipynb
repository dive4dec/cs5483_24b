{
 "cells": [
  {
   "cell_type": "markdown",
   "id": "5cf78ca5",
   "metadata": {},
   "source": [
    "---\n",
    "title: Evaluation with scikit-learn\n",
    "---"
   ]
  },
  {
   "cell_type": "code",
   "execution_count": null,
   "id": "6054af76",
   "metadata": {
    "init_cell": true,
    "slideshow": {
     "slide_type": "-"
    }
   },
   "outputs": [],
   "source": [
    "import os\n",
    "from functools import lru_cache\n",
    "\n",
    "import matplotlib.pyplot as plt\n",
    "import numpy as np\n",
    "import pandas as pd\n",
    "from IPython import display\n",
    "from ipywidgets import IntSlider, interact\n",
    "from sklearn import datasets, tree\n",
    "from sklearn.model_selection import (\n",
    "    StratifiedKFold,\n",
    "    cross_val_predict,\n",
    "    cross_val_score,\n",
    "    train_test_split,\n",
    ")\n",
    "\n",
    "%matplotlib widget\n",
    "if not os.getenv(\n",
    "    \"NBGRADER_EXECUTION\"\n",
    "):\n",
    "    %load_ext jupyter_ai\n",
    "    %ai update chatgpt dive:chat\n",
    "    # %ai update chatgpt dive-azure:gpt4o"
   ]
  },
  {
   "cell_type": "markdown",
   "id": "8adfa244",
   "metadata": {},
   "source": [
    "In this notebook, you will learn to use the popular Python package scikit-learn to evaluate a classifier. Compared to Weka GUI, the programming language gives a greater flexibility in controlling the learning process."
   ]
  },
  {
   "cell_type": "markdown",
   "id": "49052237",
   "metadata": {},
   "source": [
    "::::{tip} How to Use LLM for Programming\n",
    "\n",
    "You can instruct the LLM to:\n",
    "\n",
    "- Write programs to achieve specific goals.\n",
    "- Explain error messages and suggest fixes.\n",
    "\n",
    "The reply quality depends on prompt clarity and provided information:\n",
    "\n",
    "- For JupyterNaut, learn [how to include additional information](https://jupyter-ai.readthedocs.io/en/latest/users/index.html#asking-about-something-in-your-notebook) in your prompt.\n",
    "- For GitHub Copilot, include multiple files using [chat variables](https://docs.github.com/en/copilot/using-github-copilot/asking-github-copilot-questions-in-your-ide#chat-variables).\n",
    "\n",
    "::::"
   ]
  },
  {
   "cell_type": "markdown",
   "id": "fdd38c1f",
   "metadata": {},
   "source": [
    "## Data Preparation"
   ]
  },
  {
   "cell_type": "markdown",
   "id": "30383b47",
   "metadata": {},
   "source": [
    "### About the dataset"
   ]
  },
  {
   "cell_type": "markdown",
   "id": "a7a10b4d",
   "metadata": {},
   "source": [
    "We will use a popular dataset called the [*iris dataset*](https://en.wikipedia.org/wiki/Iris_flower_data_set). Iris is a flower with three different species shown below."
   ]
  },
  {
   "cell_type": "markdown",
   "id": "c15ee9a8",
   "metadata": {},
   "source": [
    "::::{grid} 1 1 3 3\n",
    "\n",
    ":::{figure} https://upload.wikimedia.org/wikipedia/commons/1/11/Iris_setosa_2.jpg\n",
    ":name: fig:iris-setosa\n",
    ":alt: Iris setosa\n",
    ":width: 300\n",
    ":align: left\n",
    "\n",
    "\n",
    "Iris setosa\n",
    ":::\n",
    "\n",
    ":::{figure} https://upload.wikimedia.org/wikipedia/commons/4/41/Iris_versicolor_3.jpg\n",
    ":name: fig:iris-versicolor\n",
    ":alt: Iris versicolor\n",
    ":width: 300\n",
    ":align: left\n",
    "\n",
    "Iris versicolor\n",
    ":::\n",
    "\n",
    ":::{figure} https://upload.wikimedia.org/wikipedia/commons/9/9f/Iris_virginica.jpg\n",
    ":name: fig:iris-virginica\n",
    ":alt: Iris virginica\n",
    ":width: 300\n",
    ":align: left\n",
    "\n",
    "Iris verginica\n",
    ":::\n",
    "\n",
    "::::"
   ]
  },
  {
   "cell_type": "markdown",
   "id": "8e33e35c",
   "metadata": {},
   "source": [
    "The three iris species differ in the lengths and widths of their *petals* and *sepals*."
   ]
  },
  {
   "cell_type": "markdown",
   "id": "1fc732bc",
   "metadata": {},
   "source": [
    "::::{figure} https://upload.wikimedia.org/wikipedia/commons/7/78/Petal-sepal.jpg\n",
    ":name: fig:petal-sepal\n",
    ":alt: petal and sepal\n",
    ":align: left\n",
    ":width: 300\n",
    "\n",
    "Petal and sepal of a flower\n",
    "::::"
   ]
  },
  {
   "cell_type": "markdown",
   "id": "09c8ad39",
   "metadata": {},
   "source": [
    "A standard data mining task is to train a model that can classify the spieces (*target*) automatically based on the lengths and widths of the petals and sepals (*input features*)."
   ]
  },
  {
   "cell_type": "markdown",
   "id": "8146380c",
   "metadata": {},
   "source": [
    "### Load dataset from scikit-learn"
   ]
  },
  {
   "cell_type": "markdown",
   "id": "a21061ab",
   "metadata": {},
   "source": [
    "**How to load the iris dataset?**"
   ]
  },
  {
   "cell_type": "markdown",
   "id": "2945cdb8",
   "metadata": {},
   "source": [
    "To load the iris dataset, we can simply import the [`sklearn.datasets` package](https://scikit-learn.org/stable/datasets/index.html)."
   ]
  },
  {
   "cell_type": "code",
   "execution_count": null,
   "id": "4751b72c",
   "metadata": {
    "colab": {
     "base_uri": "https://localhost:8080/",
     "height": 1000
    },
    "colab_type": "code",
    "id": "9gQINfrjsb4M",
    "outputId": "77b77a38-2712-4c93-c503-219e74f354fd",
    "slideshow": {
     "slide_type": "-"
    }
   },
   "outputs": [],
   "source": [
    "from sklearn import datasets\n",
    "\n",
    "iris = datasets.load_iris()\n",
    "type(iris)  # object type"
   ]
  },
  {
   "cell_type": "markdown",
   "id": "d80e7622",
   "metadata": {},
   "source": [
    "`sklearn` stores the dataset as a [`Bunch` object](https://scikit-learn.org/stable/modules/generated/sklearn.utils.Bunch.html), which is essentially [a bunch of properties](https://scikit-learn.org/stable/modules/generated/sklearn.datasets.load_iris.html) put together."
   ]
  },
  {
   "cell_type": "markdown",
   "id": "e34506ed",
   "metadata": {},
   "source": [
    "**How to learn more about a library?**"
   ]
  },
  {
   "cell_type": "markdown",
   "id": "f4e9f2b7",
   "metadata": {},
   "source": [
    "Detailed documentation can be found at [https://scikit-learn.org](https://scikit-learn.org/stable/modules/generated/sklearn.datasets.load_iris.html). You can also learn about the library in the notebook:"
   ]
  },
  {
   "cell_type": "code",
   "execution_count": null,
   "id": "e0c90593",
   "metadata": {
    "tags": [
     "remove-output",
     "output_scroll"
    ]
   },
   "outputs": [],
   "source": [
    "# Display the docstring\n",
    "datasets.load_iris?"
   ]
  },
  {
   "cell_type": "markdown",
   "id": "082b76d9",
   "metadata": {},
   "source": [
    "::::{tip}\n",
    "\n",
    "In a notebook, we can get the docstring (document string) of a function conveniently using the symbol ? such as:\n",
    "\n",
    "```python\n",
    "datasets.load_iris?\n",
    "```\n",
    "\n",
    "or `?datasets.load_iris`, which is the same as running `help(datasets.load_iris)`. You can also display the source code using double question mark `??` such as `datasets.load_iris??`.\n",
    "\n",
    "We can also use the contextual help by placing the cursor over a function name and\n",
    "\n",
    "- click the menu item `Help`->`Show Contextual Help` or\n",
    "- press the short-cut key <kbd>Shift + Tab</kbd>.\n",
    "\n",
    "::::"
   ]
  },
  {
   "cell_type": "markdown",
   "id": "cc80fd8f",
   "metadata": {},
   "source": [
    "**How to learn more about the dataset?**"
   ]
  },
  {
   "cell_type": "markdown",
   "id": "4cc2dbf1",
   "metadata": {
    "tags": [
     "output_scroll"
    ]
   },
   "source": [
    "The property `DESCR` (description) is a string that contains some background information about the dataset:"
   ]
  },
  {
   "cell_type": "code",
   "execution_count": null,
   "id": "ab017046",
   "metadata": {
    "colab": {
     "base_uri": "https://localhost:8080/",
     "height": 1000
    },
    "colab_type": "code",
    "id": "22xkaKQPwAKv",
    "outputId": "ac56ee89-3c2e-438c-a408-aefc3ba99266",
    "slideshow": {
     "slide_type": "-"
    },
    "tags": [
     "output_scroll"
    ]
   },
   "outputs": [],
   "source": [
    "print(iris.DESCR)"
   ]
  },
  {
   "cell_type": "markdown",
   "id": "2d85ec01",
   "metadata": {},
   "source": [
    "All the properties of an object can be listed using the built-in function `dir` (directory):"
   ]
  },
  {
   "cell_type": "code",
   "execution_count": null,
   "id": "ab5f8914",
   "metadata": {},
   "outputs": [],
   "source": [
    "dir(iris)"
   ]
  },
  {
   "cell_type": "markdown",
   "id": "954ae180",
   "metadata": {},
   "source": [
    "**How to show the data?**"
   ]
  },
  {
   "cell_type": "markdown",
   "id": "18358dda",
   "metadata": {},
   "source": [
    "The properties `data` and `target` contains the data values."
   ]
  },
  {
   "cell_type": "code",
   "execution_count": null,
   "id": "28769bf7",
   "metadata": {},
   "outputs": [],
   "source": [
    "type(iris.data), type(iris.target)"
   ]
  },
  {
   "cell_type": "markdown",
   "id": "af553b1b",
   "metadata": {},
   "source": [
    "The data are stored as `numpy` array, a powerful data type optimized for performance. It provides useful properties and methods to describe and process the data:"
   ]
  },
  {
   "cell_type": "code",
   "execution_count": null,
   "id": "0569be8c",
   "metadata": {},
   "outputs": [],
   "source": [
    "iris.data.shape, iris.data.ndim, iris.data.dtype"
   ]
  },
  {
   "cell_type": "markdown",
   "id": "d720cda7",
   "metadata": {},
   "source": [
    "::::{note} How does the Iris dataset look like?\n",
    "\n",
    "`iris.data` is a 150-by-4 2-dimensional array of 64-bit floating-point numbers.\n",
    "- 150 corresponds to the number of instances, while\n",
    "- 4 corresponds to the number of input attributes.\n",
    "\n",
    "::::"
   ]
  },
  {
   "cell_type": "markdown",
   "id": "56daaff1",
   "metadata": {},
   "source": [
    "To show the input feature names:"
   ]
  },
  {
   "cell_type": "code",
   "execution_count": null,
   "id": "7412dbbb",
   "metadata": {},
   "outputs": [],
   "source": [
    "iris.feature_names"
   ]
  },
  {
   "cell_type": "markdown",
   "id": "98496b50",
   "metadata": {},
   "source": [
    "To show the means and standard deviations of the input features:"
   ]
  },
  {
   "cell_type": "code",
   "execution_count": null,
   "id": "25aec9e3",
   "metadata": {},
   "outputs": [],
   "source": [
    "iris.data.mean(axis=0), iris.data.std(axis=0)"
   ]
  },
  {
   "cell_type": "markdown",
   "id": "24b9387c",
   "metadata": {},
   "source": [
    "All the public properties/methods of `numpy` array are printed below using [list comprehension](https://docs.python.org/3/tutorial/datastructures.html#list-comprehensions):"
   ]
  },
  {
   "cell_type": "code",
   "execution_count": null,
   "id": "15c5bd4d",
   "metadata": {
    "tags": [
     "output_scroll"
    ]
   },
   "outputs": [],
   "source": [
    "import numpy as np  # import numpy and rename it as np\n",
    "\n",
    "print([attr for attr in dir(np.ndarray) if attr[0] != \"_\"])\n",
    "# private attributes starting with underscore are not printed"
   ]
  },
  {
   "cell_type": "markdown",
   "id": "d490a2ca",
   "metadata": {},
   "source": [
    "**What is the target feature?**"
   ]
  },
  {
   "cell_type": "markdown",
   "id": "01701ff0",
   "metadata": {},
   "source": [
    "The target variable of the iris dataset is the flower type, whose names are stored by the following property:"
   ]
  },
  {
   "cell_type": "code",
   "execution_count": null,
   "id": "e397c0c2",
   "metadata": {},
   "outputs": [],
   "source": [
    "iris.target_names"
   ]
  },
  {
   "cell_type": "markdown",
   "id": "8f62a788",
   "metadata": {},
   "source": [
    "`iris.target` is an array of integer indices from `{0, 1, 2}` for the three classes."
   ]
  },
  {
   "cell_type": "code",
   "execution_count": null,
   "id": "45a8f5cf",
   "metadata": {},
   "outputs": [],
   "source": [
    "iris.target"
   ]
  },
  {
   "cell_type": "markdown",
   "id": "489b3e24",
   "metadata": {},
   "source": [
    "::::{exercise}\n",
    ":label: ex:data-info\n",
    "\n",
    "Complete the following cell with a tuple of the following properties for the target (instead of input features) of the iris dataset:\n",
    "- shape, \n",
    "- number of dimensions, and \n",
    "- the data types of the values.\n",
    "\n",
    ":::{tip}\n",
    "\n",
    "Your solution should look like the following using chained assignments:\n",
    "```python\n",
    "shape, ndim, dtype = iris.___.___, iris.___.___, iris.___.___\n",
    "```\n",
    ":::\n",
    "\n",
    "::::"
   ]
  },
  {
   "cell_type": "code",
   "execution_count": null,
   "id": "37c8c75d",
   "metadata": {
    "deletable": false,
    "nbgrader": {
     "cell_type": "code",
     "checksum": "b3eccf6d47dde7ed84670f494d58bc9e",
     "grade": false,
     "grade_id": "target-info",
     "locked": false,
     "schema_version": 3,
     "solution": true,
     "task": false
    },
    "tags": [
     "remove-output"
    ]
   },
   "outputs": [],
   "source": [
    "# YOUR CODE HERE\n",
    "raise NotImplementedError\n",
    "shape, ndim, dtype"
   ]
  },
  {
   "cell_type": "code",
   "execution_count": null,
   "id": "2cf42adf",
   "metadata": {
    "deletable": false,
    "editable": false,
    "nbgrader": {
     "cell_type": "code",
     "checksum": "ffef6369e8984fcbc2d63ce309eb5dcc",
     "grade": true,
     "grade_id": "test-target-info",
     "locked": true,
     "points": 1,
     "schema_version": 3,
     "solution": false,
     "task": false
    },
    "tags": [
     "hide-input",
     "remove-output"
    ]
   },
   "outputs": [],
   "source": [
    "# tests\n",
    "assert (\n",
    "    isinstance(shape, tuple) and isinstance(ndim, int) and isinstance(dtype, np.dtype)\n",
    ")"
   ]
  },
  {
   "cell_type": "code",
   "execution_count": null,
   "id": "482c066d",
   "metadata": {
    "deletable": false,
    "editable": false,
    "nbgrader": {
     "cell_type": "code",
     "checksum": "af88d24b5698ef317ffa29ec3baf041f",
     "grade": true,
     "grade_id": "htest-target-info",
     "locked": true,
     "points": 1,
     "schema_version": 3,
     "solution": false,
     "task": false
    },
    "tags": [
     "remove-cell"
    ]
   },
   "outputs": [],
   "source": [
    "# hidden tests"
   ]
  },
  {
   "cell_type": "markdown",
   "id": "895fff21",
   "metadata": {},
   "source": [
    "::::{exercise}\n",
    ":label: ex:min-max\n",
    "\n",
    "Fill in the following cell with a tuple of\n",
    "- the list of minimum values of the input features, and\n",
    "- the list of maximum values of the input features.\n",
    "\n",
    ":::{tip}\n",
    "\n",
    "You answer may look like:\n",
    "```python\n",
    "feature_min, feature_max = iris.___.___(axis=0), iris.___.___(axis=0)\n",
    "```\n",
    ":::\n",
    "\n",
    "::::"
   ]
  },
  {
   "cell_type": "code",
   "execution_count": null,
   "id": "d5bebd5b",
   "metadata": {
    "deletable": false,
    "nbgrader": {
     "cell_type": "code",
     "checksum": "27dc66a74c0e5bff1ae008984cc8a9c9",
     "grade": false,
     "grade_id": "feature-min-max",
     "locked": false,
     "schema_version": 3,
     "solution": true,
     "task": false
    },
    "tags": [
     "remove-output"
    ]
   },
   "outputs": [],
   "source": [
    "# YOUR CODE HERE\n",
    "raise NotImplementedError\n",
    "feature_min, feature_max"
   ]
  },
  {
   "cell_type": "code",
   "execution_count": null,
   "id": "f8bb5fa0",
   "metadata": {
    "deletable": false,
    "editable": false,
    "nbgrader": {
     "cell_type": "code",
     "checksum": "682d008708cf61ff0aeb94379bd910f8",
     "grade": true,
     "grade_id": "test-feature-min-max",
     "locked": true,
     "points": 1,
     "schema_version": 3,
     "solution": false,
     "task": false
    },
    "tags": [
     "hide-input",
     "remove-output"
    ]
   },
   "outputs": [],
   "source": [
    "# tests\n",
    "assert feature_min.shape == (4,) == feature_max.shape"
   ]
  },
  {
   "cell_type": "code",
   "execution_count": null,
   "id": "73b08c49",
   "metadata": {
    "deletable": false,
    "editable": false,
    "nbgrader": {
     "cell_type": "code",
     "checksum": "4df778c404c78ec4f3c6ec75c89aff65",
     "grade": true,
     "grade_id": "htest-feature-min-max",
     "locked": true,
     "points": 1,
     "schema_version": 3,
     "solution": false,
     "task": false
    },
    "tags": [
     "remove-cell"
    ]
   },
   "outputs": [],
   "source": [
    "# hidden tests"
   ]
  },
  {
   "cell_type": "markdown",
   "id": "c20e7b97",
   "metadata": {},
   "source": [
    "### Create pandas DataFrame"
   ]
  },
  {
   "cell_type": "markdown",
   "id": "6c80783a",
   "metadata": {},
   "source": [
    "The package [`pandas`](https://pandas.pydata.org/docs/user_guide/index.html) provides additional tools to display and process a dataset. \n",
    "First, we translate the `Bunch` object into a `pandas` [`DataFrame` object](https://pandas.pydata.org/docs/reference/api/pandas.DataFrame.html?highlight=dataframe#pandas.DataFrame)."
   ]
  },
  {
   "cell_type": "code",
   "execution_count": null,
   "id": "dcb90ed7",
   "metadata": {
    "colab": {
     "base_uri": "https://localhost:8080/",
     "height": 418
    },
    "colab_type": "code",
    "id": "ZE5pla5bszpB",
    "outputId": "c37a554b-b30f-4329-f89d-b614815b4675",
    "slideshow": {
     "slide_type": "-"
    }
   },
   "outputs": [],
   "source": [
    "import pandas as pd\n",
    "\n",
    "# write the input features first\n",
    "iris_df = pd.DataFrame(data=iris.data, columns=iris.feature_names)\n",
    "\n",
    "# append the target values to the last column\n",
    "iris_df[\"target\"] = iris.target\n",
    "\n",
    "iris_df  # to display the DataFrame"
   ]
  },
  {
   "cell_type": "markdown",
   "id": "37a4d99d",
   "metadata": {},
   "source": [
    "In jupyter notebook, a `DataFrame` object is conveniently displayed as an HTML table. We can control how much information to show by setting the [display options](https://pandas.pydata.org/pandas-docs/stable/user_guide/options.html)."
   ]
  },
  {
   "cell_type": "markdown",
   "id": "09e18139",
   "metadata": {},
   "source": [
    "We can also display the statistics of different numerical attributes using the method `describe` and `boxplot`."
   ]
  },
  {
   "cell_type": "code",
   "execution_count": null,
   "id": "596b8b7c",
   "metadata": {
    "slideshow": {
     "slide_type": "-"
    }
   },
   "outputs": [],
   "source": [
    "iris_df.describe()"
   ]
  },
  {
   "cell_type": "code",
   "execution_count": null,
   "id": "82238209",
   "metadata": {
    "slideshow": {
     "slide_type": "-"
    }
   },
   "outputs": [],
   "source": [
    "plt.figure(1, clear=True)\n",
    "iris_df.boxplot()\n",
    "plt.show()"
   ]
  },
  {
   "cell_type": "markdown",
   "id": "9ee49ac8",
   "metadata": {},
   "source": [
    "**How to handle nominal class attribute?**"
   ]
  },
  {
   "cell_type": "markdown",
   "id": "f70c3392",
   "metadata": {},
   "source": [
    "Note that the boxplot also covers the target attribute, but it should not. (Why?) Let's take a look at the current datatypes of the different attributes."
   ]
  },
  {
   "cell_type": "code",
   "execution_count": null,
   "id": "63061d54",
   "metadata": {
    "slideshow": {
     "slide_type": "fragment"
    }
   },
   "outputs": [],
   "source": [
    "print(iris_df.dtypes)"
   ]
  },
  {
   "cell_type": "markdown",
   "id": "adda2623",
   "metadata": {},
   "source": [
    "The target is regarded as a numeric attribute with type integer `int64`. Instead, the target should be categorical with only three possible values, one for each iris species."
   ]
  },
  {
   "cell_type": "markdown",
   "id": "a8ebcec1",
   "metadata": {},
   "source": [
    "To fix this, we can use the `astype` method to convert the data type automatically.[^categorical] \n",
    "\n",
    "[^categorical]: See the details about cateogrical data type [here](https://pandas.pydata.org/pandas-docs/stable/user_guide/categorical.html#series-creation.section)."
   ]
  },
  {
   "cell_type": "code",
   "execution_count": null,
   "id": "32da4589",
   "metadata": {
    "slideshow": {
     "slide_type": "fragment"
    }
   },
   "outputs": [],
   "source": [
    "iris_df.target = iris_df.target.astype(\"category\")\n",
    "iris_df.dtypes"
   ]
  },
  {
   "cell_type": "code",
   "execution_count": null,
   "id": "e6a9f20e",
   "metadata": {},
   "outputs": [],
   "source": [
    "plt.figure(num=2, clear=True)\n",
    "iris_df.select_dtypes(exclude=['category']).boxplot()\n",
    "plt.show()"
   ]
  },
  {
   "cell_type": "markdown",
   "id": "89ffb884",
   "metadata": {},
   "source": [
    "We can also rename the target categories `{0, 1, 2}` to the more meaningful names of the iris species in `iris.target_names`.[^renaming-categories]\n",
    "\n",
    "[^renaming-categories]: See the [documentation](https://pandas.pydata.org/pandas-docs/stable/user_guide/categorical.html#renaming-categories).)"
   ]
  },
  {
   "cell_type": "code",
   "execution_count": null,
   "id": "6e75f292",
   "metadata": {
    "slideshow": {
     "slide_type": "-"
    }
   },
   "outputs": [],
   "source": [
    "iris_df.target = iris_df.target.cat.rename_categories(iris.target_names)\n",
    "iris_df  # check that the target values are now setosa, versicolor, or virginica."
   ]
  },
  {
   "cell_type": "markdown",
   "id": "f2d6452c",
   "metadata": {},
   "source": [
    "::::{exercise}\n",
    ":label: ex:counts\n",
    "\n",
    "For nominal attributes, a more meaningful statistic than the mean is the counts of different possible values. To count the number of instances for each flower class, assign `target_counts` to the output of the `value_counts` method of an appropriate column of `iris_df`.\n",
    "\n",
    ":::{tip}\n",
    "\n",
    "Your solution should look like:\n",
    "```python\n",
    "target_counts = iris_df.target.___()\n",
    "```\n",
    "\n",
    ":::\n",
    "\n",
    "::::"
   ]
  },
  {
   "cell_type": "code",
   "execution_count": null,
   "id": "ed91c407",
   "metadata": {
    "deletable": false,
    "nbgrader": {
     "cell_type": "code",
     "checksum": "80f0e55461c042a3a514f10fecdbb29f",
     "grade": false,
     "grade_id": "target_counts",
     "locked": false,
     "schema_version": 3,
     "solution": true,
     "task": false
    },
    "tags": [
     "remove-output"
    ]
   },
   "outputs": [],
   "source": [
    "# YOUR CODE HERE\n",
    "raise NotImplementedError\n",
    "target_counts"
   ]
  },
  {
   "cell_type": "code",
   "execution_count": null,
   "id": "57050a62",
   "metadata": {
    "deletable": false,
    "editable": false,
    "nbgrader": {
     "cell_type": "code",
     "checksum": "68b316e46cb3baa8cdc5895a207ddf91",
     "grade": true,
     "grade_id": "test-target_counts",
     "locked": true,
     "points": 1,
     "schema_version": 3,
     "solution": false,
     "task": false
    },
    "tags": [
     "hide-input",
     "remove-output"
    ]
   },
   "outputs": [],
   "source": [
    "# tests\n",
    "assert target_counts.shape == (3,)"
   ]
  },
  {
   "cell_type": "code",
   "execution_count": null,
   "id": "0bf0ccd6",
   "metadata": {
    "deletable": false,
    "editable": false,
    "nbgrader": {
     "cell_type": "code",
     "checksum": "933624bf6a3e6b1441eb8b7373cd653c",
     "grade": true,
     "grade_id": "htest-target_counts",
     "locked": true,
     "points": 1,
     "schema_version": 3,
     "solution": false,
     "task": false
    },
    "tags": [
     "remove-cell"
    ]
   },
   "outputs": [],
   "source": [
    "# hidden tests"
   ]
  },
  {
   "cell_type": "markdown",
   "id": "db8385c3",
   "metadata": {},
   "source": [
    "**How to select rows and columns?**"
   ]
  },
  {
   "cell_type": "markdown",
   "id": "464b74a9",
   "metadata": {},
   "source": [
    "The following uses [`ipywidgets`](https://ipywidgets.readthedocs.io/en/latest/) to demonstrate different ways of selecting (slicing) the rows of a `DataFrame`:[^decorator]\n",
    "\n",
    "[^decorator]: `@interact(...)` is a decorator that adds interactive widgets to the following function `def select_rows`. See [decorator in pydoc](https://docs.python.org/3/glossary.html#term-decorator)."
   ]
  },
  {
   "cell_type": "code",
   "execution_count": null,
   "id": "17cdebef",
   "metadata": {
    "slideshow": {
     "slide_type": "-"
    }
   },
   "outputs": [],
   "source": [
    "from ipywidgets import interact\n",
    "\n",
    "\n",
    "@interact(\n",
    "    command=[\n",
    "        \"iris_df.head()\",\n",
    "        \"iris_df[0:4]\",\n",
    "        \"iris_df.iloc[0:4]\",\n",
    "        \"iris_df.loc[0:4]\",\n",
    "        \"iris_df.loc[iris_df.index.isin(range(0,4))]\",\n",
    "        \"iris_df.loc[lambda df: df.target=='setosa']\",\n",
    "        \"iris_df.tail()\",\n",
    "        \"iris_df[-1:]\",\n",
    "    ]\n",
    ")\n",
    "def select_rows(command):\n",
    "    output = eval(command)\n",
    "    display.display(output)"
   ]
  },
  {
   "cell_type": "markdown",
   "id": "ed812cbf",
   "metadata": {},
   "source": [
    "The following demonstrates different ways to slice columns:"
   ]
  },
  {
   "cell_type": "code",
   "execution_count": null,
   "id": "6b066ec2",
   "metadata": {
    "slideshow": {
     "slide_type": "-"
    }
   },
   "outputs": [],
   "source": [
    "@interact(\n",
    "    command=[\n",
    "        \"iris_df.target\",\n",
    "        'iris_df[\"target\"]',\n",
    "        'iris_df[[\"target\"]]',\n",
    "        \"iris_df[iris_df.columns[:-1]]\",\n",
    "        \"iris_df.loc[:,iris_df.columns[0]:iris_df.columns[-1]]\",\n",
    "        'iris_df.loc[:,~iris_df.columns.isin([\"target\"])]',\n",
    "        \"iris_df.iloc[:,:-1]\",\n",
    "    ]\n",
    ")\n",
    "def select_columns(command):\n",
    "    output = eval(command)\n",
    "    display.display(output)"
   ]
  },
  {
   "cell_type": "markdown",
   "id": "d19d4db5",
   "metadata": {},
   "source": [
    "For instance, to compute the mean values of the input features for iris setosa:"
   ]
  },
  {
   "cell_type": "code",
   "execution_count": null,
   "id": "f9ae2e59",
   "metadata": {},
   "outputs": [],
   "source": [
    "iris_df"
   ]
  },
  {
   "cell_type": "code",
   "execution_count": null,
   "id": "ae3c6daa",
   "metadata": {},
   "outputs": [],
   "source": [
    "iris_df.iloc[lambda df: (df[\"target\"] == \"setosa\").to_numpy(), :-1].mean()"
   ]
  },
  {
   "cell_type": "markdown",
   "id": "c7d77af9",
   "metadata": {},
   "source": [
    "We can also use the method `groupby` to obtain the mean values by flower types:"
   ]
  },
  {
   "cell_type": "code",
   "execution_count": null,
   "id": "07256d13",
   "metadata": {},
   "outputs": [],
   "source": [
    "iris_df.groupby(\"target\", observed=False).mean()"
   ]
  },
  {
   "cell_type": "markdown",
   "id": "963d05cf",
   "metadata": {},
   "source": [
    "::::{exercise}\n",
    ":label: ex:drop\n",
    "\n",
    "Using the method `drop`, create a new `DataFrame` `iris2d_df` by dropping the first two features `sepal length (cm)` and `sepal width (cm)` from `iris_df`.\n",
    "::::"
   ]
  },
  {
   "cell_type": "code",
   "execution_count": null,
   "id": "5e9ac237",
   "metadata": {
    "deletable": false,
    "nbgrader": {
     "cell_type": "code",
     "checksum": "8897264340a873d3d1347abbebbc6400",
     "grade": false,
     "grade_id": "iris2d",
     "locked": false,
     "schema_version": 3,
     "solution": true,
     "task": false
    },
    "tags": [
     "remove-output"
    ]
   },
   "outputs": [],
   "source": [
    "# YOUR CODE HERE\n",
    "raise NotImplementedError\n",
    "iris2d_df"
   ]
  },
  {
   "cell_type": "code",
   "execution_count": null,
   "id": "032439bb",
   "metadata": {
    "deletable": false,
    "editable": false,
    "nbgrader": {
     "cell_type": "code",
     "checksum": "62668aeb2585295c8f6eefddca62d45e",
     "grade": true,
     "grade_id": "test-iris2d",
     "locked": true,
     "points": 1,
     "schema_version": 3,
     "solution": false,
     "task": false
    },
    "tags": [
     "hide-input",
     "remove-output"
    ]
   },
   "outputs": [],
   "source": [
    "# tests\n",
    "assert set(iris2d_df.columns) == {\"petal length (cm)\", \"petal width (cm)\", \"target\"}"
   ]
  },
  {
   "cell_type": "code",
   "execution_count": null,
   "id": "cee3ee51",
   "metadata": {
    "deletable": false,
    "editable": false,
    "nbgrader": {
     "cell_type": "code",
     "checksum": "71e57cc1145c2127b72f8ff082c596d6",
     "grade": true,
     "grade_id": "htest-iris2d",
     "locked": true,
     "points": 1,
     "schema_version": 3,
     "solution": false,
     "task": false
    },
    "tags": [
     "remove-cell"
    ]
   },
   "outputs": [],
   "source": [
    "## hidden tests"
   ]
  },
  {
   "cell_type": "markdown",
   "id": "1d274069",
   "metadata": {},
   "source": [
    "### Alternative methods of loading a dataset"
   ]
  },
  {
   "cell_type": "markdown",
   "id": "ef338a39",
   "metadata": {},
   "source": [
    "The following code loads the iris dataset from an [ARFF file](https://waikato.github.io/weka-wiki/formats_and_processing/arff/) instead."
   ]
  },
  {
   "cell_type": "code",
   "execution_count": null,
   "id": "8a3b06ca",
   "metadata": {},
   "outputs": [],
   "source": [
    "import io\n",
    "import urllib.request\n",
    "\n",
    "from scipy.io import arff\n",
    "\n",
    "ftpstream = urllib.request.urlopen(\n",
    "    \"https://raw.githubusercontent.com/Waikato/weka-3.8/master/wekadocs/data/iris.arff\"\n",
    ")\n",
    "iris_arff = arff.loadarff(io.StringIO(ftpstream.read().decode(\"utf-8\")))\n",
    "iris_df2 = pd.DataFrame(iris_arff[0])\n",
    "iris_df2[\"class\"] = iris_df2[\"class\"].astype(\"category\")\n",
    "iris_df2"
   ]
  },
  {
   "cell_type": "markdown",
   "id": "ba41314a",
   "metadata": {},
   "source": [
    "Pandas also provides a method to read the iris dataset directly from a CSV file locally or the internet, such as the [UCI respository](https://archive.ics.uci.edu/ml/datasets/iris)."
   ]
  },
  {
   "cell_type": "code",
   "execution_count": null,
   "id": "874b1aef",
   "metadata": {
    "slideshow": {
     "slide_type": "-"
    }
   },
   "outputs": [],
   "source": [
    "iris_df3 = pd.read_csv(\n",
    "    \"https://archive.ics.uci.edu/ml/machine-learning-databases/iris/iris.data\",\n",
    "    sep=\",\",\n",
    "    dtype={\"target\": \"category\"},\n",
    "    header=None,\n",
    "    names=iris.feature_names + [\"target\"],\n",
    ")\n",
    "iris_df3"
   ]
  },
  {
   "cell_type": "markdown",
   "id": "8c1fc22c",
   "metadata": {},
   "source": [
    "The additional arguments `dtype`, `header`, and `names` allow us to specify the attribute datatypes and names."
   ]
  },
  {
   "cell_type": "markdown",
   "id": "9db911e2",
   "metadata": {},
   "source": [
    "## Training and Testing"
   ]
  },
  {
   "cell_type": "markdown",
   "id": "aef802bc",
   "metadata": {},
   "source": [
    "To obtain unbiased performance estimates of a learning algorithm, the fundamental principle is *to use separate datasets for training and testing*. If there is only one dataset, we can split it into *training sets* and *test sets* by *random sampling*. In the following subsections, we will illustrate some methods of splitting the datasets for training and testing."
   ]
  },
  {
   "cell_type": "markdown",
   "id": "e7641417",
   "metadata": {},
   "source": [
    "### Stratified holdout method"
   ]
  },
  {
   "cell_type": "markdown",
   "id": "b6430cba",
   "metadata": {},
   "source": [
    "The (stratified) holdout method randomly samples data for training or testing without replacement. It is implemented by the `train_test_split` function from the `sklearn.model_selection` package."
   ]
  },
  {
   "cell_type": "code",
   "execution_count": null,
   "id": "722a7daa",
   "metadata": {
    "colab": {},
    "colab_type": "code",
    "id": "t3tbDaTINzM4",
    "slideshow": {
     "slide_type": "fragment"
    }
   },
   "outputs": [],
   "source": [
    "from sklearn.model_selection import train_test_split\n",
    "\n",
    "X_train, X_test, Y_train, Y_test = train_test_split(\n",
    "    iris_df[iris.feature_names],  # We also separated the input features\n",
    "    iris_df.target,  # and target as X and Y for the training and test sets.\n",
    "    test_size=0.2,  # fraction for test set\n",
    "    random_state=1,\n",
    "    stratify=iris_df.target,\n",
    ")  # random seed\n",
    "\n",
    "X_train.shape, X_test.shape, Y_train.shape, Y_test.shape"
   ]
  },
  {
   "cell_type": "markdown",
   "id": "3e76aa1a",
   "metadata": {},
   "source": [
    "The fraction of holdout test data is:"
   ]
  },
  {
   "cell_type": "code",
   "execution_count": null,
   "id": "45148f0e",
   "metadata": {},
   "outputs": [],
   "source": [
    "len(Y_test) / (len(Y_test) + len(Y_train))"
   ]
  },
  {
   "cell_type": "markdown",
   "id": "3ec51519",
   "metadata": {},
   "source": [
    "The class proportion of the iris dataset can be plotted as follows:"
   ]
  },
  {
   "cell_type": "code",
   "execution_count": null,
   "id": "4ae57b65",
   "metadata": {},
   "outputs": [],
   "source": [
    "plt.figure(num=3, clear=True)\n",
    "iris_df.target.value_counts().plot(kind=\"bar\", ylabel=\"counts\")\n",
    "plt.show()\n",
    "_code = In[-1].rsplit(maxsplit=1)[0] # store the code for chatting with LLM"
   ]
  },
  {
   "cell_type": "markdown",
   "id": "1b8b4797",
   "metadata": {},
   "source": [
    "::::{tip}\n",
    "\n",
    "The last line of code captures the cell content using [`In` variable](https://ipython.org/ipython-doc/3/interactive/reference.html#input-caching-system) and assign it to `_code` to be [interpolated in the subsequent prompt to the LLM](https://jupyter-ai.readthedocs.io/en/latest/users/index.html#interpolating-in-prompts).\n",
    "\n",
    "::::"
   ]
  },
  {
   "cell_type": "code",
   "execution_count": null,
   "id": "52e28616",
   "metadata": {},
   "outputs": [],
   "source": [
    "%%ai chatgpt -f text\n",
    "The label of the x-axis is too long and they got clipped. How to fix?\n",
    "--\n",
    "{_code}"
   ]
  },
  {
   "cell_type": "markdown",
   "id": "9f5e1733",
   "metadata": {},
   "source": [
    "We can check the effect of stratification on the class proportions:"
   ]
  },
  {
   "cell_type": "code",
   "execution_count": null,
   "id": "cba79819",
   "metadata": {
    "slideshow": {
     "slide_type": "-"
    }
   },
   "outputs": [],
   "source": [
    "@interact(stratify=False, data=[\"Y_train\", \"Y_test\"], seed=(0, 10))\n",
    "def plot_class_proportions(stratify, data, seed=0):\n",
    "    Y_train, Y_test = train_test_split(\n",
    "        iris_df.target,\n",
    "        test_size=0.2,\n",
    "        random_state=seed,\n",
    "        stratify=iris_df.target if stratify else None,\n",
    "    )\n",
    "    plt.figure(num=4, clear=True)\n",
    "    eval(data).value_counts().sort_index().plot(kind=\"bar\", ylabel=\"counts\")\n",
    "    plt.xticks(rotation=45, ha='right')\n",
    "    plt.tight_layout()\n",
    "    plt.show()"
   ]
  },
  {
   "cell_type": "markdown",
   "id": "6e9e52b0",
   "metadata": {},
   "source": [
    "We first apply a learning algorithm, say the decision tree induction algorithm, to train a classifier using only the training set."
   ]
  },
  {
   "cell_type": "code",
   "execution_count": null,
   "id": "e2a87bc1",
   "metadata": {
    "colab": {},
    "colab_type": "code",
    "id": "EllmT0GtOaWi",
    "slideshow": {
     "slide_type": "fragment"
    }
   },
   "outputs": [],
   "source": [
    "from sklearn import tree\n",
    "\n",
    "clf = tree.DecisionTreeClassifier(random_state=0)  # the training is also randomized\n",
    "clf.fit(X_train, Y_train)  # fit the model to the training set"
   ]
  },
  {
   "cell_type": "markdown",
   "id": "08cd51ea",
   "metadata": {},
   "source": [
    "We can use the `predict` method of the trained classifier to predict the flower type from input features."
   ]
  },
  {
   "cell_type": "code",
   "execution_count": null,
   "id": "c37ae862",
   "metadata": {},
   "outputs": [],
   "source": [
    "Y_pred = clf.predict(X_test)\n",
    "Y_pred"
   ]
  },
  {
   "cell_type": "markdown",
   "id": "2d956e6e",
   "metadata": {},
   "source": [
    "The following code returns the accuracy of the classifier, namely, the fraction of correct predictions on the test set."
   ]
  },
  {
   "cell_type": "code",
   "execution_count": null,
   "id": "ec762e09",
   "metadata": {},
   "outputs": [],
   "source": [
    "accuracy_holdout = (Y_pred == Y_test).mean()\n",
    "accuracy_holdout"
   ]
  },
  {
   "cell_type": "markdown",
   "id": "1dba0aac",
   "metadata": {},
   "source": [
    "The `score` method performs essentially the same computation. The following code uses f-string to format the accuracy to 3 decimal places."
   ]
  },
  {
   "cell_type": "code",
   "execution_count": null,
   "id": "00bee852",
   "metadata": {},
   "outputs": [],
   "source": [
    "print(f\"Accuracy: {clf.score(X_test, Y_test):0.3f}\")"
   ]
  },
  {
   "cell_type": "markdown",
   "id": "5231cca6",
   "metadata": {},
   "source": [
    "To see input features of misclassified test instances:"
   ]
  },
  {
   "cell_type": "code",
   "execution_count": null,
   "id": "daf08ddb",
   "metadata": {},
   "outputs": [],
   "source": [
    "X_test[Y_pred != Y_test]"
   ]
  },
  {
   "cell_type": "markdown",
   "id": "eea45b07",
   "metadata": {},
   "source": [
    "::::{exercise}\n",
    ":label: ex:accuracy\n",
    "\n",
    "Assign `accuracy_holdout_training_set` to the accuracy of the predictions on the training set. Check that the accuracy is overly optimistic.\n",
    "::::"
   ]
  },
  {
   "cell_type": "code",
   "execution_count": null,
   "id": "a0fe80af",
   "metadata": {
    "deletable": false,
    "nbgrader": {
     "cell_type": "code",
     "checksum": "748495b981ca779088dcb475f949268b",
     "grade": false,
     "grade_id": "accuracy_holdout_training_set",
     "locked": false,
     "schema_version": 3,
     "solution": true,
     "task": false
    },
    "tags": [
     "hide-input",
     "remove-output"
    ]
   },
   "outputs": [],
   "source": [
    "# YOUR CODE HERE\n",
    "raise NotImplementedError\n",
    "accuracy_holdout_training_set"
   ]
  },
  {
   "cell_type": "code",
   "execution_count": null,
   "id": "14417611",
   "metadata": {
    "deletable": false,
    "editable": false,
    "nbgrader": {
     "cell_type": "code",
     "checksum": "a5367ecea97657d0c7f04d774adfaa2f",
     "grade": true,
     "grade_id": "test-accuracy_holdout_training_set",
     "locked": true,
     "points": 1,
     "schema_version": 3,
     "solution": false,
     "task": false
    },
    "tags": [
     "remove-cell"
    ]
   },
   "outputs": [],
   "source": [
    "# hidden tests"
   ]
  },
  {
   "cell_type": "markdown",
   "id": "2ed85efc",
   "metadata": {},
   "source": [
    "::::{exercise}\n",
    ":label: ex:classify\n",
    "\n",
    "Complete the following function which applies random subsampling to reduce the variance of the accuracy estimate. In particular, the function `subsampling_score` should return the average of `N` accuracies of $20\\%$ stratified holdout with random seed set from `0` up to `N-1`, where `N` is the integer input argument of the function.\n",
    "::::"
   ]
  },
  {
   "cell_type": "code",
   "execution_count": null,
   "id": "19c4bf32",
   "metadata": {
    "deletable": false,
    "nbgrader": {
     "cell_type": "code",
     "checksum": "a8de90fabea2bd73ef80b87a5892e91b",
     "grade": false,
     "grade_id": "subsampling",
     "locked": false,
     "schema_version": 3,
     "solution": true,
     "task": false
    },
    "slideshow": {
     "slide_type": "-"
    },
    "tags": [
     "remove-output"
    ]
   },
   "outputs": [],
   "source": [
    "from functools import lru_cache\n",
    "\n",
    "import numpy as np\n",
    "\n",
    "\n",
    "@lru_cache(None)  # cache the return value to avoid repeated computation\n",
    "def holdout_score(seed):\n",
    "    clf = tree.DecisionTreeClassifier(random_state=seed)\n",
    "    X_train, X_test, Y_train, Y_test = train_test_split(\n",
    "        iris_df[iris.feature_names], iris_df.target, test_size=0.2, random_state=seed\n",
    "    )\n",
    "    # YOUR CODE HERE\n",
    "    raise NotImplementedError\n",
    "\n",
    "\n",
    "@lru_cache(None)\n",
    "def subsampling_score(N):\n",
    "    return sum(holdout_score(i) for i in range(N)) / N"
   ]
  },
  {
   "cell_type": "code",
   "execution_count": null,
   "id": "3dce180e",
   "metadata": {
    "deletable": false,
    "editable": false,
    "nbgrader": {
     "cell_type": "code",
     "checksum": "3c20b96e07a28aaa2b9889de7c89ade0",
     "grade": true,
     "grade_id": "test-subsampling",
     "locked": true,
     "points": 1,
     "schema_version": 3,
     "solution": false,
     "task": false
    },
    "tags": [
     "hide-input",
     "remove-output"
    ]
   },
   "outputs": [],
   "source": [
    "# tests\n",
    "assert np.isclose(subsampling_score(50), 0.9466666666666663)"
   ]
  },
  {
   "cell_type": "code",
   "execution_count": null,
   "id": "5fc872cc",
   "metadata": {
    "deletable": false,
    "editable": false,
    "nbgrader": {
     "cell_type": "code",
     "checksum": "fec78d6ef292f40f4af702b7dcf2a955",
     "grade": true,
     "grade_id": "htest-subsampling",
     "locked": true,
     "points": 1,
     "schema_version": 3,
     "solution": false,
     "task": false
    },
    "tags": [
     "remove-cell"
    ]
   },
   "outputs": [],
   "source": [
    "# hidden tests"
   ]
  },
  {
   "cell_type": "markdown",
   "id": "b83946a4",
   "metadata": {},
   "source": [
    "After implementing `subsampling_score`, the following code should plot the mean accuracies for different `N`. Check that the variation becomes smaller as `N` increases."
   ]
  },
  {
   "cell_type": "code",
   "execution_count": null,
   "id": "82e5beca",
   "metadata": {
    "tags": [
     "remove-output"
    ]
   },
   "outputs": [],
   "source": [
    "plt.figure(num=5, clear=True)\n",
    "plt.stem([subsampling_score(i) for i in range(1, 50)])\n",
    "plt.xlabel(r\"$N$\")\n",
    "plt.ylabel(r\"Mean accuracy\")\n",
    "plt.show()"
   ]
  },
  {
   "cell_type": "markdown",
   "id": "e10dd37d",
   "metadata": {},
   "source": [
    "### Stratified cross-validation"
   ]
  },
  {
   "cell_type": "markdown",
   "id": "f02bfa20",
   "metadata": {},
   "source": [
    "A popular method of evaluating a classification algorithm is to randomly partition the data into $k$ *folds*, which are nearly equal-sized blocks of instances. The score is the average of the accuracies obtained by using each fold to test a classifier trained using the remaining folds."
   ]
  },
  {
   "cell_type": "markdown",
   "id": "8bb6e94a",
   "metadata": {},
   "source": [
    "The module `sklearn.model_selection` provides two functions `cross_val_predict` and `cross_val_score` for this purpose."
   ]
  },
  {
   "cell_type": "code",
   "execution_count": null,
   "id": "ef931d7d",
   "metadata": {},
   "outputs": [],
   "source": [
    "from sklearn.model_selection import StratifiedKFold, cross_val_predict, cross_val_score\n",
    "\n",
    "cv = StratifiedKFold(n_splits=5, random_state=0, shuffle=True)"
   ]
  },
  {
   "cell_type": "markdown",
   "id": "d912bed7",
   "metadata": {},
   "source": [
    "For instance, the following returns the misclassified instances by 5-fold cross-validation."
   ]
  },
  {
   "cell_type": "code",
   "execution_count": null,
   "id": "57fde8ed",
   "metadata": {
    "colab": {},
    "colab_type": "code",
    "id": "lkopY_9pj12l",
    "slideshow": {
     "slide_type": "subslide"
    }
   },
   "outputs": [],
   "source": [
    "iris_df[\"prediction\"] = pd.Categorical(\n",
    "    cross_val_predict(clf, iris_df[iris.feature_names], iris_df.target, cv=cv)\n",
    ")\n",
    "iris_df.loc[lambda df: df[\"target\"] != df[\"prediction\"]]"
   ]
  },
  {
   "cell_type": "code",
   "execution_count": null,
   "id": "fbd3f54f",
   "metadata": {},
   "outputs": [],
   "source": [
    "clf = tree.DecisionTreeClassifier(random_state=0)\n",
    "scores = cross_val_score(clf, iris_df[iris.feature_names], iris_df.target, cv=5)\n",
    "print(\"Accuracies: \", \", \".join(f\"{acc:.4f}\" for acc in scores))\n",
    "print(f\"Mean accuracy: {scores.mean():.4f}\")"
   ]
  },
  {
   "cell_type": "markdown",
   "id": "68f75682",
   "metadata": {},
   "source": [
    "::::{exercise}\n",
    ":label: ex:cross_val\n",
    "Assign `accuracy_cv` to the accuracy obtained by the cross validation result above.\n",
    "::::"
   ]
  },
  {
   "cell_type": "code",
   "execution_count": null,
   "id": "afc5193c",
   "metadata": {
    "colab": {},
    "colab_type": "code",
    "deletable": false,
    "id": "ZE5pla5bszpB",
    "nbgrader": {
     "cell_type": "code",
     "checksum": "b94356d51396906ed7586633c7e4c82e",
     "grade": false,
     "grade_id": "cv_score",
     "locked": false,
     "schema_version": 3,
     "solution": true,
     "task": false
    },
    "slideshow": {
     "slide_type": "-"
    },
    "tags": [
     "remove-output"
    ]
   },
   "outputs": [],
   "source": [
    "# YOUR CODE HERE\n",
    "raise NotImplementedError\n",
    "accuracy_cv"
   ]
  },
  {
   "cell_type": "code",
   "execution_count": null,
   "id": "bfe3864e",
   "metadata": {
    "deletable": false,
    "editable": false,
    "nbgrader": {
     "cell_type": "code",
     "checksum": "67b269d410e96883590613fa9c2db59b",
     "grade": true,
     "grade_id": "test-cv_score",
     "locked": true,
     "points": 1,
     "schema_version": 3,
     "solution": false,
     "task": false
    },
    "slideshow": {
     "slide_type": "-"
    },
    "tags": [
     "remove-cell"
    ]
   },
   "outputs": [],
   "source": [
    "# hidden tests"
   ]
  },
  {
   "cell_type": "markdown",
   "id": "aff21918",
   "metadata": {},
   "source": [
    "::::{seealso} Any other methods to split data?\n",
    "\n",
    "Another method is the bootstrap method, which is similar to the holdout method but samples without replacement. There is an [implementation in scikit-learn](https://ogrisel.github.io/scikit-learn.org/sklearn-tutorial/modules/generated/sklearn.cross_validation.Bootstrap.html). Unlike the original bootstrap method, the test set is also sampled with replacement instead of taken directly from the out-of-the-bag instances not used for training.\n",
    "\n",
    "::::"
   ]
  }
 ],
 "metadata": {
  "kernelspec": {
   "display_name": "Python 3 (ipykernel)",
   "language": "python",
   "name": "python3"
  }
 },
 "nbformat": 4,
 "nbformat_minor": 5
}
