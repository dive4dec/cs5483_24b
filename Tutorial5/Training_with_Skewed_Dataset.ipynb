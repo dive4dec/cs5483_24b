{
 "cells": [
  {
   "cell_type": "markdown",
   "id": "9fd1a2ef",
   "metadata": {
    "editable": true,
    "slideshow": {
     "slide_type": "slide"
    }
   },
   "source": [
    "---\n",
    "title: Training with Skewed Dataset\n",
    "math: \n",
    "    '\\abs': '\\left\\lvert #1 \\right\\rvert' \n",
    "    '\\norm': '\\left\\lvert #1 \\right\\rvert' \n",
    "    '\\Set': '\\left\\{ #1 \\right\\}'\n",
    "    '\\mc': '\\mathcal{#1}'\n",
    "    '\\M': '\\boldsymbol{#1}'\n",
    "    '\\R': '\\mathsf{#1}'\n",
    "    '\\RM': '\\boldsymbol{\\mathsf{#1}}'\n",
    "    '\\op': '\\operatorname{#1}'\n",
    "    '\\E': '\\op{E}'\n",
    "    '\\d': '\\mathrm{\\mathstrut d}'\n",
    "    '\\precision': '\\text{precision}'\n",
    "    '\\recall': '\\text{recall}'\n",
    "    '\\specificity': '\\text{specificity}'\n",
    "    '\\TP': '\\text{TP}'\n",
    "    '\\FP': '\\text{FP}'\n",
    "    '\\FN': '\\text{FN}'\n",
    "    '\\TN': '\\text{TN}'\n",
    "    '\\cost': '\\text{cost}'    \n",
    "---"
   ]
  },
  {
   "cell_type": "code",
   "execution_count": null,
   "id": "91fa0904",
   "metadata": {
    "editable": true,
    "init_cell": true,
    "slideshow": {
     "slide_type": "subslide"
    }
   },
   "outputs": [],
   "source": [
    "import logging\n",
    "import os\n",
    "import pprint\n",
    "\n",
    "import numpy as np\n",
    "import weka.core.jvm as jvm\n",
    "import weka.core.packages as packages\n",
    "from weka.classifiers import (\n",
    "    Classifier,\n",
    "    Evaluation,\n",
    "    FilteredClassifier,\n",
    "    SingleClassifierEnhancer,\n",
    ")\n",
    "from weka.core.classes import Random, complete_classname\n",
    "from weka.core.converters import Loader\n",
    "from weka.filters import Filter\n",
    "\n",
    "if not os.getenv(\n",
    "    \"NBGRADER_EXECUTION\"\n",
    "):\n",
    "    %load_ext jupyter_ai\n",
    "    %ai update chatgpt dive:chat\n",
    "    # %ai update chatgpt dive-azure:gpt4o"
   ]
  },
  {
   "cell_type": "markdown",
   "id": "11baf81d",
   "metadata": {
    "editable": true,
    "slideshow": {
     "slide_type": ""
    }
   },
   "source": [
    "## Setup"
   ]
  },
  {
   "cell_type": "markdown",
   "id": "cb09ed02",
   "metadata": {
    "editable": true,
    "slideshow": {
     "slide_type": ""
    }
   },
   "source": [
    "In this notebook, we will train classifiers properly on the skewed dataset for detecting microcalcifications in mammograms."
   ]
  },
  {
   "cell_type": "markdown",
   "id": "6b024e2d",
   "metadata": {
    "editable": true,
    "slideshow": {
     "slide_type": ""
    }
   },
   "source": [
    "In particular, we will use the meta classifier `ThresholdSelector` and the filter `SMOTE` [Synthetic Minority Over-sampling Technique](https://doi.org/10.1613/jair.953). They need to be installed as [additional packages in WEKA](https://weka.sourceforge.io/packageMetaData/). To do so, we have imported `packages`:\n",
    "\n",
    "```python\n",
    "import weka.core.packages as packages\n",
    "```"
   ]
  },
  {
   "cell_type": "markdown",
   "id": "065157f5",
   "metadata": {},
   "source": [
    "`packages` must also be enabled for the java virtual machine:"
   ]
  },
  {
   "cell_type": "code",
   "execution_count": null,
   "id": "dc377eea",
   "metadata": {
    "editable": true,
    "slideshow": {
     "slide_type": ""
    },
    "tags": [
     "remove-output"
    ]
   },
   "outputs": [],
   "source": [
    "jvm.start(packages=True, logging_level=logging.ERROR)"
   ]
  },
  {
   "cell_type": "markdown",
   "id": "960af132",
   "metadata": {
    "editable": true,
    "slideshow": {
     "slide_type": ""
    }
   },
   "source": [
    "The following prints the information of the packages we will install:"
   ]
  },
  {
   "cell_type": "code",
   "execution_count": null,
   "id": "95013526",
   "metadata": {
    "editable": true,
    "slideshow": {
     "slide_type": ""
    }
   },
   "outputs": [],
   "source": [
    "pkgs = [\"thresholdSelector\", \"SMOTE\"]\n",
    "\n",
    "for item in packages.all_packages():\n",
    "    if item.name in pkgs:\n",
    "        pprint.pp(item.metadata)"
   ]
  },
  {
   "cell_type": "markdown",
   "id": "b088f347",
   "metadata": {
    "editable": true,
    "slideshow": {
     "slide_type": ""
    }
   },
   "source": [
    ":::: {attention}\n",
    "\n",
    "Some packages, such as the latest version of `thresholdSelector`, cannot be downloaded from the default package URL. As a workaround, we used [Ant](https://waikato.github.io/weka-wiki/ant/) to build all the packages from [source](https://git.cms.waikato.ac.nz/weka/weka/-/tree/stable-3-8) and saved the zip files at `/data/pkgs/`.\n",
    "\n",
    ":::{seealso}\n",
    ":class: dropdown\n",
    "\n",
    "To build Weka packages to zip files:\n",
    "\n",
    "1. Obtain the source (2GB), which has been cloned to the shared folder `/data/weka` on JupyterHub. If you would like to clone the source to your computer:\n",
    "   ```bash\n",
    "   git clone https://git.cms.waikato.ac.nz/weka/weka.git\n",
    "   ```\n",
    "\n",
    "3. Build the zip files:\n",
    "   ```bash\n",
    "   cd weka/trunk/weka\n",
    "   mkdir -p \"$HOME/data/pkgs\"\n",
    "   ```\n",
    "   - For an internal package such as [thresholdSelector](https://git.cms.waikato.ac.nz/weka/weka/-/tree/stable-3-8/packages/internal/thresholdSelector):\n",
    "     ```bash\n",
    "     ant -Ddist=\"$HOME/data/pkgs\" -DpackageName=thresholdSelector make_internal\n",
    "     ```\n",
    "   - For an external package such as [SMOTE](https://git.cms.waikato.ac.nz/weka/weka/-/tree/stable-3-8/packages/external/SMOTE)\n",
    "     ```bash\n",
    "     ant -Ddist=\"$HOME/data/pkgs\" -DpackageName=thresholdSelector make_external\n",
    "     ```\n",
    "   - To build all packages:\n",
    "     ```bash\n",
    "     ant -Ddist=\"$HOME/data/pkgs\" -DpackageCommand=make apply_all\n",
    "     ```\n",
    "   - To get help on other commands:\n",
    "     ```bash\n",
    "     ant -projecthelp\n",
    "     ```\n",
    "\n",
    "4. Access the built packages:\n",
    "   ```bash\n",
    "   cd \"$HOME/data/pkgs\"\n",
    "   ```\n",
    "\n",
    ":::\n",
    "\n",
    "::::"
   ]
  },
  {
   "cell_type": "markdown",
   "id": "a4a17846",
   "metadata": {
    "editable": true,
    "slideshow": {
     "slide_type": ""
    }
   },
   "source": [
    " You may install the packages using the Weka package manager. To install them in `python-weka-wrapper3`, run the following code:"
   ]
  },
  {
   "cell_type": "code",
   "execution_count": null,
   "id": "b70f714f",
   "metadata": {
    "editable": true,
    "slideshow": {
     "slide_type": ""
    }
   },
   "outputs": [],
   "source": [
    "for pkg in pkgs:\n",
    "    if not packages.is_installed(pkg):\n",
    "        print(f\"Installing {pkg}...\")\n",
    "        packages.install_package(f\"/data/pkgs/{pkg}.zip\")\n",
    "    else:\n",
    "        print(f\"Skipping {pkg}, already installed. \")\n",
    "else:\n",
    "    print(\"Done.\")"
   ]
  },
  {
   "cell_type": "markdown",
   "id": "4cabce97",
   "metadata": {
    "editable": true,
    "slideshow": {
     "slide_type": ""
    }
   },
   "source": [
    "::::{note}\n",
    "\n",
    "The first time you run the above cell, you should see\n",
    "\n",
    "```\n",
    "Installing thresholdSelector...\n",
    "Installing SMOTE...\n",
    "Done.\n",
    "```\n",
    "\n",
    "The next time you run the cell, you should see\n",
    "\n",
    "```\n",
    "Skipping thresholdSelector, already installed. \n",
    "Skipping SMOTE, already installed. \n",
    "Done.\n",
    "```\n",
    "\n",
    "because the packages have already been installed.\n",
    "\n",
    "::::"
   ]
  },
  {
   "cell_type": "markdown",
   "id": "f7106744",
   "metadata": {},
   "source": [
    "By default, packages are installed under your home directory `~/wekafiles/packages/`:"
   ]
  },
  {
   "cell_type": "code",
   "execution_count": null,
   "id": "77d10fbd",
   "metadata": {
    "editable": true,
    "slideshow": {
     "slide_type": ""
    }
   },
   "outputs": [],
   "source": [
    "!ls ~/wekafiles/packages"
   ]
  },
  {
   "cell_type": "markdown",
   "id": "9b04a7cb",
   "metadata": {
    "editable": true,
    "slideshow": {
     "slide_type": ""
    }
   },
   "source": [
    "````{caution}\n",
    "\n",
    "For the packages to take effect, you must restart the kernel (`Kernel` -> `Restart`). Note that running `jvm.stop()` followed by `jvm.start(packages=True)` will not work because [`javabridge` currently does not support restarting a virtual machine](https://stackoverflow.com/questions/51795945/after-stopping-jvm-unable-to-start-it-again).\n",
    "\n",
    "````"
   ]
  },
  {
   "cell_type": "markdown",
   "id": "002c40ea",
   "metadata": {},
   "source": [
    "After restarting the kernel, check that the packages have been successfully installed using `complete_classname` imported by\n",
    "\n",
    "```python\n",
    "from weka.core.classes import complete_classname\n",
    "```"
   ]
  },
  {
   "cell_type": "code",
   "execution_count": null,
   "id": "f9f24df2",
   "metadata": {
    "editable": true,
    "slideshow": {
     "slide_type": ""
    }
   },
   "outputs": [],
   "source": [
    "print(complete_classname(\"ThresholdSelector\"))\n",
    "print(complete_classname(\"SMOTE\"))\n",
    "print(packages.installed_packages())"
   ]
  },
  {
   "cell_type": "markdown",
   "id": "06a4e6b4",
   "metadata": {
    "editable": true,
    "slideshow": {
     "slide_type": ""
    }
   },
   "source": [
    "We will use the same mammography dataset from\n",
    "[OpenML](https://www.openml.org/d/310) and J48 as the base classifier. The following loads the dataset into the notebook:"
   ]
  },
  {
   "cell_type": "code",
   "execution_count": null,
   "id": "2ae98605",
   "metadata": {
    "editable": true,
    "slideshow": {
     "slide_type": ""
    }
   },
   "outputs": [],
   "source": [
    "loader = Loader(classname=\"weka.core.converters.ArffLoader\")\n",
    "data = loader.load_url(\"https://www.openml.org/data/download/52214/phpn1jVwe\")\n",
    "data.class_is_last()\n",
    "pos_class = 1\n",
    "clf = Classifier(classname=\"weka.classifiers.trees.J48\")"
   ]
  },
  {
   "cell_type": "markdown",
   "id": "29d0ff21",
   "metadata": {
    "editable": true,
    "slideshow": {
     "slide_type": ""
    }
   },
   "source": [
    "## Threshold Selector"
   ]
  },
  {
   "cell_type": "markdown",
   "id": "8e5f8e30",
   "metadata": {
    "editable": true,
    "slideshow": {
     "slide_type": ""
    }
   },
   "source": [
    "The meta classifier `ThresholdSelector` uses the threshold-moving technique to optimize a performance measure you specify, which can be the precision, recall, $F$-score, etc.[^threshold]\n",
    "\n",
    "[^threshold]: See an explanation of threshold moving technique [here](https://machinelearningmastery.com/threshold-moving-for-imbalanced-classification/)."
   ]
  },
  {
   "cell_type": "markdown",
   "id": "5bb88fc1",
   "metadata": {
    "editable": true,
    "slideshow": {
     "slide_type": ""
    }
   },
   "source": [
    "The following shows how to maximize recall:"
   ]
  },
  {
   "cell_type": "code",
   "execution_count": null,
   "id": "32c09208",
   "metadata": {
    "editable": true,
    "slideshow": {
     "slide_type": ""
    }
   },
   "outputs": [],
   "source": [
    "tsc = SingleClassifierEnhancer(classname=\"weka.classifiers.meta.ThresholdSelector\")\n",
    "tsc.options = [\"-M\", \"RECALL\"]\n",
    "tsc.classifier = clf\n",
    "\n",
    "evl = Evaluation(data)\n",
    "evl.crossvalidate_model(tsc, data, 10, Random(1))\n",
    "\n",
    "print(f\"maximum recall: {evl.recall(pos_class):.3g}\")"
   ]
  },
  {
   "cell_type": "markdown",
   "id": "1ec2eb2f",
   "metadata": {
    "editable": true,
    "slideshow": {
     "slide_type": ""
    }
   },
   "source": [
    "The maximum recall is 100%, as expected by setting the threshold to 1."
   ]
  },
  {
   "cell_type": "markdown",
   "id": "c1bf1db5",
   "metadata": {
    "editable": true,
    "slideshow": {
     "slide_type": ""
    }
   },
   "source": [
    "::::{exercise}\n",
    ":label: ex:1\n",
    "Using J48 as the base classifier and 10-fold cross-validation, obtain the highest precision and $F$-score. Assign the values to `max_precision` and `max_f`, respectively. \n",
    "\n",
    "If you use `python-weka-wrapper3`, be careful that resetting `tsc.options` may also reset the base classifier to the default one, which is not J48. To ensure that you are using J48, set the base classifier again after the options:\n",
    "```python\n",
    "tsc.options=['-M', ___]\n",
    "tsc.classifier = clf\n",
    "```\n",
    "::::"
   ]
  },
  {
   "cell_type": "code",
   "execution_count": null,
   "id": "4a8740e3",
   "metadata": {
    "deletable": false,
    "editable": true,
    "nbgrader": {
     "cell_type": "code",
     "checksum": "938ca77bb5bf42c0025c6b1de2d91de1",
     "grade": false,
     "grade_id": "threshold-selector",
     "locked": false,
     "schema_version": 3,
     "solution": true,
     "task": false
    },
    "slideshow": {
     "slide_type": ""
    },
    "tags": [
     "remove-output"
    ]
   },
   "outputs": [],
   "source": [
    "# YOUR CODE HERE\n",
    "raise NotImplementedError\n",
    "max_precision, max_f"
   ]
  },
  {
   "cell_type": "code",
   "execution_count": null,
   "id": "c0d784d3",
   "metadata": {
    "deletable": false,
    "editable": false,
    "nbgrader": {
     "cell_type": "code",
     "checksum": "f5ef0f1c5f63de4e1da583edb0f8cc30",
     "grade": true,
     "grade_id": "test-threshold-selector",
     "locked": true,
     "points": 1,
     "schema_version": 3,
     "solution": false,
     "task": false
    },
    "slideshow": {
     "slide_type": ""
    },
    "tags": [
     "remove-cell"
    ]
   },
   "outputs": [],
   "source": [
    "# hidden tests"
   ]
  },
  {
   "cell_type": "code",
   "execution_count": null,
   "id": "736d4cb6",
   "metadata": {
    "editable": true,
    "slideshow": {
     "slide_type": ""
    }
   },
   "outputs": [],
   "source": [
    "%%ai chatgpt -f text\n",
    "For multi-class classification, how should the threshold moving scheme work?"
   ]
  },
  {
   "cell_type": "markdown",
   "id": "bc0cd3e1",
   "metadata": {
    "editable": true,
    "slideshow": {
     "slide_type": ""
    }
   },
   "source": [
    "## Cost-sensitive Classifier"
   ]
  },
  {
   "cell_type": "markdown",
   "id": "096dfd47",
   "metadata": {
    "editable": true,
    "slideshow": {
     "slide_type": ""
    }
   },
   "source": [
    "In addition to precision and recall, we can build a classifier to minimize a cost with specific weights on the number of correctly/incorrected instances of different classes:"
   ]
  },
  {
   "cell_type": "markdown",
   "id": "48fa3290",
   "metadata": {
    "editable": true,
    "slideshow": {
     "slide_type": ""
    }
   },
   "source": [
    "::::{prf:definition} cost/benefit analysis\n",
    "\n",
    "The total cost can be defined as\n",
    "\n",
    "$$\n",
    "\\begin{align}\n",
    "\\TP\\cdot \\cost_\\TP\n",
    "+ \\FN\\cdot \\cost_\\FN\n",
    "+ \\FP\\cdot \\cost_\\FP \n",
    "+ \\TN\\cdot \\cost_\\TN.\n",
    "\\end{align}\n",
    "$$ (cost)\n",
    "\n",
    "given a cost matrix\n",
    "\n",
    "$$\n",
    "\\begin{align}\n",
    "\\begin{bmatrix} \\cost_\\TP & \\cost_\\FN\\\\ \\cost_\\FP & \\cost_\\TN\\end{bmatrix}.\n",
    "\\end{align}\n",
    "$$ (cost-matrix)\n",
    "\n",
    "::::"
   ]
  },
  {
   "cell_type": "markdown",
   "id": "527610d8",
   "metadata": {
    "editable": true,
    "slideshow": {
     "slide_type": ""
    }
   },
   "source": [
    "Weka provides a convenient interface for cost/benefit analysis:\n",
    "\n",
    "- In the explorer interface, train J48 on the mammography dataset with 10-fold cross-validation.\n",
    "- Right-click on the result in the result list.\n",
    "- Choose Cost/Benefit analysis and 1 as the positive class value.\n",
    "- Specify the cost matrix.\n",
    "- Click `Minimize Cost/Benefit` to minimize the cost."
   ]
  },
  {
   "cell_type": "markdown",
   "id": "1858434c",
   "metadata": {
    "editable": true,
    "slideshow": {
     "slide_type": ""
    }
   },
   "source": [
    "::::{exercise}\n",
    ":label: ex:2\n",
    "Assign to `cost_matrix` the cost matrix that achieves the maximum precision. You can define the cost matrix as follows:\n",
    "```python\n",
    "cost_matrix = np.array([[__, __],\n",
    "                        [__, __]])\n",
    "```\n",
    "\n",
    ":::{hint}\n",
    ":class: dropdown\n",
    "Pay attention to the row and column labels of the confusion matrix. It changes after you specify $1$ as the positive class value.\n",
    ":::\n",
    "\n",
    "::::"
   ]
  },
  {
   "cell_type": "code",
   "execution_count": null,
   "id": "84d7a68b",
   "metadata": {
    "deletable": false,
    "editable": true,
    "nbgrader": {
     "cell_type": "code",
     "checksum": "681b087b4b03f22bfdda610416920bb1",
     "grade": false,
     "grade_id": "cost-matrix",
     "locked": false,
     "schema_version": 3,
     "solution": true,
     "task": false
    },
    "slideshow": {
     "slide_type": ""
    },
    "tags": [
     "remove-output"
    ]
   },
   "outputs": [],
   "source": [
    "# YOUR CODE HERE\n",
    "raise NotImplementedError\n",
    "cost_matrix"
   ]
  },
  {
   "cell_type": "markdown",
   "id": "acf63b62",
   "metadata": {
    "editable": true,
    "slideshow": {
     "slide_type": ""
    }
   },
   "source": [
    "The following test cell demonstrates how to train a meta classifier to minimize the cost defined using the cost matrix you provided."
   ]
  },
  {
   "cell_type": "code",
   "execution_count": null,
   "id": "2ad8264c",
   "metadata": {
    "deletable": false,
    "editable": false,
    "nbgrader": {
     "cell_type": "code",
     "checksum": "8a272a08a63f0bbdf425d22b68e3e07e",
     "grade": true,
     "grade_id": "test-cost-matrix",
     "locked": true,
     "points": 1,
     "schema_version": 3,
     "solution": false,
     "task": false
    },
    "tags": [
     "remove-output"
    ]
   },
   "outputs": [],
   "source": [
    "# tests\n",
    "csc = SingleClassifierEnhancer(\n",
    "    classname=\"weka.classifiers.meta.CostSensitiveClassifier\",\n",
    "    options=[\n",
    "        \"-cost-matrix\",\n",
    "        \"[\"\n",
    "        + \" ; \".join(\n",
    "            \" \".join(str(entry) for entry in cost_matrix[:, i]) for i in range(2)\n",
    "        )\n",
    "        + \"]\",\n",
    "        \"-S\",\n",
    "        \"1\",\n",
    "    ],\n",
    ")\n",
    "csc.classifier = clf\n",
    "\n",
    "evl = Evaluation(data)\n",
    "evl.crossvalidate_model(csc, data, 10, Random(1))\n",
    "\n",
    "precision = evl.precision(pos_class)\n",
    "print(f\"maximum precision: {precision:.3g}\")"
   ]
  },
  {
   "cell_type": "code",
   "execution_count": null,
   "id": "66d79b6a",
   "metadata": {
    "deletable": false,
    "editable": false,
    "nbgrader": {
     "cell_type": "code",
     "checksum": "92898140130de0979bb8855ca30e093e",
     "grade": true,
     "grade_id": "htest-cost-matrix",
     "locked": true,
     "points": 1,
     "schema_version": 3,
     "solution": false,
     "task": false
    },
    "slideshow": {
     "slide_type": ""
    },
    "tags": [
     "remove-cell"
    ]
   },
   "outputs": [],
   "source": [
    "# hidden tests"
   ]
  },
  {
   "cell_type": "code",
   "execution_count": null,
   "id": "c8e64c2b",
   "metadata": {
    "editable": true,
    "slideshow": {
     "slide_type": ""
    }
   },
   "outputs": [],
   "source": [
    "%%ai chatgpt -f text\n",
    "For the cost-benefit analysis, is there an implementation that optimizes a more\n",
    "general cost function, which may be non-linear with respect to the counts of\n",
    "TP, FP, TN, and FN?"
   ]
  },
  {
   "cell_type": "markdown",
   "id": "4dac70c2",
   "metadata": {
    "editable": true,
    "slideshow": {
     "slide_type": ""
    }
   },
   "source": [
    "## SMOTE"
   ]
  },
  {
   "cell_type": "markdown",
   "id": "83cc6618",
   "metadata": {
    "editable": true,
    "slideshow": {
     "slide_type": ""
    }
   },
   "source": [
    "Synthetic Minority Over-sampling TEchnique (SMOTE) [(Chawler et al., 2002)](https://doi.org/10.1613/jair.953) is a filter that up-samples the minority class. Instead of duplicates of the same instance, it creates new samples as convex combinations of existing ones.[^SMOTE]\n",
    "\n",
    "[^SMOTE]: See an explanation of SMOTE [here](http://rikunert.com/SMOTE_explained)."
   ]
  },
  {
   "cell_type": "markdown",
   "id": "bf33b6c2",
   "metadata": {
    "editable": true,
    "slideshow": {
     "slide_type": ""
    }
   },
   "source": [
    "::::{exercise}\n",
    ":label: ex:3\n",
    "Using the FilteredClassifier with J48 as the classifier and SMOTE as the filter, try to tweak the setting of SMOTE to give the highest possible value of $F$ score larger than the maximum one achieved by `ThresholdSelector`. Assign to `smote.options` your choice of filter. E.g., you can change the percentage of SMOTE instances to 150% as follows:\n",
    "```python\n",
    "smote.options = ['-P', '150']\n",
    "```\n",
    "::::"
   ]
  },
  {
   "cell_type": "code",
   "execution_count": null,
   "id": "551848c3",
   "metadata": {
    "deletable": false,
    "editable": true,
    "nbgrader": {
     "cell_type": "code",
     "checksum": "3636fff6ed0f8e039e7fd35a573d1f4c",
     "grade": false,
     "grade_id": "smote",
     "locked": false,
     "schema_version": 3,
     "solution": true,
     "task": false
    },
    "slideshow": {
     "slide_type": ""
    },
    "tags": [
     "remove-output"
    ]
   },
   "outputs": [],
   "source": [
    "smote = Filter(classname=\"weka.filters.supervised.instance.SMOTE\")\n",
    "print(\"Default smote.options:\", smote.options)\n",
    "# YOUR CODE HERE\n",
    "raise NotImplementedError\n",
    "print(\"Your smote.options:\", smote.options)"
   ]
  },
  {
   "cell_type": "code",
   "execution_count": null,
   "id": "316f6a6e",
   "metadata": {
    "deletable": false,
    "editable": false,
    "nbgrader": {
     "cell_type": "code",
     "checksum": "1d0ba07d5a2e0d1b1ca2ead66a10c5db",
     "grade": true,
     "grade_id": "test-smote",
     "locked": true,
     "points": 1,
     "schema_version": 3,
     "solution": false,
     "task": false
    },
    "slideshow": {
     "slide_type": ""
    },
    "tags": [
     "remove-output"
    ]
   },
   "outputs": [],
   "source": [
    "# tests\n",
    "fc = FilteredClassifier()\n",
    "fc.filter = smote\n",
    "fc.classifier = clf\n",
    "\n",
    "evl = Evaluation(data)\n",
    "evl.crossvalidate_model(fc, data, 10, Random(1))\n",
    "\n",
    "f_score = evl.f_measure(pos_class)\n",
    "print(f\"F-score by SMOTE: {f_score:.3g}\")"
   ]
  },
  {
   "cell_type": "code",
   "execution_count": null,
   "id": "2379c10d",
   "metadata": {
    "deletable": false,
    "editable": false,
    "nbgrader": {
     "cell_type": "code",
     "checksum": "10c5d08854b22e25fe5c545d6778b227",
     "grade": true,
     "grade_id": "htest-smote",
     "locked": true,
     "points": 1,
     "schema_version": 3,
     "solution": false,
     "task": false
    },
    "slideshow": {
     "slide_type": ""
    },
    "tags": [
     "remove-cell"
    ]
   },
   "outputs": [],
   "source": [
    "# hidden tests"
   ]
  },
  {
   "cell_type": "code",
   "execution_count": null,
   "id": "330a2621",
   "metadata": {
    "editable": true,
    "slideshow": {
     "slide_type": ""
    }
   },
   "outputs": [],
   "source": [
    "%%ai chatgpt -f text\n",
    "In SMOTE, since the synthetic data are generated based on existing data with \n",
    "randomness independent of the data, which should be regarded as noise, how can\n",
    "it be better than upsampling? In other words, no new relevant information is \n",
    "generated because no new data is collected."
   ]
  }
 ],
 "metadata": {
  "kernelspec": {
   "display_name": "Python 3 (ipykernel)",
   "language": "python",
   "name": "python3"
  }
 },
 "nbformat": 4,
 "nbformat_minor": 5
}
