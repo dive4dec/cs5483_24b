{
 "cells": [
  {
   "cell_type": "markdown",
   "id": "6ff76d85",
   "metadata": {
    "slideshow": {
     "slide_type": "slide"
    }
   },
   "source": [
    "---\n",
    "title: Evaluation for Skewed Dataset\n",
    "math: \n",
    "    '\\abs': '\\left\\lvert #1 \\right\\rvert' \n",
    "    '\\norm': '\\left\\lvert #1 \\right\\rvert' \n",
    "    '\\Set': '\\left\\{ #1 \\right\\}'\n",
    "    '\\mc': '\\mathcal{#1}'\n",
    "    '\\M': '\\boldsymbol{#1}'\n",
    "    '\\R': '\\mathsf{#1}'\n",
    "    '\\RM': '\\boldsymbol{\\mathsf{#1}}'\n",
    "    '\\op': '\\operatorname{#1}'\n",
    "    '\\E': '\\op{E}'\n",
    "    '\\d': '\\mathrm{\\mathstrut d}'\n",
    "    '\\precision': '\\text{precision}'\n",
    "    '\\recall': '\\text{recall}'\n",
    "    '\\specificity': '\\text{specificity}'\n",
    "    '\\TP': '\\text{TP}'\n",
    "    '\\FP': '\\text{FP}'\n",
    "    '\\FN': '\\text{FN}'\n",
    "    '\\TN': '\\text{TN}'\n",
    "    '\\cost': '\\text{cost}'    \n",
    "---"
   ]
  },
  {
   "cell_type": "code",
   "execution_count": null,
   "id": "8d3bda3f",
   "metadata": {
    "editable": true,
    "init_cell": true,
    "slideshow": {
     "slide_type": "subslide"
    },
    "tags": [
     "remove-output"
    ]
   },
   "outputs": [],
   "source": [
    "import logging\n",
    "import os\n",
    "\n",
    "import numpy as np\n",
    "import pandas as pd\n",
    "import weka.core.jvm as jvm\n",
    "import weka.plot.classifiers as plcls\n",
    "from weka.classifiers import Classifier, Evaluation\n",
    "from weka.core.classes import Random\n",
    "from weka.core.converters import Loader\n",
    "\n",
    "%matplotlib widget\n",
    "if not os.getenv(\n",
    "    \"NBGRADER_EXECUTION\"\n",
    "):\n",
    "    %load_ext jupyter_ai\n",
    "    %ai update chatgpt dive:chat\n",
    "    # %ai update chatgpt dive-azure:gpt4o"
   ]
  },
  {
   "cell_type": "markdown",
   "id": "376e623d",
   "metadata": {},
   "source": [
    "## Class imbalance problem"
   ]
  },
  {
   "cell_type": "markdown",
   "id": "73e8188a",
   "metadata": {},
   "source": [
    "In this notebook, we will analyze a skewed dataset for detecting microcalcifications in mammograms. The goal is to build a classifier to identify whether a bright spot in a mammogram is a micro-calcification (an early sign of breast cancer)."
   ]
  },
  {
   "cell_type": "markdown",
   "id": "fea30442",
   "metadata": {},
   "source": [
    "::::{figure} https://upload.wikimedia.org/wikipedia/commons/e/e7/Mammo_breast_cancer_wArrows.jpg\n",
    ":name: fig:micro-calcification\n",
    ":alt: Mammo breast cancer\n",
    ":align: left\n",
    "Micro-calcification\n",
    "::::"
   ]
  },
  {
   "cell_type": "markdown",
   "id": "4ac94099",
   "metadata": {
    "editable": true,
    "slideshow": {
     "slide_type": ""
    }
   },
   "source": [
    "The dataset can be downloaded from\n",
    "[OpenML](https://www.openml.org/d/310) in [ARFF format](https://www.openml.org/data/download/52214/phpn1jVwe). The following loads the data using `python-weka-wrapper3`."
   ]
  },
  {
   "cell_type": "code",
   "execution_count": null,
   "id": "298f321e",
   "metadata": {
    "editable": true,
    "slideshow": {
     "slide_type": ""
    }
   },
   "outputs": [],
   "source": [
    "jvm.start(logging_level=logging.ERROR)"
   ]
  },
  {
   "cell_type": "code",
   "execution_count": null,
   "id": "db4a96c6",
   "metadata": {
    "editable": true,
    "slideshow": {
     "slide_type": ""
    }
   },
   "outputs": [],
   "source": [
    "loader = Loader(classname=\"weka.core.converters.ArffLoader\")\n",
    "data = loader.load_url(\"https://www.openml.org/data/download/52214/phpn1jVwe\")\n",
    "data.class_is_last()\n",
    "print(data.summary(data))"
   ]
  },
  {
   "cell_type": "markdown",
   "id": "f235843a",
   "metadata": {},
   "source": [
    "A set of 24 mammograms was segmented to locate small bright spots, which are candidates for classifying malignant clusters of micro-calcifications. There are 7 attributes and over 11,000 instances.[^mammogram]\n",
    "\n",
    "[^mammogram]:  For more details on the dataset, refer to Section 4 of the original paper [(Woods et al. 1993)](https://doi.org/10.1142/9789812797834_0011)."
   ]
  },
  {
   "cell_type": "code",
   "execution_count": null,
   "id": "2db529c6",
   "metadata": {},
   "outputs": [],
   "source": [
    "%%ai chatgpt -f text\n",
    "Explain each of the following attributes of the mammogram dataset in one line:\n",
    "- Area (number of pixels)\n",
    "- Average grey level\n",
    "- Gradient strength (of perimeter pixels)\n",
    "- Root mean square noise (fluctuation of the pixel values)\n",
    "- Root mean square noise of local background\n",
    "- Contrast (average grey level minus average of a 2-pixel wide border)\n",
    "- (Low order moment-based) Shape descriptor"
   ]
  },
  {
   "cell_type": "markdown",
   "id": "87f8c294",
   "metadata": {},
   "source": [
    "To compute the 10-fold cross-validation accuracy for `J48`:"
   ]
  },
  {
   "cell_type": "code",
   "execution_count": null,
   "id": "37318eed",
   "metadata": {},
   "outputs": [],
   "source": [
    "clf = Classifier(classname=\"weka.classifiers.trees.J48\")\n",
    "evl = Evaluation(data)\n",
    "evl.crossvalidate_model(clf, data, 10, Random(1))\n",
    "\n",
    "print(f\"Accuracy: {evl.percent_correct:.3g}%\")"
   ]
  },
  {
   "cell_type": "markdown",
   "id": "136d79e3",
   "metadata": {},
   "source": [
    "You should see that the accuracy is close to 100%. To show the confusion matrix:"
   ]
  },
  {
   "cell_type": "code",
   "execution_count": null,
   "id": "e6344e59",
   "metadata": {},
   "outputs": [],
   "source": [
    "confusion_matrix = pd.DataFrame(\n",
    "    evl.confusion_matrix,\n",
    "    dtype=int,\n",
    "    columns=[f'predicted class \"{v}\"' for v in data.class_attribute.values],\n",
    "    index=[f'class \"{v}\"' for v in data.class_attribute.values],\n",
    ")\n",
    "confusion_matrix"
   ]
  },
  {
   "cell_type": "markdown",
   "id": "de3c4e1c",
   "metadata": {},
   "source": [
    "Each row of the confusion matrix corresponds to a class value (1: malignant, -1: benign), and each column corresponds to a predicted class. Each entry is a count of instances belonging to a specific class and having a particular predicted class."
   ]
  },
  {
   "cell_type": "markdown",
   "id": "df8166c7",
   "metadata": {},
   "source": [
    "::::{exercise}\n",
    ":label: ex:1\n",
    "Assign to `percent_of_malignant_detected` the percentage of instances of class 1 predicted as class 1:\n",
    "::::"
   ]
  },
  {
   "cell_type": "code",
   "execution_count": null,
   "id": "d06d4afa",
   "metadata": {
    "deletable": false,
    "editable": true,
    "nbgrader": {
     "cell_type": "code",
     "checksum": "e2748f6131a9278a2ea162f75203d6b3",
     "grade": false,
     "grade_id": "malignant-detected",
     "locked": false,
     "schema_version": 3,
     "solution": true,
     "task": false
    },
    "slideshow": {
     "slide_type": ""
    },
    "tags": [
     "remove-output"
    ]
   },
   "outputs": [],
   "source": [
    "# YOUR CODE HERE\n",
    "raise NotImplementedError\n",
    "print(f\"Percentage of malignant detected: {percent_of_malignant_detected:.3g}%\")"
   ]
  },
  {
   "cell_type": "code",
   "execution_count": null,
   "id": "de1dff78",
   "metadata": {
    "deletable": false,
    "editable": false,
    "nbgrader": {
     "cell_type": "code",
     "checksum": "a13f239583b0d82df4093221c23d1d3b",
     "grade": true,
     "grade_id": "test-malignant-detected",
     "locked": true,
     "points": 1,
     "schema_version": 3,
     "solution": false,
     "task": false
    },
    "slideshow": {
     "slide_type": ""
    },
    "tags": [
     "remove-cell"
    ]
   },
   "outputs": [],
   "source": [
    "# tests"
   ]
  },
  {
   "cell_type": "markdown",
   "id": "249139b8",
   "metadata": {},
   "source": [
    "## Different Performance Metrics"
   ]
  },
  {
   "cell_type": "markdown",
   "id": "79c4f9a8",
   "metadata": {
    "editable": true,
    "slideshow": {
     "slide_type": ""
    }
   },
   "source": [
    "In a skewed dataset, very high accuracy can be achieved using `ZeroR`, which predicts the majority class regardless of input feature values. Therefore, it is essential to use additional performance metrics to properly train and evaluate a classification algorithm."
   ]
  },
  {
   "cell_type": "markdown",
   "id": "9ca9dba8",
   "metadata": {
    "editable": true,
    "slideshow": {
     "slide_type": ""
    }
   },
   "source": [
    "::::{prf:definition} peformance metrics\n",
    "\n",
    "The following metrics, other than accuracy, can be computed from the counts of true positives (TP), false positives (FP), false negatives (FN), and true negatives (TN):\n",
    "\n",
    "$$\n",
    "\\begin{align}\n",
    "\\precision &= \\frac{\\TP}{\\TP + \\FP}\\\\ \n",
    "\\recall &= \\frac{\\TP}{\\TP + \\FN}\\\\ \n",
    "\\specificity &= \\frac{\\TN}{\\TN + \\FP}\n",
    "\\end{align}\n",
    "$$\n",
    "\n",
    "::::"
   ]
  },
  {
   "cell_type": "markdown",
   "id": "7836481e",
   "metadata": {
    "editable": true,
    "slideshow": {
     "slide_type": ""
    }
   },
   "source": [
    "The table below lists the values of TP, TN, FP, and FN:"
   ]
  },
  {
   "cell_type": "code",
   "execution_count": null,
   "id": "3d25b3e2",
   "metadata": {
    "editable": true,
    "slideshow": {
     "slide_type": ""
    }
   },
   "outputs": [],
   "source": [
    "pos_class = 1  # specify the postive class value\n",
    "TP = evl.num_true_positives(pos_class)\n",
    "FN = evl.num_false_negatives(pos_class)\n",
    "FP = evl.num_false_positives(pos_class)\n",
    "TN = evl.num_true_negatives(pos_class)\n",
    "\n",
    "assert np.isclose(performance[\"precision\"], TP / (TP + FP))\n",
    "assert np.isclose(performance[\"recall\"], TP / (TP + FN))\n",
    "assert np.isclose(performance[\"specificity\"], TN / (TN + FP))\n",
    "\n",
    "TFPN = pd.DataFrame(\n",
    "    [[TP, FN], [FP, TP]],\n",
    "    dtype=int,\n",
    "    columns=[\"predicted +ve\", \"predicted -ve\"],\n",
    "    index=[\"+ve\", \"-ve\"],\n",
    ")\n",
    "TFPN"
   ]
  },
  {
   "cell_type": "markdown",
   "id": "0ed45eeb",
   "metadata": {
    "editable": true,
    "slideshow": {
     "slide_type": ""
    }
   },
   "source": [
    "This is similar to a confusion matrix, where the entries represent the counts of instances with columns as actual values and rows as predicted values. A confusion matrix is more general because it:\n",
    "\n",
    "- does not specify a positive class, and\n",
    "- can have more than two rows/columns in multi-class classification problems."
   ]
  },
  {
   "cell_type": "markdown",
   "id": "6e43a568",
   "metadata": {
    "editable": true,
    "slideshow": {
     "slide_type": ""
    }
   },
   "source": [
    "To return the precision, recall, and specificity:"
   ]
  },
  {
   "cell_type": "code",
   "execution_count": null,
   "id": "fb514ba7",
   "metadata": {
    "editable": true,
    "slideshow": {
     "slide_type": ""
    }
   },
   "outputs": [],
   "source": [
    "performance = {\n",
    "    \"precision\": evl.precision(pos_class),\n",
    "    \"recall\": evl.recall(pos_class),\n",
    "    \"specificity\": evl.true_negative_rate(pos_class),\n",
    "}\n",
    "performance"
   ]
  },
  {
   "cell_type": "markdown",
   "id": "2b415114",
   "metadata": {
    "editable": true,
    "slideshow": {
     "slide_type": ""
    }
   },
   "source": [
    "The precision and recall are below 80% and 60% respectively:\n",
    "\n",
    "- If a bright spot is classified as malignant, the chance it is malignant is less than 80%.\n",
    "- Out of all malignant bright spots, less than 60% are identified as malignant."
   ]
  },
  {
   "cell_type": "markdown",
   "id": "e999e906",
   "metadata": {
    "editable": true,
    "slideshow": {
     "slide_type": ""
    }
   },
   "source": [
    "Despite this, the specificity is nearly perfect, i.e.,\n",
    "\n",
    "- close to 100% benign bright spots are identified as benign."
   ]
  },
  {
   "cell_type": "markdown",
   "id": "d813ab75",
   "metadata": {
    "editable": true,
    "slideshow": {
     "slide_type": ""
    }
   },
   "source": [
    "This high specificity is primarily because most bright spots are benign, not because the classifier effectively distinguishes between malignant and benign spots."
   ]
  },
  {
   "cell_type": "markdown",
   "id": "dba58b7d",
   "metadata": {
    "editable": true,
    "slideshow": {
     "slide_type": ""
    }
   },
   "source": [
    "::::{exercise}\n",
    ":label: ex:2\n",
    "Modify `performance` to include the negative predictive value. You can add the value using\n",
    "```python\n",
    "performance['NPV'] = ...\n",
    "```\n",
    "::::"
   ]
  },
  {
   "cell_type": "code",
   "execution_count": null,
   "id": "d6e3fd74",
   "metadata": {
    "deletable": false,
    "editable": true,
    "nbgrader": {
     "cell_type": "code",
     "checksum": "15ab0474f895ba4ef6e11a9dd44433d2",
     "grade": false,
     "grade_id": "npv",
     "locked": false,
     "schema_version": 3,
     "solution": true,
     "task": false
    },
    "slideshow": {
     "slide_type": ""
    },
    "tags": [
     "remove-output"
    ]
   },
   "outputs": [],
   "source": [
    "# YOUR CODE HERE\n",
    "raise NotImplementedError\n",
    "print(f\"negative predictive value (NPV): {performance['NPV']:.3g}\")"
   ]
  },
  {
   "cell_type": "code",
   "execution_count": null,
   "id": "b513b57c",
   "metadata": {
    "deletable": false,
    "editable": false,
    "nbgrader": {
     "cell_type": "code",
     "checksum": "004fbec5b7b56fa027cba7caf9ca868e",
     "grade": true,
     "grade_id": "test-npv",
     "locked": true,
     "points": 1,
     "schema_version": 3,
     "solution": false,
     "task": false
    },
    "slideshow": {
     "slide_type": ""
    },
    "tags": [
     "remove-cell"
    ]
   },
   "outputs": [],
   "source": [
    "# tests"
   ]
  },
  {
   "cell_type": "markdown",
   "id": "e13b5f59",
   "metadata": {
    "editable": true,
    "slideshow": {
     "slide_type": ""
    }
   },
   "source": [
    "The following give other measures that capture the performance in both precision and recall:"
   ]
  },
  {
   "cell_type": "markdown",
   "id": "693ab6a1",
   "metadata": {
    "editable": true,
    "slideshow": {
     "slide_type": ""
    }
   },
   "source": [
    "::::{prf:definition} $F$-scores\n",
    "\n",
    "$F_{\\beta}$-score is defined as\n",
    "\n",
    "$$\n",
    "\\begin{align}\n",
    "F_{\\beta} &:= \\left( \\frac{\\precision^{-1} + \\beta^2 \\cdot \\recall^{-1}}{\\beta^2 + 1}\\right)^{-1}\\\\\n",
    "&= \\frac{(\\beta^2+1)\\cdot \\precision\\cdot \\recall }{\\beta^2\\precision + \\recall}.\n",
    "\\end{align}\n",
    "$$ (F_beta)\n",
    "\n",
    "$F$-score is the special case when $\\beta=1$,\n",
    "\n",
    "$$\n",
    "\\begin{align}\n",
    "F := F_1 &= \\left( \\frac{\\precision^{-1} + \\recall^{-1}}{2}\\right)^{-1} \\\\\n",
    "&= \\frac{2\\cdot \\precision\\cdot \\recall }{\\precision + \\recall},\n",
    "\\end{align}\n",
    "$$ (F)\n",
    "\n",
    "which is the harmonic mean of precision and recall. \n",
    "\n",
    "::::"
   ]
  },
  {
   "cell_type": "markdown",
   "id": "cb3b30de",
   "metadata": {
    "editable": true,
    "slideshow": {
     "slide_type": ""
    }
   },
   "source": [
    "$F$-scores are useful in training a classifier to maximize both precision and recall because it is the harmonic mean of precision and recall. The harmonic mean is small if any of its components are small."
   ]
  },
  {
   "cell_type": "code",
   "execution_count": null,
   "id": "04ff912a",
   "metadata": {
    "editable": true,
    "slideshow": {
     "slide_type": ""
    }
   },
   "outputs": [],
   "source": [
    "performance[\"F\"] = evl.f_measure(pos_class)\n",
    "print(f\"F-score: {performance['F']:.3g}\")"
   ]
  },
  {
   "cell_type": "code",
   "execution_count": null,
   "id": "390125ea",
   "metadata": {
    "editable": true,
    "slideshow": {
     "slide_type": ""
    }
   },
   "outputs": [],
   "source": [
    "%%ai chatgpt -f text\n",
    "Explain why the F-score is low if either precision or recall is low."
   ]
  },
  {
   "cell_type": "markdown",
   "id": "ee94e6a0",
   "metadata": {
    "editable": true,
    "slideshow": {
     "slide_type": ""
    }
   },
   "source": [
    "::::{exercise}\n",
    ":label: ex:3\n",
    "For the $F_{\\beta}$ score, we can increase $\\beta$ to put more weight on recall. Modify `performance` to include the $F_2$ score. You can set the value using\n",
    "\n",
    "```python\n",
    "performance['F_2'] = ...\n",
    "```\n",
    "::::"
   ]
  },
  {
   "cell_type": "code",
   "execution_count": null,
   "id": "3e031076",
   "metadata": {
    "deletable": false,
    "editable": true,
    "nbgrader": {
     "cell_type": "code",
     "checksum": "5f07ef1cfd3a7ed82512a255dbc98137",
     "grade": false,
     "grade_id": "F2",
     "locked": false,
     "schema_version": 3,
     "solution": true,
     "task": false
    },
    "slideshow": {
     "slide_type": ""
    },
    "tags": [
     "remove-output"
    ]
   },
   "outputs": [],
   "source": [
    "# YOUR CODE HERE\n",
    "raise NotImplementedError\n",
    "print(f\"F_2 score: {performance['F_2']:.3g}\")"
   ]
  },
  {
   "cell_type": "code",
   "execution_count": null,
   "id": "e81b3820",
   "metadata": {
    "deletable": false,
    "editable": false,
    "nbgrader": {
     "cell_type": "code",
     "checksum": "1c6847f2a0603d797cd9c588ed7f1072",
     "grade": true,
     "grade_id": "test-F2",
     "locked": true,
     "points": 1,
     "schema_version": 3,
     "solution": false,
     "task": false
    },
    "slideshow": {
     "slide_type": ""
    },
    "tags": [
     "remove-cell"
    ]
   },
   "outputs": [],
   "source": [
    "# tests"
   ]
  },
  {
   "cell_type": "code",
   "execution_count": null,
   "id": "b95daf9a",
   "metadata": {
    "editable": true,
    "slideshow": {
     "slide_type": ""
    }
   },
   "outputs": [],
   "source": [
    "%%ai chatgpt -f text\n",
    "How have problems in information retrieval motivated the use of the \n",
    "F-beta score instead of the F-score?"
   ]
  },
  {
   "cell_type": "markdown",
   "id": "0417d807",
   "metadata": {
    "editable": true,
    "slideshow": {
     "slide_type": ""
    }
   },
   "source": [
    "::::{exercise}\n",
    ":label: ex:4\n",
    "Using `ZeroR` as the classifier, assign to `ZeroR_performance` a dictionary of precision, recall, and specificity. You can create the dictionary as follows:\n",
    "```python\n",
    "ZeroR_performance = {\n",
    "    'precision': ___,\n",
    "    'recall': ___,\n",
    "    'specificity': ___\n",
    "}\n",
    "```\n",
    "\n",
    "Use 10-fold cross-validation with a random seed of `1`. If the value is not a number, you may enter it as `np.nan`.\n",
    "\n",
    "::::"
   ]
  },
  {
   "cell_type": "code",
   "execution_count": null,
   "id": "0b179d6b",
   "metadata": {
    "deletable": false,
    "editable": true,
    "nbgrader": {
     "cell_type": "code",
     "checksum": "15f0efae6543b01b591c507cb8a16477",
     "grade": false,
     "grade_id": "ZeroR",
     "locked": false,
     "schema_version": 3,
     "solution": true,
     "task": false
    },
    "slideshow": {
     "slide_type": ""
    },
    "tags": [
     "remove-output"
    ]
   },
   "outputs": [],
   "source": [
    "# YOUR CODE HERE\n",
    "raise NotImplementedError\n",
    "ZeroR_performance"
   ]
  },
  {
   "cell_type": "code",
   "execution_count": null,
   "id": "6ca8676b",
   "metadata": {
    "deletable": false,
    "editable": false,
    "nbgrader": {
     "cell_type": "code",
     "checksum": "94c5b6b5782353a6dd4606dc02f2a86f",
     "grade": true,
     "grade_id": "test-ZeroR",
     "locked": true,
     "points": 1,
     "schema_version": 3,
     "solution": false,
     "task": false
    },
    "slideshow": {
     "slide_type": ""
    },
    "tags": [
     "remove-cell"
    ]
   },
   "outputs": [],
   "source": [
    "# hidden tests"
   ]
  },
  {
   "cell_type": "markdown",
   "id": "d9c30a0d",
   "metadata": {
    "editable": true,
    "slideshow": {
     "slide_type": ""
    }
   },
   "source": [
    "::::{exercise}\n",
    ":label: ex:5\n",
    "Is ZeroR a good baseline classifier?\n",
    "\n",
    ":::{hint}\n",
    ":class: dropdown\n",
    "\n",
    "Is the accuracy misleading? Can a random decision maker do better than zeroR?\n",
    "\n",
    ":::\n",
    "\n",
    "::::"
   ]
  },
  {
   "cell_type": "markdown",
   "id": "f1356aaa",
   "metadata": {
    "deletable": false,
    "editable": true,
    "nbgrader": {
     "cell_type": "markdown",
     "checksum": "4098962965ff36e2070f1b192c0f55a1",
     "grade": true,
     "grade_id": "baseline",
     "locked": false,
     "points": 1,
     "schema_version": 3,
     "solution": true,
     "task": false
    },
    "slideshow": {
     "slide_type": ""
    }
   },
   "source": [
    "YOUR ANSWER HERE"
   ]
  },
  {
   "cell_type": "code",
   "execution_count": null,
   "id": "402f78d5",
   "metadata": {
    "editable": true,
    "slideshow": {
     "slide_type": ""
    }
   },
   "outputs": [],
   "source": [
    "%%ai chatgpt -f text\n",
    "How does the Kappa statistic help capture performance beyond a \n",
    "baseline classifier?"
   ]
  },
  {
   "cell_type": "markdown",
   "id": "166273b0",
   "metadata": {
    "editable": true,
    "slideshow": {
     "slide_type": ""
    }
   },
   "source": [
    "## Operating Curves for Probabilistic Classifier"
   ]
  },
  {
   "cell_type": "markdown",
   "id": "cfaddb55",
   "metadata": {
    "editable": true,
    "slideshow": {
     "slide_type": ""
    }
   },
   "source": [
    "For a probabilistic classifier that returns probabilities of different classes, we can obtain a trade-off between precision and recall by changing a threshold $\\gamma$ for positive prediction, i.e., predict positive if and only if the probability estimate for positive class is larger than $\\gamma$."
   ]
  },
  {
   "cell_type": "markdown",
   "id": "74c0d485",
   "metadata": {
    "editable": true,
    "slideshow": {
     "slide_type": ""
    }
   },
   "source": [
    "To plot the [precision-recall curve](https://waikato.github.io/weka-wiki/roc_curves/) and prints the area under the curve, we can use the following tool:"
   ]
  },
  {
   "cell_type": "markdown",
   "id": "b47c8dd8",
   "metadata": {},
   "source": [
    "```python\n",
    "import weka.plot.classifiers as plcls\n",
    "```"
   ]
  },
  {
   "cell_type": "code",
   "execution_count": null,
   "id": "b0050555",
   "metadata": {
    "editable": true,
    "slideshow": {
     "slide_type": ""
    }
   },
   "outputs": [],
   "source": [
    "plcls.plot_prc(evl, class_index=[1])\n",
    "performance[\"PRC\"] = evl.area_under_prc(pos_class)\n",
    "print(f\"area under precision-recall curve (PRC): {performance['PRC']:.3g}\")"
   ]
  },
  {
   "cell_type": "code",
   "execution_count": null,
   "id": "47b498dc",
   "metadata": {
    "editable": true,
    "slideshow": {
     "slide_type": ""
    }
   },
   "outputs": [],
   "source": [
    "%%ai chatgpt -f text\n",
    "Why the PRC curve can have positive slope? Should precision be negatively\n",
    "related to recall?"
   ]
  },
  {
   "cell_type": "markdown",
   "id": "881b1650",
   "metadata": {
    "editable": true,
    "slideshow": {
     "slide_type": ""
    }
   },
   "source": [
    "::::{exercise}\n",
    ":label: ex:6\n",
    "One can operate the classifier at any point on the curve by an appropriate choice of $\\gamma$. Is it a good idea to operate at the initial part of the curve where the slope is strictly positive?\n",
    "::::"
   ]
  },
  {
   "cell_type": "markdown",
   "id": "40925901",
   "metadata": {
    "deletable": false,
    "editable": true,
    "nbgrader": {
     "cell_type": "markdown",
     "checksum": "1121e1e3d949136048751933292e0b19",
     "grade": true,
     "grade_id": "PRC",
     "locked": false,
     "points": 1,
     "schema_version": 3,
     "solution": true,
     "task": false
    },
    "slideshow": {
     "slide_type": ""
    }
   },
   "source": [
    "YOUR ANSWER HERE"
   ]
  },
  {
   "cell_type": "markdown",
   "id": "633c0d3a",
   "metadata": {
    "editable": true,
    "slideshow": {
     "slide_type": ""
    }
   },
   "source": [
    "::::{exercise}\n",
    ":label: ex:7\n",
    "The above curve shows that the classifier can achieve 100% recall but not 100% precision. Is it always possible to construct a classifier to achieve 100% recall for any given data set? How about 100% precision?\n",
    "\n",
    ":::{caution}\n",
    "\n",
    "Note that division by zero is undefined, not $0$.\n",
    ":::\n",
    "\n",
    "::::"
   ]
  },
  {
   "cell_type": "markdown",
   "id": "434899f9",
   "metadata": {
    "deletable": false,
    "editable": true,
    "nbgrader": {
     "cell_type": "markdown",
     "checksum": "769f0f9cf0c70700047f4aad9b1c080f",
     "grade": true,
     "grade_id": "perfect-recall",
     "locked": false,
     "points": 1,
     "schema_version": 3,
     "solution": true,
     "task": false
    },
    "slideshow": {
     "slide_type": ""
    }
   },
   "source": [
    "YOUR ANSWER HERE"
   ]
  },
  {
   "cell_type": "code",
   "execution_count": null,
   "id": "b8fb8699",
   "metadata": {
    "editable": true,
    "slideshow": {
     "slide_type": ""
    }
   },
   "outputs": [],
   "source": [
    "%%ai chatgpt -f text\n",
    "How is AUC of PRC different from F-score?"
   ]
  },
  {
   "cell_type": "markdown",
   "id": "07be641c",
   "metadata": {
    "editable": true,
    "slideshow": {
     "slide_type": ""
    }
   },
   "source": [
    "We can also plot the ROC (receiver operator characteristics) curve to show the trade-off between recall (true positive rate) and false positive rate:"
   ]
  },
  {
   "cell_type": "code",
   "execution_count": null,
   "id": "2828b426",
   "metadata": {
    "editable": true,
    "slideshow": {
     "slide_type": ""
    }
   },
   "outputs": [],
   "source": [
    "plcls.plot_roc(evl, class_index=[1])\n",
    "performance[\"AUC\"] = evl.area_under_roc(pos_class)\n",
    "print(f\"area under ROC curve (AUC): {performance['AUC']:.3g}\")"
   ]
  },
  {
   "cell_type": "markdown",
   "id": "54a71fd3",
   "metadata": {
    "editable": true,
    "slideshow": {
     "slide_type": ""
    }
   },
   "source": [
    "::::{exercise}\n",
    ":label: ex:8\n",
    "The above curve shows that the classifier can achieve 0% false positive rate. Is it always possible to construct a classifier that achieve 0% false positive rate for any given dataset?\n",
    "::::"
   ]
  },
  {
   "cell_type": "markdown",
   "id": "0c545410",
   "metadata": {
    "deletable": false,
    "editable": true,
    "nbgrader": {
     "cell_type": "markdown",
     "checksum": "198e1b2272cf95a2266274391282faed",
     "grade": true,
     "grade_id": "zero-false-positive",
     "locked": false,
     "points": 1,
     "schema_version": 3,
     "solution": true,
     "task": false
    },
    "slideshow": {
     "slide_type": ""
    }
   },
   "source": [
    "YOUR ANSWER HERE"
   ]
  },
  {
   "cell_type": "code",
   "execution_count": null,
   "id": "ca256cb9",
   "metadata": {
    "editable": true,
    "slideshow": {
     "slide_type": ""
    }
   },
   "outputs": [],
   "source": [
    "%%ai chatgpt -f text\n",
    "How is AUC under ROC different from AUC under PRC?"
   ]
  }
 ],
 "metadata": {
  "kernelspec": {
   "display_name": "Python 3 (ipykernel)",
   "language": "python",
   "name": "python3"
  }
 },
 "nbformat": 4,
 "nbformat_minor": 5
}
