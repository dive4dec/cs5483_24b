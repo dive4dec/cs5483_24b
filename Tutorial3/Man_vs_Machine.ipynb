{
 "cells": [
  {
   "cell_type": "markdown",
   "id": "e715f3f0",
   "metadata": {
    "editable": true,
    "slideshow": {
     "slide_type": "slide"
    }
   },
   "source": [
    "---\n",
    "title: Man vs Machine\n",
    "---"
   ]
  },
  {
   "cell_type": "code",
   "execution_count": null,
   "id": "2276e05f",
   "metadata": {
    "editable": true,
    "slideshow": {
     "slide_type": ""
    }
   },
   "outputs": [],
   "source": [
    "import logging\n",
    "import os\n",
    "\n",
    "if not os.getenv(\n",
    "    \"NBGRADER_EXECUTION\"\n",
    "):\n",
    "    %load_ext jupyter_ai\n",
    "    %ai update chatgpt dive:chat\n",
    "    # %ai update chatgpt dive-azure:gpt4o"
   ]
  },
  {
   "cell_type": "markdown",
   "id": "f156de52",
   "metadata": {},
   "source": [
    "::::{figure} https://upload.wikimedia.org/wikipedia/commons/thumb/2/28/Terminator_%28franchise_logo%29.png/512px-Terminator_%28franchise_logo%29.png\n",
    ":alt: Terminator (franchise logo)\n",
    "::::"
   ]
  },
  {
   "cell_type": "markdown",
   "id": "3a111bb9",
   "metadata": {
    "slideshow": {
     "slide_type": "fragment"
    }
   },
   "source": [
    "In this notebook, you will compete with your classmates and your machine by\n",
    "\n",
    "1. handcrafting a decision tree using Weka `UserClassifier`, and\n",
    "2. using `python-weka-wrapper` to build the J48 (C4.5) decision tree as a comparison.\n",
    "\n",
    "Let's find out who is the most intelligent!"
   ]
  },
  {
   "cell_type": "markdown",
   "id": "4fc16090",
   "metadata": {},
   "source": [
    "## Interactive Decision Tree Construction"
   ]
  },
  {
   "cell_type": "markdown",
   "id": "ba9321ef",
   "metadata": {},
   "source": [
    "::::{attention}\n",
    "\n",
    "To install version 1.0.2 of the userClassifier (as version 1.0.3 is not available on [SourceForge](https://sourceforge.net/projects/weka/files/weka-packages/)), run the following code cell. You may also manually download the zip file and install it using Weka's package manager.\n",
    "\n",
    "::::"
   ]
  },
  {
   "cell_type": "code",
   "execution_count": null,
   "id": "f0995783",
   "metadata": {},
   "outputs": [],
   "source": [
    "import logging\n",
    "import os\n",
    "\n",
    "if not os.getenv(\"NBGRADER_EXECUTION\"):\n",
    "    import weka.core.jvm as jvm\n",
    "    import weka.core.packages as packages\n",
    "\n",
    "    jvm.start(packages=True, logging_level=logging.ERROR)\n",
    "    pkg, version = \"userClassifier\", \"1.0.2\"\n",
    "    if not packages.is_installed(pkg):\n",
    "        print(f\"Installing {pkg}...\")\n",
    "        packages.install_package(\"userClassifier\", version=\"1.0.2\")\n",
    "        print(\"Done.\")\n",
    "    else:\n",
    "        print(f\"Skipping {pkg}, already installed.\")"
   ]
  },
  {
   "cell_type": "markdown",
   "id": "bbc77f56",
   "metadata": {},
   "source": [
    "Follow the instruction above [\\[Witten11\\] Ex 17.2.12][Witten11] to \n",
    "\n",
    "1. install the package `UserClassifier`,\n",
    "2. hand-build a decision tree using [`segment-challenge.arff`][segment-challenge] as the training set, and \n",
    "3. test the performance using [`segment-test.arff`][segment-test] as the test set.\n",
    "\n",
    "[Witten11]: https://ebookcentral.proquest.com/lib/cityuhk/reader.action?docID=634862&ppg=604\n",
    "[segment-challenge]: https://raw.githubusercontent.com/Waikato/weka-3.8/master/wekadocs/data/segment-challenge.arff\n",
    "[segment-test]: https://raw.githubusercontent.com/Waikato/weka-3.8/master/wekadocs/data/segment-test.arff"
   ]
  },
  {
   "cell_type": "markdown",
   "id": "bb8faf68",
   "metadata": {},
   "source": [
    "::::{exercise}\n",
    ":label: ex:1\n",
    " Why should you NOT use the training set `segment-challenge.arff` to test your decision tree?\n",
    "::::"
   ]
  },
  {
   "cell_type": "markdown",
   "id": "c9028ba5",
   "metadata": {
    "deletable": false,
    "nbgrader": {
     "cell_type": "markdown",
     "checksum": "336aded134c9923168791d9525d47565",
     "grade": true,
     "grade_id": "bias",
     "locked": false,
     "points": 1,
     "schema_version": 3,
     "solution": true,
     "task": false
    }
   },
   "source": [
    "YOUR ANSWER HERE"
   ]
  },
  {
   "cell_type": "markdown",
   "id": "305b7577",
   "metadata": {},
   "source": [
    "::::{exercise}\n",
    ":label: ex:2\n",
    " Why should you NOT use the class attribute to split the decision tree?\n",
    "::::"
   ]
  },
  {
   "cell_type": "markdown",
   "id": "a6e70a74",
   "metadata": {
    "deletable": false,
    "nbgrader": {
     "cell_type": "markdown",
     "checksum": "be6c1a0ce2126e08e8681e77d48dced6",
     "grade": true,
     "grade_id": "class-not-available",
     "locked": false,
     "points": 1,
     "schema_version": 3,
     "solution": true,
     "task": false
    }
   },
   "source": [
    "YOUR ANSWER HERE"
   ]
  },
  {
   "cell_type": "markdown",
   "id": "5e4f3f6b",
   "metadata": {},
   "source": [
    "Get ready to dive into the thrilling world of decision trees! It’s time to showcase your data science prowess and outshine your classmates. Here’s what you need to do:"
   ]
  },
  {
   "cell_type": "markdown",
   "id": "e0ad2c60",
   "metadata": {
    "slideshow": {
     "slide_type": "subslide"
    }
   },
   "source": [
    "::::{exercise}\n",
    ":label: ex:3\n",
    "\n",
    "Include the model and result summary sections from the result buffer of your best hand-built decision tree. Your answer should look like:\n",
    "\n",
    "```\n",
    "=== Classifier model (full training set) ===\n",
    "\n",
    "Split on ...\n",
    "\n",
    "Time taken to build model: ...\n",
    "\n",
    "=== Confusion Matrix ===\n",
    "\n",
    "...\n",
    "\n",
    "=== Summary ===\n",
    "\n",
    "Correctly Classified Instances ...\n",
    "\n",
    "```\n",
    "\n",
    "Try your best to beat your classmates and the machines:\n",
    "- Build at least two decision trees and pick the best one. \n",
    "- Share your result (and knowledge) on the [discussion page on Interactive Decision Tree Construction](https://canvas.cityu.edu.hk/courses/62414/discussion_topics/539587).\n",
    "- See if your classmates have posted better decision trees and give them a like if they have.\n",
    "\n",
    "::::"
   ]
  },
  {
   "cell_type": "markdown",
   "id": "19b4711f",
   "metadata": {
    "deletable": false,
    "nbgrader": {
     "cell_type": "markdown",
     "checksum": "4c3477bddd8cf7b71847f41a8ffcf553",
     "grade": true,
     "grade_id": "UserClassifier",
     "locked": false,
     "points": 1,
     "schema_version": 3,
     "solution": true,
     "task": false
    },
    "slideshow": {
     "slide_type": "-"
    }
   },
   "source": [
    "YOUR ANSWER HERE"
   ]
  },
  {
   "cell_type": "markdown",
   "id": "124e123a",
   "metadata": {},
   "source": [
    "::::{exercise}\n",
    ":label: ex:4\n",
    "For the best decision tree you hand-built, is the empirical accuracy on the test set an unbiased estimate of your performance? Explain the direction of the bias, if any.\n",
    "::::"
   ]
  },
  {
   "cell_type": "markdown",
   "id": "3f8012c5",
   "metadata": {
    "deletable": false,
    "nbgrader": {
     "cell_type": "markdown",
     "checksum": "2645cc3c8f7188f080448bc15dd54610",
     "grade": true,
     "grade_id": "bias-model-selection",
     "locked": false,
     "points": 1,
     "schema_version": 3,
     "solution": true,
     "task": false
    }
   },
   "source": [
    "YOUR ANSWER HERE"
   ]
  },
  {
   "cell_type": "code",
   "execution_count": null,
   "id": "1f6026c4",
   "metadata": {},
   "outputs": [],
   "source": [
    "%%ai chatgpt -f text\n",
    "I am in a competition to hand build the best decision tree using the \n",
    "UserClassifier package of Weka. Can you describe in one paragraph how to use\n",
    "the scatter plots to find pairs of attributes to split? I cannot do detailed\n",
    "calculations. How to avoid overfitting?"
   ]
  },
  {
   "cell_type": "markdown",
   "id": "7c9bd43d",
   "metadata": {},
   "source": [
    "## Python Weka Wrapper"
   ]
  },
  {
   "cell_type": "markdown",
   "id": "219c2814",
   "metadata": {},
   "source": [
    "To see if your hand-built classifier can beat the machine, use J48 (C4.5) to build a decision tree. Instead of using the Weka Explorer Interface, you will run Weka directly from the notebook using [`python-weka-wrapper3`][pww].\n",
    "\n",
    "[pww]: http://fracpete.github.io/python-weka-wrapper3/"
   ]
  },
  {
   "cell_type": "markdown",
   "id": "88de28fd",
   "metadata": {},
   "source": [
    "Because Weka is written in Java, we need to start the java virtual machine first."
   ]
  },
  {
   "cell_type": "code",
   "execution_count": null,
   "id": "1096413b",
   "metadata": {
    "tags": [
     "remove-output"
    ]
   },
   "outputs": [],
   "source": [
    "import weka.core.jvm as jvm\n",
    "import logging\n",
    "\n",
    "jvm.start(logging_level=logging.ERROR)"
   ]
  },
  {
   "cell_type": "markdown",
   "id": "638a120f",
   "metadata": {},
   "source": [
    "### Loading dataset"
   ]
  },
  {
   "cell_type": "markdown",
   "id": "de7c30de",
   "metadata": {},
   "source": [
    "To load the dataset, create an `ArffLoader` as follows:"
   ]
  },
  {
   "cell_type": "code",
   "execution_count": null,
   "id": "f644c7bc",
   "metadata": {},
   "outputs": [],
   "source": [
    "from weka.core.converters import Loader\n",
    "\n",
    "loader = Loader(classname=\"weka.core.converters.ArffLoader\")"
   ]
  },
  {
   "cell_type": "markdown",
   "id": "3afda3af",
   "metadata": {},
   "source": [
    "The loader has the method `load_url` to load data from the web, such as the [Weka GitHub repository][weka]:\n",
    "\n",
    "[weka]: https://raw.githubusercontent.com/Waikato/weka-3.8/master/wekadocs/data/"
   ]
  },
  {
   "cell_type": "code",
   "execution_count": null,
   "id": "d52c7f66",
   "metadata": {},
   "outputs": [],
   "source": [
    "weka_data_path = (\n",
    "    \"https://raw.githubusercontent.com/Waikato/weka-3.8/master/wekadocs/data/\"\n",
    ")\n",
    "trainset = loader.load_url(\n",
    "    weka_data_path + \"segment-challenge.arff\"\n",
    ")  # use load_file to load from file instead"
   ]
  },
  {
   "cell_type": "markdown",
   "id": "75271e25",
   "metadata": {},
   "source": [
    "For classification, we have to specify the class attribute. For instance, the method `class_is_last` mutates `trainset` to have the last attribute as the class attribute:"
   ]
  },
  {
   "cell_type": "code",
   "execution_count": null,
   "id": "87b41e2c",
   "metadata": {},
   "outputs": [],
   "source": [
    "trainset.class_is_last()"
   ]
  },
  {
   "cell_type": "markdown",
   "id": "25ffacbc",
   "metadata": {},
   "source": [
    "::::{exercise}\n",
    ":label: ex:5\n",
    "\n",
    "1. Assign `testset` to the data loaded from `weka_data_path + 'segment-test.arff'`. \n",
    "2. Specify the last attribute of `testset` as the target.\n",
    "\n",
    "::::"
   ]
  },
  {
   "cell_type": "code",
   "execution_count": null,
   "id": "d9ebe559",
   "metadata": {
    "deletable": false,
    "editable": true,
    "nbgrader": {
     "cell_type": "code",
     "checksum": "422f96652c14fa8f9af7bb83f083d8c2",
     "grade": false,
     "grade_id": "testset",
     "locked": false,
     "schema_version": 3,
     "solution": true,
     "task": false
    },
    "slideshow": {
     "slide_type": ""
    },
    "tags": [
     "remove-output"
    ]
   },
   "outputs": [],
   "source": [
    "from weka.core.dataset import Instances\n",
    "\n",
    "# YOUR CODE HERE\n",
    "raise NotImplementedError\n",
    "print(Instances.summary(testset))"
   ]
  },
  {
   "cell_type": "code",
   "execution_count": null,
   "id": "a5912631",
   "metadata": {
    "deletable": false,
    "editable": false,
    "nbgrader": {
     "cell_type": "code",
     "checksum": "e292741c849719bbe96967eead669b63",
     "grade": true,
     "grade_id": "test-testset",
     "locked": true,
     "points": 1,
     "schema_version": 3,
     "solution": false,
     "task": false
    },
    "slideshow": {
     "slide_type": ""
    },
    "tags": [
     "remove-output",
     "hide-input"
    ]
   },
   "outputs": [],
   "source": [
    "# tests\n",
    "assert testset.relationname == \"segment\"\n",
    "assert testset.num_instances == 810\n",
    "assert testset.num_attributes == 20"
   ]
  },
  {
   "cell_type": "code",
   "execution_count": null,
   "id": "e57c99dd",
   "metadata": {
    "deletable": false,
    "editable": false,
    "nbgrader": {
     "cell_type": "code",
     "checksum": "940dbdce32e5c40f4986f940673b53e5",
     "grade": true,
     "grade_id": "htest-testset",
     "locked": true,
     "points": 1,
     "schema_version": 3,
     "solution": false,
     "task": false
    },
    "slideshow": {
     "slide_type": ""
    },
    "tags": [
     "remove-cell"
    ]
   },
   "outputs": [],
   "source": [
    "# hidden tests"
   ]
  },
  {
   "cell_type": "markdown",
   "id": "3ab52d35",
   "metadata": {},
   "source": [
    "### Training using J48"
   ]
  },
  {
   "cell_type": "markdown",
   "id": "ec30776c",
   "metadata": {},
   "source": [
    "To train a decision tree using J48, we create the classifier and then apply the method `build_classifier` on the training set."
   ]
  },
  {
   "cell_type": "code",
   "execution_count": null,
   "id": "410e3670",
   "metadata": {},
   "outputs": [],
   "source": [
    "from weka.classifiers import Classifier\n",
    "\n",
    "J48 = Classifier(classname=\"weka.classifiers.trees.J48\")\n",
    "J48.build_classifier(trainset)\n",
    "J48"
   ]
  },
  {
   "cell_type": "markdown",
   "id": "d6e0b413",
   "metadata": {},
   "source": [
    "To visualize the tree by generating an SVG file:"
   ]
  },
  {
   "cell_type": "code",
   "execution_count": null,
   "id": "f9f8d668",
   "metadata": {},
   "outputs": [],
   "source": [
    "import pygraphviz as pgv\n",
    "from IPython.display import SVG\n",
    "\n",
    "# Create a PyGraphviz AGraph object from the DOT data\n",
    "pgv.AGraph(string=J48.graph).draw('J48tree.svg', prog='dot')\n",
    "\n",
    "# Display the SVG file\n",
    "SVG(filename=\"J48tree.svg\")"
   ]
  },
  {
   "cell_type": "markdown",
   "id": "afc93ecb",
   "metadata": {},
   "source": [
    "::::{tip} How to edit the decision tree?\n",
    ":class: dropdown\n",
    "\n",
    "`J48.graph` is a piece of code written in a domain-specific language called [DOT graph][dot]. You can save the dot file instead of the rendered image, so that you can edit it further. To do so:\n",
    "\n",
    "1. Save the string to a text file such as [`J48tree.gv`](J48tree.gv)\n",
    "\n",
    "2. Edit/preview it in vscode using the [extension](https://marketplace.visualstudio.com/items?itemName=tintinweb.graphviz-interactive-preview&ssr=false#version-history). To install the extension:  \n",
    "\n",
    "    1. Run the command in a terminal:\n",
    "\n",
    "      ```bash\n",
    "      install-vscode-extension tintinweb.graphviz-interactive-preview@0.3.5\n",
    "      ```\n",
    "\n",
    "    2. Reload the vscode window with the command `> Developer: Reload Window`.\n",
    "\n",
    "There are also online editors available such as:\n",
    "\n",
    ":::::{card}\n",
    ":header: [open in new tab](https://dreampuf.github.io/GraphvizOnline/#digraph%20J48Tree%20%7B%0AN0%20%5Blabel%3D%22region-centroid-row%22%20%5D%0AN0-%3EN1%20%5Blabel%3D%22%3C%3D%20155%22%5D%0AN1%20%5Blabel%3D%22value-mean%22%20%5D%0AN1-%3EN2%20%5Blabel%3D%22%3C%3D%2091.4444%22%5D%0AN2%20%5Blabel%3D%22rawred-mean%22%20%5D%0AN2-%3EN3%20%5Blabel%3D%22%3C%3D%2024.6667%22%5D%0AN3%20%5Blabel%3D%22hue-mean%22%20%5D%0AN3-%3EN4%20%5Blabel%3D%22%3C%3D%20-1.89048%22%5D%0AN4%20%5Blabel%3D%22hue-mean%22%20%5D%0AN4-%3EN5%20%5Blabel%3D%22%3C%3D%20-2.22266%22%5D%0AN5%20%5Blabel%3D%22region-centroid-row%22%20%5D%0AN5-%3EN6%20%5Blabel%3D%22%3C%3D%20146%22%5D%0AN6%20%5Blabel%3D%22foliage%20(102.0%2F1.0)%22%20shape%3Dbox%20style%3Dfilled%20%5D%0AN5-%3EN7%20%5Blabel%3D%22%3E%20146%22%5D%0AN7%20%5Blabel%3D%22cement%20(3.0)%22%20shape%3Dbox%20style%3Dfilled%20%5D%0AN4-%3EN8%20%5Blabel%3D%22%3E%20-2.22266%22%5D%0AN8%20%5Blabel%3D%22rawred-mean%22%20%5D%0AN8-%3EN9%20%5Blabel%3D%22%3C%3D%202.55556%22%5D%0AN9%20%5Blabel%3D%22hue-mean%22%20%5D%0AN9-%3EN10%20%5Blabel%3D%22%3C%3D%20-2.09121%22%5D%0AN10%20%5Blabel%3D%22region-centroid-row%22%20%5D%0AN10-%3EN11%20%5Blabel%3D%22%3C%3D%20129%22%5D%0AN11%20%5Blabel%3D%22foliage%20(50.0)%22%20shape%3Dbox%20style%3Dfilled%20%5D%0AN10-%3EN12%20%5Blabel%3D%22%3E%20129%22%5D%0AN12%20%5Blabel%3D%22region-centroid-col%22%20%5D%0AN12-%3EN13%20%5Blabel%3D%22%3C%3D%20128%22%5D%0AN13%20%5Blabel%3D%22rawred-mean%22%20%5D%0AN13-%3EN14%20%5Blabel%3D%22%3C%3D%200.666667%22%5D%0AN14%20%5Blabel%3D%22foliage%20(30.0%2F4.0)%22%20shape%3Dbox%20style%3Dfilled%20%5D%0AN13-%3EN15%20%5Blabel%3D%22%3E%200.666667%22%5D%0AN15%20%5Blabel%3D%22window%20(5.0)%22%20shape%3Dbox%20style%3Dfilled%20%5D%0AN12-%3EN16%20%5Blabel%3D%22%3E%20128%22%5D%0AN16%20%5Blabel%3D%22vedge-mean%22%20%5D%0AN16-%3EN17%20%5Blabel%3D%22%3C%3D%200.333333%22%5D%0AN17%20%5Blabel%3D%22window%20(11.0)%22%20shape%3Dbox%20style%3Dfilled%20%5D%0AN16-%3EN18%20%5Blabel%3D%22%3E%200.333333%22%5D%0AN18%20%5Blabel%3D%22region-centroid-col%22%20%5D%0AN18-%3EN19%20%5Blabel%3D%22%3C%3D%20216%22%5D%0AN19%20%5Blabel%3D%22window%20(3.0)%22%20shape%3Dbox%20style%3Dfilled%20%5D%0AN18-%3EN20%20%5Blabel%3D%22%3E%20216%22%5D%0AN20%20%5Blabel%3D%22foliage%20(2.0)%22%20shape%3Dbox%20style%3Dfilled%20%5D%0AN9-%3EN21%20%5Blabel%3D%22%3E%20-2.09121%22%5D%0AN21%20%5Blabel%3D%22window%20(38.0%2F1.0)%22%20shape%3Dbox%20style%3Dfilled%20%5D%0AN8-%3EN22%20%5Blabel%3D%22%3E%202.55556%22%5D%0AN22%20%5Blabel%3D%22region-centroid-row%22%20%5D%0AN22-%3EN23%20%5Blabel%3D%22%3C%3D%20121%22%5D%0AN23%20%5Blabel%3D%22exgreen-mean%22%20%5D%0AN23-%3EN24%20%5Blabel%3D%22%3C%3D%20-15.4444%22%5D%0AN24%20%5Blabel%3D%22brickface%20(2.0%2F1.0)%22%20shape%3Dbox%20style%3Dfilled%20%5D%0AN23-%3EN25%20%5Blabel%3D%22%3E%20-15.4444%22%5D%0AN25%20%5Blabel%3D%22vedge-mean%22%20%5D%0AN25-%3EN26%20%5Blabel%3D%22%3C%3D%202.94444%22%5D%0AN26%20%5Blabel%3D%22window%20(75.0)%22%20shape%3Dbox%20style%3Dfilled%20%5D%0AN25-%3EN27%20%5Blabel%3D%22%3E%202.94444%22%5D%0AN27%20%5Blabel%3D%22region-centroid-col%22%20%5D%0AN27-%3EN28%20%5Blabel%3D%22%3C%3D%20134%22%5D%0AN28%20%5Blabel%3D%22cement%20(2.0)%22%20shape%3Dbox%20style%3Dfilled%20%5D%0AN27-%3EN29%20%5Blabel%3D%22%3E%20134%22%5D%0AN29%20%5Blabel%3D%22window%20(8.0)%22%20shape%3Dbox%20style%3Dfilled%20%5D%0AN22-%3EN30%20%5Blabel%3D%22%3E%20121%22%5D%0AN30%20%5Blabel%3D%22rawred-mean%22%20%5D%0AN30-%3EN31%20%5Blabel%3D%22%3C%3D%207.88889%22%5D%0AN31%20%5Blabel%3D%22region-centroid-col%22%20%5D%0AN31-%3EN32%20%5Blabel%3D%22%3C%3D%2043%22%5D%0AN32%20%5Blabel%3D%22brickface%20(2.0)%22%20shape%3Dbox%20style%3Dfilled%20%5D%0AN31-%3EN33%20%5Blabel%3D%22%3E%2043%22%5D%0AN33%20%5Blabel%3D%22window%20(13.0%2F2.0)%22%20shape%3Dbox%20style%3Dfilled%20%5D%0AN30-%3EN34%20%5Blabel%3D%22%3E%207.88889%22%5D%0AN34%20%5Blabel%3D%22saturation-mean%22%20%5D%0AN34-%3EN35%20%5Blabel%3D%22%3C%3D%200.492526%22%5D%0AN35%20%5Blabel%3D%22cement%20(15.0)%22%20shape%3Dbox%20style%3Dfilled%20%5D%0AN34-%3EN36%20%5Blabel%3D%22%3E%200.492526%22%5D%0AN36%20%5Blabel%3D%22region-centroid-col%22%20%5D%0AN36-%3EN37%20%5Blabel%3D%22%3C%3D%2082%22%5D%0AN37%20%5Blabel%3D%22foliage%20(2.0)%22%20shape%3Dbox%20style%3Dfilled%20%5D%0AN36-%3EN38%20%5Blabel%3D%22%3E%2082%22%5D%0AN38%20%5Blabel%3D%22cement%20(4.0%2F1.0)%22%20shape%3Dbox%20style%3Dfilled%20%5D%0AN3-%3EN39%20%5Blabel%3D%22%3E%20-1.89048%22%5D%0AN39%20%5Blabel%3D%22exgreen-mean%22%20%5D%0AN39-%3EN40%20%5Blabel%3D%22%3C%3D%20-4.77778%22%5D%0AN40%20%5Blabel%3D%22vedge-mean%22%20%5D%0AN40-%3EN41%20%5Blabel%3D%22%3C%3D%202.77778%22%5D%0AN41%20%5Blabel%3D%22brickface%20(198.0%2F2.0)%22%20shape%3Dbox%20style%3Dfilled%20%5D%0AN40-%3EN42%20%5Blabel%3D%22%3E%202.77778%22%5D%0AN42%20%5Blabel%3D%22region-centroid-row%22%20%5D%0AN42-%3EN43%20%5Blabel%3D%22%3C%3D%20115%22%5D%0AN43%20%5Blabel%3D%22brickface%20(4.0)%22%20shape%3Dbox%20style%3Dfilled%20%5D%0AN42-%3EN44%20%5Blabel%3D%22%3E%20115%22%5D%0AN44%20%5Blabel%3D%22foliage%20(3.0%2F1.0)%22%20shape%3Dbox%20style%3Dfilled%20%5D%0AN39-%3EN45%20%5Blabel%3D%22%3E%20-4.77778%22%5D%0AN45%20%5Blabel%3D%22hedge-mean%22%20%5D%0AN45-%3EN46%20%5Blabel%3D%22%3C%3D%200.833336%22%5D%0AN46%20%5Blabel%3D%22region-centroid-col%22%20%5D%0AN46-%3EN47%20%5Blabel%3D%22%3C%3D%20115%22%5D%0AN47%20%5Blabel%3D%22foliage%20(4.0)%22%20shape%3Dbox%20style%3Dfilled%20%5D%0AN46-%3EN48%20%5Blabel%3D%22%3E%20115%22%5D%0AN48%20%5Blabel%3D%22window%20(42.0)%22%20shape%3Dbox%20style%3Dfilled%20%5D%0AN45-%3EN49%20%5Blabel%3D%22%3E%200.833336%22%5D%0AN49%20%5Blabel%3D%22grass%20(2.0)%22%20shape%3Dbox%20style%3Dfilled%20%5D%0AN2-%3EN50%20%5Blabel%3D%22%3E%2024.6667%22%5D%0AN50%20%5Blabel%3D%22hue-mean%22%20%5D%0AN50-%3EN51%20%5Blabel%3D%22%3C%3D%20-2.17742%22%5D%0AN51%20%5Blabel%3D%22vedge-mean%22%20%5D%0AN51-%3EN52%20%5Blabel%3D%22%3C%3D%205%22%5D%0AN52%20%5Blabel%3D%22window%20(4.0%2F1.0)%22%20shape%3Dbox%20style%3Dfilled%20%5D%0AN51-%3EN53%20%5Blabel%3D%22%3E%205%22%5D%0AN53%20%5Blabel%3D%22foliage%20(18.0)%22%20shape%3Dbox%20style%3Dfilled%20%5D%0AN50-%3EN54%20%5Blabel%3D%22%3E%20-2.17742%22%5D%0AN54%20%5Blabel%3D%22rawgreen-mean%22%20%5D%0AN54-%3EN55%20%5Blabel%3D%22%3C%3D%2024.4444%22%5D%0AN55%20%5Blabel%3D%22brickface%20(3.0%2F1.0)%22%20shape%3Dbox%20style%3Dfilled%20%5D%0AN54-%3EN56%20%5Blabel%3D%22%3E%2024.4444%22%5D%0AN56%20%5Blabel%3D%22cement%20(180.0)%22%20shape%3Dbox%20style%3Dfilled%20%5D%0AN1-%3EN57%20%5Blabel%3D%22%3E%2091.4444%22%5D%0AN57%20%5Blabel%3D%22sky%20(220.0)%22%20shape%3Dbox%20style%3Dfilled%20%5D%0AN0-%3EN58%20%5Blabel%3D%22%3E%20155%22%5D%0AN58%20%5Blabel%3D%22exgreen-mean%22%20%5D%0AN58-%3EN59%20%5Blabel%3D%22%3C%3D%20-2%22%5D%0AN59%20%5Blabel%3D%22saturation-mean%22%20%5D%0AN59-%3EN60%20%5Blabel%3D%22%3C%3D%200.385555%22%5D%0AN60%20%5Blabel%3D%22region-centroid-row%22%20%5D%0AN60-%3EN61%20%5Blabel%3D%22%3C%3D%20159%22%5D%0AN61%20%5Blabel%3D%22region-centroid-col%22%20%5D%0AN61-%3EN62%20%5Blabel%3D%22%3C%3D%20208%22%5D%0AN62%20%5Blabel%3D%22cement%20(3.0)%22%20shape%3Dbox%20style%3Dfilled%20%5D%0AN61-%3EN63%20%5Blabel%3D%22%3E%20208%22%5D%0AN63%20%5Blabel%3D%22path%20(2.0)%22%20shape%3Dbox%20style%3Dfilled%20%5D%0AN60-%3EN64%20%5Blabel%3D%22%3E%20159%22%5D%0AN64%20%5Blabel%3D%22path%20(234.0)%22%20shape%3Dbox%20style%3Dfilled%20%5D%0AN59-%3EN65%20%5Blabel%3D%22%3E%200.385555%22%5D%0AN65%20%5Blabel%3D%22cement%20(11.0)%22%20shape%3Dbox%20style%3Dfilled%20%5D%0AN58-%3EN66%20%5Blabel%3D%22%3E%20-2%22%5D%0AN66%20%5Blabel%3D%22grass%20(205.0)%22%20shape%3Dbox%20style%3Dfilled%20%5D%0A%7D)\n",
    "::::{iframe} https://dreampuf.github.io/GraphvizOnline/#digraph%20J48Tree%20%7B%0AN0%20%5Blabel%3D%22region-centroid-row%22%20%5D%0AN0-%3EN1%20%5Blabel%3D%22%3C%3D%20155%22%5D%0AN1%20%5Blabel%3D%22value-mean%22%20%5D%0AN1-%3EN2%20%5Blabel%3D%22%3C%3D%2091.4444%22%5D%0AN2%20%5Blabel%3D%22rawred-mean%22%20%5D%0AN2-%3EN3%20%5Blabel%3D%22%3C%3D%2024.6667%22%5D%0AN3%20%5Blabel%3D%22hue-mean%22%20%5D%0AN3-%3EN4%20%5Blabel%3D%22%3C%3D%20-1.89048%22%5D%0AN4%20%5Blabel%3D%22hue-mean%22%20%5D%0AN4-%3EN5%20%5Blabel%3D%22%3C%3D%20-2.22266%22%5D%0AN5%20%5Blabel%3D%22region-centroid-row%22%20%5D%0AN5-%3EN6%20%5Blabel%3D%22%3C%3D%20146%22%5D%0AN6%20%5Blabel%3D%22foliage%20(102.0%2F1.0)%22%20shape%3Dbox%20style%3Dfilled%20%5D%0AN5-%3EN7%20%5Blabel%3D%22%3E%20146%22%5D%0AN7%20%5Blabel%3D%22cement%20(3.0)%22%20shape%3Dbox%20style%3Dfilled%20%5D%0AN4-%3EN8%20%5Blabel%3D%22%3E%20-2.22266%22%5D%0AN8%20%5Blabel%3D%22rawred-mean%22%20%5D%0AN8-%3EN9%20%5Blabel%3D%22%3C%3D%202.55556%22%5D%0AN9%20%5Blabel%3D%22hue-mean%22%20%5D%0AN9-%3EN10%20%5Blabel%3D%22%3C%3D%20-2.09121%22%5D%0AN10%20%5Blabel%3D%22region-centroid-row%22%20%5D%0AN10-%3EN11%20%5Blabel%3D%22%3C%3D%20129%22%5D%0AN11%20%5Blabel%3D%22foliage%20(50.0)%22%20shape%3Dbox%20style%3Dfilled%20%5D%0AN10-%3EN12%20%5Blabel%3D%22%3E%20129%22%5D%0AN12%20%5Blabel%3D%22region-centroid-col%22%20%5D%0AN12-%3EN13%20%5Blabel%3D%22%3C%3D%20128%22%5D%0AN13%20%5Blabel%3D%22rawred-mean%22%20%5D%0AN13-%3EN14%20%5Blabel%3D%22%3C%3D%200.666667%22%5D%0AN14%20%5Blabel%3D%22foliage%20(30.0%2F4.0)%22%20shape%3Dbox%20style%3Dfilled%20%5D%0AN13-%3EN15%20%5Blabel%3D%22%3E%200.666667%22%5D%0AN15%20%5Blabel%3D%22window%20(5.0)%22%20shape%3Dbox%20style%3Dfilled%20%5D%0AN12-%3EN16%20%5Blabel%3D%22%3E%20128%22%5D%0AN16%20%5Blabel%3D%22vedge-mean%22%20%5D%0AN16-%3EN17%20%5Blabel%3D%22%3C%3D%200.333333%22%5D%0AN17%20%5Blabel%3D%22window%20(11.0)%22%20shape%3Dbox%20style%3Dfilled%20%5D%0AN16-%3EN18%20%5Blabel%3D%22%3E%200.333333%22%5D%0AN18%20%5Blabel%3D%22region-centroid-col%22%20%5D%0AN18-%3EN19%20%5Blabel%3D%22%3C%3D%20216%22%5D%0AN19%20%5Blabel%3D%22window%20(3.0)%22%20shape%3Dbox%20style%3Dfilled%20%5D%0AN18-%3EN20%20%5Blabel%3D%22%3E%20216%22%5D%0AN20%20%5Blabel%3D%22foliage%20(2.0)%22%20shape%3Dbox%20style%3Dfilled%20%5D%0AN9-%3EN21%20%5Blabel%3D%22%3E%20-2.09121%22%5D%0AN21%20%5Blabel%3D%22window%20(38.0%2F1.0)%22%20shape%3Dbox%20style%3Dfilled%20%5D%0AN8-%3EN22%20%5Blabel%3D%22%3E%202.55556%22%5D%0AN22%20%5Blabel%3D%22region-centroid-row%22%20%5D%0AN22-%3EN23%20%5Blabel%3D%22%3C%3D%20121%22%5D%0AN23%20%5Blabel%3D%22exgreen-mean%22%20%5D%0AN23-%3EN24%20%5Blabel%3D%22%3C%3D%20-15.4444%22%5D%0AN24%20%5Blabel%3D%22brickface%20(2.0%2F1.0)%22%20shape%3Dbox%20style%3Dfilled%20%5D%0AN23-%3EN25%20%5Blabel%3D%22%3E%20-15.4444%22%5D%0AN25%20%5Blabel%3D%22vedge-mean%22%20%5D%0AN25-%3EN26%20%5Blabel%3D%22%3C%3D%202.94444%22%5D%0AN26%20%5Blabel%3D%22window%20(75.0)%22%20shape%3Dbox%20style%3Dfilled%20%5D%0AN25-%3EN27%20%5Blabel%3D%22%3E%202.94444%22%5D%0AN27%20%5Blabel%3D%22region-centroid-col%22%20%5D%0AN27-%3EN28%20%5Blabel%3D%22%3C%3D%20134%22%5D%0AN28%20%5Blabel%3D%22cement%20(2.0)%22%20shape%3Dbox%20style%3Dfilled%20%5D%0AN27-%3EN29%20%5Blabel%3D%22%3E%20134%22%5D%0AN29%20%5Blabel%3D%22window%20(8.0)%22%20shape%3Dbox%20style%3Dfilled%20%5D%0AN22-%3EN30%20%5Blabel%3D%22%3E%20121%22%5D%0AN30%20%5Blabel%3D%22rawred-mean%22%20%5D%0AN30-%3EN31%20%5Blabel%3D%22%3C%3D%207.88889%22%5D%0AN31%20%5Blabel%3D%22region-centroid-col%22%20%5D%0AN31-%3EN32%20%5Blabel%3D%22%3C%3D%2043%22%5D%0AN32%20%5Blabel%3D%22brickface%20(2.0)%22%20shape%3Dbox%20style%3Dfilled%20%5D%0AN31-%3EN33%20%5Blabel%3D%22%3E%2043%22%5D%0AN33%20%5Blabel%3D%22window%20(13.0%2F2.0)%22%20shape%3Dbox%20style%3Dfilled%20%5D%0AN30-%3EN34%20%5Blabel%3D%22%3E%207.88889%22%5D%0AN34%20%5Blabel%3D%22saturation-mean%22%20%5D%0AN34-%3EN35%20%5Blabel%3D%22%3C%3D%200.492526%22%5D%0AN35%20%5Blabel%3D%22cement%20(15.0)%22%20shape%3Dbox%20style%3Dfilled%20%5D%0AN34-%3EN36%20%5Blabel%3D%22%3E%200.492526%22%5D%0AN36%20%5Blabel%3D%22region-centroid-col%22%20%5D%0AN36-%3EN37%20%5Blabel%3D%22%3C%3D%2082%22%5D%0AN37%20%5Blabel%3D%22foliage%20(2.0)%22%20shape%3Dbox%20style%3Dfilled%20%5D%0AN36-%3EN38%20%5Blabel%3D%22%3E%2082%22%5D%0AN38%20%5Blabel%3D%22cement%20(4.0%2F1.0)%22%20shape%3Dbox%20style%3Dfilled%20%5D%0AN3-%3EN39%20%5Blabel%3D%22%3E%20-1.89048%22%5D%0AN39%20%5Blabel%3D%22exgreen-mean%22%20%5D%0AN39-%3EN40%20%5Blabel%3D%22%3C%3D%20-4.77778%22%5D%0AN40%20%5Blabel%3D%22vedge-mean%22%20%5D%0AN40-%3EN41%20%5Blabel%3D%22%3C%3D%202.77778%22%5D%0AN41%20%5Blabel%3D%22brickface%20(198.0%2F2.0)%22%20shape%3Dbox%20style%3Dfilled%20%5D%0AN40-%3EN42%20%5Blabel%3D%22%3E%202.77778%22%5D%0AN42%20%5Blabel%3D%22region-centroid-row%22%20%5D%0AN42-%3EN43%20%5Blabel%3D%22%3C%3D%20115%22%5D%0AN43%20%5Blabel%3D%22brickface%20(4.0)%22%20shape%3Dbox%20style%3Dfilled%20%5D%0AN42-%3EN44%20%5Blabel%3D%22%3E%20115%22%5D%0AN44%20%5Blabel%3D%22foliage%20(3.0%2F1.0)%22%20shape%3Dbox%20style%3Dfilled%20%5D%0AN39-%3EN45%20%5Blabel%3D%22%3E%20-4.77778%22%5D%0AN45%20%5Blabel%3D%22hedge-mean%22%20%5D%0AN45-%3EN46%20%5Blabel%3D%22%3C%3D%200.833336%22%5D%0AN46%20%5Blabel%3D%22region-centroid-col%22%20%5D%0AN46-%3EN47%20%5Blabel%3D%22%3C%3D%20115%22%5D%0AN47%20%5Blabel%3D%22foliage%20(4.0)%22%20shape%3Dbox%20style%3Dfilled%20%5D%0AN46-%3EN48%20%5Blabel%3D%22%3E%20115%22%5D%0AN48%20%5Blabel%3D%22window%20(42.0)%22%20shape%3Dbox%20style%3Dfilled%20%5D%0AN45-%3EN49%20%5Blabel%3D%22%3E%200.833336%22%5D%0AN49%20%5Blabel%3D%22grass%20(2.0)%22%20shape%3Dbox%20style%3Dfilled%20%5D%0AN2-%3EN50%20%5Blabel%3D%22%3E%2024.6667%22%5D%0AN50%20%5Blabel%3D%22hue-mean%22%20%5D%0AN50-%3EN51%20%5Blabel%3D%22%3C%3D%20-2.17742%22%5D%0AN51%20%5Blabel%3D%22vedge-mean%22%20%5D%0AN51-%3EN52%20%5Blabel%3D%22%3C%3D%205%22%5D%0AN52%20%5Blabel%3D%22window%20(4.0%2F1.0)%22%20shape%3Dbox%20style%3Dfilled%20%5D%0AN51-%3EN53%20%5Blabel%3D%22%3E%205%22%5D%0AN53%20%5Blabel%3D%22foliage%20(18.0)%22%20shape%3Dbox%20style%3Dfilled%20%5D%0AN50-%3EN54%20%5Blabel%3D%22%3E%20-2.17742%22%5D%0AN54%20%5Blabel%3D%22rawgreen-mean%22%20%5D%0AN54-%3EN55%20%5Blabel%3D%22%3C%3D%2024.4444%22%5D%0AN55%20%5Blabel%3D%22brickface%20(3.0%2F1.0)%22%20shape%3Dbox%20style%3Dfilled%20%5D%0AN54-%3EN56%20%5Blabel%3D%22%3E%2024.4444%22%5D%0AN56%20%5Blabel%3D%22cement%20(180.0)%22%20shape%3Dbox%20style%3Dfilled%20%5D%0AN1-%3EN57%20%5Blabel%3D%22%3E%2091.4444%22%5D%0AN57%20%5Blabel%3D%22sky%20(220.0)%22%20shape%3Dbox%20style%3Dfilled%20%5D%0AN0-%3EN58%20%5Blabel%3D%22%3E%20155%22%5D%0AN58%20%5Blabel%3D%22exgreen-mean%22%20%5D%0AN58-%3EN59%20%5Blabel%3D%22%3C%3D%20-2%22%5D%0AN59%20%5Blabel%3D%22saturation-mean%22%20%5D%0AN59-%3EN60%20%5Blabel%3D%22%3C%3D%200.385555%22%5D%0AN60%20%5Blabel%3D%22region-centroid-row%22%20%5D%0AN60-%3EN61%20%5Blabel%3D%22%3C%3D%20159%22%5D%0AN61%20%5Blabel%3D%22region-centroid-col%22%20%5D%0AN61-%3EN62%20%5Blabel%3D%22%3C%3D%20208%22%5D%0AN62%20%5Blabel%3D%22cement%20(3.0)%22%20shape%3Dbox%20style%3Dfilled%20%5D%0AN61-%3EN63%20%5Blabel%3D%22%3E%20208%22%5D%0AN63%20%5Blabel%3D%22path%20(2.0)%22%20shape%3Dbox%20style%3Dfilled%20%5D%0AN60-%3EN64%20%5Blabel%3D%22%3E%20159%22%5D%0AN64%20%5Blabel%3D%22path%20(234.0)%22%20shape%3Dbox%20style%3Dfilled%20%5D%0AN59-%3EN65%20%5Blabel%3D%22%3E%200.385555%22%5D%0AN65%20%5Blabel%3D%22cement%20(11.0)%22%20shape%3Dbox%20style%3Dfilled%20%5D%0AN58-%3EN66%20%5Blabel%3D%22%3E%20-2%22%5D%0AN66%20%5Blabel%3D%22grass%20(205.0)%22%20shape%3Dbox%20style%3Dfilled%20%5D%0A%7D\n",
    "::::\n",
    "\n",
    "[dot]: https://en.wikipedia.org/wiki/DOT_(graph_description_language)"
   ]
  },
  {
   "cell_type": "markdown",
   "id": "9fd66a0d",
   "metadata": {},
   "source": [
    "### Evaluation"
   ]
  },
  {
   "cell_type": "markdown",
   "id": "51cd9a41",
   "metadata": {},
   "source": [
    "To evaluate the decision tree on the training set:"
   ]
  },
  {
   "cell_type": "code",
   "execution_count": null,
   "id": "f5d01fd0",
   "metadata": {},
   "outputs": [],
   "source": [
    "from weka.classifiers import Evaluation\n",
    "\n",
    "J48train = Evaluation(trainset)\n",
    "J48train.test_model(J48, trainset)\n",
    "train_accuracy = J48train.percent_correct\n",
    "print(f\"Training accuracy: {train_accuracy:.4g}%\")"
   ]
  },
  {
   "cell_type": "markdown",
   "id": "1b828b26",
   "metadata": {
    "slideshow": {
     "slide_type": "subslide"
    }
   },
   "source": [
    "::::{exercise}\n",
    ":label: ex:6\n",
    " Assign `test_accuracy` to the accuracy of the classifier on the test set.\n",
    "::::"
   ]
  },
  {
   "cell_type": "code",
   "execution_count": null,
   "id": "e0c09980",
   "metadata": {
    "deletable": false,
    "editable": true,
    "nbgrader": {
     "cell_type": "code",
     "checksum": "7688161bee49720003b4b008f583a51f",
     "grade": false,
     "grade_id": "train_accuracy",
     "locked": false,
     "schema_version": 3,
     "solution": true,
     "task": false
    },
    "slideshow": {
     "slide_type": ""
    },
    "tags": [
     "remove-output"
    ]
   },
   "outputs": [],
   "source": [
    "# YOUR CODE HERE\n",
    "raise NotImplementedError\n",
    "print(f\"Test accuracy: {test_accuracy:.4g}%\")"
   ]
  },
  {
   "cell_type": "code",
   "execution_count": null,
   "id": "a8102853",
   "metadata": {
    "deletable": false,
    "editable": false,
    "nbgrader": {
     "cell_type": "code",
     "checksum": "90d0df7caf69a35d2f6774ed0bd01863",
     "grade": true,
     "grade_id": "test-train_accuracy",
     "locked": true,
     "points": 1,
     "schema_version": 3,
     "solution": false,
     "task": false
    },
    "slideshow": {
     "slide_type": ""
    },
    "tags": [
     "remove-cell"
    ]
   },
   "outputs": [],
   "source": [
    "# hidden tests"
   ]
  },
  {
   "cell_type": "markdown",
   "id": "aeb09ee7",
   "metadata": {},
   "source": [
    "::::{exercise}\n",
    ":label: ex:7\n",
    " By comparing the training accuracy and test accuracy, can we tell whether a classifier overfitted the data?\n",
    "::::"
   ]
  },
  {
   "cell_type": "markdown",
   "id": "df728480",
   "metadata": {
    "deletable": false,
    "nbgrader": {
     "cell_type": "markdown",
     "checksum": "c10aace0cc691684daca7cda29323c7b",
     "grade": true,
     "grade_id": "overfit",
     "locked": false,
     "points": 1,
     "schema_version": 3,
     "solution": true,
     "task": false
    }
   },
   "source": [
    "YOUR ANSWER HERE"
   ]
  },
  {
   "cell_type": "markdown",
   "id": "b3e43730",
   "metadata": {},
   "source": [
    "To stop the Java virtual machine, run the following line. To restart `jvm`, you must restart the kernel."
   ]
  },
  {
   "cell_type": "code",
   "execution_count": null,
   "id": "7f22d05e",
   "metadata": {
    "tags": [
     "remove-output"
    ]
   },
   "outputs": [],
   "source": [
    "jvm.stop()"
   ]
  }
 ],
 "metadata": {
  "kernelspec": {
   "display_name": "Python 3 (ipykernel)",
   "language": "python",
   "name": "python3"
  }
 },
 "nbformat": 4,
 "nbformat_minor": 5
}
