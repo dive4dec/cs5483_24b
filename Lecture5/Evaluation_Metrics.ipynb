{
 "cells": [
  {
   "cell_type": "markdown",
   "id": "2465d504",
   "metadata": {
    "editable": true,
    "slideshow": {
     "slide_type": "slide"
    }
   },
   "source": [
    "---\n",
    "title: Different Evaluation Metrics\n",
    "math: \n",
    "    '\\abs': '\\left\\lvert #1 \\right\\rvert' \n",
    "    '\\norm': '\\left\\lvert #1 \\right\\rvert' \n",
    "    '\\Set': '\\left\\{ #1 \\right\\}'\n",
    "    '\\mc': '\\mathcal{#1}'\n",
    "    '\\M': '\\boldsymbol{#1}'\n",
    "    '\\R': '\\mathsf{#1}'\n",
    "    '\\RM': '\\boldsymbol{\\mathsf{#1}}'\n",
    "    '\\op': '\\operatorname{#1}'\n",
    "    '\\E': '\\op{E}'\n",
    "    '\\d': '\\mathrm{\\mathstrut d}'\n",
    "    '\\Gini': '\\operatorname{Gini}'\n",
    "    '\\Info': '\\operatorname{Info}'\n",
    "    '\\Gain': '\\operatorname{Gain}'\n",
    "    '\\GainRatio': '\\operatorname{GainRatio}'\n",
    "---"
   ]
  },
  {
   "cell_type": "code",
   "execution_count": null,
   "id": "bcdec0ff",
   "metadata": {
    "editable": true,
    "slideshow": {
     "slide_type": "skip"
    }
   },
   "outputs": [],
   "source": [
    "import ipywidgets as widgets\n",
    "import matplotlib.pyplot as plt\n",
    "import numpy as np\n",
    "from ipywidgets import interact\n",
    "\n",
    "%matplotlib widget"
   ]
  },
  {
   "cell_type": "markdown",
   "id": "ee83dede",
   "metadata": {
    "editable": true,
    "slideshow": {
     "slide_type": "slide"
    }
   },
   "source": [
    "#### Medical diagnosis: From patient’s perspective"
   ]
  },
  {
   "cell_type": "markdown",
   "id": "d704be48",
   "metadata": {
    "editable": true,
    "slideshow": {
     "slide_type": ""
    }
   },
   "source": [
    "- A test for COVID-19 has an accuracy of $90\\%$, i.e.,\n",
    "  $$\n",
    "  \\Pr(\\hat{\\R{Y}} = \\R{Y}) = 0.9\n",
    "  $$\n",
    "    - $\\R{Y}$: Indicator of infection.\n",
    "    - $\\hat{\\R{Y}}$: Diagnosis of infection.\n",
    "- Suppose a person is diagnosed to have the virus, i.e., $\\hat{\\R{Y}} = 1$.\n",
    "  - Is it likely ($>50\\%$ chance) that the person has the virus? <u>Y/N</u>\n",
    "  - Is the likelihood $90\\%$? <u>Y/N</u>"
   ]
  },
  {
   "cell_type": "markdown",
   "id": "6633e6bb",
   "metadata": {
    "editable": true,
    "slideshow": {
     "slide_type": "slide"
    }
   },
   "source": [
    "#### Confusion matrix for binary classification"
   ]
  },
  {
   "cell_type": "markdown",
   "id": "16cf676d",
   "metadata": {
    "editable": true,
    "slideshow": {
     "slide_type": ""
    }
   },
   "source": [
    "![](images/cm.dio.svg)"
   ]
  },
  {
   "cell_type": "markdown",
   "id": "26495ebb",
   "metadata": {
    "editable": true,
    "slideshow": {
     "slide_type": ""
    }
   },
   "source": [
    "- TP (True +ve): number of +ve tuples classified as +ve.\n",
    "- TN (True -ve): number of -ve tuples classified as -ve.\n",
    "- FP (False +ve): number of -ve tuples classified as +ve.  \n",
    "  (F_______ a________ / Type I error)\n",
    "- FN (False -ve): number of +ve tuples classified as -ve.  \n",
    "  (M______ d________ / Type II error)"
   ]
  },
  {
   "cell_type": "markdown",
   "id": "5fd154e9",
   "metadata": {
    "editable": true,
    "slideshow": {
     "slide_type": "slide"
    }
   },
   "source": [
    "#### Accuracy vs Precision"
   ]
  },
  {
   "cell_type": "markdown",
   "id": "a8cbffc9",
   "metadata": {
    "editable": true,
    "slideshow": {
     "slide_type": ""
    }
   },
   "source": [
    "![](images/precision.dio.svg)"
   ]
  },
  {
   "cell_type": "markdown",
   "id": "354c4834",
   "metadata": {
    "editable": true,
    "slideshow": {
     "slide_type": ""
    }
   },
   "source": [
    "- Accuracy is $ \\frac{\\op{TP} + \\op{TN}}{n} $ where $ n = \\op{TP} + \\op{TN} + \\op{FP} + \\op{FN} $.\n",
    "- Precision is $ \\frac{\\op{TP}}{\\hat{P}} $ where $ \\hat{P} = \\op{TP} + \\op{FP} $.\n",
    "- P_______________ p _______________ v _______________ (PPV)\n",
    "- Is it possible that accuracy is high but precision is low?"
   ]
  },
  {
   "cell_type": "markdown",
   "id": "525fb525",
   "metadata": {
    "editable": true,
    "slideshow": {
     "slide_type": "subslide"
    }
   },
   "source": [
    "#### Example"
   ]
  },
  {
   "cell_type": "markdown",
   "id": "c1e1fa20",
   "metadata": {
    "editable": true,
    "slideshow": {
     "slide_type": ""
    }
   },
   "source": [
    "![](images/precision_.dio.svg)"
   ]
  },
  {
   "cell_type": "markdown",
   "id": "29ff5dfa",
   "metadata": {
    "editable": true,
    "slideshow": {
     "slide_type": ""
    }
   },
   "source": [
    "- Accuracy is ____________%.\n",
    "- Precision is ____________%.\n",
    "- When is accuracy > precision in general?"
   ]
  },
  {
   "cell_type": "markdown",
   "id": "e0781c97",
   "metadata": {
    "editable": true,
    "slideshow": {
     "slide_type": "slide"
    }
   },
   "source": [
    "#### Negative predictive value (NPV)"
   ]
  },
  {
   "cell_type": "markdown",
   "id": "0232498e",
   "metadata": {
    "editable": true,
    "slideshow": {
     "slide_type": ""
    }
   },
   "source": [
    "![](images/NPV.dio.svg)"
   ]
  },
  {
   "cell_type": "markdown",
   "id": "7817bf56",
   "metadata": {
    "editable": true,
    "slideshow": {
     "slide_type": ""
    }
   },
   "source": [
    "- NPV is $\\frac{\\op{TN}}{\\hat{N}}$ where $\\hat{N} = \\op{TN} + \\op{FN} = n - \\hat{P}$.\n",
    "- Accuracy is $\\frac{\\op{TP} + \\op{TN}}{n} = \\frac{\\hat{P} \\cdot \\op{PPV} + \\hat{N} \\cdot \\op{NPV}}{n} = \\frac{\\hat{P}}{n} \\op{PPV} + \\frac{\\hat{N}}{n} \\op{NPV}$.\n",
    "- Accuracy > precision iff NPV $\\ge$ PPV.\n",
    "- Accuracy = precision iff _________________________________________________________"
   ]
  },
  {
   "cell_type": "markdown",
   "id": "f29d7305",
   "metadata": {
    "editable": true,
    "slideshow": {
     "slide_type": "subslide"
    }
   },
   "source": [
    "#### Example"
   ]
  },
  {
   "cell_type": "markdown",
   "id": "ec3dc1bb",
   "metadata": {
    "editable": true,
    "slideshow": {
     "slide_type": ""
    }
   },
   "source": [
    "![](images/NPV_.dio.svg)"
   ]
  },
  {
   "cell_type": "markdown",
   "id": "11e44acb",
   "metadata": {
    "editable": true,
    "slideshow": {
     "slide_type": ""
    }
   },
   "source": [
    "- Accuracy is _______________\\%.\n",
    "- Precision is _______________\\%.\n",
    "- NPV is ________________\\%."
   ]
  },
  {
   "cell_type": "markdown",
   "id": "2f3bc1fe",
   "metadata": {
    "editable": true,
    "slideshow": {
     "slide_type": "slide"
    }
   },
   "source": [
    "#### Medical diagnosis: From Government’s perspective"
   ]
  },
  {
   "cell_type": "markdown",
   "id": "d633ed4b",
   "metadata": {
    "editable": true,
    "slideshow": {
     "slide_type": ""
    }
   },
   "source": [
    "- Suppose the government wants to eradicate COVID-19 as it is highly contagious.\n",
    "- If a test is $90\\%$ accurate, can the government identify $>50\\%$ of infected people? <u>Y/N</u>"
   ]
  },
  {
   "cell_type": "markdown",
   "id": "b5eca199",
   "metadata": {
    "editable": true,
    "slideshow": {
     "slide_type": "slide"
    }
   },
   "source": [
    "#### Recall"
   ]
  },
  {
   "cell_type": "markdown",
   "id": "1ffe9da0",
   "metadata": {
    "editable": true,
    "slideshow": {
     "slide_type": ""
    }
   },
   "source": [
    "![](images/recall.dio.svg)"
   ]
  },
  {
   "cell_type": "markdown",
   "id": "780997de",
   "metadata": {
    "editable": true,
    "slideshow": {
     "slide_type": ""
    }
   },
   "source": [
    "- Recall is $\\frac{\\op{TP}}{\\op{P}}$ where $\\op{P} = \\op{TP} + \\op{FN}$.\n",
    "- S__________ or True positive rate (TPR)"
   ]
  },
  {
   "cell_type": "markdown",
   "id": "1d2fb610",
   "metadata": {
    "editable": true,
    "slideshow": {
     "slide_type": "subslide"
    }
   },
   "source": [
    "#### Example"
   ]
  },
  {
   "cell_type": "markdown",
   "id": "c6aad90e",
   "metadata": {
    "editable": true,
    "slideshow": {
     "slide_type": ""
    }
   },
   "source": [
    "![](images/recall_.dio.svg)"
   ]
  },
  {
   "cell_type": "markdown",
   "id": "899b1240",
   "metadata": {
    "editable": true,
    "slideshow": {
     "slide_type": ""
    }
   },
   "source": [
    "- Accuracy is ____________%.\n",
    "- Precision is ____________%.\n",
    "- NPV is __________________%.\n",
    "- Recall is ___________________________%.\n",
    "- When is accuracy $>$ recall?"
   ]
  },
  {
   "cell_type": "markdown",
   "id": "340e3d2b",
   "metadata": {
    "editable": true,
    "slideshow": {
     "slide_type": "slide"
    }
   },
   "source": [
    "#### Specificity"
   ]
  },
  {
   "cell_type": "markdown",
   "id": "7c376f09",
   "metadata": {
    "editable": true,
    "slideshow": {
     "slide_type": ""
    }
   },
   "source": [
    "![](images/TNR.dio.svg)"
   ]
  },
  {
   "cell_type": "markdown",
   "id": "667133b3",
   "metadata": {
    "editable": true,
    "slideshow": {
     "slide_type": ""
    }
   },
   "source": [
    "- Specificity is $ \\frac{\\op{TN}}{N} $ where $ N = \\op{TN} + \\op{FP} $.  \n",
    "  True negative rate (TNR)\n",
    "- Accuracy is \n",
    "$$\n",
    "\\frac{\\op{TP} + \\op{TN}}{n} = \\frac{P \\cdot \\op{TPR} + N \\cdot \\op{TNR}}{n} = \\frac{P}{n} \\op{TPR} + \\frac{N}{n} \\op{TNR}\n",
    "$$\n",
    "- Accuracy > recall iff TNR $\\geq$ TPR.\n",
    "- Accuracy = recall iff ______________________________________________________"
   ]
  },
  {
   "cell_type": "markdown",
   "id": "28be3e73",
   "metadata": {
    "editable": true,
    "slideshow": {
     "slide_type": "subslide"
    }
   },
   "source": [
    "#### Example"
   ]
  },
  {
   "cell_type": "markdown",
   "id": "efd65995",
   "metadata": {
    "editable": true,
    "slideshow": {
     "slide_type": ""
    }
   },
   "source": [
    "![](images/TNR_.dio.svg)"
   ]
  },
  {
   "cell_type": "markdown",
   "id": "1f266495",
   "metadata": {
    "editable": true,
    "slideshow": {
     "slide_type": ""
    }
   },
   "source": [
    "- Accuracy is ____________%.\n",
    "- Precision is ____________%.\n",
    "- NPV is __________________%.\n",
    "- Recall is ___________________________%.\n",
    "- Specificity is _________________________%."
   ]
  },
  {
   "cell_type": "markdown",
   "id": "a9bb7e80",
   "metadata": {
    "editable": true,
    "slideshow": {
     "slide_type": "slide"
    }
   },
   "source": [
    "#### Class imbalance problem"
   ]
  },
  {
   "cell_type": "markdown",
   "id": "041829e6",
   "metadata": {
    "editable": true,
    "slideshow": {
     "slide_type": ""
    }
   },
   "source": [
    "- Happens when $P \\ll N$ (or $N \\ll P$).\n",
    "- If $P \\ll N$, accuracy can be dominated by ___________ over __________________.\n",
    "\n",
    "  $$\n",
    "  \\op{Accuracy} = \\frac{{\\color{grey}{\\op{TP}}} + \\op{TN}}{n}\n",
    "  = {\\color{grey}{\\frac{P}{n} \\cdot \\op{TPR}}} + \\frac{N}{n} \\cdot \\op{TNR} = {\\color{grey}{\\frac{P}{n} \\cdot \\op{PPV}}} + \\frac{N}{n} \\cdot \\op{NPV}\n",
    "  $$\n",
    "\n",
    "- How to evaluate the prediction of positive class?"
   ]
  },
  {
   "cell_type": "markdown",
   "id": "53d75e04",
   "metadata": {
    "editable": true,
    "slideshow": {
     "slide_type": ""
    }
   },
   "source": [
    "- Cost/benefit analysis\n",
    "  - Different per unit cost/benefit assigned to FP, FN, TP, and TN.\n",
    "  - Minimize total cost or maximize total benefit.\n",
    "    $$\n",
    "    \\op{Cost} = \\op{FP} \\cdot \\op{Cost}_{\\op{FP}} + \\op{FN} \\cdot \\op{Cost}_{\\op{FN}} + \\op{TP} \\cdot \\op{Cost}_{\\op{TP}} + \\op{TN} \\cdot \\op{Cost}_{\\op{TN}}\n",
    "    $$"
   ]
  },
  {
   "cell_type": "markdown",
   "id": "766d2429",
   "metadata": {
    "editable": true,
    "slideshow": {
     "slide_type": "slide"
    }
   },
   "source": [
    "#### F score"
   ]
  },
  {
   "cell_type": "markdown",
   "id": "78e5f480",
   "metadata": {
    "editable": true,
    "slideshow": {
     "slide_type": ""
    }
   },
   "source": [
    "$$\n",
    "F_1 := \\left( \\frac{\\left( \\op{PPV}^{-1} + \\op{TPR}^{-1} \\right)}{2} \\right)^{-1} = \\frac{2 \\cdot \\op{PPV} \\cdot \\op{TPR}}{\\op{PPV} + \\op{TPR}} \\quad (\\op{F-score/measure})\n",
    "$$\n",
    "\n",
    "- Why Harmonic means instead of arithmetic mean?"
   ]
  },
  {
   "cell_type": "markdown",
   "id": "54bf41ba",
   "metadata": {
    "editable": true,
    "slideshow": {
     "slide_type": "subslide"
    }
   },
   "source": [
    "- Arithmetic mean$=0.7$ implies $\\op{PPV,TPR}\\geq$_____"
   ]
  },
  {
   "cell_type": "code",
   "execution_count": null,
   "id": "426452d1",
   "metadata": {
    "editable": true,
    "slideshow": {
     "slide_type": ""
    }
   },
   "outputs": [],
   "source": [
    "# Code for the above plot\n",
    "# Create a meshgrid for x and y in the range [0, 1]\n",
    "x = np.linspace(0, 1, 100)\n",
    "y = np.linspace(0, 1, 100)\n",
    "X, Y = np.meshgrid(x, y)\n",
    "Z = (X + Y) / 2  # Arithmetic mean\n",
    "\n",
    "# Set up the figure with two subplots: one for 3D and one for contour\n",
    "fig = plt.figure(figsize=(12, 6), num=1, clear=True)\n",
    "\n",
    "# 3D subplot\n",
    "ax1 = fig.add_subplot(121, projection='3d')\n",
    "ax1.plot_surface(X, Y, Z, cmap='viridis')\n",
    "ax1.set_title(r'3D Plot of Arithmetic Mean $z=\\frac{x+y}{2}$')\n",
    "ax1.set_xlabel(r'$x$')\n",
    "ax1.set_ylabel(r'$y$')\n",
    "ax1.set_zlabel(r'$z$')\n",
    "ax1.zaxis.set_label_position('lower')\n",
    "\n",
    "# Contour subplot\n",
    "ax2 = fig.add_subplot(122)\n",
    "contour_levels = np.linspace(0, 1, 11)  # Levels: 0, 0.1, ..., 1.0\n",
    "contour = ax2.contour(X, Y, Z, levels=contour_levels, cmap='viridis')\n",
    "ax2.set_title('Contour Plot')\n",
    "ax2.set_xlabel(r'$x$')\n",
    "ax2.set_ylabel(r'$y$')\n",
    "fig.colorbar(contour, ax=ax2, shrink=0.5, aspect=5)\n",
    "\n",
    "# To write to file\n",
    "fig.savefig('images/arithmetic_mean.svg')\n",
    "\n",
    "plt.show()"
   ]
  },
  {
   "cell_type": "markdown",
   "id": "8ab94b49",
   "metadata": {
    "editable": true,
    "slideshow": {
     "slide_type": "subslide"
    }
   },
   "source": [
    "- Harmonic mean$=0.7$ implies $\\op{PPV,TPR}\\geq$_____"
   ]
  },
  {
   "cell_type": "code",
   "execution_count": null,
   "id": "3d3c3c04",
   "metadata": {
    "editable": true,
    "slideshow": {
     "slide_type": ""
    }
   },
   "outputs": [],
   "source": [
    "# Create a meshgrid for x and y in the range [0, 1]\n",
    "x = np.linspace(0.01, 1, 100)\n",
    "y = np.linspace(0.01, 1, 100)\n",
    "X, Y = np.meshgrid(x, y)\n",
    "Z = ((X**(-1) + Y**(-1)) / 2)**(-1)  # Harmonic mean\n",
    "\n",
    "# Set up the figure with two subplots: one for 3D and one for contour\n",
    "fig = plt.figure(figsize=(12, 6), num=2, clear=True)\n",
    "\n",
    "# 3D subplot\n",
    "ax1 = fig.add_subplot(121, projection='3d')\n",
    "ax1.plot_surface(X, Y, Z, cmap='viridis')\n",
    "ax1.set_title(r'3D Plot of Harmonic Mean $z=\\left(\\frac{x^{-1}+y^{-1}}{2}\\right)^{-1}$')\n",
    "ax1.set_xlabel(r'$x$')\n",
    "ax1.set_ylabel(r'$y$')\n",
    "ax1.set_zlabel(r'$z$')\n",
    "ax1.zaxis.set_label_position('lower')\n",
    "\n",
    "# Contour subplot\n",
    "ax2 = fig.add_subplot(122)\n",
    "contour_levels = np.linspace(0, 1, 11)  # Levels: 0, 0.1, ..., 1.0\n",
    "contour = ax2.contour(X, Y, Z, levels=contour_levels, cmap='viridis')\n",
    "ax2.set_title('Contour Plot')\n",
    "ax2.set_xlabel(r'$x$')\n",
    "ax2.set_ylabel(r'$y$')\n",
    "fig.colorbar(contour, ax=ax2, shrink=0.5, aspect=5)\n",
    "\n",
    "# To write to file\n",
    "fig.savefig('images/harmonic_mean.svg')\n",
    "\n",
    "plt.show()"
   ]
  },
  {
   "cell_type": "markdown",
   "id": "70b171aa",
   "metadata": {
    "editable": true,
    "slideshow": {
     "slide_type": "subslide"
    }
   },
   "source": [
    "#### F-beta score"
   ]
  },
  {
   "cell_type": "markdown",
   "id": "ece5bbf8",
   "metadata": {
    "editable": true,
    "slideshow": {
     "slide_type": ""
    }
   },
   "source": [
    "$$\n",
    "F_{\\beta} := \\left( \\frac{\\op{PPV}^{-1} + \\beta^2 \\op{TPR}^{-1} }{\\beta^2 + 1} \\right)^{-1} = \\frac{(\\beta^2 + 1) \\cdot \\op{PPV} \\cdot \\op{TPR}}{\\beta^2 \\cdot \\op{PPV} + \\op{TPR}} \\quad \\op{for} \\ \\beta > 0\n",
    "$$\n",
    "\n",
    "- As $\\beta \\to \\infty$, $F_{\\beta} \\to$ ____\n",
    "- As $\\beta \\to 0$, $F_{\\beta} \\to$ ____"
   ]
  },
  {
   "cell_type": "code",
   "execution_count": null,
   "id": "a3d8a698",
   "metadata": {
    "editable": true,
    "slideshow": {
     "slide_type": ""
    }
   },
   "outputs": [],
   "source": [
    "def f_beta_score(precision, recall, beta):\n",
    "    return (1 + beta**2) * (precision * recall) / (beta**2 * precision + recall)\n",
    "\n",
    "# Create an interactive widget to change beta on a logarithmic scale\n",
    "beta_slider = widgets.FloatLogSlider(value=2, base=10, min=-2, max=2, step=0.1, \n",
    "                                     description=r'$\\beta$:', continuous_update=False)\n",
    "\n",
    "@interact\n",
    "def plot_f_beta(beta=beta_slider):\n",
    "    x = np.linspace(0.01, 1, 100)\n",
    "    y = np.linspace(0.01, 1, 100)\n",
    "    X, Y = np.meshgrid(x, y)\n",
    "    Z = f_beta_score(X, Y, beta)\n",
    "    \n",
    "    fig = plt.figure(figsize=(12, 6), num=3, clear=True)\n",
    "    \n",
    "    ax1 = fig.add_subplot(121, projection='3d')\n",
    "    surf = ax1.plot_surface(X, Y, Z, cmap='viridis')\n",
    "    ax1.set_title(r'3D Plot of $F_{\\beta}:=\\left( \\frac{\\text{PPV}^{-1} + \\beta^2 \\text{TPR}^{-1}}{\\beta^2 + 1} \\right)^{-1}$')\n",
    "    ax1.set_xlabel('PPV')\n",
    "    ax1.set_ylabel('TPR')\n",
    "    ax1.set_zlabel(r'$F_{\\beta}$ Score')\n",
    "    ax1.zaxis.set_label_position('lower')\n",
    "\n",
    "    ax2 = fig.add_subplot(122)\n",
    "    contour_levels = np.linspace(0, 1, 11)\n",
    "    contour = ax2.contour(X, Y, Z, levels=contour_levels, cmap='viridis')\n",
    "    ax2.set_title('Contour Plot')\n",
    "    ax2.set_xlabel('PPV')\n",
    "    ax2.set_ylabel('TPR')\n",
    "    fig.colorbar(contour, ax=ax2, shrink=0.5, aspect=5)\n",
    "        \n",
    "    plt.show()"
   ]
  },
  {
   "cell_type": "markdown",
   "id": "9afea451",
   "metadata": {
    "editable": true,
    "slideshow": {
     "slide_type": "slide"
    }
   },
   "source": [
    "#### Threshold-moving"
   ]
  },
  {
   "cell_type": "markdown",
   "id": "09e40fe5",
   "metadata": {
    "editable": true,
    "slideshow": {
     "slide_type": ""
    }
   },
   "source": [
    "![](images/proba_clf.dio.svg)"
   ]
  },
  {
   "cell_type": "markdown",
   "id": "8329c5f7",
   "metadata": {
    "editable": true,
    "slideshow": {
     "slide_type": ""
    }
   },
   "source": [
    "- Apply a threshold $\\gamma$ to the output of a [probabilistic classifier](https://en.wikipedia.org/wiki/Probabilistic_classification)."
   ]
  },
  {
   "cell_type": "markdown",
   "id": "a301557f",
   "metadata": {
    "editable": true,
    "slideshow": {
     "slide_type": "subslide"
    }
   },
   "source": [
    "#### Area under curve (AUC)"
   ]
  },
  {
   "cell_type": "markdown",
   "id": "1efdb635",
   "metadata": {
    "editable": true,
    "slideshow": {
     "slide_type": ""
    }
   },
   "source": [
    "![](images/AUC.dio.svg)"
   ]
  },
  {
   "cell_type": "markdown",
   "id": "a27db8c3",
   "metadata": {
    "editable": true,
    "slideshow": {
     "slide_type": ""
    }
   },
   "source": [
    "- Obtain the trade-offs of different performance metrics by varying the threshold.\n",
    "- Receiver operation characteristics curve (ROC):\n",
    "  - Plot of TPR against FPR (False positive rate=1-TNR)\n",
    "  - AUC: ROC area\n",
    "- Precision recall curve (PRC):\n",
    "  - Plot of precision against recall\n",
    "  - AUC: PRC area\n",
    "- Which is better, ROC or PRC?"
   ]
  },
  {
   "cell_type": "markdown",
   "id": "6c31b384",
   "metadata": {
    "editable": true,
    "slideshow": {
     "slide_type": "slide"
    }
   },
   "source": [
    "#### References"
   ]
  },
  {
   "cell_type": "markdown",
   "id": "80b38945",
   "metadata": {
    "editable": true,
    "slideshow": {
     "slide_type": ""
    }
   },
   "source": [
    "- 8.5.1 Metrics for Evaluating Classifier Performance\n",
    "- 8.5.6 Comparing Classifiers based on Cost-Benefits and ROC Curves"
   ]
  }
 ],
 "metadata": {
  "kernelspec": {
   "display_name": "Python 3 (ipykernel)",
   "language": "python",
   "name": "python3"
  }
 },
 "nbformat": 4,
 "nbformat_minor": 5
}
