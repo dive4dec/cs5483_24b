{
 "cells": [
  {
   "cell_type": "markdown",
   "id": "7ea87502",
   "metadata": {
    "editable": true,
    "slideshow": {
     "slide_type": ""
    }
   },
   "source": [
    "---\n",
    "title: Frequent-Pattern Analysis\n",
    "math: \n",
    "    '\\abs': '\\left\\lvert #1 \\right\\rvert' \n",
    "    '\\norm': '\\left\\lvert #1 \\right\\rvert' \n",
    "    '\\Set': '\\left\\{ #1 \\right\\}'\n",
    "    '\\mc': '\\mathcal{#1}'\n",
    "    '\\M': '\\boldsymbol{#1}'\n",
    "    '\\R': '\\mathsf{#1}'\n",
    "    '\\RM': '\\M{\\mathsf{#1}}'\n",
    "    '\\op': '\\operatorname{#1}'\n",
    "    '\\E': '\\op{E}'\n",
    "    '\\d': '\\mathrm{\\mathstrut d}'\n",
    "---"
   ]
  },
  {
   "cell_type": "code",
   "execution_count": null,
   "id": "23e03ffd",
   "metadata": {
    "editable": true,
    "init_cell": true,
    "slideshow": {
     "slide_type": "-"
    },
    "tags": [
     "remove-output"
    ]
   },
   "outputs": [],
   "source": [
    "import os\n",
    "import logging\n",
    "import numpy as np\n",
    "import weka.core.jvm as jvm\n",
    "from weka.associations import Associator\n",
    "from weka.core.converters import Loader\n",
    "\n",
    "jvm.start(logging_level=logging.ERROR)\n",
    "if not os.getenv(\n",
    "    \"NBGRADER_EXECUTION\"\n",
    "):\n",
    "    %load_ext jupyter_ai\n",
    "    %ai update chatgpt dive:chat\n",
    "    # %ai update chatgpt dive-azure:gpt4o"
   ]
  },
  {
   "cell_type": "markdown",
   "id": "ac8dfc6a",
   "metadata": {
    "editable": true,
    "slideshow": {
     "slide_type": ""
    }
   },
   "source": [
    "## Association Rule Mining using Weka"
   ]
  },
  {
   "cell_type": "markdown",
   "id": "95a802d6",
   "metadata": {
    "editable": true,
    "slideshow": {
     "slide_type": ""
    }
   },
   "source": [
    "We will conduct the market-basket analysis on the supermarket dataset in Weka."
   ]
  },
  {
   "cell_type": "markdown",
   "id": "656abb08",
   "metadata": {},
   "source": [
    "### Transaction data"
   ]
  },
  {
   "cell_type": "markdown",
   "id": "f3162eca",
   "metadata": {
    "editable": true,
    "slideshow": {
     "slide_type": ""
    }
   },
   "source": [
    "Each instance of the dataset is a transaction, i.e., a customer's purchase of items in a supermarket. The dataset can be represented as follows:"
   ]
  },
  {
   "cell_type": "markdown",
   "id": "059fb62e",
   "metadata": {
    "editable": true,
    "slideshow": {
     "slide_type": ""
    }
   },
   "source": [
    "::::{prf:definition} \n",
    ":label: def:market-basket\n",
    "\n",
    "For market-basket analysis, the dataset is\n",
    "\n",
    "$$\n",
    "\\begin{align}\n",
    "D &:= \\Set{T_i}_{i=1}^{n} \\quad \\text{where}\\\\\n",
    "T_i&\\subseteq \\mc{I},\n",
    "\\end{align}\n",
    "$$\n",
    "\n",
    "and $\\mc{I}$ is the collection of all items. A transaction $T_i$ is simply a subset of items.\n",
    "\n",
    "::::"
   ]
  },
  {
   "cell_type": "markdown",
   "id": "50dabc17",
   "metadata": {
    "editable": true,
    "slideshow": {
     "slide_type": ""
    }
   },
   "source": [
    "Using the Explorer interface, load the `supermarket.arff` dataset in Weka."
   ]
  },
  {
   "cell_type": "markdown",
   "id": "9c108122",
   "metadata": {
    "editable": true,
    "slideshow": {
     "slide_type": ""
    }
   },
   "source": [
    "![](images/supermarket_attribute.png)"
   ]
  },
  {
   "cell_type": "markdown",
   "id": "d752e64b",
   "metadata": {
    "editable": true,
    "slideshow": {
     "slide_type": ""
    }
   },
   "source": [
    "Note that most attribute contains only one possible value, namely `t`. Click the button `Edit...` to open the data editor. Observe that most attributes have missing values:"
   ]
  },
  {
   "cell_type": "markdown",
   "id": "8a72f1c8",
   "metadata": {},
   "source": [
    "![](images/supermarket_data.png)"
   ]
  },
  {
   "cell_type": "markdown",
   "id": "75ef8f89",
   "metadata": {
    "editable": true,
    "slideshow": {
     "slide_type": ""
    }
   },
   "source": [
    "In `supermarket.arff`:\n",
    "- Each attribute specified by `@attribute` can be a product category, a department, or a product with one possible value `t`:\n",
    "```\n",
    "...\n",
    "@attribute 'grocery misc' { t}\n",
    "@attribute 'department11' { t}\n",
    "@attribute 'baby needs' { t}\n",
    "@attribute 'bread and cake' { t}\n",
    "...\n",
    "```\n",
    "- The last attribute `'total'` has two possible values `{low, high}`: \n",
    "```\n",
    "@attribute 'total' { low, high} % low < 100\n",
    "```"
   ]
  },
  {
   "cell_type": "markdown",
   "id": "6a8bdbf3",
   "metadata": {
    "editable": true,
    "slideshow": {
     "slide_type": ""
    }
   },
   "source": [
    "To understand the dataset further:\n",
    "1. Select the `Associate` tab. By default, `Apriori` is chosen as the `Associator`.\n",
    "1. Open the `GenericObjectEditor` and check for a parameter called `treatZeroAsMissing`. Hover the mouse pointer over the parameter to see more details. \n",
    "1. Run the Apriori algorithm with different choices of the parameter `treatZeroAsMissing`. Observe the difference in the generated rules."
   ]
  },
  {
   "cell_type": "markdown",
   "id": "8bc3101e",
   "metadata": {
    "editable": true,
    "slideshow": {
     "slide_type": ""
    }
   },
   "source": [
    "::::{exercise}\n",
    ":label: ex:1\n",
    "Explain what `t` and `?` means in the dataset when we set `treatZeroAsMissing` to `True` and `False`, respectively.\n",
    "\n",
    ":::{hint}\n",
    ":class: dropdown\n",
    "See the [documentation](https://weka.sourceforge.io/doc.dev/weka/associations/Apriori.html) of the `Apriori` `Associator`.\n",
    ":::\n",
    "::::"
   ]
  },
  {
   "cell_type": "markdown",
   "id": "54e62c09",
   "metadata": {
    "deletable": false,
    "editable": true,
    "nbgrader": {
     "cell_type": "markdown",
     "checksum": "aef91b785d8cb0947d72dff1ee7befbb",
     "grade": true,
     "grade_id": "indicator",
     "locked": false,
     "points": 1,
     "schema_version": 3,
     "solution": true,
     "task": false
    },
    "slideshow": {
     "slide_type": ""
    }
   },
   "source": [
    "YOUR ANSWER HERE"
   ]
  },
  {
   "cell_type": "code",
   "execution_count": null,
   "id": "13013492",
   "metadata": {
    "editable": true,
    "slideshow": {
     "slide_type": ""
    }
   },
   "outputs": [],
   "source": [
    "%%ai chatgpt -f text\n",
    "What is the benefit of `treatZeroAsMissing` in Weka's Apriori Associator?"
   ]
  },
  {
   "cell_type": "markdown",
   "id": "5c81ecd9",
   "metadata": {
    "editable": true,
    "slideshow": {
     "slide_type": ""
    }
   },
   "source": [
    "### Association rule"
   ]
  },
  {
   "cell_type": "markdown",
   "id": "24aa4c64",
   "metadata": {
    "editable": true,
    "slideshow": {
     "slide_type": ""
    }
   },
   "source": [
    "An association rule for market-basket analysis is defined as follows:"
   ]
  },
  {
   "cell_type": "markdown",
   "id": "e1147e45",
   "metadata": {
    "editable": true,
    "slideshow": {
     "slide_type": ""
    }
   },
   "source": [
    "::::{prf:definition} Association rule\n",
    ":label: def:AR\n",
    "\n",
    "Given two itemsets (sets of items) $A$ and $B$, the association rule\n",
    "\n",
    "$$\n",
    "\\begin{align}\n",
    "A \\implies B\n",
    "\\end{align}\n",
    "$$ (association-rule)\n",
    "\n",
    "means that a transaction contains all items in $B$ if it contains all items in $A$, i.e.,\n",
    "\n",
    "$$\n",
    "\\begin{align}\n",
    "\\underbrace{A\\subseteq T}_{\\text{premise}} \\implies \\underbrace{B\\subseteq T}_{\\text{consequence}}\n",
    "\\end{align}\n",
    "$$\n",
    "\n",
    "for transaction $T\\in D$.\n",
    "\n",
    "::::"
   ]
  },
  {
   "cell_type": "markdown",
   "id": "536d46f0",
   "metadata": {
    "editable": true,
    "slideshow": {
     "slide_type": ""
    }
   },
   "source": [
    "We will use [`python-weka-wrapper3`](https://github.com/fracpete/python-weka-wrapper3-examples/blob/master/src/wekaexamples/associations/apriori_output.py) for illustration. To load the dataset:"
   ]
  },
  {
   "cell_type": "code",
   "execution_count": null,
   "id": "77928881",
   "metadata": {
    "editable": true,
    "slideshow": {
     "slide_type": ""
    }
   },
   "outputs": [],
   "source": [
    "loader = Loader(classname=\"weka.core.converters.ArffLoader\")\n",
    "weka_data_path = (\n",
    "    \"https://raw.githubusercontent.com/Waikato/weka-3.8/master/wekadocs/data/\"\n",
    ")\n",
    "dataset = loader.load_url(\n",
    "    weka_data_path + \"supermarket.arff\"\n",
    ")  # use load_file to load from file instead"
   ]
  },
  {
   "cell_type": "markdown",
   "id": "69762064",
   "metadata": {
    "editable": true,
    "slideshow": {
     "slide_type": ""
    }
   },
   "source": [
    "To apply the apriori algorithm with the default settings:\n",
    "\n",
    "```python\n",
    "from weka.associations import Associator\n",
    "```"
   ]
  },
  {
   "cell_type": "code",
   "execution_count": null,
   "id": "3f05f3a6",
   "metadata": {
    "editable": true,
    "slideshow": {
     "slide_type": ""
    }
   },
   "outputs": [],
   "source": [
    "apriori = Associator(classname=\"weka.associations.Apriori\")\n",
    "apriori.build_associations(dataset)\n",
    "apriori"
   ]
  },
  {
   "cell_type": "markdown",
   "id": "17a93c2c",
   "metadata": {
    "editable": true,
    "slideshow": {
     "slide_type": ""
    }
   },
   "source": [
    "::::{exercise}\n",
    ":label: ex:2\n",
    "Explain what the first rule means according to the notation $A\\implies B$.\n",
    "\n",
    ":::{hint}\n",
    ":class: dropdown\n",
    "You may regard `biscuits=t` and `total=high` as items. In particular, since `total` has two possible values, it is associated with two items, the other being `total=low`. \n",
    ":::\n",
    "::::"
   ]
  },
  {
   "cell_type": "markdown",
   "id": "4efc54fe",
   "metadata": {
    "deletable": false,
    "editable": true,
    "nbgrader": {
     "cell_type": "markdown",
     "checksum": "503c66d57d76ebd4a641391360b46674",
     "grade": true,
     "grade_id": "explain-rule",
     "locked": false,
     "points": 1,
     "schema_version": 3,
     "solution": true,
     "task": false
    },
    "slideshow": {
     "slide_type": ""
    }
   },
   "source": [
    "YOUR ANSWER HERE"
   ]
  },
  {
   "cell_type": "markdown",
   "id": "05bd587e",
   "metadata": {
    "editable": true,
    "slideshow": {
     "slide_type": ""
    }
   },
   "source": [
    "To retrieve the rules as a list, and print the first rule:"
   ]
  },
  {
   "cell_type": "code",
   "execution_count": null,
   "id": "2b366869",
   "metadata": {
    "editable": true,
    "slideshow": {
     "slide_type": ""
    }
   },
   "outputs": [],
   "source": [
    "rules = list(apriori.association_rules())\n",
    "rules[0]"
   ]
  },
  {
   "cell_type": "markdown",
   "id": "f393240c",
   "metadata": {
    "editable": true,
    "slideshow": {
     "slide_type": ""
    }
   },
   "source": [
    "To obtain the set $A$ (in premise) and $B$ (in consequence):"
   ]
  },
  {
   "cell_type": "code",
   "execution_count": null,
   "id": "52605777",
   "metadata": {
    "editable": true,
    "slideshow": {
     "slide_type": ""
    }
   },
   "outputs": [],
   "source": [
    "rules[0].premise, rules[0].consequence"
   ]
  },
  {
   "cell_type": "code",
   "execution_count": null,
   "id": "c78b5d65",
   "metadata": {
    "editable": true,
    "slideshow": {
     "slide_type": ""
    }
   },
   "outputs": [],
   "source": [
    "premise_support = rules[0].premise_support\n",
    "total_support = rules[0].total_support"
   ]
  },
  {
   "cell_type": "markdown",
   "id": "9087c8a5",
   "metadata": {
    "editable": true,
    "slideshow": {
     "slide_type": ""
    }
   },
   "source": [
    "The apriori algorithm returns rules with large enough support:\n",
    "\n",
    "::::{prf:definition} support\n",
    ":label: def:support\n",
    "\n",
    "The support of an association rule $A \\implies B$ is the fraction of transactions containing $A$ and $B$, i.e.,\n",
    "\n",
    "\\begin{align}\n",
    "\\op{support}(A \\implies B) &= \\op{support}(A \\cup B) :=\n",
    "\\frac{\\op{count}(A \\cup B)}{|D|}\\quad \\text{where}\\\\\n",
    "\\op{count(A \\cup B)} &:= \\abs{\\Set{T\\in D|T\\supseteq A\\cup B}}.\n",
    "\\end{align}\n",
    "\n",
    "::::"
   ]
  },
  {
   "cell_type": "markdown",
   "id": "1e9091d9",
   "metadata": {
    "editable": true,
    "slideshow": {
     "slide_type": ""
    }
   },
   "source": [
    "For the first rule, the number 723 at the end of the rule corresponds to the total support count $\\op{count}(A\\cup B)$."
   ]
  },
  {
   "cell_type": "markdown",
   "id": "5bbea30e",
   "metadata": {
    "editable": true,
    "slideshow": {
     "slide_type": ""
    }
   },
   "source": [
    "::::{exercise}\n",
    ":label: ex:3\n",
    "Assign to `support` the (fractional) support for the first rule (`rules[0]`). \n",
    "\n",
    ":::{hint}\n",
    ":class: dropdown\n",
    "In `python-weka-wrapper3`, you can use the properties `total_support` and `total_transactions` of `rules[0]`.\n",
    ":::\n",
    "::::"
   ]
  },
  {
   "cell_type": "code",
   "execution_count": null,
   "id": "a28ea6d8",
   "metadata": {
    "deletable": false,
    "editable": true,
    "nbgrader": {
     "cell_type": "code",
     "checksum": "d0436f9ead50d15906d90c5da656b76d",
     "grade": false,
     "grade_id": "support",
     "locked": false,
     "schema_version": 3,
     "solution": true,
     "task": false
    },
    "slideshow": {
     "slide_type": ""
    },
    "tags": [
     "remove-output"
    ]
   },
   "outputs": [],
   "source": [
    "# YOUR CODE HERE\n",
    "raise NotImplementedError\n",
    "support"
   ]
  },
  {
   "cell_type": "code",
   "execution_count": null,
   "id": "8977b994",
   "metadata": {
    "deletable": false,
    "editable": false,
    "nbgrader": {
     "cell_type": "code",
     "checksum": "c66ce344335fba8822fe4acd479a81a7",
     "grade": true,
     "grade_id": "test-support",
     "locked": true,
     "points": 1,
     "schema_version": 3,
     "solution": false,
     "task": false
    },
    "slideshow": {
     "slide_type": ""
    },
    "tags": [
     "remove-cell"
    ]
   },
   "outputs": [],
   "source": [
    "# hidden tests"
   ]
  },
  {
   "cell_type": "markdown",
   "id": "5f918a52",
   "metadata": {
    "editable": true,
    "slideshow": {
     "slide_type": ""
    }
   },
   "source": [
    "`<conf:(0.92)> lift:(1.27) lev:(0.03) conv:(3.35)` printed after the first rule indicates that \n",
    "\n",
    "- confidence is used for ranking the rules and \n",
    "- the rule has a confidence of 0.92.\n",
    "\n",
    "By default, the rules are ranked by confidence, which is defined as follows:"
   ]
  },
  {
   "cell_type": "markdown",
   "id": "690e86b6",
   "metadata": {
    "editable": true,
    "slideshow": {
     "slide_type": ""
    }
   },
   "source": [
    "::::{prf:definition} confidence\n",
    ":label: def:confidence\n",
    "\n",
    "Confidence of a rule is defined as\n",
    "\n",
    "$$\n",
    "\\begin{align}\n",
    "\\op{confidence}(A\\implies B) &:= \\frac{\\op{support(A \\cup B)}}{\\op{support(A)}},\n",
    "\\end{align}\n",
    "$$ (confidence)\n",
    "\n",
    "where the denominator $\\op{support}(A)$ is the support of the premise. It gives, out of the transactions containing $A$, the fraction of transactions containing $B$.\n",
    "\n",
    "::::"
   ]
  },
  {
   "cell_type": "markdown",
   "id": "157199b2",
   "metadata": {
    "editable": true,
    "slideshow": {
     "slide_type": ""
    }
   },
   "source": [
    "In `python-weka-wrapper3`, we can print different metrics as follows:"
   ]
  },
  {
   "cell_type": "code",
   "execution_count": null,
   "id": "541898c0",
   "metadata": {
    "editable": true,
    "slideshow": {
     "slide_type": ""
    }
   },
   "outputs": [],
   "source": [
    "for n, v in zip(rules[0].metric_names, rules[0].metric_values):\n",
    "    print(f\"{n}: {v:.3g}\")"
   ]
  },
  {
   "cell_type": "markdown",
   "id": "09c228a1",
   "metadata": {
    "editable": true,
    "slideshow": {
     "slide_type": ""
    }
   },
   "source": [
    "::::{exercise}\n",
    ":label: ex:4\n",
    "Assign to `premise_support` the support count $\\op{count}(A)$ of the premise for the first rule.\n",
    "::::"
   ]
  },
  {
   "cell_type": "code",
   "execution_count": null,
   "id": "c66dbbc8",
   "metadata": {
    "deletable": false,
    "editable": true,
    "nbgrader": {
     "cell_type": "code",
     "checksum": "2c613bd2e33bcc50363d04b6f8cbcd30",
     "grade": false,
     "grade_id": "premise_support",
     "locked": false,
     "schema_version": 3,
     "solution": true,
     "task": false
    },
    "slideshow": {
     "slide_type": ""
    },
    "tags": [
     "remove-output"
    ]
   },
   "outputs": [],
   "source": [
    "# YOUR CODE HERE\n",
    "raise NotImplementedError\n",
    "premise_support"
   ]
  },
  {
   "cell_type": "code",
   "execution_count": null,
   "id": "bc818d64",
   "metadata": {
    "deletable": false,
    "editable": false,
    "nbgrader": {
     "cell_type": "code",
     "checksum": "bba71d901d53975c08f911a3f662d0d6",
     "grade": true,
     "grade_id": "test-premise_support",
     "locked": true,
     "points": 1,
     "schema_version": 3,
     "solution": false,
     "task": false
    },
    "slideshow": {
     "slide_type": ""
    },
    "tags": [
     "remove-cell"
    ]
   },
   "outputs": [],
   "source": [
    "# hidden tests"
   ]
  },
  {
   "cell_type": "markdown",
   "id": "06b242c4",
   "metadata": {
    "editable": true,
    "slideshow": {
     "slide_type": ""
    }
   },
   "source": [
    "Lift is another rule quality measure defined as follows:"
   ]
  },
  {
   "cell_type": "markdown",
   "id": "d6c550ff",
   "metadata": {
    "editable": true,
    "slideshow": {
     "slide_type": ""
    }
   },
   "source": [
    "::::{prf:definition} lift\n",
    ":label: def:lift\n",
    "\n",
    "The lift of a rule is\n",
    "\n",
    "$$\n",
    "\\begin{align}\n",
    "\\op{lift}(A\\implies B) &:= \\frac{\\op{confidence}(A\\implies B)}{\\op{support(B)}} = \\frac{\\op{support(A \\cup B)}}{\\op{support(A)}\\op{support(B)}}\\\\\n",
    "&= \\frac{\\op{confidence}(A\\implies B)}{\\op{confidence}(\\emptyset \\implies B)}.\n",
    "\\end{align}\n",
    "$$ (lift)\n",
    "\n",
    "where the last equality is obtained by rewriting $\\op{support}(B)$ in the denominator of the first equality as \n",
    "\n",
    "$$\n",
    "\\begin{align}\n",
    "\\op{confidence}(\\emptyset \\implies B) &= \\frac{\\op{support}(B)}{\\op{support}(\\emptyset)} = \\op{support}(B).\n",
    "\\end{align}\n",
    "$$\n",
    "\n",
    "In other words, lift is the fractional increase in confidence by imposing the premise.\n",
    "\n",
    "::::"
   ]
  },
  {
   "cell_type": "markdown",
   "id": "c23def01",
   "metadata": {
    "editable": true,
    "slideshow": {
     "slide_type": ""
    }
   },
   "source": [
    "::::{exercise}\n",
    ":label: ex:5\n",
    "In Weka, we can change the parameter `metricType` to rank the rule according to `Lift` instead of `Confidence`: \n",
    "- Rerun the algorithm with `metricType = Lift`.\n",
    "- Assign to the variable `lift` the maximum lift achieved.\n",
    "\n",
    "For `python-weka-wrapper3`, you can specify the option as follows:\n",
    "\n",
    "```Python\n",
    "apriori_lift = Associator(classname=\"weka.associations.Apriori\", options=['-T', '1'])\n",
    "...\n",
    "```\n",
    "where the value `1` corresponds to `Lift`.\n",
    "\n",
    "::::"
   ]
  },
  {
   "cell_type": "code",
   "execution_count": null,
   "id": "2df0403f",
   "metadata": {
    "deletable": false,
    "editable": true,
    "nbgrader": {
     "cell_type": "code",
     "checksum": "cb5c6123e6dc2072d83028e9daa75535",
     "grade": false,
     "grade_id": "lift",
     "locked": false,
     "schema_version": 3,
     "solution": true,
     "task": false
    },
    "slideshow": {
     "slide_type": ""
    },
    "tags": [
     "remove-output"
    ]
   },
   "outputs": [],
   "source": [
    "# YOUR CODE HERE\n",
    "raise NotImplementedError\n",
    "lift"
   ]
  },
  {
   "cell_type": "code",
   "execution_count": null,
   "id": "c78d972c",
   "metadata": {
    "deletable": false,
    "editable": false,
    "nbgrader": {
     "cell_type": "code",
     "checksum": "fe32c017337cfd4a83231903d22f804f",
     "grade": true,
     "grade_id": "test-lift",
     "locked": true,
     "points": 1,
     "schema_version": 3,
     "solution": false,
     "task": false
    },
    "slideshow": {
     "slide_type": ""
    },
    "tags": [
     "remove-cell"
    ]
   },
   "outputs": [],
   "source": [
    "# hidden tests"
   ]
  },
  {
   "cell_type": "markdown",
   "id": "bed3a4fc",
   "metadata": {
    "editable": true,
    "slideshow": {
     "slide_type": ""
    }
   },
   "source": [
    "::::{exercise}\n",
    ":label: ex:6\n",
    "Explain the relationship between the first and second rules above generated by ranking the rules by lift instead of confidence.\n",
    "\n",
    "::::"
   ]
  },
  {
   "cell_type": "markdown",
   "id": "22e5487f",
   "metadata": {
    "deletable": false,
    "editable": true,
    "nbgrader": {
     "cell_type": "markdown",
     "checksum": "ee414083029adadf35a58f18e972d39d",
     "grade": true,
     "grade_id": "symmetry",
     "locked": false,
     "points": 1,
     "schema_version": 3,
     "solution": true,
     "task": false
    },
    "slideshow": {
     "slide_type": ""
    }
   },
   "source": [
    "YOUR ANSWER HERE"
   ]
  },
  {
   "cell_type": "markdown",
   "id": "b042fef3",
   "metadata": {
    "editable": true,
    "slideshow": {
     "slide_type": ""
    }
   },
   "source": [
    "::::{exercise}\n",
    ":label: ex:7\n",
    "Explain why the maximum lift obtained by ranking the rules using `Lift` is smaller than 1.27, which is the lift obtained before by ranking rules using `Confidence`.\n",
    "\n",
    ":::{hint}\n",
    ":class: dropdown\n",
    "From the [documentation](https://weka.sourceforge.io/doc.dev/weka/associations/Apriori.html), the apriori algorithm in Weka reduces the minimum support until it obtains a specified number (default: 10) of rules with specified minimum metric value for the metric type.\n",
    ":::\n",
    "::::"
   ]
  },
  {
   "cell_type": "markdown",
   "id": "5f15fe77",
   "metadata": {
    "deletable": false,
    "editable": true,
    "nbgrader": {
     "cell_type": "markdown",
     "checksum": "a16c565cdf5bd92905bed1d123fb6d6b",
     "grade": true,
     "grade_id": "minsupport",
     "locked": false,
     "points": 1,
     "schema_version": 3,
     "solution": true,
     "task": false
    },
    "slideshow": {
     "slide_type": ""
    }
   },
   "source": [
    "YOUR ANSWER HERE"
   ]
  },
  {
   "cell_type": "code",
   "execution_count": null,
   "id": "6cb2e576",
   "metadata": {
    "editable": true,
    "slideshow": {
     "slide_type": ""
    }
   },
   "outputs": [],
   "source": [
    "%%ai chatgpt -f text\n",
    "In association rule mining, what are the pros and cons of ranking the rules \n",
    "according to lift instead of confidence?"
   ]
  }
 ],
 "metadata": {
  "kernelspec": {
   "display_name": "Python 3 (ipykernel)",
   "language": "python",
   "name": "python3"
  }
 },
 "nbformat": 4,
 "nbformat_minor": 5
}
