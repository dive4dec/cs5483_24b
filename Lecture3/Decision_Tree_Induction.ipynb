{
 "cells": [
  {
   "cell_type": "markdown",
   "id": "bb915f2c",
   "metadata": {
    "editable": true,
    "slideshow": {
     "slide_type": "slide"
    }
   },
   "source": [
    "---\n",
    "title: Decision Tree Induction\n",
    "math: \n",
    "    '\\abs': '\\left\\lvert #1 \\right\\rvert' \n",
    "    '\\norm': '\\left\\lvert #1 \\right\\rvert' \n",
    "    '\\Set': '\\left\\{ #1 \\right\\}'\n",
    "    '\\mc': '\\mathcal{#1}'\n",
    "    '\\M': '\\boldsymbol{#1}'\n",
    "    '\\R': '\\mathsf{#1}'\n",
    "    '\\RM': '\\boldsymbol{\\mathsf{#1}}'\n",
    "    '\\op': '\\operatorname{#1}'\n",
    "    '\\E': '\\op{E}'\n",
    "    '\\d': '\\mathrm{\\mathstrut d}'\n",
    "    '\\Gini': '\\operatorname{Gini}'\n",
    "    '\\Info': '\\operatorname{Info}'\n",
    "    '\\Gain': '\\operatorname{Gain}'\n",
    "    '\\GainRatio': '\\operatorname{GainRatio}'\n",
    "---"
   ]
  },
  {
   "cell_type": "markdown",
   "id": "1a4c45f7",
   "metadata": {
    "editable": true,
    "slideshow": {
     "slide_type": "slide"
    }
   },
   "source": [
    "<!-- .slide: data-auto-animate -->\n",
    "#### What is a decision tree?"
   ]
  },
  {
   "cell_type": "markdown",
   "id": "9d107194",
   "metadata": {
    "editable": true,
    "slideshow": {
     "slide_type": ""
    }
   },
   "source": [
    "![](images/DT.dio.svg)"
   ]
  },
  {
   "cell_type": "markdown",
   "id": "89089030",
   "metadata": {
    "editable": true,
    "slideshow": {
     "slide_type": ""
    }
   },
   "source": [
    "- Internal nodes $t$ (circles).\n",
    "    - Label $A_t$ (splitting criterion).\n",
    "    - For each $A_t = j$ (outcome), an edge to $\\op{child}(t, j)$ (child node).\n",
    "- Leaf nodes (squares).\n",
    "- Label $\\op{class}(t)$ (decision)."
   ]
  },
  {
   "cell_type": "markdown",
   "id": "a0c8bb7e",
   "metadata": {
    "editable": true,
    "slideshow": {
     "slide_type": "slide"
    }
   },
   "source": [
    "#### How to classify?"
   ]
  },
  {
   "cell_type": "markdown",
   "id": "6d3cc7da",
   "metadata": {
    "editable": true,
    "slideshow": {
     "slide_type": ""
    }
   },
   "source": [
    "![](images/classify.dio.svg)"
   ]
  },
  {
   "cell_type": "markdown",
   "id": "8b9e95eb",
   "metadata": {
    "editable": true,
    "slideshow": {
     "slide_type": ""
    }
   },
   "source": [
    "- Trace from root to leaves."
   ]
  },
  {
   "cell_type": "markdown",
   "id": "5746fa2d",
   "metadata": {
    "editable": true,
    "slideshow": {
     "slide_type": "slide"
    }
   },
   "source": [
    "#### How to build a decision stump?"
   ]
  },
  {
   "cell_type": "markdown",
   "id": "87737d89",
   "metadata": {
    "editable": true,
    "slideshow": {
     "slide_type": ""
    }
   },
   "source": [
    "![](images/stum.dio.svg)"
   ]
  },
  {
   "cell_type": "markdown",
   "id": "e88cf151",
   "metadata": {
    "editable": true,
    "slideshow": {
     "slide_type": ""
    }
   },
   "source": [
    "- A decision stump is a decision tree with depth $\\leq 1$.\n",
    "- Choose a splitting attribute.\n",
    "- Use majority voting to determine $\\op{class}(t)$.\n",
    "- Which decision stump is better? <u>Left/right</u> because of o__________."
   ]
  },
  {
   "cell_type": "markdown",
   "id": "7730c517",
   "metadata": {
    "editable": true,
    "slideshow": {
     "slide_type": "subslide"
    }
   },
   "source": [
    "#### Binary splits for numeric attributes"
   ]
  },
  {
   "cell_type": "markdown",
   "id": "11909334",
   "metadata": {
    "editable": true,
    "slideshow": {
     "slide_type": ""
    }
   },
   "source": [
    "![](images/split.dio.svg)"
   ]
  },
  {
   "cell_type": "markdown",
   "id": "07a9be15",
   "metadata": {
    "editable": true,
    "slideshow": {
     "slide_type": ""
    }
   },
   "source": [
    "- C__________ m__-points as s________ points. \n",
    "- Which is/are the best split(s)? <u>left/middle/right</u>.\n",
    "- How to build a tree instead of a stump? R__________ split (d_____-and-c______)."
   ]
  },
  {
   "cell_type": "markdown",
   "id": "5a6ba75c",
   "metadata": {
    "editable": true,
    "slideshow": {
     "slide_type": "slide"
    }
   },
   "source": [
    "#### How to build a decision tree?"
   ]
  },
  {
   "cell_type": "markdown",
   "id": "a088c147",
   "metadata": {
    "editable": true,
    "slideshow": {
     "slide_type": ""
    }
   },
   "source": [
    "![](images/induce.dio.svg)"
   ]
  },
  {
   "cell_type": "markdown",
   "id": "76935039",
   "metadata": {
    "editable": true,
    "slideshow": {
     "slide_type": ""
    }
   },
   "source": [
    "- Greedy algorithm (See [Han11 Fig 8.3](https://www.sciencedirect.com/science/article/pii/B9780123814791000083#sp0020) for the full version)"
   ]
  },
  {
   "cell_type": "markdown",
   "id": "9de9a24f",
   "metadata": {
    "editable": true,
    "slideshow": {
     "slide_type": "slide"
    }
   },
   "source": [
    "#### How to find good splitting attribute?"
   ]
  },
  {
   "cell_type": "markdown",
   "id": "69c12881",
   "metadata": {
    "editable": true,
    "slideshow": {
     "slide_type": ""
    }
   },
   "source": [
    "- Given the data $D$ to split, choose the splitting attribute $A$ that minimizes e____ of decision stump by $A$.\n",
    "- What is the precise formula?"
   ]
  },
  {
   "cell_type": "markdown",
   "id": "ac7587f5",
   "metadata": {},
   "source": [
    "![](images/Misclass.dio.svg)"
   ]
  },
  {
   "cell_type": "markdown",
   "id": "40b56761",
   "metadata": {},
   "source": [
    "- $D_j$: set $\\Set{(\\M{x}, y) \\in D \\mid A = j \\text{ for } \\M{x}}$ of tuples in $D$ with $A = j$.\n",
    "- $p_{k|j}$: fraction $\\frac{\\abs{\\Set{(\\M{x}, y) \\in D_j \\mid y = k }}}{\\abs{D_j}}$ of tuples in $D\\_j$ belonging to class $k$."
   ]
  },
  {
   "cell_type": "markdown",
   "id": "2b457a25",
   "metadata": {
    "editable": true,
    "slideshow": {
     "slide_type": "subslide"
    }
   },
   "source": [
    "#### Example"
   ]
  },
  {
   "cell_type": "markdown",
   "id": "35698b79",
   "metadata": {
    "editable": true,
    "slideshow": {
     "slide_type": ""
    }
   },
   "source": [
    "![](images/Misclass-eg.dio.svg)"
   ]
  },
  {
   "cell_type": "markdown",
   "id": "af929c4d",
   "metadata": {
    "editable": true,
    "slideshow": {
     "slide_type": ""
    }
   },
   "source": [
    "- What is the best splitting attribute? $\\underline{\\R{X}_1/\\R{X}_2/\\text{same}}$."
   ]
  },
  {
   "cell_type": "markdown",
   "id": "b96ea13b",
   "metadata": {
    "editable": true,
    "slideshow": {
     "slide_type": "slide"
    }
   },
   "source": [
    "#### Further split on $\\R{X}_3$"
   ]
  },
  {
   "cell_type": "markdown",
   "id": "359b12ed",
   "metadata": {
    "editable": true,
    "slideshow": {
     "slide_type": ""
    }
   },
   "source": [
    "![](images/Misclass-issue.dio.svg)"
   ]
  },
  {
   "cell_type": "markdown",
   "id": "ee6c6a1d",
   "metadata": {
    "editable": true,
    "slideshow": {
     "slide_type": "subslide"
    }
   },
   "source": [
    "#### Issue of greedy algorithm"
   ]
  },
  {
   "cell_type": "markdown",
   "id": "65f4a881",
   "metadata": {
    "editable": true,
    "slideshow": {
     "slide_type": ""
    }
   },
   "source": [
    "- Locally optimal split may not be g_______ optimal."
   ]
  },
  {
   "cell_type": "markdown",
   "id": "0db8bb49",
   "metadata": {
    "editable": true,
    "slideshow": {
     "slide_type": ""
    }
   },
   "source": [
    "![](images/local-vs-global.dio.svg)"
   ]
  },
  {
   "cell_type": "markdown",
   "id": "58659755",
   "metadata": {
    "editable": true,
    "slideshow": {
     "slide_type": ""
    }
   },
   "source": [
    "- Why splitting on $\\R{X}_1$ is not good? Child nodes of $\\R{X}_1$ are less p___.\n",
    "- Why misclassification rate fails? It neglects the distribution of the class values of m____________ instances."
   ]
  },
  {
   "cell_type": "markdown",
   "id": "56739d7c",
   "metadata": {
    "editable": true,
    "slideshow": {
     "slide_type": "subslide"
    }
   },
   "source": [
    "#### How to remain greedy but not myopic?"
   ]
  },
  {
   "cell_type": "markdown",
   "id": "98c6ac41",
   "metadata": {
    "editable": true,
    "slideshow": {
     "slide_type": ""
    }
   },
   "source": [
    "- Find better i<span class=\"blank\"></span> measures than misclassification rate.\n",
    "- How to measure impurity?"
   ]
  },
  {
   "cell_type": "markdown",
   "id": "da7b2d05",
   "metadata": {
    "editable": true,
    "slideshow": {
     "slide_type": ""
    }
   },
   "source": [
    "- E.g., order the following distributions in ascending order of impurities:\n",
    "  \n",
    "  ___ (purest) < ___ < ___ < ___"
   ]
  },
  {
   "cell_type": "markdown",
   "id": "bb284cd4",
   "metadata": {
    "editable": true,
    "slideshow": {
     "slide_type": ""
    }
   },
   "source": [
    "![](images/impurity.dio.svg)"
   ]
  },
  {
   "cell_type": "markdown",
   "id": "694ec3e5",
   "metadata": {
    "editable": true,
    "slideshow": {
     "slide_type": ""
    }
   },
   "source": [
    "- Given a distribution $p_k$ of the class values of $D$, how to define a non-negative function of $p_k$’s that respect the above ordering?\n",
    "  - $1 - \\max_k p_k$ works? <u>Yes/No</u>\n",
    "  - $1 - \\sum_k p_k$ works? <u>Yes/No</u>"
   ]
  },
  {
   "cell_type": "markdown",
   "id": "e63b30ad",
   "metadata": {
    "editable": true,
    "slideshow": {
     "slide_type": "slide"
    }
   },
   "source": [
    "#### Gini Impurity Index"
   ]
  },
  {
   "cell_type": "markdown",
   "id": "67cfdabb",
   "metadata": {
    "editable": true,
    "slideshow": {
     "slide_type": ""
    }
   },
   "source": [
    "![](images/Gini.dio.svg)"
   ]
  },
  {
   "cell_type": "markdown",
   "id": "9bb8f005",
   "metadata": {
    "editable": true,
    "slideshow": {
     "slide_type": "subslide"
    }
   },
   "source": [
    "#### Why it works?"
   ]
  },
  {
   "cell_type": "markdown",
   "id": "2dc7ea1c",
   "metadata": {
    "editable": true,
    "slideshow": {
     "slide_type": ""
    }
   },
   "source": [
    "- $g(p_0, p_1, \\ldots) \\geq 0$. Equality iff $\\forall k, p_k \\in \\{0, 1\\}$. Why?"
   ]
  },
  {
   "cell_type": "markdown",
   "id": "d7552195",
   "metadata": {
    "editable": true,
    "slideshow": {
     "slide_type": ""
    }
   },
   "source": [
    "- $g(p_0, p_1, \\ldots, p_n) \\leq 1 - 1/n$. Equality iff $p_k = \\underline{\\phantom{\\frac{x}{x}}}$. Why?"
   ]
  },
  {
   "cell_type": "markdown",
   "id": "4bb2c223",
   "metadata": {
    "editable": true,
    "slideshow": {
     "slide_type": "subslide"
    }
   },
   "source": [
    "#### Finding the best split using Gini impurity"
   ]
  },
  {
   "cell_type": "markdown",
   "id": "2aeb37ee",
   "metadata": {
    "editable": true,
    "slideshow": {
     "slide_type": ""
    }
   },
   "source": [
    "- Minimize the Gini impurity given a $A$:"
   ]
  },
  {
   "cell_type": "markdown",
   "id": "b4bb034e",
   "metadata": {
    "editable": true,
    "slideshow": {
     "slide_type": ""
    }
   },
   "source": [
    "![](images/cGini.dio.svg)"
   ]
  },
  {
   "cell_type": "markdown",
   "id": "edae737e",
   "metadata": {
    "editable": true,
    "slideshow": {
     "slide_type": ""
    }
   },
   "source": [
    "- What is the best splitting attribute? $\\underline{\\R{X}_1/\\R{X}_2/\\text{same}}$."
   ]
  },
  {
   "cell_type": "markdown",
   "id": "9f0fb799",
   "metadata": {
    "editable": true,
    "slideshow": {
     "slide_type": "slide"
    }
   },
   "source": [
    "#### An impurity measure from information theory"
   ]
  },
  {
   "cell_type": "markdown",
   "id": "16de6833",
   "metadata": {
    "editable": true,
    "slideshow": {
     "slide_type": ""
    }
   },
   "source": [
    "- Shannon’s entropy"
   ]
  },
  {
   "cell_type": "markdown",
   "id": "91d6cad9",
   "metadata": {
    "editable": true,
    "slideshow": {
     "slide_type": ""
    }
   },
   "source": [
    "![](images/Info.dio.svg)"
   ]
  },
  {
   "cell_type": "markdown",
   "id": "b1d45848",
   "metadata": {
    "editable": true,
    "slideshow": {
     "slide_type": ""
    }
   },
   "source": [
    "- Measured in bits with base-2 logarithm. Why?\n",
    "- $0 \\log 0$ is regarded as $\\lim_{p \\to 0} p \\log p$ even though $\\log 0$ is undefined."
   ]
  },
  {
   "cell_type": "markdown",
   "id": "7e292e04",
   "metadata": {
    "editable": true,
    "slideshow": {
     "slide_type": "subslide"
    }
   },
   "source": [
    "#### Why it works?"
   ]
  },
  {
   "cell_type": "markdown",
   "id": "1e931aa7",
   "metadata": {
    "editable": true,
    "slideshow": {
     "slide_type": ""
    }
   },
   "source": [
    "- $h(p_0, p_1, \\ldots) \\geq 0$. Equality iff $\\forall k, p_k \\in \\Set{0, 1}$. Why?"
   ]
  },
  {
   "cell_type": "markdown",
   "id": "d13c9177",
   "metadata": {
    "editable": true,
    "slideshow": {
     "slide_type": ""
    }
   },
   "source": [
    "- $h(p_0, p_1, \\ldots, p_n) \\leq \\log_2 n$. Equality iff $p_k = \\underline{\\phantom{\\frac{x}{x}}}$. Why?"
   ]
  },
  {
   "cell_type": "markdown",
   "id": "c4c5bcdb",
   "metadata": {
    "editable": true,
    "slideshow": {
     "slide_type": "subslide"
    }
   },
   "source": [
    "#### Finding the best split by conditional entropy"
   ]
  },
  {
   "cell_type": "markdown",
   "id": "c7a9621a",
   "metadata": {
    "editable": true,
    "slideshow": {
     "slide_type": ""
    }
   },
   "source": [
    "Minimize the entropy given $A$:"
   ]
  },
  {
   "cell_type": "markdown",
   "id": "f51d092e",
   "metadata": {
    "editable": true,
    "slideshow": {
     "slide_type": ""
    }
   },
   "source": [
    "![](images/cInfo.dio.svg)"
   ]
  },
  {
   "cell_type": "markdown",
   "id": "dd8a0280",
   "metadata": {
    "editable": true,
    "slideshow": {
     "slide_type": ""
    }
   },
   "source": [
    "- What is the best splitting attribute? $\\underline{\\R{X}_1/\\R{X}_2/\\text{same}}$."
   ]
  },
  {
   "cell_type": "markdown",
   "id": "9a4ecbbf",
   "metadata": {
    "editable": true,
    "slideshow": {
     "slide_type": "slide"
    }
   },
   "source": [
    "#### Which impurity measure is used?"
   ]
  },
  {
   "cell_type": "markdown",
   "id": "16affbd2",
   "metadata": {
    "editable": true,
    "slideshow": {
     "slide_type": ""
    }
   },
   "source": [
    "- ID3 (Iterative Dichotomiser 3) maximizes\n",
    "\n",
    "  \\begin{align}\n",
    "  \\op{Gain}_A(D) := \\op{Info}(D) - \\op{Info}_A(D) && \\text{(information gain or mutual information)}\n",
    "  \\end{align}"
   ]
  },
  {
   "cell_type": "markdown",
   "id": "6c5ccfff",
   "metadata": {
    "editable": true,
    "slideshow": {
     "slide_type": ""
    }
   },
   "source": [
    "- CART (Classification and Regression Tree)\n",
    "\n",
    "  \\begin{align}\n",
    "  \\Delta \\op{Gini}_A(D) := \\op{Gini}(D) - \\op{Gini}_A(D) && \\text{(Drop in Gini impurity)}\n",
    "  \\end{align}"
   ]
  },
  {
   "cell_type": "markdown",
   "id": "257543e0",
   "metadata": {
    "editable": true,
    "slideshow": {
     "slide_type": ""
    }
   },
   "source": [
    "![](images/drop-gain.dio.svg)"
   ]
  },
  {
   "cell_type": "markdown",
   "id": "9653e673",
   "metadata": {
    "editable": true,
    "slideshow": {
     "slide_type": "subslide"
    }
   },
   "source": [
    "![](images/X4.dio.svg)"
   ]
  },
  {
   "cell_type": "markdown",
   "id": "743b5696",
   "metadata": {
    "editable": true,
    "slideshow": {
     "slide_type": ""
    }
   },
   "source": [
    "- Is $X_4$ a good splitting attribute? <u>Yes/No</u>."
   ]
  },
  {
   "cell_type": "markdown",
   "id": "910df0dc",
   "metadata": {
    "editable": true,
    "slideshow": {
     "slide_type": "slide"
    }
   },
   "source": [
    "#### Bias towards attributes with many outcomes"
   ]
  },
  {
   "cell_type": "markdown",
   "id": "6410d5cb",
   "metadata": {
    "editable": true,
    "slideshow": {
     "slide_type": ""
    }
   },
   "source": [
    "- An attribute with more outcomes tends to\n",
    "- reduce impurity more but\n",
    "- result in more comparisons.\n",
    "- Issues: Such attribute may not minimize impurity per comparison.\n",
    "- Remedies?"
   ]
  },
  {
   "cell_type": "markdown",
   "id": "d2612cff",
   "metadata": {
    "editable": true,
    "slideshow": {
     "slide_type": "slide"
    }
   },
   "source": [
    "#### Binary split also for nominal attributes"
   ]
  },
  {
   "cell_type": "markdown",
   "id": "489ee073",
   "metadata": {
    "editable": true,
    "slideshow": {
     "slide_type": ""
    }
   },
   "source": [
    "- CART uses a s____________ $S$ to generate a binary split (whether $A \\in S$).\n",
    "- The number of outcomes is therefore limited to ___."
   ]
  },
  {
   "cell_type": "markdown",
   "id": "7f5c8afb",
   "metadata": {
    "editable": true,
    "slideshow": {
     "slide_type": ""
    }
   },
   "source": [
    "![](images/sets.dio.svg)"
   ]
  },
  {
   "cell_type": "markdown",
   "id": "28f78d6e",
   "metadata": {
    "editable": true,
    "slideshow": {
     "slide_type": "subslide"
    }
   },
   "source": [
    "#### Normalization by split information"
   ]
  },
  {
   "cell_type": "markdown",
   "id": "2fd773db",
   "metadata": {
    "editable": true,
    "slideshow": {
     "slide_type": ""
    }
   },
   "source": [
    "- C4.5/J48 allows m________ split but uses information gain ratio:  \n",
    "  $$\n",
    "  \\frac{\\op{Gain}_A(D)}{\\op{SplitInfo}_A(D)}\n",
    "  $$\n",
    "  where $\\op{SplitInfo}_A(D) = \\sum_j \\frac{\\abs{D_j}}{\\abs{D}} \\log_2 \\frac{1}{\\abs{D_j} / \\abs{D}}$.\n",
    "- $\\op{SplitInfo}_A(D)$ is the entropy of __________ because __________________.\n",
    "- Attributes with many outcomes tend to have <u>smaller/larger</u> $\\op{SplitInfo}_A(D)$."
   ]
  },
  {
   "cell_type": "markdown",
   "id": "5f9c686c",
   "metadata": {
    "editable": true,
    "slideshow": {
     "slide_type": "slide"
    }
   },
   "source": [
    "#### How to avoid overfitting"
   ]
  },
  {
   "cell_type": "markdown",
   "id": "a6dbba3f",
   "metadata": {
    "editable": true,
    "slideshow": {
     "slide_type": ""
    }
   },
   "source": [
    "- P__-pruning: Limit the size of the tree as we build it. E.g.,\n",
    "    - Ensure each node is supported by enough examples. (C4.5: minimum number of objects.)\n",
    "    - Split only if we are confident enough about the improvement. (C4.5: confidence factor.)\n",
    "- P___-pruning: Reduce the size of the tree after we build it. E.g.,\n",
    "    - Contract leaf nodes if complexity outweighs the risk. (CART: cost-complexity pruning)"
   ]
  },
  {
   "cell_type": "markdown",
   "id": "d0b22794",
   "metadata": {
    "editable": true,
    "slideshow": {
     "slide_type": "slide"
    }
   },
   "source": [
    "#### References"
   ]
  },
  {
   "cell_type": "markdown",
   "id": "a8abfdd6",
   "metadata": {
    "editable": true,
    "slideshow": {
     "slide_type": ""
    }
   },
   "source": [
    "- 8.1 Basic Concepts\n",
    "- 8.2 Decision Tree Induction\n",
    "- Optional readings\n",
    "    - <https://en.wikipedia.org/wiki/C4.5_algorithm>\n",
    "    - [Cover, T., & Thomas, J. (2006). Elements of information theory (2nd ed.). Hoboken, N.J.: Wiley-Interscience.](http://lib.cityu.edu.hk/docid/CUH_IZ51454730340003408) Chapter 1 and 2."
   ]
  }
 ],
 "metadata": {
  "kernelspec": {
   "display_name": "Python 3 (ipykernel)",
   "language": "python",
   "name": "python3"
  }
 },
 "nbformat": 4,
 "nbformat_minor": 5
}
