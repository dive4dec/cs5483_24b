{
 "cells": [
  {
   "cell_type": "markdown",
   "id": "1668cfdd",
   "metadata": {
    "editable": true,
    "slideshow": {
     "slide_type": "slide"
    }
   },
   "source": [
    "---\n",
    "title: Decision Tree Induction\n",
    "math: \n",
    "    '\\abs': '\\left\\lvert #1 \\right\\rvert' \n",
    "    '\\norm': '\\left\\lvert #1 \\right\\rvert' \n",
    "    '\\Set': '\\left\\{ #1 \\right\\}'\n",
    "    '\\mc': '\\mathcal{#1}'\n",
    "    '\\M': '\\boldsymbol{#1}'\n",
    "    '\\R': '\\mathsf{#1}'\n",
    "    '\\RM': '\\boldsymbol{\\mathsf{#1}}'\n",
    "    '\\op': '\\operatorname{#1}'\n",
    "    '\\E': '\\op{E}'\n",
    "    '\\d': '\\mathrm{\\mathstrut d}'\n",
    "    '\\Gini': '\\operatorname{Gini}'\n",
    "    '\\Info': '\\operatorname{Info}'\n",
    "    '\\Gain': '\\operatorname{Gain}'\n",
    "    '\\GainRatio': '\\operatorname{GainRatio}'\n",
    "---"
   ]
  },
  {
   "cell_type": "markdown",
   "id": "531a197d",
   "metadata": {
    "editable": true,
    "slideshow": {
     "slide_type": "slide"
    }
   },
   "source": [
    "<!-- .slide: data-auto-animate -->\n",
    "#### What is a decision tree?"
   ]
  },
  {
   "cell_type": "markdown",
   "id": "5fcd63ad",
   "metadata": {
    "editable": true,
    "slideshow": {
     "slide_type": ""
    }
   },
   "source": [
    "![](images/DT.dio.svg)"
   ]
  },
  {
   "cell_type": "markdown",
   "id": "b0676a02",
   "metadata": {
    "editable": true,
    "slideshow": {
     "slide_type": ""
    }
   },
   "source": [
    "- Internal nodes $t$ (circles).\n",
    "    - Label $A_t$ (splitting criterion).\n",
    "    - For each $A_t = j$ (outcome), an edge to $\\op{child}(t, j)$ (child node).\n",
    "- Leaf nodes (squares).\n",
    "- Label $\\op{class}(t)$ (decision)."
   ]
  },
  {
   "cell_type": "markdown",
   "id": "6fe87e16",
   "metadata": {
    "editable": true,
    "slideshow": {
     "slide_type": "slide"
    }
   },
   "source": [
    "#### How to classify?"
   ]
  },
  {
   "cell_type": "markdown",
   "id": "9f7cc6f0",
   "metadata": {
    "editable": true,
    "slideshow": {
     "slide_type": ""
    }
   },
   "source": [
    "![](images/classify.dio.svg)"
   ]
  },
  {
   "cell_type": "markdown",
   "id": "6d7749d8",
   "metadata": {
    "editable": true,
    "slideshow": {
     "slide_type": ""
    }
   },
   "source": [
    "- Trace from root to leaves."
   ]
  },
  {
   "cell_type": "markdown",
   "id": "ad8888fb",
   "metadata": {
    "editable": true,
    "slideshow": {
     "slide_type": "slide"
    }
   },
   "source": [
    "#### How to build a decision stump?"
   ]
  },
  {
   "cell_type": "markdown",
   "id": "bf49f7e6",
   "metadata": {
    "editable": true,
    "slideshow": {
     "slide_type": ""
    }
   },
   "source": [
    "![](images/stum.dio.svg)"
   ]
  },
  {
   "cell_type": "markdown",
   "id": "0016e06c",
   "metadata": {
    "editable": true,
    "slideshow": {
     "slide_type": ""
    }
   },
   "source": [
    "- A decision stump is a decision tree with depth $\\leq 1$.\n",
    "- Choose a splitting attribute.\n",
    "- Use majority voting to determine $\\op{class}(t)$.\n",
    "- Which decision stump is better? <u>Left/right</u> because of o__________."
   ]
  },
  {
   "cell_type": "markdown",
   "id": "45b1d7d4",
   "metadata": {
    "editable": true,
    "slideshow": {
     "slide_type": "subslide"
    }
   },
   "source": [
    "#### Binary splits for numeric attributes"
   ]
  },
  {
   "cell_type": "markdown",
   "id": "ff522883",
   "metadata": {
    "editable": true,
    "slideshow": {
     "slide_type": ""
    }
   },
   "source": [
    "![](images/split.dio.svg)"
   ]
  },
  {
   "cell_type": "markdown",
   "id": "38fd64e9",
   "metadata": {
    "editable": true,
    "slideshow": {
     "slide_type": ""
    }
   },
   "source": [
    "- C__________ m__-points as s________ points. \n",
    "- Which is/are the best split(s)? <u>left/middle/right</u>.\n",
    "- How to build a tree instead of a stump? R__________ split (d_____-and-c______)."
   ]
  },
  {
   "cell_type": "markdown",
   "id": "bef1e4d8",
   "metadata": {
    "editable": true,
    "slideshow": {
     "slide_type": "slide"
    }
   },
   "source": [
    "#### How to build a decision tree?"
   ]
  },
  {
   "cell_type": "markdown",
   "id": "cbe86f76",
   "metadata": {
    "editable": true,
    "slideshow": {
     "slide_type": ""
    }
   },
   "source": [
    "![](images/induce.dio.svg)"
   ]
  },
  {
   "cell_type": "markdown",
   "id": "b279c104",
   "metadata": {
    "editable": true,
    "slideshow": {
     "slide_type": ""
    }
   },
   "source": [
    "- Greedy algorithm (See [Han11 Fig 8.3](https://www.sciencedirect.com/science/article/pii/B9780123814791000083#sp0020) for the full version)"
   ]
  },
  {
   "cell_type": "markdown",
   "id": "4c777535",
   "metadata": {
    "editable": true,
    "slideshow": {
     "slide_type": "slide"
    }
   },
   "source": [
    "#### How to find good splitting attribute?"
   ]
  },
  {
   "cell_type": "markdown",
   "id": "0151a90f",
   "metadata": {
    "editable": true,
    "slideshow": {
     "slide_type": ""
    }
   },
   "source": [
    "- Given the data $D$ to split, choose the splitting attribute $A$ that minimizes e____ of decision stump by $A$.\n",
    "- What is the precise formula?"
   ]
  },
  {
   "cell_type": "markdown",
   "id": "69c91dc8",
   "metadata": {},
   "source": [
    "![](images/Misclass.dio.svg)"
   ]
  },
  {
   "cell_type": "markdown",
   "id": "4dcb1b4d",
   "metadata": {},
   "source": [
    "- $D_j$: set $\\Set{(\\M{x}, y) \\in D \\mid A = j \\text{ for } \\M{x}}$ of tuples in $D$ with $A = j$.\n",
    "- $p_{k|j}$: fraction $\\frac{\\abs{\\Set{(\\M{x}, y) \\in D_j \\mid y = k }}}{\\abs{D_j}}$ of tuples in $D\\_j$ belonging to class $k$."
   ]
  },
  {
   "cell_type": "markdown",
   "id": "db77b9b0",
   "metadata": {
    "editable": true,
    "slideshow": {
     "slide_type": "subslide"
    }
   },
   "source": [
    "#### Example"
   ]
  },
  {
   "cell_type": "markdown",
   "id": "0ede59cb",
   "metadata": {
    "editable": true,
    "slideshow": {
     "slide_type": ""
    }
   },
   "source": [
    "![](images/Misclass-eg.dio.svg)"
   ]
  },
  {
   "cell_type": "markdown",
   "id": "90e81f26",
   "metadata": {
    "editable": true,
    "slideshow": {
     "slide_type": ""
    }
   },
   "source": [
    "- What is the best splitting attribute? $\\underline{\\R{X}_1/\\R{X}_2/\\text{same}}$."
   ]
  },
  {
   "cell_type": "markdown",
   "id": "4660637f",
   "metadata": {
    "editable": true,
    "slideshow": {
     "slide_type": "slide"
    }
   },
   "source": [
    "#### Further split on $\\R{X}_3$"
   ]
  },
  {
   "cell_type": "markdown",
   "id": "ce35ff70",
   "metadata": {
    "editable": true,
    "slideshow": {
     "slide_type": ""
    }
   },
   "source": [
    "![](images/Misclass-issue.dio.svg)"
   ]
  },
  {
   "cell_type": "markdown",
   "id": "ae5d367f",
   "metadata": {
    "editable": true,
    "slideshow": {
     "slide_type": "subslide"
    }
   },
   "source": [
    "#### Issue of greedy algorithm"
   ]
  },
  {
   "cell_type": "markdown",
   "id": "02a3464d",
   "metadata": {
    "editable": true,
    "slideshow": {
     "slide_type": ""
    }
   },
   "source": [
    "- Locally optimal split may not be g_______ optimal."
   ]
  },
  {
   "cell_type": "markdown",
   "id": "30ee6f33",
   "metadata": {
    "editable": true,
    "slideshow": {
     "slide_type": ""
    }
   },
   "source": [
    "![](images/local-vs-global.dio.svg)"
   ]
  },
  {
   "cell_type": "markdown",
   "id": "0b8a262d",
   "metadata": {
    "editable": true,
    "slideshow": {
     "slide_type": ""
    }
   },
   "source": [
    "- Why splitting on $\\R{X}_1$ is not good? Child nodes of $\\R{X}_1$ are less p___.\n",
    "- Why misclassification rate fails? It neglects the distribution of the class values of m____________ instances."
   ]
  },
  {
   "cell_type": "markdown",
   "id": "897088f8",
   "metadata": {
    "editable": true,
    "slideshow": {
     "slide_type": "subslide"
    }
   },
   "source": [
    "#### How to remain greedy but not myopic?"
   ]
  },
  {
   "cell_type": "markdown",
   "id": "b0a102f7",
   "metadata": {
    "editable": true,
    "slideshow": {
     "slide_type": ""
    }
   },
   "source": [
    "- Find better i<span class=\"blank\"></span> measures than misclassification rate.\n",
    "- How to measure impurity?"
   ]
  },
  {
   "cell_type": "markdown",
   "id": "3ed111a8",
   "metadata": {
    "editable": true,
    "slideshow": {
     "slide_type": ""
    }
   },
   "source": [
    "- E.g., order the following distributions in ascending order of impurities:\n",
    "  \n",
    "  ___ (purest) < ___ < ___ < ___"
   ]
  },
  {
   "cell_type": "markdown",
   "id": "3cbcb589",
   "metadata": {
    "editable": true,
    "slideshow": {
     "slide_type": ""
    }
   },
   "source": [
    "![](images/impurity.dio.svg)"
   ]
  },
  {
   "cell_type": "markdown",
   "id": "6e302276",
   "metadata": {
    "editable": true,
    "slideshow": {
     "slide_type": ""
    }
   },
   "source": [
    "- Given a distribution $p_k$ of the class values of $D$, how to define a non-negative function of $p_k$’s that respect the above ordering?\n",
    "  - $1 - \\max_k p_k$ works? <u>Yes/No</u>\n",
    "  - $1 - \\sum_k p_k$ works? <u>Yes/No</u>"
   ]
  },
  {
   "cell_type": "markdown",
   "id": "1fdde366",
   "metadata": {
    "editable": true,
    "slideshow": {
     "slide_type": "slide"
    }
   },
   "source": [
    "#### Gini Impurity Index"
   ]
  },
  {
   "cell_type": "markdown",
   "id": "0947997c",
   "metadata": {
    "editable": true,
    "slideshow": {
     "slide_type": ""
    }
   },
   "source": [
    "![](images/Gini.dio.svg)"
   ]
  },
  {
   "cell_type": "markdown",
   "id": "82b677bf",
   "metadata": {
    "editable": true,
    "slideshow": {
     "slide_type": "subslide"
    }
   },
   "source": [
    "#### Why it works?"
   ]
  },
  {
   "cell_type": "markdown",
   "id": "f02b3ff6",
   "metadata": {
    "editable": true,
    "slideshow": {
     "slide_type": ""
    }
   },
   "source": [
    "- $g(p_0, p_1, \\ldots) \\geq 0$. Equality iff $\\forall k, p_k \\in \\{0, 1\\}$. Why?"
   ]
  },
  {
   "cell_type": "markdown",
   "id": "f3bec291",
   "metadata": {
    "editable": true,
    "slideshow": {
     "slide_type": ""
    }
   },
   "source": [
    "- $g(p_0, p_1, \\ldots, p_n) \\leq 1 - 1/n$. Equality iff $p_k = \\underline{\\phantom{\\frac{x}{x}}}$. Why?"
   ]
  },
  {
   "cell_type": "markdown",
   "id": "44b757bc",
   "metadata": {
    "editable": true,
    "slideshow": {
     "slide_type": "subslide"
    }
   },
   "source": [
    "#### Finding the best split using Gini impurity"
   ]
  },
  {
   "cell_type": "markdown",
   "id": "45dd61fa",
   "metadata": {
    "editable": true,
    "slideshow": {
     "slide_type": ""
    }
   },
   "source": [
    "- Minimize the Gini impurity given a $A$:"
   ]
  },
  {
   "cell_type": "markdown",
   "id": "37ac2832",
   "metadata": {
    "editable": true,
    "slideshow": {
     "slide_type": ""
    }
   },
   "source": [
    "![](images/cGini.dio.svg)"
   ]
  },
  {
   "cell_type": "markdown",
   "id": "071b6261",
   "metadata": {
    "editable": true,
    "slideshow": {
     "slide_type": ""
    }
   },
   "source": [
    "- What is the best splitting attribute? $\\underline{\\R{X}_1/\\R{X}_2/\\text{same}}$."
   ]
  },
  {
   "cell_type": "markdown",
   "id": "4df028d8",
   "metadata": {
    "editable": true,
    "slideshow": {
     "slide_type": "slide"
    }
   },
   "source": [
    "#### An impurity measure from information theory"
   ]
  },
  {
   "cell_type": "markdown",
   "id": "c925e16b",
   "metadata": {
    "editable": true,
    "slideshow": {
     "slide_type": ""
    }
   },
   "source": [
    "- Shannon’s entropy"
   ]
  },
  {
   "cell_type": "markdown",
   "id": "59d9437f",
   "metadata": {
    "editable": true,
    "slideshow": {
     "slide_type": ""
    }
   },
   "source": [
    "![](images/Info.dio.svg)"
   ]
  },
  {
   "cell_type": "markdown",
   "id": "8b97f578",
   "metadata": {
    "editable": true,
    "slideshow": {
     "slide_type": ""
    }
   },
   "source": [
    "- Measured in bits with base-2 logarithm. Why?\n",
    "- $0 \\log 0$ is regarded as $\\lim_{p \\to 0} p \\log p$ even though $\\log 0$ is undefined."
   ]
  },
  {
   "cell_type": "markdown",
   "id": "a658546a",
   "metadata": {
    "editable": true,
    "slideshow": {
     "slide_type": "subslide"
    }
   },
   "source": [
    "#### Why it works?"
   ]
  },
  {
   "cell_type": "markdown",
   "id": "8c2376f8",
   "metadata": {
    "editable": true,
    "slideshow": {
     "slide_type": ""
    }
   },
   "source": [
    "- $h(p_0, p_1, \\ldots) \\geq 0$. Equality iff $\\forall k, p_k \\in \\Set{0, 1}$. Why?"
   ]
  },
  {
   "cell_type": "markdown",
   "id": "292c5871",
   "metadata": {
    "editable": true,
    "slideshow": {
     "slide_type": ""
    }
   },
   "source": [
    "- $h(p_0, p_1, \\ldots, p_n) \\leq \\log_2 n$. Equality iff $p_k = \\underline{\\phantom{\\frac{x}{x}}}$. Why?"
   ]
  },
  {
   "cell_type": "markdown",
   "id": "84550c4b",
   "metadata": {
    "editable": true,
    "slideshow": {
     "slide_type": "subslide"
    }
   },
   "source": [
    "#### Finding the best split by conditional entropy"
   ]
  },
  {
   "cell_type": "markdown",
   "id": "e26ba44b",
   "metadata": {
    "editable": true,
    "slideshow": {
     "slide_type": ""
    }
   },
   "source": [
    "Minimize the entropy given $A$:"
   ]
  },
  {
   "cell_type": "markdown",
   "id": "4be92681",
   "metadata": {
    "editable": true,
    "slideshow": {
     "slide_type": ""
    }
   },
   "source": [
    "![](images/cInfo.dio.svg)"
   ]
  },
  {
   "cell_type": "markdown",
   "id": "e40da99b",
   "metadata": {
    "editable": true,
    "slideshow": {
     "slide_type": ""
    }
   },
   "source": [
    "- What is the best splitting attribute? $\\underline{\\R{X}_1/\\R{X}_2/\\text{same}}$."
   ]
  },
  {
   "cell_type": "markdown",
   "id": "5986801f",
   "metadata": {
    "editable": true,
    "slideshow": {
     "slide_type": "slide"
    }
   },
   "source": [
    "#### Which impurity measure is used?"
   ]
  },
  {
   "cell_type": "markdown",
   "id": "f7d6d216",
   "metadata": {
    "editable": true,
    "slideshow": {
     "slide_type": ""
    }
   },
   "source": [
    "- ID3 (Iterative Dichotomiser 3) maximizes\n",
    "\n",
    "  \\begin{align}\n",
    "  \\op{Gain}_A(D) := \\op{Info}(D) - \\op{Info}_A(D) && \\text{(information gain or mutual information)}\n",
    "  \\end{align}"
   ]
  },
  {
   "cell_type": "markdown",
   "id": "8781c488",
   "metadata": {
    "editable": true,
    "slideshow": {
     "slide_type": ""
    }
   },
   "source": [
    "- CART (Classification and Regression Tree)\n",
    "\n",
    "  \\begin{align}\n",
    "  \\Delta \\op{Gini}_A(D) := \\op{Gini}(D) - \\op{Gini}_A(D) && \\text{(Drop in Gini impurity)}\n",
    "  \\end{align}"
   ]
  },
  {
   "cell_type": "markdown",
   "id": "a9d23983",
   "metadata": {
    "editable": true,
    "slideshow": {
     "slide_type": ""
    }
   },
   "source": [
    "![](images/drop-gain.dio.svg)"
   ]
  },
  {
   "cell_type": "markdown",
   "id": "40e6004b",
   "metadata": {
    "editable": true,
    "slideshow": {
     "slide_type": "subslide"
    }
   },
   "source": [
    "![](images/X4.dio.svg)"
   ]
  },
  {
   "cell_type": "markdown",
   "id": "c8abba9e",
   "metadata": {
    "editable": true,
    "slideshow": {
     "slide_type": ""
    }
   },
   "source": [
    "- Is $X_4$ a good splitting attribute? <u>Yes/No</u>."
   ]
  },
  {
   "cell_type": "markdown",
   "id": "5e3f3d68",
   "metadata": {
    "editable": true,
    "slideshow": {
     "slide_type": "slide"
    }
   },
   "source": [
    "#### Bias towards attributes with many outcomes"
   ]
  },
  {
   "cell_type": "markdown",
   "id": "759fbf49",
   "metadata": {
    "editable": true,
    "slideshow": {
     "slide_type": ""
    }
   },
   "source": [
    "- An attribute with more outcomes tends to\n",
    "- reduce impurity more but\n",
    "- result in more comparisons.\n",
    "- Issues: Such attribute may not minimize impurity per comparison.\n",
    "- Remedies?"
   ]
  },
  {
   "cell_type": "markdown",
   "id": "5650dc85",
   "metadata": {
    "editable": true,
    "slideshow": {
     "slide_type": "slide"
    }
   },
   "source": [
    "#### Binary split also for nominal attributes"
   ]
  },
  {
   "cell_type": "markdown",
   "id": "edab8198",
   "metadata": {
    "editable": true,
    "slideshow": {
     "slide_type": ""
    }
   },
   "source": [
    "- CART uses a s____________ $S$ to generate a binary split (whether $A \\in S$).\n",
    "- The number of outcomes is therefore limited to ___."
   ]
  },
  {
   "cell_type": "markdown",
   "id": "220b312a",
   "metadata": {
    "editable": true,
    "slideshow": {
     "slide_type": ""
    }
   },
   "source": [
    "![](images/sets.dio.svg)"
   ]
  },
  {
   "cell_type": "markdown",
   "id": "97ee8370",
   "metadata": {
    "editable": true,
    "slideshow": {
     "slide_type": "subslide"
    }
   },
   "source": [
    "#### Normalization by split information"
   ]
  },
  {
   "cell_type": "markdown",
   "id": "0ce781be",
   "metadata": {
    "editable": true,
    "slideshow": {
     "slide_type": ""
    }
   },
   "source": [
    "- C4.5/J48 allows m________ split but uses information gain ratio:  \n",
    "  $$\n",
    "  \\frac{\\op{Gain}_A(D)}{\\op{SplitInfo}_A(D)}\n",
    "  $$\n",
    "  where $\\op{SplitInfo}_A(D) = \\sum_j \\frac{\\abs{D_j}}{\\abs{D}} \\log_2 \\frac{1}{\\abs{D_j} / \\abs{D}}$.\n",
    "- $\\op{SplitInfo}_A(D)$ is the entropy of __________ because __________________.\n",
    "- Attributes with many outcomes tend to have <u>smaller/larger</u> $\\op{SplitInfo}_A(D)$."
   ]
  },
  {
   "cell_type": "markdown",
   "id": "da3fa78b",
   "metadata": {
    "editable": true,
    "slideshow": {
     "slide_type": "slide"
    }
   },
   "source": [
    "#### How to avoid overfitting"
   ]
  },
  {
   "cell_type": "markdown",
   "id": "f17dc325",
   "metadata": {
    "editable": true,
    "slideshow": {
     "slide_type": ""
    }
   },
   "source": [
    "- P__-pruning: Limit the size of the tree as we build it. E.g.,\n",
    "    - Ensure each node is supported by enough examples. (C4.5: minimum number of objects.)\n",
    "    - Split only if we are confident enough about the improvement. (C4.5: confidence factor.)\n",
    "- P___-pruning: Reduce the size of the tree after we build it. E.g.,\n",
    "    - Contract leaf nodes if complexity outweighs the risk. (CART: cost-complexity pruning)"
   ]
  },
  {
   "cell_type": "markdown",
   "id": "037a7633",
   "metadata": {
    "editable": true,
    "slideshow": {
     "slide_type": "slide"
    }
   },
   "source": [
    "#### References"
   ]
  },
  {
   "cell_type": "markdown",
   "id": "7b1d64af",
   "metadata": {
    "editable": true,
    "slideshow": {
     "slide_type": ""
    }
   },
   "source": [
    "- 8.1 Basic Concepts\n",
    "- 8.2 Decision Tree Induction\n",
    "- Optional readings\n",
    "    - <https://en.wikipedia.org/wiki/C4.5_algorithm>\n",
    "    - [Cover, T., & Thomas, J. (2006). Elements of information theory (2nd ed.). Hoboken, N.J.: Wiley-Interscience.](http://lib.cityu.edu.hk/docid/CUH_IZ51454730340003408) Chapter 1 and 2."
   ]
  }
 ],
 "metadata": {
  "kernelspec": {
   "display_name": "Python 3 (ipykernel)",
   "language": "python",
   "name": "python3"
  },
  "language_info": {
   "codemirror_mode": {
    "name": "ipython",
    "version": 3
   },
   "file_extension": ".py",
   "mimetype": "text/x-python",
   "name": "python",
   "nbconvert_exporter": "python",
   "pygments_lexer": "ipython3",
   "version": "3.11.11"
  }
 },
 "nbformat": 4,
 "nbformat_minor": 5
}
