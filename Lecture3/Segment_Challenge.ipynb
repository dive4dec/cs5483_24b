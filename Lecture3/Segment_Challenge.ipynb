{
 "cells": [
  {
   "cell_type": "markdown",
   "id": "505e645a",
   "metadata": {
    "editable": true,
    "slideshow": {
     "slide_type": "slide"
    }
   },
   "source": [
    "---\n",
    "title: Segment Challenge\n",
    "---"
   ]
  },
  {
   "cell_type": "code",
   "execution_count": null,
   "id": "f42ac24c",
   "metadata": {
    "editable": true,
    "slideshow": {
     "slide_type": "skip"
    }
   },
   "outputs": [],
   "source": [
    "import pandas as pd\n",
    "import matplotlib.pyplot as plt\n",
    "from matplotlib.widgets import Cursor\n",
    "\n",
    "# Use %matplotlib widget for interactive plots\n",
    "%matplotlib widget"
   ]
  },
  {
   "cell_type": "markdown",
   "id": "d59fb996",
   "metadata": {
    "editable": true,
    "slideshow": {
     "slide_type": "slide"
    }
   },
   "source": [
    "## 2024/25 Semester B"
   ]
  },
  {
   "cell_type": "markdown",
   "id": "7fef5cfc",
   "metadata": {
    "editable": true,
    "slideshow": {
     "slide_type": ""
    }
   },
   "source": [
    "Extracted from the [discussion page on Interactive Decision Tree Construction](https://canvas.cityu.edu.hk/courses/62414/discussion_topics/539587)."
   ]
  },
  {
   "cell_type": "code",
   "execution_count": null,
   "id": "4a12b842",
   "metadata": {
    "editable": true,
    "jupyter": {
     "source_hidden": true
    },
    "slideshow": {
     "slide_type": ""
    }
   },
   "outputs": [],
   "source": [
    "# Load the CSV file\n",
    "df = pd.read_csv('segment.csv', skipinitialspace=True)\n",
    "\n",
    "# Filter out entries with missing fields\n",
    "df = df.dropna()\n",
    "\n",
    "# Create the scatter plot\n",
    "fig, ax = plt.subplots()\n",
    "\n",
    "# Plot accuracy against depth\n",
    "scatter = ax.scatter(df['depth'], df['accuracy'])\n",
    "\n",
    "# Adding cursor widget for interactivity\n",
    "cursor = Cursor(ax, useblit=True, color='red', linewidth=1)\n",
    "\n",
    "# Adding labels and title\n",
    "ax.set_xlabel('Depth')\n",
    "ax.set_ylabel('Accuracy')\n",
    "ax.set_title('Scatter Plot of Accuracy vs Depth')\n",
    "\n",
    "# Add hover functionality to show names\n",
    "# Create a dictionary to map each point to its name\n",
    "names = df['name'].tolist()\n",
    "depths = df['depth'].tolist()\n",
    "accuracies = df['accuracy'].tolist()\n",
    "\n",
    "# Function to update annotation\n",
    "annot = ax.annotate(\"\", xy=(0,0), xytext=(20,-20),\n",
    "                    textcoords=\"offset points\",\n",
    "                    bbox=dict(boxstyle=\"round\", fc=\"w\"),\n",
    "                    arrowprops=dict(arrowstyle=\"->\"))\n",
    "annot.set_visible(False)\n",
    "\n",
    "def update_annot(ind):\n",
    "    pos = scatter.get_offsets()[ind[\"ind\"][0]]\n",
    "    annot.xy = pos\n",
    "    text = \"{}\".format(\" \".join([names[n] for n in ind[\"ind\"]]))\n",
    "    annot.set_text(text)\n",
    "    annot.get_bbox_patch().set_alpha(0.8)\n",
    "\n",
    "def hover(event):\n",
    "    vis = annot.get_visible()\n",
    "    if event.inaxes == ax:\n",
    "        cont, ind = scatter.contains(event)\n",
    "        if cont:\n",
    "            update_annot(ind)\n",
    "            annot.set_visible(True)\n",
    "            fig.canvas.draw_idle()\n",
    "        else:\n",
    "            if vis:\n",
    "                annot.set_visible(False)\n",
    "                fig.canvas.draw_idle()\n",
    "\n",
    "# Connect the hover function to the figure\n",
    "fig.canvas.mpl_connect(\"motion_notify_event\", hover)\n",
    "\n",
    "# Show the plot\n",
    "plt.show()"
   ]
  },
  {
   "cell_type": "markdown",
   "id": "1aed0eeb",
   "metadata": {
    "editable": true,
    "slideshow": {
     "slide_type": "slide"
    }
   },
   "source": [
    "## Course Records"
   ]
  },
  {
   "cell_type": "markdown",
   "id": "b9171d43",
   "metadata": {
    "editable": true,
    "slideshow": {
     "slide_type": "subslide"
    }
   },
   "source": [
    "- **name:** Tsz Wan CHOI\n",
    "- **semester:** 2020/21 Semester B\n",
    "- **accuracy:** 96.2963%\n",
    "- **deph:** 8"
   ]
  },
  {
   "cell_type": "markdown",
   "id": "7d6aad1a",
   "metadata": {},
   "source": [
    "```\n",
    "Split on hue-mean AND region-centroid-row (In Set): N1 grass(207.0)\n",
    "Split on hue-mean AND region-centroid-row (Not in Set)\n",
    "|   Split on value-mean AND region-centroid-row (In Set): N3 sky(220.0)\n",
    "|   Split on value-mean AND region-centroid-row (Not in Set)\n",
    "|   |   Split on region-centroid-row AND saturation-mean (In Set)\n",
    "|   |   |   Split on rawred-mean AND rawgreen-mean (In Set)\n",
    "|   |   |   |   Split on rawred-mean AND rawgreen-mean (In Set): N9 foliage(156.0/1.0)\n",
    "|   |   |   |   Split on rawred-mean AND rawgreen-mean (Not in Set)\n",
    "|   |   |   |   |   Split on region-centroid-row AND rawgreen-mean (In Set)\n",
    "|   |   |   |   |   |   Split on hue-mean AND rawred-mean (In Set): N13 foliage(13.0)\n",
    "|   |   |   |   |   |   Split on hue-mean AND rawred-mean (Not in Set)\n",
    "|   |   |   |   |   |   |   Split on exgreen-mean AND region-centroid-col (In Set): N15 window(224.0/24.0)\n",
    "|   |   |   |   |   |   |   Split on exgreen-mean AND region-centroid-col (Not in Set): N16 foliage(33.0/3.0)\n",
    "|   |   |   |   |   Split on region-centroid-row AND rawgreen-mean (Not in Set): N12 cement(208.0)\n",
    "|   |   |   Split on rawred-mean AND rawgreen-mean (Not in Set): N8 brickface(203.0)\n",
    "|   |   Split on region-centroid-row AND saturation-mean (Not in Set): N6 path(236.0)\n",
    "```"
   ]
  },
  {
   "cell_type": "markdown",
   "id": "b3dee140",
   "metadata": {
    "editable": true,
    "slideshow": {
     "slide_type": "subslide"
    }
   },
   "source": [
    "- **name:** Zeyu LIU\n",
    "- **semester:** 2023/24 Semester B\n",
    "- **accuracy:** 95.6790%\n",
    "- **deph:** 3"
   ]
  },
  {
   "cell_type": "markdown",
   "id": "6b01f133",
   "metadata": {},
   "source": [
    "```\n",
    "=== Classifier model (full training set) ===\n",
    "\n",
    "\n",
    "Split on region-centroid-row AND rawgreen-mean (In Set)\n",
    "|   Split on exblue-mean AND value-mean (In Set)\n",
    "|   |   Split on exblue-mean AND value-mean (In Set): N5 sky(220.0)\n",
    "|   |   Split on exblue-mean AND value-mean (Not in Set): N6 grass(207.0)\n",
    "|   Split on exblue-mean AND value-mean (Not in Set)\n",
    "|   |   Split on region-centroid-row AND value-mean (In Set): N7 path(236.0)\n",
    "|   |   Split on region-centroid-row AND value-mean (Not in Set): N8 cement(222.0/22.0)\n",
    "Split on region-centroid-row AND rawgreen-mean (Not in Set)\n",
    "|   Split on hue-mean AND intensity-mean (In Set)\n",
    "|   |   Split on hue-mean AND intensity-mean (In Set): N13 window(33.0/4.0)\n",
    "|   |   Split on hue-mean AND intensity-mean (Not in Set): N14 brickface(210.0/7.0)\n",
    "|   Split on hue-mean AND intensity-mean (Not in Set)\n",
    "|   |   Split on hue-mean AND saturation-mean (In Set): N11 foliage(173.0/12.0)\n",
    "|   |   Split on hue-mean AND saturation-mean (Not in Set): N12 window(199.0/40.0)\n",
    "\n",
    "Time taken to build model: 283.63 seconds\n",
    "\n",
    "=== Confusion Matrix ===\n",
    "\n",
    "   a   b   c   d   e   f   g   <-- classified as\n",
    " 123   0   0   0   2   0   0 |   a = brickface\n",
    "   0 110   0   0   0   0   0 |   b = sky\n",
    "   3   0 110   1   8   0   0 |   c = foliage\n",
    "   1   0   0 102   6   0   1 |   d = cement\n",
    "   2   0   6   3 115   0   0 |   e = window\n",
    "   0   0   0   0   0  94   0 |   f = path\n",
    "   0   0   0   1   0   1 121 |   g = grass\n",
    "\n",
    "=== Summary ===\n",
    "\n",
    "Correctly Classified Instances 775 95.6790 %\n",
    "Incorrectly Classified Instances 35 4.3210 %"
   ]
  }
 ],
 "metadata": {
  "kernelspec": {
   "display_name": "Python 3 (ipykernel)",
   "language": "python",
   "name": "python3"
  }
 },
 "nbformat": 4,
 "nbformat_minor": 5
}
